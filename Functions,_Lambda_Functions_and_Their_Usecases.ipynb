{
  "cells": [
    {
      "cell_type": "markdown",
      "id": "c0b1692a",
      "metadata": {
        "id": "c0b1692a"
      },
      "source": [
        "# Functions in Python"
      ]
    },
    {
      "cell_type": "markdown",
      "id": "d51885d3",
      "metadata": {
        "id": "d51885d3"
      },
      "source": [
        "## Basics of Functions Definations"
      ]
    },
    {
      "cell_type": "markdown",
      "id": "402aaab4",
      "metadata": {
        "id": "402aaab4"
      },
      "source": [
        "#### Simple Function defination"
      ]
    },
    {
      "cell_type": "code",
      "execution_count": null,
      "id": "e9dcffba",
      "metadata": {
        "id": "e9dcffba",
        "outputId": "5045b29f-d96b-49af-aab4-cb30b12aa6e1"
      },
      "outputs": [
        {
          "data": {
            "text/plain": [
              "7"
            ]
          },
          "execution_count": 77,
          "metadata": {},
          "output_type": "execute_result"
        }
      ],
      "source": [
        "def addition(x):\n",
        "\n",
        "    return x[0]+x[1]\n",
        "\n",
        "\n",
        "x = [3,4]\n",
        "\n",
        "addition(x)"
      ]
    },
    {
      "cell_type": "code",
      "execution_count": null,
      "id": "9dc09191",
      "metadata": {
        "id": "9dc09191",
        "outputId": "6705c5ee-59f6-41ae-a8ad-e070e8106f81"
      },
      "outputs": [
        {
          "data": {
            "text/plain": [
              "[0, 1, 2, 3, 4]"
            ]
          },
          "execution_count": 79,
          "metadata": {},
          "output_type": "execute_result"
        }
      ],
      "source": []
    },
    {
      "cell_type": "markdown",
      "id": "af0a919a",
      "metadata": {
        "id": "af0a919a"
      },
      "source": [
        "##### Define a function to create list with 5 rows and 3 columns\n",
        "\n",
        "How to build a function :"
      ]
    },
    {
      "cell_type": "code",
      "execution_count": null,
      "id": "955e2bba",
      "metadata": {
        "id": "955e2bba",
        "outputId": "dc7a032b-7e2c-4d25-84a6-98be9cba6ce4"
      },
      "outputs": [
        {
          "data": {
            "text/plain": [
              "[[0, 1, 2], [0, 1, 2], [0, 1, 2], [0, 1, 2], [0, 1, 2]]"
            ]
          },
          "execution_count": 87,
          "metadata": {},
          "output_type": "execute_result"
        }
      ],
      "source": [
        "\n",
        "def array(rows, columns):\n",
        "    \n",
        "    list1 = []\n",
        "    \n",
        "    for i in range(rows):\n",
        "\n",
        "        list2 = []\n",
        "\n",
        "        for j in range(columns):\n",
        "\n",
        "            list2.append(j)\n",
        "\n",
        "        list1.append(list2)\n",
        "        \n",
        "    return list1\n",
        "\n",
        "\n",
        "\n",
        "rows = 5\n",
        "columns = 3\n",
        "array(rows, columns)"
      ]
    },
    {
      "cell_type": "markdown",
      "id": "127d0244",
      "metadata": {
        "id": "127d0244"
      },
      "source": [
        "#### Lambda Functions\n",
        "\n",
        "How to write"
      ]
    },
    {
      "cell_type": "code",
      "execution_count": null,
      "id": "46cb914e",
      "metadata": {
        "id": "46cb914e",
        "outputId": "a3c0904c-205a-40b2-c1bf-fe6146e85b47"
      },
      "outputs": [
        {
          "data": {
            "text/plain": [
              "4"
            ]
          },
          "execution_count": 89,
          "metadata": {},
          "output_type": "execute_result"
        }
      ],
      "source": [
        "# On numerical\n",
        "\n",
        "addition =  lambda x : x**2\n"
      ]
    },
    {
      "cell_type": "code",
      "execution_count": null,
      "id": "0b887e55",
      "metadata": {
        "id": "0b887e55",
        "outputId": "6811405b-6309-4ce4-cdd9-0c8df0829187"
      },
      "outputs": [
        {
          "data": {
            "text/plain": [
              "'mango abc'"
            ]
          },
          "execution_count": 97,
          "metadata": {},
          "output_type": "execute_result"
        }
      ],
      "source": [
        "# On Strings\n",
        "\n",
        "a = \"mango,abc\"\n",
        "\n",
        "remove_spaces = lambda x : \" \".join(x.split(\",\"))\n",
        "\n",
        "remove_spaces(a)"
      ]
    },
    {
      "cell_type": "code",
      "execution_count": null,
      "id": "2666f974",
      "metadata": {
        "id": "2666f974"
      },
      "outputs": [],
      "source": [
        "# Booleans\n",
        "\n",
        "odd = lambda x : x%2 !=0"
      ]
    },
    {
      "cell_type": "markdown",
      "id": "7a30ac6c",
      "metadata": {
        "id": "7a30ac6c"
      },
      "source": [
        "#### map"
      ]
    },
    {
      "cell_type": "code",
      "execution_count": null,
      "id": "93527443",
      "metadata": {
        "id": "93527443",
        "outputId": "24b26f78-093c-4e41-9be3-14aab0adfa64"
      },
      "outputs": [
        {
          "data": {
            "text/plain": [
              "{1: True, 3: True, 2: False, 4: False}"
            ]
          },
          "execution_count": 114,
          "metadata": {},
          "output_type": "execute_result"
        }
      ],
      "source": [
        "a = [1,3,2,4]\n",
        "\n",
        "dict(zip(list(map(lambda x : x, a)), list(map(lambda x : x%2 !=0, a))))"
      ]
    },
    {
      "cell_type": "code",
      "execution_count": null,
      "id": "212e3c8b",
      "metadata": {
        "id": "212e3c8b",
        "outputId": "e1a0fe73-dcf3-4f55-bc3d-42dd8beb5bb2"
      },
      "outputs": [
        {
          "data": {
            "text/plain": [
              "[(0, 1), (1, 3), (2, 2), (3, 4)]"
            ]
          },
          "execution_count": 122,
          "metadata": {},
          "output_type": "execute_result"
        }
      ],
      "source": [
        "list(enumerate(a))"
      ]
    },
    {
      "cell_type": "markdown",
      "id": "2a2071fb",
      "metadata": {
        "id": "2a2071fb"
      },
      "source": [
        "#### Filter"
      ]
    },
    {
      "cell_type": "code",
      "execution_count": null,
      "id": "8f83671e",
      "metadata": {
        "id": "8f83671e",
        "outputId": "27a1a1ae-34b4-4dd0-ebcd-dc99c165d54e"
      },
      "outputs": [
        {
          "data": {
            "text/plain": [
              "[0, 2, 4, 6, 8]"
            ]
          },
          "execution_count": 128,
          "metadata": {},
          "output_type": "execute_result"
        }
      ],
      "source": [
        "a = [1,2,3,4,5]\n",
        "\n",
        "list(filter(lambda x : x%2 ==0, range(10)))"
      ]
    },
    {
      "cell_type": "code",
      "execution_count": null,
      "id": "94b058dc",
      "metadata": {
        "id": "94b058dc",
        "outputId": "8a50173b-a649-4c15-fb3f-997ab4b6e7f8"
      },
      "outputs": [
        {
          "data": {
            "text/plain": [
              "15"
            ]
          },
          "execution_count": 131,
          "metadata": {},
          "output_type": "execute_result"
        }
      ],
      "source": [
        "a = [1,2,3,3,4,5]\n",
        "\n",
        "list1 = []\n",
        "\n",
        "for i in a: \n",
        "    \n",
        "    if i not in list1:\n",
        "        \n",
        "        list1.append(i)\n",
        "        \n",
        "sum(list1)"
      ]
    },
    {
      "cell_type": "code",
      "execution_count": null,
      "id": "d4829e85",
      "metadata": {
        "id": "d4829e85",
        "outputId": "d621dc62-51f3-47ae-cc0d-a52d54e2c7b9"
      },
      "outputs": [
        {
          "name": "stdout",
          "output_type": "stream",
          "text": [
            "3\n"
          ]
        }
      ],
      "source": [
        "a = [1,2,3,4,3,4,5]\n",
        "\n",
        "c = 0\n",
        "\n",
        "for i in range(len(a)):\n",
        "    \n",
        "    for j in range(i+1, len(a)):\n",
        "        \n",
        "        if a[i] == a[j]:\n",
        "            \n",
        "            c+=1\n",
        "            \n",
        "            print(a[i])\n",
        "            \n",
        "    if c!=0:\n",
        "        \n",
        "        break"
      ]
    },
    {
      "cell_type": "markdown",
      "id": "c710b367",
      "metadata": {
        "id": "c710b367"
      },
      "source": [
        "#### On Dataframes"
      ]
    },
    {
      "cell_type": "code",
      "execution_count": null,
      "id": "2b199f8e",
      "metadata": {
        "id": "2b199f8e"
      },
      "outputs": [],
      "source": [
        "import pandas as pd"
      ]
    },
    {
      "cell_type": "code",
      "execution_count": null,
      "id": "56316fb7",
      "metadata": {
        "id": "56316fb7"
      },
      "outputs": [],
      "source": [
        "df = pd.read_csv('C:\\Sulochan\\Tasks\\PTDA_15\\Tableau\\Tableau_Evaluations\\Tableau_Evaluation-2\\Dataset/olympics_medals_country_wise_details.csv')"
      ]
    },
    {
      "cell_type": "code",
      "execution_count": null,
      "id": "7a558d19",
      "metadata": {
        "id": "7a558d19",
        "outputId": "4d3f92ef-b571-4e0a-d781-0c92f36b1582"
      },
      "outputs": [
        {
          "data": {
            "text/plain": [
              "Index(['countries ', 'ioc_code ', 'summer_participations', 'summer_gold',\n",
              "       'summer_silver', 'summer_bronze', 'winter_participations',\n",
              "       'winter_gold', 'winter_silver', 'winter_bronze '],\n",
              "      dtype='object')"
            ]
          },
          "execution_count": 148,
          "metadata": {},
          "output_type": "execute_result"
        }
      ],
      "source": [
        "df.columns"
      ]
    },
    {
      "cell_type": "code",
      "execution_count": null,
      "id": "1933da3d",
      "metadata": {
        "scrolled": false,
        "id": "1933da3d",
        "outputId": "390f6589-a5bf-4d3f-871e-20ac7bdbe2d8"
      },
      "outputs": [
        {
          "data": {
            "text/plain": [
              "['countries',\n",
              " 'ioc_code',\n",
              " 'summer_participations',\n",
              " 'summer_gold',\n",
              " 'summer_silver',\n",
              " 'summer_bronze',\n",
              " 'winter_participations',\n",
              " 'winter_gold',\n",
              " 'winter_silver',\n",
              " 'winter_bronze']"
            ]
          },
          "execution_count": 155,
          "metadata": {},
          "output_type": "execute_result"
        }
      ],
      "source": [
        "list(map(lambda x: x.split()[0], df.columns))"
      ]
    },
    {
      "cell_type": "code",
      "execution_count": null,
      "id": "e7a1bbd2",
      "metadata": {
        "id": "e7a1bbd2"
      },
      "outputs": [],
      "source": [
        "df.columns = list(map(lambda x: x.split()[0], df.columns))"
      ]
    },
    {
      "cell_type": "code",
      "execution_count": null,
      "id": "3d2b8c02",
      "metadata": {
        "id": "3d2b8c02"
      },
      "outputs": [],
      "source": []
    },
    {
      "cell_type": "markdown",
      "id": "07007436",
      "metadata": {
        "id": "07007436"
      },
      "source": [
        "##### Using Functions on Dataframes"
      ]
    },
    {
      "cell_type": "markdown",
      "id": "76bde2d6",
      "metadata": {
        "id": "76bde2d6"
      },
      "source": [
        "##### apply function "
      ]
    },
    {
      "cell_type": "code",
      "execution_count": null,
      "id": "99e1df95",
      "metadata": {
        "id": "99e1df95",
        "outputId": "3f142abf-778c-44c3-e9db-68352831bb70"
      },
      "outputs": [
        {
          "data": {
            "text/html": [
              "<div>\n",
              "<style scoped>\n",
              "    .dataframe tbody tr th:only-of-type {\n",
              "        vertical-align: middle;\n",
              "    }\n",
              "\n",
              "    .dataframe tbody tr th {\n",
              "        vertical-align: top;\n",
              "    }\n",
              "\n",
              "    .dataframe thead th {\n",
              "        text-align: right;\n",
              "    }\n",
              "</style>\n",
              "<table border=\"1\" class=\"dataframe\">\n",
              "  <thead>\n",
              "    <tr style=\"text-align: right;\">\n",
              "      <th></th>\n",
              "      <th>countries</th>\n",
              "      <th>ioc_code</th>\n",
              "      <th>summer_participations</th>\n",
              "      <th>summer_gold</th>\n",
              "      <th>summer_silver</th>\n",
              "      <th>summer_bronze</th>\n",
              "      <th>winter_participations</th>\n",
              "      <th>winter_gold</th>\n",
              "      <th>winter_silver</th>\n",
              "      <th>winter_bronze</th>\n",
              "    </tr>\n",
              "  </thead>\n",
              "  <tbody>\n",
              "    <tr>\n",
              "      <th>0</th>\n",
              "      <td>Afghanistan</td>\n",
              "      <td>(AFG)</td>\n",
              "      <td>15</td>\n",
              "      <td>0</td>\n",
              "      <td>0</td>\n",
              "      <td>2</td>\n",
              "      <td>0</td>\n",
              "      <td>0</td>\n",
              "      <td>0</td>\n",
              "      <td>0</td>\n",
              "    </tr>\n",
              "    <tr>\n",
              "      <th>1</th>\n",
              "      <td>Algeria</td>\n",
              "      <td>(ALG)</td>\n",
              "      <td>14</td>\n",
              "      <td>5</td>\n",
              "      <td>4</td>\n",
              "      <td>8</td>\n",
              "      <td>3</td>\n",
              "      <td>0</td>\n",
              "      <td>0</td>\n",
              "      <td>0</td>\n",
              "    </tr>\n",
              "    <tr>\n",
              "      <th>2</th>\n",
              "      <td>Argentina</td>\n",
              "      <td>(ARG)</td>\n",
              "      <td>25</td>\n",
              "      <td>21</td>\n",
              "      <td>26</td>\n",
              "      <td>30</td>\n",
              "      <td>20</td>\n",
              "      <td>0</td>\n",
              "      <td>0</td>\n",
              "      <td>0</td>\n",
              "    </tr>\n",
              "    <tr>\n",
              "      <th>3</th>\n",
              "      <td>Armenia</td>\n",
              "      <td>(ARM)</td>\n",
              "      <td>7</td>\n",
              "      <td>2</td>\n",
              "      <td>8</td>\n",
              "      <td>8</td>\n",
              "      <td>8</td>\n",
              "      <td>0</td>\n",
              "      <td>0</td>\n",
              "      <td>0</td>\n",
              "    </tr>\n",
              "    <tr>\n",
              "      <th>4</th>\n",
              "      <td>Australasia</td>\n",
              "      <td>(ANZ)</td>\n",
              "      <td>2</td>\n",
              "      <td>3</td>\n",
              "      <td>4</td>\n",
              "      <td>5</td>\n",
              "      <td>0</td>\n",
              "      <td>0</td>\n",
              "      <td>0</td>\n",
              "      <td>0</td>\n",
              "    </tr>\n",
              "    <tr>\n",
              "      <th>...</th>\n",
              "      <td>...</td>\n",
              "      <td>...</td>\n",
              "      <td>...</td>\n",
              "      <td>...</td>\n",
              "      <td>...</td>\n",
              "      <td>...</td>\n",
              "      <td>...</td>\n",
              "      <td>...</td>\n",
              "      <td>...</td>\n",
              "      <td>...</td>\n",
              "    </tr>\n",
              "    <tr>\n",
              "      <th>151</th>\n",
              "      <td>Zambia</td>\n",
              "      <td>(ZAM)</td>\n",
              "      <td>14</td>\n",
              "      <td>0</td>\n",
              "      <td>1</td>\n",
              "      <td>1</td>\n",
              "      <td>0</td>\n",
              "      <td>0</td>\n",
              "      <td>0</td>\n",
              "      <td>0</td>\n",
              "    </tr>\n",
              "    <tr>\n",
              "      <th>152</th>\n",
              "      <td>Zimbabwe</td>\n",
              "      <td>(ZIM)</td>\n",
              "      <td>14</td>\n",
              "      <td>3</td>\n",
              "      <td>4</td>\n",
              "      <td>1</td>\n",
              "      <td>1</td>\n",
              "      <td>0</td>\n",
              "      <td>0</td>\n",
              "      <td>0</td>\n",
              "    </tr>\n",
              "    <tr>\n",
              "      <th>153</th>\n",
              "      <td>Independent Olympic Athletes</td>\n",
              "      <td>(IOA)</td>\n",
              "      <td>3</td>\n",
              "      <td>1</td>\n",
              "      <td>0</td>\n",
              "      <td>1</td>\n",
              "      <td>0</td>\n",
              "      <td>0</td>\n",
              "      <td>0</td>\n",
              "      <td>0</td>\n",
              "    </tr>\n",
              "    <tr>\n",
              "      <th>154</th>\n",
              "      <td>Independent Olympic Participants</td>\n",
              "      <td>(IOP)</td>\n",
              "      <td>1</td>\n",
              "      <td>0</td>\n",
              "      <td>1</td>\n",
              "      <td>2</td>\n",
              "      <td>0</td>\n",
              "      <td>0</td>\n",
              "      <td>0</td>\n",
              "      <td>0</td>\n",
              "    </tr>\n",
              "    <tr>\n",
              "      <th>155</th>\n",
              "      <td>Mixed Team</td>\n",
              "      <td>(ZZX)</td>\n",
              "      <td>3</td>\n",
              "      <td>11</td>\n",
              "      <td>6</td>\n",
              "      <td>8</td>\n",
              "      <td>0</td>\n",
              "      <td>0</td>\n",
              "      <td>0</td>\n",
              "      <td>0</td>\n",
              "    </tr>\n",
              "  </tbody>\n",
              "</table>\n",
              "<p>156 rows × 10 columns</p>\n",
              "</div>"
            ],
            "text/plain": [
              "                             countries ioc_code  summer_participations  \\\n",
              "0                          Afghanistan    (AFG)                     15   \n",
              "1                              Algeria    (ALG)                     14   \n",
              "2                            Argentina    (ARG)                     25   \n",
              "3                              Armenia    (ARM)                      7   \n",
              "4                          Australasia    (ANZ)                      2   \n",
              "..                                 ...      ...                    ...   \n",
              "151                             Zambia    (ZAM)                     14   \n",
              "152                           Zimbabwe    (ZIM)                     14   \n",
              "153       Independent Olympic Athletes    (IOA)                      3   \n",
              "154  Independent Olympic Participants     (IOP)                      1   \n",
              "155                        Mixed Team     (ZZX)                      3   \n",
              "\n",
              "    summer_gold  summer_silver  summer_bronze  winter_participations  \\\n",
              "0             0              0              2                      0   \n",
              "1             5              4              8                      3   \n",
              "2            21             26             30                     20   \n",
              "3             2              8              8                      8   \n",
              "4             3              4              5                      0   \n",
              "..          ...            ...            ...                    ...   \n",
              "151           0              1              1                      0   \n",
              "152           3              4              1                      1   \n",
              "153           1              0              1                      0   \n",
              "154           0              1              2                      0   \n",
              "155          11              6              8                      0   \n",
              "\n",
              "     winter_gold  winter_silver  winter_bronze  \n",
              "0              0              0              0  \n",
              "1              0              0              0  \n",
              "2              0              0              0  \n",
              "3              0              0              0  \n",
              "4              0              0              0  \n",
              "..           ...            ...            ...  \n",
              "151            0              0              0  \n",
              "152            0              0              0  \n",
              "153            0              0              0  \n",
              "154            0              0              0  \n",
              "155            0              0              0  \n",
              "\n",
              "[156 rows x 10 columns]"
            ]
          },
          "execution_count": 168,
          "metadata": {},
          "output_type": "execute_result"
        }
      ],
      "source": [
        "df"
      ]
    },
    {
      "cell_type": "markdown",
      "id": "52a4b2f4",
      "metadata": {
        "id": "52a4b2f4"
      },
      "source": [
        "###### axis = 0"
      ]
    },
    {
      "cell_type": "code",
      "execution_count": null,
      "id": "b9e1c189",
      "metadata": {
        "id": "b9e1c189"
      },
      "outputs": [],
      "source": [
        "df.loc[rows, columns]"
      ]
    },
    {
      "cell_type": "code",
      "execution_count": null,
      "id": "ba90f339",
      "metadata": {
        "id": "ba90f339",
        "outputId": "f64e5afd-717b-4c60-e800-1eff0ccc89ad"
      },
      "outputs": [
        {
          "data": {
            "text/html": [
              "<div>\n",
              "<style scoped>\n",
              "    .dataframe tbody tr th:only-of-type {\n",
              "        vertical-align: middle;\n",
              "    }\n",
              "\n",
              "    .dataframe tbody tr th {\n",
              "        vertical-align: top;\n",
              "    }\n",
              "\n",
              "    .dataframe thead th {\n",
              "        text-align: right;\n",
              "    }\n",
              "</style>\n",
              "<table border=\"1\" class=\"dataframe\">\n",
              "  <thead>\n",
              "    <tr style=\"text-align: right;\">\n",
              "      <th></th>\n",
              "      <th>countries</th>\n",
              "      <th>ioc_code</th>\n",
              "      <th>summer_participations</th>\n",
              "      <th>summer_gold</th>\n",
              "      <th>summer_silver</th>\n",
              "      <th>summer_bronze</th>\n",
              "      <th>winter_participations</th>\n",
              "      <th>winter_gold</th>\n",
              "      <th>winter_silver</th>\n",
              "      <th>winter_bronze</th>\n",
              "    </tr>\n",
              "  </thead>\n",
              "  <tbody>\n",
              "    <tr>\n",
              "      <th>0</th>\n",
              "      <td>Afghanistan</td>\n",
              "      <td>(AFG)</td>\n",
              "      <td>15</td>\n",
              "      <td>0</td>\n",
              "      <td>0</td>\n",
              "      <td>2</td>\n",
              "      <td>0</td>\n",
              "      <td>0</td>\n",
              "      <td>0</td>\n",
              "      <td>0</td>\n",
              "    </tr>\n",
              "    <tr>\n",
              "      <th>1</th>\n",
              "      <td>Algeria</td>\n",
              "      <td>(ALG)</td>\n",
              "      <td>14</td>\n",
              "      <td>5</td>\n",
              "      <td>4</td>\n",
              "      <td>8</td>\n",
              "      <td>3</td>\n",
              "      <td>0</td>\n",
              "      <td>0</td>\n",
              "      <td>0</td>\n",
              "    </tr>\n",
              "    <tr>\n",
              "      <th>2</th>\n",
              "      <td>Argentina</td>\n",
              "      <td>(ARG)</td>\n",
              "      <td>25</td>\n",
              "      <td>21</td>\n",
              "      <td>26</td>\n",
              "      <td>30</td>\n",
              "      <td>20</td>\n",
              "      <td>0</td>\n",
              "      <td>0</td>\n",
              "      <td>0</td>\n",
              "    </tr>\n",
              "    <tr>\n",
              "      <th>3</th>\n",
              "      <td>Armenia</td>\n",
              "      <td>(ARM)</td>\n",
              "      <td>7</td>\n",
              "      <td>2</td>\n",
              "      <td>8</td>\n",
              "      <td>8</td>\n",
              "      <td>8</td>\n",
              "      <td>0</td>\n",
              "      <td>0</td>\n",
              "      <td>0</td>\n",
              "    </tr>\n",
              "    <tr>\n",
              "      <th>4</th>\n",
              "      <td>Australasia</td>\n",
              "      <td>(ANZ)</td>\n",
              "      <td>2</td>\n",
              "      <td>3</td>\n",
              "      <td>4</td>\n",
              "      <td>5</td>\n",
              "      <td>0</td>\n",
              "      <td>0</td>\n",
              "      <td>0</td>\n",
              "      <td>0</td>\n",
              "    </tr>\n",
              "    <tr>\n",
              "      <th>5</th>\n",
              "      <td>Australia</td>\n",
              "      <td>(AUS)</td>\n",
              "      <td>27</td>\n",
              "      <td>164</td>\n",
              "      <td>173</td>\n",
              "      <td>210</td>\n",
              "      <td>20</td>\n",
              "      <td>6</td>\n",
              "      <td>7</td>\n",
              "      <td>6</td>\n",
              "    </tr>\n",
              "    <tr>\n",
              "      <th>6</th>\n",
              "      <td>Austria</td>\n",
              "      <td>(AUT)</td>\n",
              "      <td>28</td>\n",
              "      <td>20</td>\n",
              "      <td>35</td>\n",
              "      <td>41</td>\n",
              "      <td>24</td>\n",
              "      <td>71</td>\n",
              "      <td>88</td>\n",
              "      <td>91</td>\n",
              "    </tr>\n",
              "    <tr>\n",
              "      <th>7</th>\n",
              "      <td>Azerbaijan</td>\n",
              "      <td>(AZE)</td>\n",
              "      <td>7</td>\n",
              "      <td>7</td>\n",
              "      <td>14</td>\n",
              "      <td>28</td>\n",
              "      <td>7</td>\n",
              "      <td>0</td>\n",
              "      <td>0</td>\n",
              "      <td>0</td>\n",
              "    </tr>\n",
              "  </tbody>\n",
              "</table>\n",
              "</div>"
            ],
            "text/plain": [
              "     countries ioc_code  summer_participations summer_gold  summer_silver  \\\n",
              "0  Afghanistan    (AFG)                     15           0              0   \n",
              "1      Algeria    (ALG)                     14           5              4   \n",
              "2    Argentina    (ARG)                     25          21             26   \n",
              "3      Armenia    (ARM)                      7           2              8   \n",
              "4  Australasia    (ANZ)                      2           3              4   \n",
              "5    Australia    (AUS)                     27         164            173   \n",
              "6      Austria    (AUT)                     28          20             35   \n",
              "7   Azerbaijan    (AZE)                      7           7             14   \n",
              "\n",
              "   summer_bronze  winter_participations  winter_gold  winter_silver  \\\n",
              "0              2                      0            0              0   \n",
              "1              8                      3            0              0   \n",
              "2             30                     20            0              0   \n",
              "3              8                      8            0              0   \n",
              "4              5                      0            0              0   \n",
              "5            210                     20            6              7   \n",
              "6             41                     24           71             88   \n",
              "7             28                      7            0              0   \n",
              "\n",
              "   winter_bronze  \n",
              "0              0  \n",
              "1              0  \n",
              "2              0  \n",
              "3              0  \n",
              "4              0  \n",
              "5              6  \n",
              "6             91  \n",
              "7              0  "
            ]
          },
          "execution_count": 182,
          "metadata": {},
          "output_type": "execute_result"
        }
      ],
      "source": [
        "# display countries with names starting with A\n",
        "\n",
        "df.loc[df['countries'].apply(lambda x: x[0].lower() == \"a\"), :]"
      ]
    },
    {
      "cell_type": "code",
      "execution_count": null,
      "id": "50542f7a",
      "metadata": {
        "id": "50542f7a",
        "outputId": "881c216c-bb2c-40a8-efcc-85ac6faaa88f"
      },
      "outputs": [
        {
          "data": {
            "text/html": [
              "<div>\n",
              "<style scoped>\n",
              "    .dataframe tbody tr th:only-of-type {\n",
              "        vertical-align: middle;\n",
              "    }\n",
              "\n",
              "    .dataframe tbody tr th {\n",
              "        vertical-align: top;\n",
              "    }\n",
              "\n",
              "    .dataframe thead th {\n",
              "        text-align: right;\n",
              "    }\n",
              "</style>\n",
              "<table border=\"1\" class=\"dataframe\">\n",
              "  <thead>\n",
              "    <tr style=\"text-align: right;\">\n",
              "      <th></th>\n",
              "      <th>summer_participations</th>\n",
              "      <th>summer_gold</th>\n",
              "    </tr>\n",
              "  </thead>\n",
              "  <tbody>\n",
              "    <tr>\n",
              "      <th>10</th>\n",
              "      <td>13</td>\n",
              "      <td>0</td>\n",
              "    </tr>\n",
              "    <tr>\n",
              "      <th>11</th>\n",
              "      <td>7</td>\n",
              "      <td>13</td>\n",
              "    </tr>\n",
              "    <tr>\n",
              "      <th>12</th>\n",
              "      <td>27</td>\n",
              "      <td>44</td>\n",
              "    </tr>\n",
              "    <tr>\n",
              "      <th>13</th>\n",
              "      <td>19</td>\n",
              "      <td>1</td>\n",
              "    </tr>\n",
              "    <tr>\n",
              "      <th>14</th>\n",
              "      <td>3</td>\n",
              "      <td>0</td>\n",
              "    </tr>\n",
              "    <tr>\n",
              "      <th>15</th>\n",
              "      <td>11</td>\n",
              "      <td>0</td>\n",
              "    </tr>\n",
              "    <tr>\n",
              "      <th>16</th>\n",
              "      <td>23</td>\n",
              "      <td>37</td>\n",
              "    </tr>\n",
              "    <tr>\n",
              "      <th>17</th>\n",
              "      <td>1</td>\n",
              "      <td>0</td>\n",
              "    </tr>\n",
              "    <tr>\n",
              "      <th>18</th>\n",
              "      <td>21</td>\n",
              "      <td>54</td>\n",
              "    </tr>\n",
              "    <tr>\n",
              "      <th>19</th>\n",
              "      <td>10</td>\n",
              "      <td>0</td>\n",
              "    </tr>\n",
              "  </tbody>\n",
              "</table>\n",
              "</div>"
            ],
            "text/plain": [
              "    summer_participations summer_gold\n",
              "10                     13           0\n",
              "11                      7          13\n",
              "12                     27          44\n",
              "13                     19           1\n",
              "14                      3           0\n",
              "15                     11           0\n",
              "16                     23          37\n",
              "17                      1           0\n",
              "18                     21          54\n",
              "19                     10           0"
            ]
          },
          "execution_count": 183,
          "metadata": {},
          "output_type": "execute_result"
        }
      ],
      "source": [
        "df.iloc[10:20, 2:4]"
      ]
    },
    {
      "cell_type": "markdown",
      "id": "b32a9168",
      "metadata": {
        "id": "b32a9168"
      },
      "source": [
        "###### axis = 1"
      ]
    },
    {
      "cell_type": "code",
      "execution_count": null,
      "id": "4ce709af",
      "metadata": {
        "id": "4ce709af"
      },
      "outputs": [],
      "source": [
        "#[countries, ioc_code,.....]\n",
        "\n",
        "def Flag(x):\n",
        "    \n",
        "    return x[2]!=0 and x[6]!=0\n",
        "\n",
        "df['Flag'] = df.apply(Flag, axis =1)"
      ]
    },
    {
      "cell_type": "code",
      "execution_count": null,
      "id": "039118a2",
      "metadata": {
        "id": "039118a2",
        "outputId": "8cc5f0a7-460c-46b5-fba5-1006cd81e399"
      },
      "outputs": [
        {
          "data": {
            "text/plain": [
              "0      False\n",
              "1       True\n",
              "2       True\n",
              "3       True\n",
              "4      False\n",
              "       ...  \n",
              "151    False\n",
              "152     True\n",
              "153    False\n",
              "154    False\n",
              "155    False\n",
              "Length: 156, dtype: bool"
            ]
          },
          "execution_count": 191,
          "metadata": {},
          "output_type": "execute_result"
        }
      ],
      "source": [
        "df.apply(lambda x:x[2]!=0 and x[6]!=0, axis = 1)"
      ]
    },
    {
      "cell_type": "markdown",
      "id": "778c1b04",
      "metadata": {
        "id": "778c1b04"
      },
      "source": [
        "###### In Loc"
      ]
    },
    {
      "cell_type": "code",
      "execution_count": null,
      "id": "da6501f8",
      "metadata": {
        "id": "da6501f8"
      },
      "outputs": [],
      "source": []
    }
  ],
  "metadata": {
    "kernelspec": {
      "display_name": "Python 3 (ipykernel)",
      "language": "python",
      "name": "python3"
    },
    "language_info": {
      "codemirror_mode": {
        "name": "ipython",
        "version": 3
      },
      "file_extension": ".py",
      "mimetype": "text/x-python",
      "name": "python",
      "nbconvert_exporter": "python",
      "pygments_lexer": "ipython3",
      "version": "3.9.12"
    },
    "colab": {
      "provenance": []
    }
  },
  "nbformat": 4,
  "nbformat_minor": 5
}