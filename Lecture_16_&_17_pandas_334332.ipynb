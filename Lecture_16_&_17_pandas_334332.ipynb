{
  "cells": [
    {
      "cell_type": "code",
      "execution_count": null,
      "metadata": {
        "id": "he4BqTqFba7v"
      },
      "outputs": [],
      "source": [
        "import numpy as np"
      ]
    },
    {
      "cell_type": "code",
      "execution_count": null,
      "metadata": {
        "id": "zvszrowdba7x"
      },
      "outputs": [],
      "source": [
        "a=np.array([[[1,2],[3,4]],\n",
        "            [[5,6],[7,8]],\n",
        "            [[0,1],[2,3]]])"
      ]
    },
    {
      "cell_type": "code",
      "execution_count": null,
      "metadata": {
        "colab": {
          "base_uri": "https://localhost:8080/"
        },
        "id": "g8qcqRwJba7y",
        "outputId": "9b099e9f-a821-4546-9b59-4e1640f9e981"
      },
      "outputs": [
        {
          "output_type": "execute_result",
          "data": {
            "text/plain": [
              "array([[[1, 2],\n",
              "        [3, 4]],\n",
              "\n",
              "       [[5, 6],\n",
              "        [7, 8]],\n",
              "\n",
              "       [[0, 1],\n",
              "        [2, 3]]])"
            ]
          },
          "metadata": {},
          "execution_count": 3
        }
      ],
      "source": [
        "a"
      ]
    },
    {
      "cell_type": "code",
      "execution_count": null,
      "metadata": {
        "scrolled": true,
        "colab": {
          "base_uri": "https://localhost:8080/"
        },
        "id": "V4VnYQH1ba7z",
        "outputId": "e72915a9-21e1-4663-f124-3622ea3e9d59"
      },
      "outputs": [
        {
          "output_type": "execute_result",
          "data": {
            "text/plain": [
              "array([[ 6,  9],\n",
              "       [12, 15]])"
            ]
          },
          "metadata": {},
          "execution_count": 6
        }
      ],
      "source": [
        "a.sum(axis=0)"
      ]
    },
    {
      "cell_type": "code",
      "execution_count": null,
      "metadata": {
        "scrolled": true,
        "colab": {
          "base_uri": "https://localhost:8080/"
        },
        "id": "1fG62v8Wba70",
        "outputId": "f970979f-0ba3-463d-8f0e-686d4f2e33bd"
      },
      "outputs": [
        {
          "output_type": "execute_result",
          "data": {
            "text/plain": [
              "array([[ 4,  6],\n",
              "       [12, 14],\n",
              "       [ 2,  4]])"
            ]
          },
          "metadata": {},
          "execution_count": 7
        }
      ],
      "source": [
        "a.sum(axis=1)"
      ]
    },
    {
      "cell_type": "code",
      "execution_count": null,
      "metadata": {
        "colab": {
          "base_uri": "https://localhost:8080/"
        },
        "id": "6_TB0o3Bba70",
        "outputId": "92bfffb3-4772-4340-a9ce-2f7cdc48a13b"
      },
      "outputs": [
        {
          "output_type": "execute_result",
          "data": {
            "text/plain": [
              "array([[ 3,  7],\n",
              "       [11, 15],\n",
              "       [ 1,  5]])"
            ]
          },
          "metadata": {},
          "execution_count": 8
        }
      ],
      "source": [
        "a.sum(axis=2)"
      ]
    },
    {
      "cell_type": "markdown",
      "metadata": {
        "id": "n1b6H6qIba70"
      },
      "source": [
        "# Pandas\n",
        "\n",
        "Pandas is a package used for managing data.\n",
        "\n",
        "Pandas main use is that it creates 2 new data types for storing data: series and dataframe.\n",
        "\n",
        "A dataframe is made up of several series.  Each column of a dataframe is a series.\n",
        "\n",
        "We can name each column and row of a dataframe.\n",
        "\n",
        "Similar to numpy arrays, a dataframe is a more robust data type for storing data than lists of lists. Dataframes are more flexible than numpy arrays.\n",
        "\n",
        "A numpy array can create a matrix with all entries of the same data type.  In a dataframe each column can have its own datatype.  \n",
        "\n",
        "That's not to say numpy arrays aren't useful.  It is often easiest to convert some subset of a dataframe to a numpy array and then use that to do some math.\n",
        "\n",
        "Pandas also has SQL-like functions for merging, joining, and sorting dataframes.\n",
        "\n"
      ]
    },
    {
      "cell_type": "code",
      "execution_count": null,
      "metadata": {
        "id": "Y02nneVfba73",
        "outputId": "e6f6cc22-a6b6-4771-fa1d-6bd15264ec75"
      },
      "outputs": [
        {
          "name": "stdout",
          "output_type": "stream",
          "text": [
            "Requirement already satisfied: pandas in c:\\users\\sriaj\\anaconda3\\anaconda files1\\lib\\site-packages (1.4.2)\n",
            "Requirement already satisfied: pytz>=2020.1 in c:\\users\\sriaj\\anaconda3\\anaconda files1\\lib\\site-packages (from pandas) (2021.3)\n",
            "Requirement already satisfied: python-dateutil>=2.8.1 in c:\\users\\sriaj\\anaconda3\\anaconda files1\\lib\\site-packages (from pandas) (2.8.2)\n",
            "Requirement already satisfied: numpy>=1.18.5 in c:\\users\\sriaj\\anaconda3\\anaconda files1\\lib\\site-packages (from pandas) (1.21.5)\n",
            "Requirement already satisfied: six>=1.5 in c:\\users\\sriaj\\anaconda3\\anaconda files1\\lib\\site-packages (from python-dateutil>=2.8.1->pandas) (1.16.0)\n"
          ]
        }
      ],
      "source": [
        "!pip install pandas"
      ]
    },
    {
      "cell_type": "code",
      "execution_count": null,
      "metadata": {
        "id": "rXn08v5sba74"
      },
      "outputs": [],
      "source": [
        "import pandas as pd\n",
        "import numpy as np  # numpy is not necessary for pandas, but we will use some np code in this example\n",
        "# in general it's good practice to import all pacakages at the beginning"
      ]
    },
    {
      "cell_type": "code",
      "execution_count": null,
      "metadata": {
        "id": "pcKnE45sba76"
      },
      "outputs": [],
      "source": [
        "# series - list, np.array"
      ]
    },
    {
      "cell_type": "code",
      "execution_count": null,
      "metadata": {
        "id": "IclYVxIgba76"
      },
      "outputs": [],
      "source": [
        "mylist=[1,2,3,4]\n",
        "array=np.random.randint(10,20,4) "
      ]
    },
    {
      "cell_type": "code",
      "source": [
        "type(mylist)"
      ],
      "metadata": {
        "colab": {
          "base_uri": "https://localhost:8080/"
        },
        "id": "cdTZFEVxc0SR",
        "outputId": "343419de-b449-4b52-b5dc-17fc6ac25b3d"
      },
      "execution_count": null,
      "outputs": [
        {
          "output_type": "execute_result",
          "data": {
            "text/plain": [
              "list"
            ]
          },
          "metadata": {},
          "execution_count": 14
        }
      ]
    },
    {
      "cell_type": "code",
      "execution_count": null,
      "metadata": {
        "colab": {
          "base_uri": "https://localhost:8080/"
        },
        "id": "fun8Dvk9ba77",
        "outputId": "45ffc4e0-017c-4d6d-86d8-acccfcfee0b0"
      },
      "outputs": [
        {
          "output_type": "execute_result",
          "data": {
            "text/plain": [
              "array([14, 15, 13, 15])"
            ]
          },
          "metadata": {},
          "execution_count": 15
        }
      ],
      "source": [
        "array"
      ]
    },
    {
      "cell_type": "code",
      "execution_count": null,
      "metadata": {
        "scrolled": true,
        "colab": {
          "base_uri": "https://localhost:8080/"
        },
        "id": "aB2-zJdiba77",
        "outputId": "c0ec395a-cbf2-4a3b-ed26-03a4f796bd19"
      },
      "outputs": [
        {
          "output_type": "execute_result",
          "data": {
            "text/plain": [
              "0    1\n",
              "1    2\n",
              "2    3\n",
              "3    4\n",
              "dtype: int64"
            ]
          },
          "metadata": {},
          "execution_count": 16
        }
      ],
      "source": [
        "s1=pd.Series(mylist)\n",
        "s1"
      ]
    },
    {
      "cell_type": "code",
      "source": [
        "type(s1)"
      ],
      "metadata": {
        "colab": {
          "base_uri": "https://localhost:8080/"
        },
        "id": "886r-xS9dQHq",
        "outputId": "ad725032-6ae8-4a61-d895-d12276a3b5b0"
      },
      "execution_count": null,
      "outputs": [
        {
          "output_type": "execute_result",
          "data": {
            "text/plain": [
              "pandas.core.series.Series"
            ]
          },
          "metadata": {},
          "execution_count": 17
        }
      ]
    },
    {
      "cell_type": "code",
      "execution_count": null,
      "metadata": {
        "colab": {
          "base_uri": "https://localhost:8080/"
        },
        "id": "h9QpaF6Kba78",
        "outputId": "da9325d9-fc9d-4803-b53b-ccf70fdbdd4e"
      },
      "outputs": [
        {
          "output_type": "execute_result",
          "data": {
            "text/plain": [
              "0    14\n",
              "1    15\n",
              "2    13\n",
              "3    15\n",
              "dtype: int64"
            ]
          },
          "metadata": {},
          "execution_count": 18
        }
      ],
      "source": [
        "s2=pd.Series(array)\n",
        "s2"
      ]
    },
    {
      "cell_type": "code",
      "execution_count": null,
      "metadata": {
        "id": "XMOetq91ba78"
      },
      "outputs": [],
      "source": [
        "# first let's look at series - think of this as a single column of a spreadsheet\n",
        "# each entry in a series corresponds to an individual row in the spreadsheet\n",
        "# we can create a series by converting a list, or numpy array\n",
        "\n",
        "mylist = [5.4,6.1,1.7,99.8]\n",
        "myarray = np.array(mylist)\n"
      ]
    },
    {
      "cell_type": "code",
      "execution_count": null,
      "metadata": {
        "colab": {
          "base_uri": "https://localhost:8080/"
        },
        "id": "W-D6k6QDba78",
        "outputId": "36f94bc4-9f0f-456f-b178-110ca518475d"
      },
      "outputs": [
        {
          "output_type": "execute_result",
          "data": {
            "text/plain": [
              "0     5.4\n",
              "1     6.1\n",
              "2     1.7\n",
              "3    99.8\n",
              "dtype: float64"
            ]
          },
          "metadata": {},
          "execution_count": 20
        }
      ],
      "source": [
        "a=pd.Series(mylist)\n",
        "a"
      ]
    },
    {
      "cell_type": "code",
      "execution_count": null,
      "metadata": {
        "colab": {
          "base_uri": "https://localhost:8080/"
        },
        "id": "kWBXYknkba79",
        "outputId": "138b1c51-0de3-4443-8e36-af3841fbb908"
      },
      "outputs": [
        {
          "output_type": "stream",
          "name": "stdout",
          "text": [
            "0     5.4\n",
            "1     6.1\n",
            "2     1.7\n",
            "3    99.8\n",
            "dtype: float64\n",
            "0     5.4\n",
            "1     6.1\n",
            "2     1.7\n",
            "3    99.8\n",
            "dtype: float64\n"
          ]
        }
      ],
      "source": [
        "myseries1 = pd.Series(data=mylist)\n",
        "print(myseries1)\n",
        "myseries2 = pd.Series(data=myarray)\n",
        "print(myseries2)"
      ]
    },
    {
      "cell_type": "code",
      "source": [
        "['A', 'B']*5"
      ],
      "metadata": {
        "colab": {
          "base_uri": "https://localhost:8080/"
        },
        "id": "XUzxBbyYyr-w",
        "outputId": "f147b3ee-feb9-4d9a-df5f-c1ca05952e29"
      },
      "execution_count": null,
      "outputs": [
        {
          "output_type": "execute_result",
          "data": {
            "text/plain": [
              "['A', 'B', 'A', 'B', 'A', 'B', 'A', 'B', 'A', 'B']"
            ]
          },
          "metadata": {},
          "execution_count": 29
        }
      ]
    },
    {
      "cell_type": "code",
      "source": [
        "[np.arange(0,10)]"
      ],
      "metadata": {
        "colab": {
          "base_uri": "https://localhost:8080/"
        },
        "id": "cWWAnwdry9pq",
        "outputId": "ca00bfe4-620c-4430-9e21-715abbc35941"
      },
      "execution_count": null,
      "outputs": [
        {
          "output_type": "execute_result",
          "data": {
            "text/plain": [
              "[array([0, 1, 2, 3, 4, 5, 6, 7, 8, 9])]"
            ]
          },
          "metadata": {},
          "execution_count": 34
        }
      ]
    },
    {
      "cell_type": "code",
      "source": [
        "list(range(0,10))"
      ],
      "metadata": {
        "colab": {
          "base_uri": "https://localhost:8080/"
        },
        "id": "jF6dbnUSzJZD",
        "outputId": "4bc74283-607b-4e16-bd05-abec9b984640"
      },
      "execution_count": null,
      "outputs": [
        {
          "output_type": "execute_result",
          "data": {
            "text/plain": [
              "[0, 1, 2, 3, 4, 5, 6, 7, 8, 9]"
            ]
          },
          "metadata": {},
          "execution_count": 35
        }
      ]
    },
    {
      "cell_type": "code",
      "source": [
        "Ravan= {'Power': list(range(0,10)), 'Weakness': ['A', 'B']*5}\n",
        "Ravan= pd.DataFrame(Ravan)\n",
        "Ravan"
      ],
      "metadata": {
        "colab": {
          "base_uri": "https://localhost:8080/",
          "height": 363
        },
        "id": "9oc0qftcx72r",
        "outputId": "6212c643-8a59-4d83-8123-3981255a5b40"
      },
      "execution_count": null,
      "outputs": [
        {
          "output_type": "execute_result",
          "data": {
            "text/plain": [
              "   Power Weakness\n",
              "0      0        A\n",
              "1      1        B\n",
              "2      2        A\n",
              "3      3        B\n",
              "4      4        A\n",
              "5      5        B\n",
              "6      6        A\n",
              "7      7        B\n",
              "8      8        A\n",
              "9      9        B"
            ],
            "text/html": [
              "\n",
              "  <div id=\"df-8658d69b-c008-4ad5-a387-745d79b36b8a\">\n",
              "    <div class=\"colab-df-container\">\n",
              "      <div>\n",
              "<style scoped>\n",
              "    .dataframe tbody tr th:only-of-type {\n",
              "        vertical-align: middle;\n",
              "    }\n",
              "\n",
              "    .dataframe tbody tr th {\n",
              "        vertical-align: top;\n",
              "    }\n",
              "\n",
              "    .dataframe thead th {\n",
              "        text-align: right;\n",
              "    }\n",
              "</style>\n",
              "<table border=\"1\" class=\"dataframe\">\n",
              "  <thead>\n",
              "    <tr style=\"text-align: right;\">\n",
              "      <th></th>\n",
              "      <th>Power</th>\n",
              "      <th>Weakness</th>\n",
              "    </tr>\n",
              "  </thead>\n",
              "  <tbody>\n",
              "    <tr>\n",
              "      <th>0</th>\n",
              "      <td>0</td>\n",
              "      <td>A</td>\n",
              "    </tr>\n",
              "    <tr>\n",
              "      <th>1</th>\n",
              "      <td>1</td>\n",
              "      <td>B</td>\n",
              "    </tr>\n",
              "    <tr>\n",
              "      <th>2</th>\n",
              "      <td>2</td>\n",
              "      <td>A</td>\n",
              "    </tr>\n",
              "    <tr>\n",
              "      <th>3</th>\n",
              "      <td>3</td>\n",
              "      <td>B</td>\n",
              "    </tr>\n",
              "    <tr>\n",
              "      <th>4</th>\n",
              "      <td>4</td>\n",
              "      <td>A</td>\n",
              "    </tr>\n",
              "    <tr>\n",
              "      <th>5</th>\n",
              "      <td>5</td>\n",
              "      <td>B</td>\n",
              "    </tr>\n",
              "    <tr>\n",
              "      <th>6</th>\n",
              "      <td>6</td>\n",
              "      <td>A</td>\n",
              "    </tr>\n",
              "    <tr>\n",
              "      <th>7</th>\n",
              "      <td>7</td>\n",
              "      <td>B</td>\n",
              "    </tr>\n",
              "    <tr>\n",
              "      <th>8</th>\n",
              "      <td>8</td>\n",
              "      <td>A</td>\n",
              "    </tr>\n",
              "    <tr>\n",
              "      <th>9</th>\n",
              "      <td>9</td>\n",
              "      <td>B</td>\n",
              "    </tr>\n",
              "  </tbody>\n",
              "</table>\n",
              "</div>\n",
              "      <button class=\"colab-df-convert\" onclick=\"convertToInteractive('df-8658d69b-c008-4ad5-a387-745d79b36b8a')\"\n",
              "              title=\"Convert this dataframe to an interactive table.\"\n",
              "              style=\"display:none;\">\n",
              "        \n",
              "  <svg xmlns=\"http://www.w3.org/2000/svg\" height=\"24px\"viewBox=\"0 0 24 24\"\n",
              "       width=\"24px\">\n",
              "    <path d=\"M0 0h24v24H0V0z\" fill=\"none\"/>\n",
              "    <path d=\"M18.56 5.44l.94 2.06.94-2.06 2.06-.94-2.06-.94-.94-2.06-.94 2.06-2.06.94zm-11 1L8.5 8.5l.94-2.06 2.06-.94-2.06-.94L8.5 2.5l-.94 2.06-2.06.94zm10 10l.94 2.06.94-2.06 2.06-.94-2.06-.94-.94-2.06-.94 2.06-2.06.94z\"/><path d=\"M17.41 7.96l-1.37-1.37c-.4-.4-.92-.59-1.43-.59-.52 0-1.04.2-1.43.59L10.3 9.45l-7.72 7.72c-.78.78-.78 2.05 0 2.83L4 21.41c.39.39.9.59 1.41.59.51 0 1.02-.2 1.41-.59l7.78-7.78 2.81-2.81c.8-.78.8-2.07 0-2.86zM5.41 20L4 18.59l7.72-7.72 1.47 1.35L5.41 20z\"/>\n",
              "  </svg>\n",
              "      </button>\n",
              "      \n",
              "  <style>\n",
              "    .colab-df-container {\n",
              "      display:flex;\n",
              "      flex-wrap:wrap;\n",
              "      gap: 12px;\n",
              "    }\n",
              "\n",
              "    .colab-df-convert {\n",
              "      background-color: #E8F0FE;\n",
              "      border: none;\n",
              "      border-radius: 50%;\n",
              "      cursor: pointer;\n",
              "      display: none;\n",
              "      fill: #1967D2;\n",
              "      height: 32px;\n",
              "      padding: 0 0 0 0;\n",
              "      width: 32px;\n",
              "    }\n",
              "\n",
              "    .colab-df-convert:hover {\n",
              "      background-color: #E2EBFA;\n",
              "      box-shadow: 0px 1px 2px rgba(60, 64, 67, 0.3), 0px 1px 3px 1px rgba(60, 64, 67, 0.15);\n",
              "      fill: #174EA6;\n",
              "    }\n",
              "\n",
              "    [theme=dark] .colab-df-convert {\n",
              "      background-color: #3B4455;\n",
              "      fill: #D2E3FC;\n",
              "    }\n",
              "\n",
              "    [theme=dark] .colab-df-convert:hover {\n",
              "      background-color: #434B5C;\n",
              "      box-shadow: 0px 1px 3px 1px rgba(0, 0, 0, 0.15);\n",
              "      filter: drop-shadow(0px 1px 2px rgba(0, 0, 0, 0.3));\n",
              "      fill: #FFFFFF;\n",
              "    }\n",
              "  </style>\n",
              "\n",
              "      <script>\n",
              "        const buttonEl =\n",
              "          document.querySelector('#df-8658d69b-c008-4ad5-a387-745d79b36b8a button.colab-df-convert');\n",
              "        buttonEl.style.display =\n",
              "          google.colab.kernel.accessAllowed ? 'block' : 'none';\n",
              "\n",
              "        async function convertToInteractive(key) {\n",
              "          const element = document.querySelector('#df-8658d69b-c008-4ad5-a387-745d79b36b8a');\n",
              "          const dataTable =\n",
              "            await google.colab.kernel.invokeFunction('convertToInteractive',\n",
              "                                                     [key], {});\n",
              "          if (!dataTable) return;\n",
              "\n",
              "          const docLinkHtml = 'Like what you see? Visit the ' +\n",
              "            '<a target=\"_blank\" href=https://colab.research.google.com/notebooks/data_table.ipynb>data table notebook</a>'\n",
              "            + ' to learn more about interactive tables.';\n",
              "          element.innerHTML = '';\n",
              "          dataTable['output_type'] = 'display_data';\n",
              "          await google.colab.output.renderOutput(dataTable, element);\n",
              "          const docLink = document.createElement('div');\n",
              "          docLink.innerHTML = docLinkHtml;\n",
              "          element.appendChild(docLink);\n",
              "        }\n",
              "      </script>\n",
              "    </div>\n",
              "  </div>\n",
              "  "
            ]
          },
          "metadata": {},
          "execution_count": 43
        }
      ]
    },
    {
      "cell_type": "code",
      "source": [
        "np.random.rand(20)"
      ],
      "metadata": {
        "colab": {
          "base_uri": "https://localhost:8080/"
        },
        "id": "gblhbGqo0Qy9",
        "outputId": "1e9c3fae-7341-4a9b-8372-485eeb787037"
      },
      "execution_count": null,
      "outputs": [
        {
          "output_type": "execute_result",
          "data": {
            "text/plain": [
              "array([0.40475936, 0.26988785, 0.24122363, 0.29091069, 0.43391474,\n",
              "       0.83011757, 0.65941876, 0.86490838, 0.06149355, 0.62061715,\n",
              "       0.61490989, 0.41775032, 0.82051939, 0.24410247, 0.92398489,\n",
              "       0.07858634, 0.90610272, 0.47272495, 0.49389831, 0.98277148])"
            ]
          },
          "metadata": {},
          "execution_count": 44
        }
      ]
    },
    {
      "cell_type": "code",
      "source": [
        "np.random.randint(0,20,20)"
      ],
      "metadata": {
        "colab": {
          "base_uri": "https://localhost:8080/"
        },
        "id": "cQLGgDMr0sU4",
        "outputId": "a6a8afe7-cec6-41d5-da1c-a32b6f58ecd1"
      },
      "execution_count": null,
      "outputs": [
        {
          "output_type": "execute_result",
          "data": {
            "text/plain": [
              "array([ 8,  3, 15, 11, 15,  0, 18, 14,  8, 10,  6,  1,  3, 11, 19, 15, 17,\n",
              "       10, 14,  5])"
            ]
          },
          "metadata": {},
          "execution_count": 45
        }
      ]
    },
    {
      "cell_type": "code",
      "source": [
        "np.random.rand(5,5)"
      ],
      "metadata": {
        "colab": {
          "base_uri": "https://localhost:8080/"
        },
        "id": "9iwix4Hl1WTe",
        "outputId": "85d95d4f-bffe-4b48-a2cc-a0819a6dbb11"
      },
      "execution_count": null,
      "outputs": [
        {
          "output_type": "execute_result",
          "data": {
            "text/plain": [
              "array([[2.57560207e-01, 8.38763581e-02, 4.06380518e-01, 7.58059082e-05,\n",
              "        2.56893983e-01],\n",
              "       [9.17957377e-01, 2.38280262e-01, 6.86326930e-01, 4.94193065e-01,\n",
              "        9.66953909e-01],\n",
              "       [5.30175544e-01, 4.56415213e-01, 1.02406826e-01, 3.95549599e-01,\n",
              "        1.58517168e-01],\n",
              "       [4.11504939e-01, 2.48137439e-01, 5.60865259e-01, 8.84815533e-01,\n",
              "        4.38811952e-01],\n",
              "       [5.18929312e-01, 3.89399828e-01, 1.42937512e-01, 2.94743939e-01,\n",
              "        7.60409814e-01]])"
            ]
          },
          "metadata": {},
          "execution_count": 46
        }
      ]
    },
    {
      "cell_type": "code",
      "source": [
        "np.random.rand(3,3)"
      ],
      "metadata": {
        "colab": {
          "base_uri": "https://localhost:8080/"
        },
        "id": "qTQsAD8d1WQI",
        "outputId": "ec2e5d78-49c3-4291-da66-070a9fd7c8cd"
      },
      "execution_count": null,
      "outputs": [
        {
          "output_type": "execute_result",
          "data": {
            "text/plain": [
              "array([[0.03288872, 0.00372642, 0.35642848],\n",
              "       [0.00859569, 0.32636653, 0.32992077],\n",
              "       [0.91917663, 0.61918839, 0.54941592]])"
            ]
          },
          "metadata": {},
          "execution_count": 47
        }
      ]
    },
    {
      "cell_type": "code",
      "source": [
        "pd.DataFrame(np.random.rand(3,4), index=list(range(3)), columns= ('A', 'B')*2)"
      ],
      "metadata": {
        "colab": {
          "base_uri": "https://localhost:8080/",
          "height": 143
        },
        "id": "Y8qmdEd01WMl",
        "outputId": "2311757c-8da2-4cec-991c-a4ff4752b4d8"
      },
      "execution_count": null,
      "outputs": [
        {
          "output_type": "execute_result",
          "data": {
            "text/plain": [
              "          A         B         A         B\n",
              "0  0.740355  0.024578  0.372173  0.895780\n",
              "1  0.340616  0.068845  0.681949  0.831399\n",
              "2  0.413146  0.999848  0.530737  0.825796"
            ],
            "text/html": [
              "\n",
              "  <div id=\"df-6d9accc8-609a-4c05-832d-f43350ab48e7\">\n",
              "    <div class=\"colab-df-container\">\n",
              "      <div>\n",
              "<style scoped>\n",
              "    .dataframe tbody tr th:only-of-type {\n",
              "        vertical-align: middle;\n",
              "    }\n",
              "\n",
              "    .dataframe tbody tr th {\n",
              "        vertical-align: top;\n",
              "    }\n",
              "\n",
              "    .dataframe thead th {\n",
              "        text-align: right;\n",
              "    }\n",
              "</style>\n",
              "<table border=\"1\" class=\"dataframe\">\n",
              "  <thead>\n",
              "    <tr style=\"text-align: right;\">\n",
              "      <th></th>\n",
              "      <th>A</th>\n",
              "      <th>B</th>\n",
              "      <th>A</th>\n",
              "      <th>B</th>\n",
              "    </tr>\n",
              "  </thead>\n",
              "  <tbody>\n",
              "    <tr>\n",
              "      <th>0</th>\n",
              "      <td>0.740355</td>\n",
              "      <td>0.024578</td>\n",
              "      <td>0.372173</td>\n",
              "      <td>0.895780</td>\n",
              "    </tr>\n",
              "    <tr>\n",
              "      <th>1</th>\n",
              "      <td>0.340616</td>\n",
              "      <td>0.068845</td>\n",
              "      <td>0.681949</td>\n",
              "      <td>0.831399</td>\n",
              "    </tr>\n",
              "    <tr>\n",
              "      <th>2</th>\n",
              "      <td>0.413146</td>\n",
              "      <td>0.999848</td>\n",
              "      <td>0.530737</td>\n",
              "      <td>0.825796</td>\n",
              "    </tr>\n",
              "  </tbody>\n",
              "</table>\n",
              "</div>\n",
              "      <button class=\"colab-df-convert\" onclick=\"convertToInteractive('df-6d9accc8-609a-4c05-832d-f43350ab48e7')\"\n",
              "              title=\"Convert this dataframe to an interactive table.\"\n",
              "              style=\"display:none;\">\n",
              "        \n",
              "  <svg xmlns=\"http://www.w3.org/2000/svg\" height=\"24px\"viewBox=\"0 0 24 24\"\n",
              "       width=\"24px\">\n",
              "    <path d=\"M0 0h24v24H0V0z\" fill=\"none\"/>\n",
              "    <path d=\"M18.56 5.44l.94 2.06.94-2.06 2.06-.94-2.06-.94-.94-2.06-.94 2.06-2.06.94zm-11 1L8.5 8.5l.94-2.06 2.06-.94-2.06-.94L8.5 2.5l-.94 2.06-2.06.94zm10 10l.94 2.06.94-2.06 2.06-.94-2.06-.94-.94-2.06-.94 2.06-2.06.94z\"/><path d=\"M17.41 7.96l-1.37-1.37c-.4-.4-.92-.59-1.43-.59-.52 0-1.04.2-1.43.59L10.3 9.45l-7.72 7.72c-.78.78-.78 2.05 0 2.83L4 21.41c.39.39.9.59 1.41.59.51 0 1.02-.2 1.41-.59l7.78-7.78 2.81-2.81c.8-.78.8-2.07 0-2.86zM5.41 20L4 18.59l7.72-7.72 1.47 1.35L5.41 20z\"/>\n",
              "  </svg>\n",
              "      </button>\n",
              "      \n",
              "  <style>\n",
              "    .colab-df-container {\n",
              "      display:flex;\n",
              "      flex-wrap:wrap;\n",
              "      gap: 12px;\n",
              "    }\n",
              "\n",
              "    .colab-df-convert {\n",
              "      background-color: #E8F0FE;\n",
              "      border: none;\n",
              "      border-radius: 50%;\n",
              "      cursor: pointer;\n",
              "      display: none;\n",
              "      fill: #1967D2;\n",
              "      height: 32px;\n",
              "      padding: 0 0 0 0;\n",
              "      width: 32px;\n",
              "    }\n",
              "\n",
              "    .colab-df-convert:hover {\n",
              "      background-color: #E2EBFA;\n",
              "      box-shadow: 0px 1px 2px rgba(60, 64, 67, 0.3), 0px 1px 3px 1px rgba(60, 64, 67, 0.15);\n",
              "      fill: #174EA6;\n",
              "    }\n",
              "\n",
              "    [theme=dark] .colab-df-convert {\n",
              "      background-color: #3B4455;\n",
              "      fill: #D2E3FC;\n",
              "    }\n",
              "\n",
              "    [theme=dark] .colab-df-convert:hover {\n",
              "      background-color: #434B5C;\n",
              "      box-shadow: 0px 1px 3px 1px rgba(0, 0, 0, 0.15);\n",
              "      filter: drop-shadow(0px 1px 2px rgba(0, 0, 0, 0.3));\n",
              "      fill: #FFFFFF;\n",
              "    }\n",
              "  </style>\n",
              "\n",
              "      <script>\n",
              "        const buttonEl =\n",
              "          document.querySelector('#df-6d9accc8-609a-4c05-832d-f43350ab48e7 button.colab-df-convert');\n",
              "        buttonEl.style.display =\n",
              "          google.colab.kernel.accessAllowed ? 'block' : 'none';\n",
              "\n",
              "        async function convertToInteractive(key) {\n",
              "          const element = document.querySelector('#df-6d9accc8-609a-4c05-832d-f43350ab48e7');\n",
              "          const dataTable =\n",
              "            await google.colab.kernel.invokeFunction('convertToInteractive',\n",
              "                                                     [key], {});\n",
              "          if (!dataTable) return;\n",
              "\n",
              "          const docLinkHtml = 'Like what you see? Visit the ' +\n",
              "            '<a target=\"_blank\" href=https://colab.research.google.com/notebooks/data_table.ipynb>data table notebook</a>'\n",
              "            + ' to learn more about interactive tables.';\n",
              "          element.innerHTML = '';\n",
              "          dataTable['output_type'] = 'display_data';\n",
              "          await google.colab.output.renderOutput(dataTable, element);\n",
              "          const docLink = document.createElement('div');\n",
              "          docLink.innerHTML = docLinkHtml;\n",
              "          element.appendChild(docLink);\n",
              "        }\n",
              "      </script>\n",
              "    </div>\n",
              "  </div>\n",
              "  "
            ]
          },
          "metadata": {},
          "execution_count": 50
        }
      ]
    },
    {
      "cell_type": "code",
      "source": [],
      "metadata": {
        "id": "TrWNxi2B1WIK"
      },
      "execution_count": null,
      "outputs": []
    },
    {
      "cell_type": "code",
      "execution_count": null,
      "metadata": {
        "colab": {
          "base_uri": "https://localhost:8080/"
        },
        "id": "7-YqMwcUba79",
        "outputId": "831c118b-266b-468d-a084-4eaf32245070"
      },
      "outputs": [
        {
          "output_type": "stream",
          "name": "stdout",
          "text": [
            "2     1.7\n",
            "3    99.8\n",
            "dtype: float64\n"
          ]
        }
      ],
      "source": [
        "# we access individual entries the same way as with lists and arrays\n",
        "print(myseries2[2:])"
      ]
    },
    {
      "cell_type": "code",
      "execution_count": null,
      "metadata": {
        "colab": {
          "base_uri": "https://localhost:8080/"
        },
        "id": "Wd5QDjQOba7-",
        "outputId": "0e8d7174-ae7e-4edf-fd90-e97b1d476c0b"
      },
      "outputs": [
        {
          "output_type": "stream",
          "name": "stdout",
          "text": [
            "first      5.4\n",
            "second     6.1\n",
            "third      1.7\n",
            "fourth    99.8\n",
            "dtype: float64\n"
          ]
        }
      ],
      "source": [
        "# we can add labels to the entries of a series\n",
        "\n",
        "mylabels = ['first','second','third','fourth']\n",
        "myseries3 = pd.Series(data=mylist,index=mylabels)\n",
        "print(myseries3)"
      ]
    },
    {
      "cell_type": "code",
      "execution_count": null,
      "metadata": {
        "colab": {
          "base_uri": "https://localhost:8080/"
        },
        "id": "GmUMmtMxba7-",
        "outputId": "c83562ae-7e9a-44f7-ca64-00def8ea1ca0"
      },
      "outputs": [
        {
          "output_type": "stream",
          "name": "stdout",
          "text": [
            "5.4      first\n",
            "6.1     second\n",
            "1.7      third\n",
            "99.8    fourth\n",
            "dtype: object\n"
          ]
        }
      ],
      "source": [
        "# we need not be explicit about the entries of pd.Series\n",
        "myseries4 = pd.Series(mylabels,mylist)\n",
        "print(myseries4)"
      ]
    },
    {
      "cell_type": "code",
      "execution_count": null,
      "metadata": {
        "colab": {
          "base_uri": "https://localhost:8080/"
        },
        "id": "5BIMGbo-ba7-",
        "outputId": "31695588-7218-42ef-8a90-2e90b432869a"
      },
      "outputs": [
        {
          "output_type": "stream",
          "name": "stdout",
          "text": [
            "99.8\n"
          ]
        }
      ],
      "source": [
        "# we can also access entries using the index labels\n",
        "print(myseries3['fourth'])"
      ]
    },
    {
      "cell_type": "code",
      "execution_count": null,
      "metadata": {
        "scrolled": true,
        "id": "J_84SFPqba7_",
        "outputId": "c5628a8e-a046-406c-b07c-e99b044c232b"
      },
      "outputs": [
        {
          "data": {
            "text/plain": [
              "'first'"
            ]
          },
          "execution_count": 21,
          "metadata": {},
          "output_type": "execute_result"
        }
      ],
      "source": [
        "myseries4[5.4]"
      ]
    },
    {
      "cell_type": "code",
      "execution_count": null,
      "metadata": {
        "id": "rKLrSGTuba7_"
      },
      "outputs": [],
      "source": [
        "# myseries5"
      ]
    },
    {
      "cell_type": "code",
      "execution_count": null,
      "metadata": {
        "id": "Y6BhLxGQba7_",
        "outputId": "e8f39fcd-1b8d-41ae-d6ec-67aeb34ab02c"
      },
      "outputs": [
        {
          "name": "stdout",
          "output_type": "stream",
          "text": [
            "first     5.5\n",
            "third     1.1\n",
            "fourth    8.8\n",
            "fifth     1.6\n",
            "dtype: float64\n",
            "\n",
            "fifth       NaN\n",
            "first      10.9\n",
            "fourth    108.6\n",
            "second      NaN\n",
            "third       2.8\n",
            "dtype: float64\n"
          ]
        }
      ],
      "source": [
        "# we can do math on series \n",
        "myseries5 = pd.Series([5.5,1.1,8.8,1.6],['first','third','fourth','fifth'])\n",
        "print(myseries5)\n",
        "print('')\n",
        "print(myseries5+myseries3)"
      ]
    },
    {
      "cell_type": "code",
      "execution_count": null,
      "metadata": {
        "id": "s0qBhtNVba7_",
        "outputId": "1e0932e8-5494-419a-fd4b-4166c697b8b9"
      },
      "outputs": [
        {
          "ename": "SyntaxError",
          "evalue": "invalid syntax (733687337.py, line 1)",
          "output_type": "error",
          "traceback": [
            "\u001b[1;36m  Input \u001b[1;32mIn [24]\u001b[1;36m\u001b[0m\n\u001b[1;33m    concatenate 1,2 - 12\u001b[0m\n\u001b[1;37m                ^\u001b[0m\n\u001b[1;31mSyntaxError\u001b[0m\u001b[1;31m:\u001b[0m invalid syntax\n"
          ]
        }
      ],
      "source": [
        "concatenate 1,2 - 12"
      ]
    },
    {
      "cell_type": "code",
      "execution_count": null,
      "metadata": {
        "id": "QPxF3EjUba8A",
        "outputId": "b842c3dc-e1b9-4ecd-9d2c-da1b707eab7a"
      },
      "outputs": [
        {
          "name": "stdout",
          "output_type": "stream",
          "text": [
            "first      5.4\n",
            "second     6.1\n",
            "third      1.7\n",
            "fourth    99.8\n",
            "dtype: float64\n",
            "\n",
            "first     5.5\n",
            "third     1.1\n",
            "fourth    8.8\n",
            "fifth     1.6\n",
            "dtype: float64\n"
          ]
        }
      ],
      "source": [
        "print(myseries3)\n",
        "print()\n",
        "print(myseries5)"
      ]
    },
    {
      "cell_type": "code",
      "execution_count": null,
      "metadata": {
        "id": "QH9lMpwNba8A",
        "outputId": "38e093db-bcce-4910-a1a6-b4810980ebe5"
      },
      "outputs": [
        {
          "data": {
            "text/html": [
              "<div>\n",
              "<style scoped>\n",
              "    .dataframe tbody tr th:only-of-type {\n",
              "        vertical-align: middle;\n",
              "    }\n",
              "\n",
              "    .dataframe tbody tr th {\n",
              "        vertical-align: top;\n",
              "    }\n",
              "\n",
              "    .dataframe thead th {\n",
              "        text-align: right;\n",
              "    }\n",
              "</style>\n",
              "<table border=\"1\" class=\"dataframe\">\n",
              "  <thead>\n",
              "    <tr style=\"text-align: right;\">\n",
              "      <th></th>\n",
              "      <th>0</th>\n",
              "      <th>1</th>\n",
              "    </tr>\n",
              "  </thead>\n",
              "  <tbody>\n",
              "    <tr>\n",
              "      <th>first</th>\n",
              "      <td>5.4</td>\n",
              "      <td>5.5</td>\n",
              "    </tr>\n",
              "    <tr>\n",
              "      <th>second</th>\n",
              "      <td>6.1</td>\n",
              "      <td>NaN</td>\n",
              "    </tr>\n",
              "    <tr>\n",
              "      <th>third</th>\n",
              "      <td>1.7</td>\n",
              "      <td>1.1</td>\n",
              "    </tr>\n",
              "    <tr>\n",
              "      <th>fourth</th>\n",
              "      <td>99.8</td>\n",
              "      <td>8.8</td>\n",
              "    </tr>\n",
              "    <tr>\n",
              "      <th>fifth</th>\n",
              "      <td>NaN</td>\n",
              "      <td>1.6</td>\n",
              "    </tr>\n",
              "  </tbody>\n",
              "</table>\n",
              "</div>"
            ],
            "text/plain": [
              "           0    1\n",
              "first    5.4  5.5\n",
              "second   6.1  NaN\n",
              "third    1.7  1.1\n",
              "fourth  99.8  8.8\n",
              "fifth    NaN  1.6"
            ]
          },
          "execution_count": 26,
          "metadata": {},
          "output_type": "execute_result"
        }
      ],
      "source": [
        "# we can combine series to create a dataframe using the concat function\n",
        "\n",
        "df1 = pd.concat([myseries3,myseries5],axis=1,sort=False)\n",
        "df1"
      ]
    },
    {
      "cell_type": "code",
      "execution_count": null,
      "metadata": {
        "id": "tUO0xigOba8A",
        "outputId": "489232d6-9831-406e-b5b2-db104744950a"
      },
      "outputs": [
        {
          "data": {
            "text/html": [
              "<div>\n",
              "<style scoped>\n",
              "    .dataframe tbody tr th:only-of-type {\n",
              "        vertical-align: middle;\n",
              "    }\n",
              "\n",
              "    .dataframe tbody tr th {\n",
              "        vertical-align: top;\n",
              "    }\n",
              "\n",
              "    .dataframe thead th {\n",
              "        text-align: right;\n",
              "    }\n",
              "</style>\n",
              "<table border=\"1\" class=\"dataframe\">\n",
              "  <thead>\n",
              "    <tr style=\"text-align: right;\">\n",
              "      <th></th>\n",
              "      <th>p</th>\n",
              "      <th>q</th>\n",
              "      <th>r</th>\n",
              "      <th>s</th>\n",
              "      <th>t</th>\n",
              "    </tr>\n",
              "  </thead>\n",
              "  <tbody>\n",
              "    <tr>\n",
              "      <th>a</th>\n",
              "      <td>0.512325</td>\n",
              "      <td>0.792790</td>\n",
              "      <td>0.107013</td>\n",
              "      <td>0.545848</td>\n",
              "      <td>0.353009</td>\n",
              "    </tr>\n",
              "    <tr>\n",
              "      <th>b</th>\n",
              "      <td>0.853769</td>\n",
              "      <td>0.035232</td>\n",
              "      <td>0.019195</td>\n",
              "      <td>0.712925</td>\n",
              "      <td>0.966695</td>\n",
              "    </tr>\n",
              "    <tr>\n",
              "      <th>c</th>\n",
              "      <td>0.790443</td>\n",
              "      <td>0.564641</td>\n",
              "      <td>0.947495</td>\n",
              "      <td>0.732308</td>\n",
              "      <td>0.063018</td>\n",
              "    </tr>\n",
              "    <tr>\n",
              "      <th>d</th>\n",
              "      <td>0.944952</td>\n",
              "      <td>0.675020</td>\n",
              "      <td>0.658529</td>\n",
              "      <td>0.175713</td>\n",
              "      <td>0.821730</td>\n",
              "    </tr>\n",
              "    <tr>\n",
              "      <th>e</th>\n",
              "      <td>0.922854</td>\n",
              "      <td>0.100087</td>\n",
              "      <td>0.999255</td>\n",
              "      <td>0.726458</td>\n",
              "      <td>0.175784</td>\n",
              "    </tr>\n",
              "  </tbody>\n",
              "</table>\n",
              "</div>"
            ],
            "text/plain": [
              "          p         q         r         s         t\n",
              "a  0.512325  0.792790  0.107013  0.545848  0.353009\n",
              "b  0.853769  0.035232  0.019195  0.712925  0.966695\n",
              "c  0.790443  0.564641  0.947495  0.732308  0.063018\n",
              "d  0.944952  0.675020  0.658529  0.175713  0.821730\n",
              "e  0.922854  0.100087  0.999255  0.726458  0.175784"
            ]
          },
          "execution_count": 27,
          "metadata": {},
          "output_type": "execute_result"
        }
      ],
      "source": [
        "# we can create a new dataframe \n",
        "df2 = pd.DataFrame(np.random.rand(5,5),index=['a','b','c','d','e'],columns=['p','q','r','s','t'])\n",
        "df2"
      ]
    },
    {
      "cell_type": "code",
      "execution_count": null,
      "metadata": {
        "scrolled": true,
        "id": "GWdkWpojba8B",
        "outputId": "d2e14f98-59dc-4a1a-8dff-d087834bc5e2"
      },
      "outputs": [
        {
          "data": {
            "text/html": [
              "<div>\n",
              "<style scoped>\n",
              "    .dataframe tbody tr th:only-of-type {\n",
              "        vertical-align: middle;\n",
              "    }\n",
              "\n",
              "    .dataframe tbody tr th {\n",
              "        vertical-align: top;\n",
              "    }\n",
              "\n",
              "    .dataframe thead th {\n",
              "        text-align: right;\n",
              "    }\n",
              "</style>\n",
              "<table border=\"1\" class=\"dataframe\">\n",
              "  <thead>\n",
              "    <tr style=\"text-align: right;\">\n",
              "      <th></th>\n",
              "      <th>first col</th>\n",
              "      <th>second col</th>\n",
              "      <th>third col</th>\n",
              "      <th>fourth col</th>\n",
              "      <th>fifth col</th>\n",
              "    </tr>\n",
              "  </thead>\n",
              "  <tbody>\n",
              "    <tr>\n",
              "      <th>first row</th>\n",
              "      <td>0.822893</td>\n",
              "      <td>-1.423711</td>\n",
              "      <td>0.418590</td>\n",
              "      <td>0.158221</td>\n",
              "      <td>-0.463175</td>\n",
              "    </tr>\n",
              "    <tr>\n",
              "      <th>second row</th>\n",
              "      <td>-0.152790</td>\n",
              "      <td>0.002065</td>\n",
              "      <td>1.858880</td>\n",
              "      <td>-0.636972</td>\n",
              "      <td>-0.738839</td>\n",
              "    </tr>\n",
              "    <tr>\n",
              "      <th>third row</th>\n",
              "      <td>-0.193864</td>\n",
              "      <td>-1.179945</td>\n",
              "      <td>0.380241</td>\n",
              "      <td>1.376465</td>\n",
              "      <td>0.184676</td>\n",
              "    </tr>\n",
              "    <tr>\n",
              "      <th>fourth row</th>\n",
              "      <td>1.131401</td>\n",
              "      <td>0.407221</td>\n",
              "      <td>-2.539193</td>\n",
              "      <td>0.328429</td>\n",
              "      <td>-0.027129</td>\n",
              "    </tr>\n",
              "    <tr>\n",
              "      <th>fifth row</th>\n",
              "      <td>-0.790992</td>\n",
              "      <td>0.408077</td>\n",
              "      <td>-0.746851</td>\n",
              "      <td>0.895058</td>\n",
              "      <td>-0.923893</td>\n",
              "    </tr>\n",
              "  </tbody>\n",
              "</table>\n",
              "</div>"
            ],
            "text/plain": [
              "            first col  second col  third col  fourth col  fifth col\n",
              "first row    0.822893   -1.423711   0.418590    0.158221  -0.463175\n",
              "second row  -0.152790    0.002065   1.858880   -0.636972  -0.738839\n",
              "third row   -0.193864   -1.179945   0.380241    1.376465   0.184676\n",
              "fourth row   1.131401    0.407221  -2.539193    0.328429  -0.027129\n",
              "fifth row   -0.790992    0.408077  -0.746851    0.895058  -0.923893"
            ]
          },
          "execution_count": 28,
          "metadata": {},
          "output_type": "execute_result"
        }
      ],
      "source": [
        "# lets give labels to rows and columns\n",
        "df3 = pd.DataFrame(np.random.randn(5,5),index=['first row','second row','third row','fourth row','fifth row'],\n",
        "                   columns=['first col','second col','third col','fourth col','fifth col'])\n",
        "df3"
      ]
    },
    {
      "cell_type": "code",
      "execution_count": null,
      "metadata": {
        "id": "dgtVM9l1ba8B",
        "outputId": "a70b10cb-5173-42a9-9569-1960125ed11d"
      },
      "outputs": [
        {
          "data": {
            "text/html": [
              "<div>\n",
              "<style scoped>\n",
              "    .dataframe tbody tr th:only-of-type {\n",
              "        vertical-align: middle;\n",
              "    }\n",
              "\n",
              "    .dataframe tbody tr th {\n",
              "        vertical-align: top;\n",
              "    }\n",
              "\n",
              "    .dataframe thead th {\n",
              "        text-align: right;\n",
              "    }\n",
              "</style>\n",
              "<table border=\"1\" class=\"dataframe\">\n",
              "  <thead>\n",
              "    <tr style=\"text-align: right;\">\n",
              "      <th></th>\n",
              "      <th>third col</th>\n",
              "      <th>fourth col</th>\n",
              "      <th>first col</th>\n",
              "    </tr>\n",
              "  </thead>\n",
              "  <tbody>\n",
              "    <tr>\n",
              "      <th>first row</th>\n",
              "      <td>0.418590</td>\n",
              "      <td>0.158221</td>\n",
              "      <td>0.822893</td>\n",
              "    </tr>\n",
              "    <tr>\n",
              "      <th>second row</th>\n",
              "      <td>1.858880</td>\n",
              "      <td>-0.636972</td>\n",
              "      <td>-0.152790</td>\n",
              "    </tr>\n",
              "    <tr>\n",
              "      <th>third row</th>\n",
              "      <td>0.380241</td>\n",
              "      <td>1.376465</td>\n",
              "      <td>-0.193864</td>\n",
              "    </tr>\n",
              "    <tr>\n",
              "      <th>fourth row</th>\n",
              "      <td>-2.539193</td>\n",
              "      <td>0.328429</td>\n",
              "      <td>1.131401</td>\n",
              "    </tr>\n",
              "    <tr>\n",
              "      <th>fifth row</th>\n",
              "      <td>-0.746851</td>\n",
              "      <td>0.895058</td>\n",
              "      <td>-0.790992</td>\n",
              "    </tr>\n",
              "  </tbody>\n",
              "</table>\n",
              "</div>"
            ],
            "text/plain": [
              "            third col  fourth col  first col\n",
              "first row    0.418590    0.158221   0.822893\n",
              "second row   1.858880   -0.636972  -0.152790\n",
              "third row    0.380241    1.376465  -0.193864\n",
              "fourth row  -2.539193    0.328429   1.131401\n",
              "fifth row   -0.746851    0.895058  -0.790992"
            ]
          },
          "execution_count": 29,
          "metadata": {},
          "output_type": "execute_result"
        }
      ],
      "source": [
        "df3[['third col','fourth col','first col']]"
      ]
    },
    {
      "cell_type": "code",
      "execution_count": null,
      "metadata": {
        "id": "kVCbn6PAba8B",
        "outputId": "deed9498-14dc-44a1-cae4-1f992c155da9"
      },
      "outputs": [
        {
          "data": {
            "text/plain": [
              "Index(['first col', 'second col', 'third col', 'fourth col', 'fifth col'], dtype='object')"
            ]
          },
          "execution_count": 30,
          "metadata": {},
          "output_type": "execute_result"
        }
      ],
      "source": [
        "df3.columns"
      ]
    },
    {
      "cell_type": "code",
      "execution_count": null,
      "metadata": {
        "scrolled": true,
        "id": "_Z2noEErba8C",
        "outputId": "13711a91-aab6-4aa3-9862-60ce8d206064"
      },
      "outputs": [
        {
          "data": {
            "text/html": [
              "<div>\n",
              "<style scoped>\n",
              "    .dataframe tbody tr th:only-of-type {\n",
              "        vertical-align: middle;\n",
              "    }\n",
              "\n",
              "    .dataframe tbody tr th {\n",
              "        vertical-align: top;\n",
              "    }\n",
              "\n",
              "    .dataframe thead th {\n",
              "        text-align: right;\n",
              "    }\n",
              "</style>\n",
              "<table border=\"1\" class=\"dataframe\">\n",
              "  <thead>\n",
              "    <tr style=\"text-align: right;\">\n",
              "      <th></th>\n",
              "      <th>third col</th>\n",
              "      <th>first col</th>\n",
              "    </tr>\n",
              "  </thead>\n",
              "  <tbody>\n",
              "    <tr>\n",
              "      <th>second row</th>\n",
              "      <td>1.858880</td>\n",
              "      <td>-0.152790</td>\n",
              "    </tr>\n",
              "    <tr>\n",
              "      <th>fourth row</th>\n",
              "      <td>-2.539193</td>\n",
              "      <td>1.131401</td>\n",
              "    </tr>\n",
              "  </tbody>\n",
              "</table>\n",
              "</div>"
            ],
            "text/plain": [
              "            third col  first col\n",
              "second row   1.858880  -0.152790\n",
              "fourth row  -2.539193   1.131401"
            ]
          },
          "execution_count": 31,
          "metadata": {},
          "output_type": "execute_result"
        }
      ],
      "source": [
        "df3.loc[['second row','fourth row'],['third col','first col']]"
      ]
    },
    {
      "cell_type": "code",
      "execution_count": null,
      "metadata": {
        "id": "gJj19Nv7ba8C",
        "outputId": "9ec6c6f3-3cd8-442d-bccb-6b2f68f28dac"
      },
      "outputs": [
        {
          "data": {
            "text/html": [
              "<div>\n",
              "<style scoped>\n",
              "    .dataframe tbody tr th:only-of-type {\n",
              "        vertical-align: middle;\n",
              "    }\n",
              "\n",
              "    .dataframe tbody tr th {\n",
              "        vertical-align: top;\n",
              "    }\n",
              "\n",
              "    .dataframe thead th {\n",
              "        text-align: right;\n",
              "    }\n",
              "</style>\n",
              "<table border=\"1\" class=\"dataframe\">\n",
              "  <thead>\n",
              "    <tr style=\"text-align: right;\">\n",
              "      <th></th>\n",
              "      <th>first col</th>\n",
              "      <th>second col</th>\n",
              "      <th>third col</th>\n",
              "      <th>fourth col</th>\n",
              "      <th>fifth col</th>\n",
              "    </tr>\n",
              "  </thead>\n",
              "  <tbody>\n",
              "    <tr>\n",
              "      <th>first row</th>\n",
              "      <td>0.822893</td>\n",
              "      <td>-1.423711</td>\n",
              "      <td>0.418590</td>\n",
              "      <td>0.158221</td>\n",
              "      <td>-0.463175</td>\n",
              "    </tr>\n",
              "    <tr>\n",
              "      <th>second row</th>\n",
              "      <td>-0.152790</td>\n",
              "      <td>0.002065</td>\n",
              "      <td>1.858880</td>\n",
              "      <td>-0.636972</td>\n",
              "      <td>-0.738839</td>\n",
              "    </tr>\n",
              "    <tr>\n",
              "      <th>third row</th>\n",
              "      <td>-0.193864</td>\n",
              "      <td>-1.179945</td>\n",
              "      <td>0.380241</td>\n",
              "      <td>1.376465</td>\n",
              "      <td>0.184676</td>\n",
              "    </tr>\n",
              "    <tr>\n",
              "      <th>fourth row</th>\n",
              "      <td>1.131401</td>\n",
              "      <td>0.407221</td>\n",
              "      <td>-2.539193</td>\n",
              "      <td>0.328429</td>\n",
              "      <td>-0.027129</td>\n",
              "    </tr>\n",
              "    <tr>\n",
              "      <th>fifth row</th>\n",
              "      <td>-0.790992</td>\n",
              "      <td>0.408077</td>\n",
              "      <td>-0.746851</td>\n",
              "      <td>0.895058</td>\n",
              "      <td>-0.923893</td>\n",
              "    </tr>\n",
              "  </tbody>\n",
              "</table>\n",
              "</div>"
            ],
            "text/plain": [
              "            first col  second col  third col  fourth col  fifth col\n",
              "first row    0.822893   -1.423711   0.418590    0.158221  -0.463175\n",
              "second row  -0.152790    0.002065   1.858880   -0.636972  -0.738839\n",
              "third row   -0.193864   -1.179945   0.380241    1.376465   0.184676\n",
              "fourth row   1.131401    0.407221  -2.539193    0.328429  -0.027129\n",
              "fifth row   -0.790992    0.408077  -0.746851    0.895058  -0.923893"
            ]
          },
          "execution_count": 32,
          "metadata": {},
          "output_type": "execute_result"
        }
      ],
      "source": [
        "df3"
      ]
    },
    {
      "cell_type": "code",
      "execution_count": null,
      "metadata": {
        "scrolled": true,
        "id": "qpqPehzeba8C",
        "outputId": "7dbaf348-0875-451a-acc2-1c2ad804fe22"
      },
      "outputs": [
        {
          "data": {
            "text/html": [
              "<div>\n",
              "<style scoped>\n",
              "    .dataframe tbody tr th:only-of-type {\n",
              "        vertical-align: middle;\n",
              "    }\n",
              "\n",
              "    .dataframe tbody tr th {\n",
              "        vertical-align: top;\n",
              "    }\n",
              "\n",
              "    .dataframe thead th {\n",
              "        text-align: right;\n",
              "    }\n",
              "</style>\n",
              "<table border=\"1\" class=\"dataframe\">\n",
              "  <thead>\n",
              "    <tr style=\"text-align: right;\">\n",
              "      <th></th>\n",
              "      <th>fourth col</th>\n",
              "      <th>fifth col</th>\n",
              "    </tr>\n",
              "  </thead>\n",
              "  <tbody>\n",
              "    <tr>\n",
              "      <th>second row</th>\n",
              "      <td>-0.636972</td>\n",
              "      <td>-0.738839</td>\n",
              "    </tr>\n",
              "    <tr>\n",
              "      <th>third row</th>\n",
              "      <td>1.376465</td>\n",
              "      <td>0.184676</td>\n",
              "    </tr>\n",
              "    <tr>\n",
              "      <th>fourth row</th>\n",
              "      <td>0.328429</td>\n",
              "      <td>-0.027129</td>\n",
              "    </tr>\n",
              "  </tbody>\n",
              "</table>\n",
              "</div>"
            ],
            "text/plain": [
              "            fourth col  fifth col\n",
              "second row   -0.636972  -0.738839\n",
              "third row     1.376465   0.184676\n",
              "fourth row    0.328429  -0.027129"
            ]
          },
          "execution_count": 33,
          "metadata": {},
          "output_type": "execute_result"
        }
      ],
      "source": [
        "df3.iloc[1:4,3:]"
      ]
    },
    {
      "cell_type": "code",
      "execution_count": null,
      "metadata": {
        "id": "PI0fJvLNba8C"
      },
      "outputs": [],
      "source": []
    },
    {
      "cell_type": "code",
      "execution_count": null,
      "metadata": {
        "id": "VXB1GTuZba8D",
        "outputId": "82e2130f-3c91-489b-bf89-061873c9e09e"
      },
      "outputs": [
        {
          "name": "stdout",
          "output_type": "stream",
          "text": [
            "first row    -1.423711\n",
            "second row    0.002065\n",
            "third row    -1.179945\n",
            "fourth row    0.407221\n",
            "fifth row     0.408077\n",
            "Name: second col, dtype: float64\n",
            "\n"
          ]
        },
        {
          "data": {
            "text/html": [
              "<div>\n",
              "<style scoped>\n",
              "    .dataframe tbody tr th:only-of-type {\n",
              "        vertical-align: middle;\n",
              "    }\n",
              "\n",
              "    .dataframe tbody tr th {\n",
              "        vertical-align: top;\n",
              "    }\n",
              "\n",
              "    .dataframe thead th {\n",
              "        text-align: right;\n",
              "    }\n",
              "</style>\n",
              "<table border=\"1\" class=\"dataframe\">\n",
              "  <thead>\n",
              "    <tr style=\"text-align: right;\">\n",
              "      <th></th>\n",
              "      <th>third col</th>\n",
              "      <th>first col</th>\n",
              "    </tr>\n",
              "  </thead>\n",
              "  <tbody>\n",
              "    <tr>\n",
              "      <th>first row</th>\n",
              "      <td>0.418590</td>\n",
              "      <td>0.822893</td>\n",
              "    </tr>\n",
              "    <tr>\n",
              "      <th>second row</th>\n",
              "      <td>1.858880</td>\n",
              "      <td>-0.152790</td>\n",
              "    </tr>\n",
              "    <tr>\n",
              "      <th>third row</th>\n",
              "      <td>0.380241</td>\n",
              "      <td>-0.193864</td>\n",
              "    </tr>\n",
              "    <tr>\n",
              "      <th>fourth row</th>\n",
              "      <td>-2.539193</td>\n",
              "      <td>1.131401</td>\n",
              "    </tr>\n",
              "    <tr>\n",
              "      <th>fifth row</th>\n",
              "      <td>-0.746851</td>\n",
              "      <td>-0.790992</td>\n",
              "    </tr>\n",
              "  </tbody>\n",
              "</table>\n",
              "</div>"
            ],
            "text/plain": [
              "            third col  first col\n",
              "first row    0.418590   0.822893\n",
              "second row   1.858880  -0.152790\n",
              "third row    0.380241  -0.193864\n",
              "fourth row  -2.539193   1.131401\n",
              "fifth row   -0.746851  -0.790992"
            ]
          },
          "execution_count": 34,
          "metadata": {},
          "output_type": "execute_result"
        }
      ],
      "source": [
        "# we can access individual series in a data frame\n",
        "print(df3['second col'])\n",
        "print('')\n",
        "df3[['third col','first col']]"
      ]
    },
    {
      "cell_type": "code",
      "execution_count": null,
      "metadata": {
        "scrolled": true,
        "id": "Xb0oZX06ba8E",
        "outputId": "d0475c54-8fdf-4423-e4b8-4a0cad62f59f"
      },
      "outputs": [
        {
          "data": {
            "text/plain": [
              "first col     1.131401\n",
              "second col    0.407221\n",
              "third col    -2.539193\n",
              "fourth col    0.328429\n",
              "fifth col    -0.027129\n",
              "Name: fourth row, dtype: float64"
            ]
          },
          "execution_count": 35,
          "metadata": {},
          "output_type": "execute_result"
        }
      ],
      "source": [
        "# we can access rows of a dataframe\n",
        "df3.loc['fourth row']"
      ]
    },
    {
      "cell_type": "code",
      "execution_count": null,
      "metadata": {
        "id": "80ymRLLiba8E",
        "outputId": "3db85fff-9a82-46a9-df6b-44a7dafe3845"
      },
      "outputs": [
        {
          "data": {
            "text/html": [
              "<div>\n",
              "<style scoped>\n",
              "    .dataframe tbody tr th:only-of-type {\n",
              "        vertical-align: middle;\n",
              "    }\n",
              "\n",
              "    .dataframe tbody tr th {\n",
              "        vertical-align: top;\n",
              "    }\n",
              "\n",
              "    .dataframe thead th {\n",
              "        text-align: right;\n",
              "    }\n",
              "</style>\n",
              "<table border=\"1\" class=\"dataframe\">\n",
              "  <thead>\n",
              "    <tr style=\"text-align: right;\">\n",
              "      <th></th>\n",
              "      <th>second col</th>\n",
              "      <th>first col</th>\n",
              "    </tr>\n",
              "  </thead>\n",
              "  <tbody>\n",
              "    <tr>\n",
              "      <th>fourth row</th>\n",
              "      <td>0.407221</td>\n",
              "      <td>1.131401</td>\n",
              "    </tr>\n",
              "    <tr>\n",
              "      <th>third row</th>\n",
              "      <td>-1.179945</td>\n",
              "      <td>-0.193864</td>\n",
              "    </tr>\n",
              "  </tbody>\n",
              "</table>\n",
              "</div>"
            ],
            "text/plain": [
              "            second col  first col\n",
              "fourth row    0.407221   1.131401\n",
              "third row    -1.179945  -0.193864"
            ]
          },
          "execution_count": 36,
          "metadata": {},
          "output_type": "execute_result"
        }
      ],
      "source": [
        "df3.loc[['fourth row','third row'],['second col','first col']]"
      ]
    },
    {
      "cell_type": "code",
      "execution_count": null,
      "metadata": {
        "id": "P0CA6oW-ba8F",
        "outputId": "0212fe4c-f9d7-4a42-8140-80004c587ce8"
      },
      "outputs": [
        {
          "data": {
            "text/html": [
              "<div>\n",
              "<style scoped>\n",
              "    .dataframe tbody tr th:only-of-type {\n",
              "        vertical-align: middle;\n",
              "    }\n",
              "\n",
              "    .dataframe tbody tr th {\n",
              "        vertical-align: top;\n",
              "    }\n",
              "\n",
              "    .dataframe thead th {\n",
              "        text-align: right;\n",
              "    }\n",
              "</style>\n",
              "<table border=\"1\" class=\"dataframe\">\n",
              "  <thead>\n",
              "    <tr style=\"text-align: right;\">\n",
              "      <th></th>\n",
              "      <th>fourth col</th>\n",
              "      <th>fifth col</th>\n",
              "    </tr>\n",
              "  </thead>\n",
              "  <tbody>\n",
              "    <tr>\n",
              "      <th>third row</th>\n",
              "      <td>1.376465</td>\n",
              "      <td>0.184676</td>\n",
              "    </tr>\n",
              "    <tr>\n",
              "      <th>fourth row</th>\n",
              "      <td>0.328429</td>\n",
              "      <td>-0.027129</td>\n",
              "    </tr>\n",
              "    <tr>\n",
              "      <th>fifth row</th>\n",
              "      <td>0.895058</td>\n",
              "      <td>-0.923893</td>\n",
              "    </tr>\n",
              "  </tbody>\n",
              "</table>\n",
              "</div>"
            ],
            "text/plain": [
              "            fourth col  fifth col\n",
              "third row     1.376465   0.184676\n",
              "fourth row    0.328429  -0.027129\n",
              "fifth row     0.895058  -0.923893"
            ]
          },
          "execution_count": 37,
          "metadata": {},
          "output_type": "execute_result"
        }
      ],
      "source": [
        "df3.iloc[2:,3:]"
      ]
    },
    {
      "cell_type": "code",
      "execution_count": null,
      "metadata": {
        "id": "AYIYOvorba8F",
        "outputId": "a6399239-4d62-4d79-8181-240f919e9332"
      },
      "outputs": [
        {
          "data": {
            "text/html": [
              "<div>\n",
              "<style scoped>\n",
              "    .dataframe tbody tr th:only-of-type {\n",
              "        vertical-align: middle;\n",
              "    }\n",
              "\n",
              "    .dataframe tbody tr th {\n",
              "        vertical-align: top;\n",
              "    }\n",
              "\n",
              "    .dataframe thead th {\n",
              "        text-align: right;\n",
              "    }\n",
              "</style>\n",
              "<table border=\"1\" class=\"dataframe\">\n",
              "  <thead>\n",
              "    <tr style=\"text-align: right;\">\n",
              "      <th></th>\n",
              "      <th>first col</th>\n",
              "      <th>second col</th>\n",
              "      <th>third col</th>\n",
              "      <th>fourth col</th>\n",
              "      <th>fifth col</th>\n",
              "    </tr>\n",
              "  </thead>\n",
              "  <tbody>\n",
              "    <tr>\n",
              "      <th>first row</th>\n",
              "      <td>0.822893</td>\n",
              "      <td>-1.423711</td>\n",
              "      <td>0.418590</td>\n",
              "      <td>0.158221</td>\n",
              "      <td>-0.463175</td>\n",
              "    </tr>\n",
              "    <tr>\n",
              "      <th>second row</th>\n",
              "      <td>-0.152790</td>\n",
              "      <td>0.002065</td>\n",
              "      <td>1.858880</td>\n",
              "      <td>-0.636972</td>\n",
              "      <td>-0.738839</td>\n",
              "    </tr>\n",
              "    <tr>\n",
              "      <th>third row</th>\n",
              "      <td>-0.193864</td>\n",
              "      <td>-1.179945</td>\n",
              "      <td>0.380241</td>\n",
              "      <td>1.376465</td>\n",
              "      <td>0.184676</td>\n",
              "    </tr>\n",
              "    <tr>\n",
              "      <th>fourth row</th>\n",
              "      <td>1.131401</td>\n",
              "      <td>0.407221</td>\n",
              "      <td>-2.539193</td>\n",
              "      <td>0.328429</td>\n",
              "      <td>-0.027129</td>\n",
              "    </tr>\n",
              "    <tr>\n",
              "      <th>fifth row</th>\n",
              "      <td>-0.790992</td>\n",
              "      <td>0.408077</td>\n",
              "      <td>-0.746851</td>\n",
              "      <td>0.895058</td>\n",
              "      <td>-0.923893</td>\n",
              "    </tr>\n",
              "  </tbody>\n",
              "</table>\n",
              "</div>"
            ],
            "text/plain": [
              "            first col  second col  third col  fourth col  fifth col\n",
              "first row    0.822893   -1.423711   0.418590    0.158221  -0.463175\n",
              "second row  -0.152790    0.002065   1.858880   -0.636972  -0.738839\n",
              "third row   -0.193864   -1.179945   0.380241    1.376465   0.184676\n",
              "fourth row   1.131401    0.407221  -2.539193    0.328429  -0.027129\n",
              "fifth row   -0.790992    0.408077  -0.746851    0.895058  -0.923893"
            ]
          },
          "execution_count": 38,
          "metadata": {},
          "output_type": "execute_result"
        }
      ],
      "source": [
        "df3"
      ]
    },
    {
      "cell_type": "code",
      "execution_count": null,
      "metadata": {
        "scrolled": true,
        "id": "vOMT9hs4ba8G",
        "outputId": "b8fbea9b-6d7d-444b-c904-2eebbb522959"
      },
      "outputs": [
        {
          "data": {
            "text/html": [
              "<div>\n",
              "<style scoped>\n",
              "    .dataframe tbody tr th:only-of-type {\n",
              "        vertical-align: middle;\n",
              "    }\n",
              "\n",
              "    .dataframe tbody tr th {\n",
              "        vertical-align: top;\n",
              "    }\n",
              "\n",
              "    .dataframe thead th {\n",
              "        text-align: right;\n",
              "    }\n",
              "</style>\n",
              "<table border=\"1\" class=\"dataframe\">\n",
              "  <thead>\n",
              "    <tr style=\"text-align: right;\">\n",
              "      <th></th>\n",
              "      <th>first col</th>\n",
              "      <th>second col</th>\n",
              "      <th>third col</th>\n",
              "      <th>fourth col</th>\n",
              "      <th>fifth col</th>\n",
              "    </tr>\n",
              "  </thead>\n",
              "  <tbody>\n",
              "    <tr>\n",
              "      <th>first row</th>\n",
              "      <td>0.822893</td>\n",
              "      <td>NaN</td>\n",
              "      <td>NaN</td>\n",
              "      <td>NaN</td>\n",
              "      <td>NaN</td>\n",
              "    </tr>\n",
              "    <tr>\n",
              "      <th>second row</th>\n",
              "      <td>NaN</td>\n",
              "      <td>0.002065</td>\n",
              "      <td>NaN</td>\n",
              "      <td>NaN</td>\n",
              "      <td>NaN</td>\n",
              "    </tr>\n",
              "    <tr>\n",
              "      <th>third row</th>\n",
              "      <td>NaN</td>\n",
              "      <td>NaN</td>\n",
              "      <td>NaN</td>\n",
              "      <td>NaN</td>\n",
              "      <td>NaN</td>\n",
              "    </tr>\n",
              "    <tr>\n",
              "      <th>fourth row</th>\n",
              "      <td>1.131401</td>\n",
              "      <td>0.407221</td>\n",
              "      <td>NaN</td>\n",
              "      <td>NaN</td>\n",
              "      <td>NaN</td>\n",
              "    </tr>\n",
              "    <tr>\n",
              "      <th>fifth row</th>\n",
              "      <td>NaN</td>\n",
              "      <td>0.408077</td>\n",
              "      <td>NaN</td>\n",
              "      <td>NaN</td>\n",
              "      <td>NaN</td>\n",
              "    </tr>\n",
              "  </tbody>\n",
              "</table>\n",
              "</div>"
            ],
            "text/plain": [
              "            first col  second col  third col  fourth col  fifth col\n",
              "first row    0.822893         NaN        NaN         NaN        NaN\n",
              "second row        NaN    0.002065        NaN         NaN        NaN\n",
              "third row         NaN         NaN        NaN         NaN        NaN\n",
              "fourth row   1.131401    0.407221        NaN         NaN        NaN\n",
              "fifth row         NaN    0.408077        NaN         NaN        NaN"
            ]
          },
          "execution_count": 39,
          "metadata": {},
          "output_type": "execute_result"
        }
      ],
      "source": [
        "df3[df3.iloc[:,:2]>0]"
      ]
    },
    {
      "cell_type": "code",
      "execution_count": null,
      "metadata": {
        "id": "ZZ1JTs-cba8G",
        "outputId": "f2e8573f-7900-4ee2-8c29-070b8dd15c70"
      },
      "outputs": [
        {
          "data": {
            "text/html": [
              "<div>\n",
              "<style scoped>\n",
              "    .dataframe tbody tr th:only-of-type {\n",
              "        vertical-align: middle;\n",
              "    }\n",
              "\n",
              "    .dataframe tbody tr th {\n",
              "        vertical-align: top;\n",
              "    }\n",
              "\n",
              "    .dataframe thead th {\n",
              "        text-align: right;\n",
              "    }\n",
              "</style>\n",
              "<table border=\"1\" class=\"dataframe\">\n",
              "  <thead>\n",
              "    <tr style=\"text-align: right;\">\n",
              "      <th></th>\n",
              "      <th>third col</th>\n",
              "      <th>fourth col</th>\n",
              "      <th>fifth col</th>\n",
              "    </tr>\n",
              "  </thead>\n",
              "  <tbody>\n",
              "    <tr>\n",
              "      <th>fifth row</th>\n",
              "      <td>-0.746851</td>\n",
              "      <td>0.895058</td>\n",
              "      <td>-0.923893</td>\n",
              "    </tr>\n",
              "  </tbody>\n",
              "</table>\n",
              "</div>"
            ],
            "text/plain": [
              "           third col  fourth col  fifth col\n",
              "fifth row  -0.746851    0.895058  -0.923893"
            ]
          },
          "execution_count": 40,
          "metadata": {},
          "output_type": "execute_result"
        }
      ],
      "source": [
        "df3.iloc[4:,2:]"
      ]
    },
    {
      "cell_type": "code",
      "execution_count": null,
      "metadata": {
        "id": "N1qtS1Alba8G",
        "outputId": "e6885123-ec0e-4782-d544-a9d137e8f676"
      },
      "outputs": [
        {
          "data": {
            "text/html": [
              "<div>\n",
              "<style scoped>\n",
              "    .dataframe tbody tr th:only-of-type {\n",
              "        vertical-align: middle;\n",
              "    }\n",
              "\n",
              "    .dataframe tbody tr th {\n",
              "        vertical-align: top;\n",
              "    }\n",
              "\n",
              "    .dataframe thead th {\n",
              "        text-align: right;\n",
              "    }\n",
              "</style>\n",
              "<table border=\"1\" class=\"dataframe\">\n",
              "  <thead>\n",
              "    <tr style=\"text-align: right;\">\n",
              "      <th></th>\n",
              "      <th>second col</th>\n",
              "      <th>third col</th>\n",
              "    </tr>\n",
              "  </thead>\n",
              "  <tbody>\n",
              "    <tr>\n",
              "      <th>fourth row</th>\n",
              "      <td>0.407221</td>\n",
              "      <td>-2.539193</td>\n",
              "    </tr>\n",
              "    <tr>\n",
              "      <th>first row</th>\n",
              "      <td>-1.423711</td>\n",
              "      <td>0.418590</td>\n",
              "    </tr>\n",
              "  </tbody>\n",
              "</table>\n",
              "</div>"
            ],
            "text/plain": [
              "            second col  third col\n",
              "fourth row    0.407221  -2.539193\n",
              "first row    -1.423711   0.418590"
            ]
          },
          "execution_count": 41,
          "metadata": {},
          "output_type": "execute_result"
        }
      ],
      "source": [
        "df3.loc[['fourth row','first row'],['second col','third col']]"
      ]
    },
    {
      "cell_type": "code",
      "execution_count": null,
      "metadata": {
        "id": "XPmqiiuTba8H",
        "outputId": "1d2f488d-00be-411f-9956-3b110a2eb8dd"
      },
      "outputs": [
        {
          "data": {
            "text/html": [
              "<div>\n",
              "<style scoped>\n",
              "    .dataframe tbody tr th:only-of-type {\n",
              "        vertical-align: middle;\n",
              "    }\n",
              "\n",
              "    .dataframe tbody tr th {\n",
              "        vertical-align: top;\n",
              "    }\n",
              "\n",
              "    .dataframe thead th {\n",
              "        text-align: right;\n",
              "    }\n",
              "</style>\n",
              "<table border=\"1\" class=\"dataframe\">\n",
              "  <thead>\n",
              "    <tr style=\"text-align: right;\">\n",
              "      <th></th>\n",
              "      <th>first col</th>\n",
              "      <th>second col</th>\n",
              "      <th>third col</th>\n",
              "      <th>fourth col</th>\n",
              "      <th>fifth col</th>\n",
              "    </tr>\n",
              "  </thead>\n",
              "  <tbody>\n",
              "    <tr>\n",
              "      <th>first row</th>\n",
              "      <td>0.822893</td>\n",
              "      <td>-1.423711</td>\n",
              "      <td>0.418590</td>\n",
              "      <td>0.158221</td>\n",
              "      <td>-0.463175</td>\n",
              "    </tr>\n",
              "    <tr>\n",
              "      <th>second row</th>\n",
              "      <td>-0.152790</td>\n",
              "      <td>0.002065</td>\n",
              "      <td>1.858880</td>\n",
              "      <td>-0.636972</td>\n",
              "      <td>-0.738839</td>\n",
              "    </tr>\n",
              "    <tr>\n",
              "      <th>third row</th>\n",
              "      <td>-0.193864</td>\n",
              "      <td>-1.179945</td>\n",
              "      <td>0.380241</td>\n",
              "      <td>1.376465</td>\n",
              "      <td>0.184676</td>\n",
              "    </tr>\n",
              "    <tr>\n",
              "      <th>fourth row</th>\n",
              "      <td>1.131401</td>\n",
              "      <td>0.407221</td>\n",
              "      <td>-2.539193</td>\n",
              "      <td>0.328429</td>\n",
              "      <td>-0.027129</td>\n",
              "    </tr>\n",
              "    <tr>\n",
              "      <th>fifth row</th>\n",
              "      <td>-0.790992</td>\n",
              "      <td>0.408077</td>\n",
              "      <td>-0.746851</td>\n",
              "      <td>0.895058</td>\n",
              "      <td>-0.923893</td>\n",
              "    </tr>\n",
              "  </tbody>\n",
              "</table>\n",
              "</div>"
            ],
            "text/plain": [
              "            first col  second col  third col  fourth col  fifth col\n",
              "first row    0.822893   -1.423711   0.418590    0.158221  -0.463175\n",
              "second row  -0.152790    0.002065   1.858880   -0.636972  -0.738839\n",
              "third row   -0.193864   -1.179945   0.380241    1.376465   0.184676\n",
              "fourth row   1.131401    0.407221  -2.539193    0.328429  -0.027129\n",
              "fifth row   -0.790992    0.408077  -0.746851    0.895058  -0.923893"
            ]
          },
          "execution_count": 42,
          "metadata": {},
          "output_type": "execute_result"
        }
      ],
      "source": [
        "df3"
      ]
    },
    {
      "cell_type": "code",
      "execution_count": null,
      "metadata": {
        "scrolled": true,
        "id": "WgqZo1PPba8H",
        "outputId": "5f67c8bb-684b-427b-8a8b-7213d7b95382"
      },
      "outputs": [
        {
          "data": {
            "text/html": [
              "<div>\n",
              "<style scoped>\n",
              "    .dataframe tbody tr th:only-of-type {\n",
              "        vertical-align: middle;\n",
              "    }\n",
              "\n",
              "    .dataframe tbody tr th {\n",
              "        vertical-align: top;\n",
              "    }\n",
              "\n",
              "    .dataframe thead th {\n",
              "        text-align: right;\n",
              "    }\n",
              "</style>\n",
              "<table border=\"1\" class=\"dataframe\">\n",
              "  <thead>\n",
              "    <tr style=\"text-align: right;\">\n",
              "      <th></th>\n",
              "      <th>first col</th>\n",
              "      <th>second col</th>\n",
              "      <th>third col</th>\n",
              "      <th>fourth col</th>\n",
              "      <th>fifth col</th>\n",
              "    </tr>\n",
              "  </thead>\n",
              "  <tbody>\n",
              "    <tr>\n",
              "      <th>first row</th>\n",
              "      <td>True</td>\n",
              "      <td>False</td>\n",
              "      <td>True</td>\n",
              "      <td>True</td>\n",
              "      <td>False</td>\n",
              "    </tr>\n",
              "    <tr>\n",
              "      <th>second row</th>\n",
              "      <td>False</td>\n",
              "      <td>True</td>\n",
              "      <td>True</td>\n",
              "      <td>False</td>\n",
              "      <td>False</td>\n",
              "    </tr>\n",
              "    <tr>\n",
              "      <th>third row</th>\n",
              "      <td>False</td>\n",
              "      <td>False</td>\n",
              "      <td>True</td>\n",
              "      <td>True</td>\n",
              "      <td>True</td>\n",
              "    </tr>\n",
              "    <tr>\n",
              "      <th>fourth row</th>\n",
              "      <td>True</td>\n",
              "      <td>True</td>\n",
              "      <td>False</td>\n",
              "      <td>True</td>\n",
              "      <td>False</td>\n",
              "    </tr>\n",
              "    <tr>\n",
              "      <th>fifth row</th>\n",
              "      <td>False</td>\n",
              "      <td>True</td>\n",
              "      <td>False</td>\n",
              "      <td>True</td>\n",
              "      <td>False</td>\n",
              "    </tr>\n",
              "  </tbody>\n",
              "</table>\n",
              "</div>"
            ],
            "text/plain": [
              "            first col  second col  third col  fourth col  fifth col\n",
              "first row        True       False       True        True      False\n",
              "second row      False        True       True       False      False\n",
              "third row       False       False       True        True       True\n",
              "fourth row       True        True      False        True      False\n",
              "fifth row       False        True      False        True      False"
            ]
          },
          "execution_count": 43,
          "metadata": {},
          "output_type": "execute_result"
        }
      ],
      "source": [
        "# we can use logical indexing for dataframes just like for numpy arrays\n",
        "df3>0"
      ]
    },
    {
      "cell_type": "code",
      "execution_count": null,
      "metadata": {
        "id": "GasRU9j2ba8I",
        "outputId": "1cf8fa18-e99a-4341-9e3e-44981b394544"
      },
      "outputs": [
        {
          "data": {
            "text/html": [
              "<div>\n",
              "<style scoped>\n",
              "    .dataframe tbody tr th:only-of-type {\n",
              "        vertical-align: middle;\n",
              "    }\n",
              "\n",
              "    .dataframe tbody tr th {\n",
              "        vertical-align: top;\n",
              "    }\n",
              "\n",
              "    .dataframe thead th {\n",
              "        text-align: right;\n",
              "    }\n",
              "</style>\n",
              "<table border=\"1\" class=\"dataframe\">\n",
              "  <thead>\n",
              "    <tr style=\"text-align: right;\">\n",
              "      <th></th>\n",
              "      <th>first col</th>\n",
              "      <th>second col</th>\n",
              "      <th>third col</th>\n",
              "      <th>fourth col</th>\n",
              "      <th>fifth col</th>\n",
              "    </tr>\n",
              "  </thead>\n",
              "  <tbody>\n",
              "    <tr>\n",
              "      <th>first row</th>\n",
              "      <td>0.822893</td>\n",
              "      <td>NaN</td>\n",
              "      <td>0.418590</td>\n",
              "      <td>0.158221</td>\n",
              "      <td>NaN</td>\n",
              "    </tr>\n",
              "    <tr>\n",
              "      <th>second row</th>\n",
              "      <td>NaN</td>\n",
              "      <td>0.002065</td>\n",
              "      <td>1.858880</td>\n",
              "      <td>NaN</td>\n",
              "      <td>NaN</td>\n",
              "    </tr>\n",
              "    <tr>\n",
              "      <th>third row</th>\n",
              "      <td>NaN</td>\n",
              "      <td>NaN</td>\n",
              "      <td>0.380241</td>\n",
              "      <td>1.376465</td>\n",
              "      <td>0.184676</td>\n",
              "    </tr>\n",
              "    <tr>\n",
              "      <th>fourth row</th>\n",
              "      <td>1.131401</td>\n",
              "      <td>0.407221</td>\n",
              "      <td>NaN</td>\n",
              "      <td>0.328429</td>\n",
              "      <td>NaN</td>\n",
              "    </tr>\n",
              "    <tr>\n",
              "      <th>fifth row</th>\n",
              "      <td>NaN</td>\n",
              "      <td>0.408077</td>\n",
              "      <td>NaN</td>\n",
              "      <td>0.895058</td>\n",
              "      <td>NaN</td>\n",
              "    </tr>\n",
              "  </tbody>\n",
              "</table>\n",
              "</div>"
            ],
            "text/plain": [
              "            first col  second col  third col  fourth col  fifth col\n",
              "first row    0.822893         NaN   0.418590    0.158221        NaN\n",
              "second row        NaN    0.002065   1.858880         NaN        NaN\n",
              "third row         NaN         NaN   0.380241    1.376465   0.184676\n",
              "fourth row   1.131401    0.407221        NaN    0.328429        NaN\n",
              "fifth row         NaN    0.408077        NaN    0.895058        NaN"
            ]
          },
          "execution_count": 44,
          "metadata": {},
          "output_type": "execute_result"
        }
      ],
      "source": [
        "df3[(df3>0)]"
      ]
    },
    {
      "cell_type": "code",
      "execution_count": null,
      "metadata": {
        "id": "CyJ80skHba8I",
        "outputId": "f164b1f0-c104-4b32-9487-64f7794803e2"
      },
      "outputs": [
        {
          "data": {
            "text/html": [
              "<div>\n",
              "<style scoped>\n",
              "    .dataframe tbody tr th:only-of-type {\n",
              "        vertical-align: middle;\n",
              "    }\n",
              "\n",
              "    .dataframe tbody tr th {\n",
              "        vertical-align: top;\n",
              "    }\n",
              "\n",
              "    .dataframe thead th {\n",
              "        text-align: right;\n",
              "    }\n",
              "</style>\n",
              "<table border=\"1\" class=\"dataframe\">\n",
              "  <thead>\n",
              "    <tr style=\"text-align: right;\">\n",
              "      <th></th>\n",
              "      <th>first col</th>\n",
              "      <th>second col</th>\n",
              "      <th>third col</th>\n",
              "      <th>fourth col</th>\n",
              "      <th>fifth col</th>\n",
              "      <th>abc</th>\n",
              "    </tr>\n",
              "  </thead>\n",
              "  <tbody>\n",
              "    <tr>\n",
              "      <th>first row</th>\n",
              "      <td>0.822893</td>\n",
              "      <td>-1.423711</td>\n",
              "      <td>0.418590</td>\n",
              "      <td>0.158221</td>\n",
              "      <td>-0.463175</td>\n",
              "      <td>Yet</td>\n",
              "    </tr>\n",
              "    <tr>\n",
              "      <th>second row</th>\n",
              "      <td>-0.152790</td>\n",
              "      <td>0.002065</td>\n",
              "      <td>1.858880</td>\n",
              "      <td>-0.636972</td>\n",
              "      <td>-0.738839</td>\n",
              "      <td>another</td>\n",
              "    </tr>\n",
              "    <tr>\n",
              "      <th>third row</th>\n",
              "      <td>-0.193864</td>\n",
              "      <td>-1.179945</td>\n",
              "      <td>0.380241</td>\n",
              "      <td>1.376465</td>\n",
              "      <td>0.184676</td>\n",
              "      <td>new</td>\n",
              "    </tr>\n",
              "    <tr>\n",
              "      <th>fourth row</th>\n",
              "      <td>1.131401</td>\n",
              "      <td>0.407221</td>\n",
              "      <td>-2.539193</td>\n",
              "      <td>0.328429</td>\n",
              "      <td>-0.027129</td>\n",
              "      <td>col</td>\n",
              "    </tr>\n",
              "    <tr>\n",
              "      <th>fifth row</th>\n",
              "      <td>-0.790992</td>\n",
              "      <td>0.408077</td>\n",
              "      <td>-0.746851</td>\n",
              "      <td>0.895058</td>\n",
              "      <td>-0.923893</td>\n",
              "      <td>NaN</td>\n",
              "    </tr>\n",
              "  </tbody>\n",
              "</table>\n",
              "</div>"
            ],
            "text/plain": [
              "            first col  second col  third col  fourth col  fifth col      abc\n",
              "first row    0.822893   -1.423711   0.418590    0.158221  -0.463175      Yet\n",
              "second row  -0.152790    0.002065   1.858880   -0.636972  -0.738839  another\n",
              "third row   -0.193864   -1.179945   0.380241    1.376465   0.184676      new\n",
              "fourth row   1.131401    0.407221  -2.539193    0.328429  -0.027129      col\n",
              "fifth row   -0.790992    0.408077  -0.746851    0.895058  -0.923893      NaN"
            ]
          },
          "execution_count": 45,
          "metadata": {},
          "output_type": "execute_result"
        }
      ],
      "source": [
        "# df3['sixth col']=['This','is','a','new','col']\n",
        "df3['abc']=['Yet','another','new','col',np.NaN]\n",
        "df3"
      ]
    },
    {
      "cell_type": "code",
      "execution_count": null,
      "metadata": {
        "id": "c3GZl1Pnba8I",
        "outputId": "53695fb8-072e-4b7e-950c-7cebc14984f6"
      },
      "outputs": [
        {
          "data": {
            "text/html": [
              "<div>\n",
              "<style scoped>\n",
              "    .dataframe tbody tr th:only-of-type {\n",
              "        vertical-align: middle;\n",
              "    }\n",
              "\n",
              "    .dataframe tbody tr th {\n",
              "        vertical-align: top;\n",
              "    }\n",
              "\n",
              "    .dataframe thead th {\n",
              "        text-align: right;\n",
              "    }\n",
              "</style>\n",
              "<table border=\"1\" class=\"dataframe\">\n",
              "  <thead>\n",
              "    <tr style=\"text-align: right;\">\n",
              "      <th></th>\n",
              "      <th>first col</th>\n",
              "      <th>second col</th>\n",
              "      <th>third col</th>\n",
              "      <th>fourth col</th>\n",
              "      <th>fifth col</th>\n",
              "      <th>abc</th>\n",
              "      <th>sixth col</th>\n",
              "    </tr>\n",
              "  </thead>\n",
              "  <tbody>\n",
              "    <tr>\n",
              "      <th>first row</th>\n",
              "      <td>0.822893</td>\n",
              "      <td>-1.423711</td>\n",
              "      <td>0.418590</td>\n",
              "      <td>0.158221</td>\n",
              "      <td>-0.463175</td>\n",
              "      <td>Yet</td>\n",
              "      <td>-1.440577</td>\n",
              "    </tr>\n",
              "    <tr>\n",
              "      <th>second row</th>\n",
              "      <td>-0.152790</td>\n",
              "      <td>0.002065</td>\n",
              "      <td>1.858880</td>\n",
              "      <td>-0.636972</td>\n",
              "      <td>-0.738839</td>\n",
              "      <td>another</td>\n",
              "      <td>0.281420</td>\n",
              "    </tr>\n",
              "    <tr>\n",
              "      <th>third row</th>\n",
              "      <td>-0.193864</td>\n",
              "      <td>-1.179945</td>\n",
              "      <td>0.380241</td>\n",
              "      <td>1.376465</td>\n",
              "      <td>0.184676</td>\n",
              "      <td>new</td>\n",
              "      <td>-0.024457</td>\n",
              "    </tr>\n",
              "    <tr>\n",
              "      <th>fourth row</th>\n",
              "      <td>1.131401</td>\n",
              "      <td>0.407221</td>\n",
              "      <td>-2.539193</td>\n",
              "      <td>0.328429</td>\n",
              "      <td>-0.027129</td>\n",
              "      <td>col</td>\n",
              "      <td>0.873589</td>\n",
              "    </tr>\n",
              "    <tr>\n",
              "      <th>fifth row</th>\n",
              "      <td>-0.790992</td>\n",
              "      <td>0.408077</td>\n",
              "      <td>-0.746851</td>\n",
              "      <td>0.895058</td>\n",
              "      <td>-0.923893</td>\n",
              "      <td>NaN</td>\n",
              "      <td>-0.268849</td>\n",
              "    </tr>\n",
              "  </tbody>\n",
              "</table>\n",
              "</div>"
            ],
            "text/plain": [
              "            first col  second col  third col  fourth col  fifth col      abc  \\\n",
              "first row    0.822893   -1.423711   0.418590    0.158221  -0.463175      Yet   \n",
              "second row  -0.152790    0.002065   1.858880   -0.636972  -0.738839  another   \n",
              "third row   -0.193864   -1.179945   0.380241    1.376465   0.184676      new   \n",
              "fourth row   1.131401    0.407221  -2.539193    0.328429  -0.027129      col   \n",
              "fifth row   -0.790992    0.408077  -0.746851    0.895058  -0.923893      NaN   \n",
              "\n",
              "            sixth col  \n",
              "first row   -1.440577  \n",
              "second row   0.281420  \n",
              "third row   -0.024457  \n",
              "fourth row   0.873589  \n",
              "fifth row   -0.268849  "
            ]
          },
          "execution_count": 46,
          "metadata": {},
          "output_type": "execute_result"
        }
      ],
      "source": [
        "# we can add columns to a dataframe\n",
        "df3['sixth col'] = np.random.randn(5,1)\n",
        "df3"
      ]
    },
    {
      "cell_type": "code",
      "execution_count": null,
      "metadata": {
        "id": "nP8OOJ_Jba8J"
      },
      "outputs": [],
      "source": [
        "# we can remove columns or rows from a dataframe\n",
        "# Method 1\n",
        "df3=df3.drop('third col',axis=1)"
      ]
    },
    {
      "cell_type": "code",
      "execution_count": null,
      "metadata": {
        "id": "naWzhbsSba8J"
      },
      "outputs": [],
      "source": [
        "# Method 2\n",
        "df3.drop('abc',axis=1,inplace=True)"
      ]
    },
    {
      "cell_type": "code",
      "execution_count": null,
      "metadata": {
        "id": "SK-VafgXba8J",
        "outputId": "e1515716-37e5-45f3-cf5c-e1ac2cce4f45"
      },
      "outputs": [
        {
          "data": {
            "text/html": [
              "<div>\n",
              "<style scoped>\n",
              "    .dataframe tbody tr th:only-of-type {\n",
              "        vertical-align: middle;\n",
              "    }\n",
              "\n",
              "    .dataframe tbody tr th {\n",
              "        vertical-align: top;\n",
              "    }\n",
              "\n",
              "    .dataframe thead th {\n",
              "        text-align: right;\n",
              "    }\n",
              "</style>\n",
              "<table border=\"1\" class=\"dataframe\">\n",
              "  <thead>\n",
              "    <tr style=\"text-align: right;\">\n",
              "      <th></th>\n",
              "      <th>first col</th>\n",
              "      <th>second col</th>\n",
              "      <th>fourth col</th>\n",
              "      <th>fifth col</th>\n",
              "      <th>sixth col</th>\n",
              "    </tr>\n",
              "  </thead>\n",
              "  <tbody>\n",
              "    <tr>\n",
              "      <th>first row</th>\n",
              "      <td>0.822893</td>\n",
              "      <td>-1.423711</td>\n",
              "      <td>0.158221</td>\n",
              "      <td>-0.463175</td>\n",
              "      <td>-1.440577</td>\n",
              "    </tr>\n",
              "    <tr>\n",
              "      <th>second row</th>\n",
              "      <td>-0.152790</td>\n",
              "      <td>0.002065</td>\n",
              "      <td>-0.636972</td>\n",
              "      <td>-0.738839</td>\n",
              "      <td>0.281420</td>\n",
              "    </tr>\n",
              "    <tr>\n",
              "      <th>third row</th>\n",
              "      <td>-0.193864</td>\n",
              "      <td>-1.179945</td>\n",
              "      <td>1.376465</td>\n",
              "      <td>0.184676</td>\n",
              "      <td>-0.024457</td>\n",
              "    </tr>\n",
              "    <tr>\n",
              "      <th>fourth row</th>\n",
              "      <td>1.131401</td>\n",
              "      <td>0.407221</td>\n",
              "      <td>0.328429</td>\n",
              "      <td>-0.027129</td>\n",
              "      <td>0.873589</td>\n",
              "    </tr>\n",
              "    <tr>\n",
              "      <th>fifth row</th>\n",
              "      <td>-0.790992</td>\n",
              "      <td>0.408077</td>\n",
              "      <td>0.895058</td>\n",
              "      <td>-0.923893</td>\n",
              "      <td>-0.268849</td>\n",
              "    </tr>\n",
              "  </tbody>\n",
              "</table>\n",
              "</div>"
            ],
            "text/plain": [
              "            first col  second col  fourth col  fifth col  sixth col\n",
              "first row    0.822893   -1.423711    0.158221  -0.463175  -1.440577\n",
              "second row  -0.152790    0.002065   -0.636972  -0.738839   0.281420\n",
              "third row   -0.193864   -1.179945    1.376465   0.184676  -0.024457\n",
              "fourth row   1.131401    0.407221    0.328429  -0.027129   0.873589\n",
              "fifth row   -0.790992    0.408077    0.895058  -0.923893  -0.268849"
            ]
          },
          "execution_count": 49,
          "metadata": {},
          "output_type": "execute_result"
        }
      ],
      "source": [
        "df3"
      ]
    },
    {
      "cell_type": "code",
      "execution_count": null,
      "metadata": {
        "id": "iNuPgUfuba8J",
        "outputId": "19023288-7062-4fe5-86aa-79593ce0ec52"
      },
      "outputs": [
        {
          "data": {
            "text/html": [
              "<div>\n",
              "<style scoped>\n",
              "    .dataframe tbody tr th:only-of-type {\n",
              "        vertical-align: middle;\n",
              "    }\n",
              "\n",
              "    .dataframe tbody tr th {\n",
              "        vertical-align: top;\n",
              "    }\n",
              "\n",
              "    .dataframe thead th {\n",
              "        text-align: right;\n",
              "    }\n",
              "</style>\n",
              "<table border=\"1\" class=\"dataframe\">\n",
              "  <thead>\n",
              "    <tr style=\"text-align: right;\">\n",
              "      <th></th>\n",
              "      <th>first col</th>\n",
              "      <th>fourth col</th>\n",
              "      <th>fifth col</th>\n",
              "      <th>sixth col</th>\n",
              "    </tr>\n",
              "  </thead>\n",
              "  <tbody>\n",
              "    <tr>\n",
              "      <th>first row</th>\n",
              "      <td>0.822893</td>\n",
              "      <td>0.158221</td>\n",
              "      <td>-0.463175</td>\n",
              "      <td>-1.440577</td>\n",
              "    </tr>\n",
              "    <tr>\n",
              "      <th>second row</th>\n",
              "      <td>-0.152790</td>\n",
              "      <td>-0.636972</td>\n",
              "      <td>-0.738839</td>\n",
              "      <td>0.281420</td>\n",
              "    </tr>\n",
              "    <tr>\n",
              "      <th>third row</th>\n",
              "      <td>-0.193864</td>\n",
              "      <td>1.376465</td>\n",
              "      <td>0.184676</td>\n",
              "      <td>-0.024457</td>\n",
              "    </tr>\n",
              "    <tr>\n",
              "      <th>fourth row</th>\n",
              "      <td>1.131401</td>\n",
              "      <td>0.328429</td>\n",
              "      <td>-0.027129</td>\n",
              "      <td>0.873589</td>\n",
              "    </tr>\n",
              "    <tr>\n",
              "      <th>fifth row</th>\n",
              "      <td>-0.790992</td>\n",
              "      <td>0.895058</td>\n",
              "      <td>-0.923893</td>\n",
              "      <td>-0.268849</td>\n",
              "    </tr>\n",
              "  </tbody>\n",
              "</table>\n",
              "</div>"
            ],
            "text/plain": [
              "            first col  fourth col  fifth col  sixth col\n",
              "first row    0.822893    0.158221  -0.463175  -1.440577\n",
              "second row  -0.152790   -0.636972  -0.738839   0.281420\n",
              "third row   -0.193864    1.376465   0.184676  -0.024457\n",
              "fourth row   1.131401    0.328429  -0.027129   0.873589\n",
              "fifth row   -0.790992    0.895058  -0.923893  -0.268849"
            ]
          },
          "execution_count": 50,
          "metadata": {},
          "output_type": "execute_result"
        }
      ],
      "source": [
        "df3.drop('second col',axis=1)"
      ]
    },
    {
      "cell_type": "code",
      "execution_count": null,
      "metadata": {
        "id": "w3vrngijba8K",
        "outputId": "2137dd02-c248-4208-f4ad-ae2ed6c05809"
      },
      "outputs": [
        {
          "data": {
            "text/html": [
              "<div>\n",
              "<style scoped>\n",
              "    .dataframe tbody tr th:only-of-type {\n",
              "        vertical-align: middle;\n",
              "    }\n",
              "\n",
              "    .dataframe tbody tr th {\n",
              "        vertical-align: top;\n",
              "    }\n",
              "\n",
              "    .dataframe thead th {\n",
              "        text-align: right;\n",
              "    }\n",
              "</style>\n",
              "<table border=\"1\" class=\"dataframe\">\n",
              "  <thead>\n",
              "    <tr style=\"text-align: right;\">\n",
              "      <th></th>\n",
              "      <th>first col</th>\n",
              "      <th>second col</th>\n",
              "      <th>fourth col</th>\n",
              "      <th>fifth col</th>\n",
              "      <th>sixth col</th>\n",
              "    </tr>\n",
              "  </thead>\n",
              "  <tbody>\n",
              "    <tr>\n",
              "      <th>first row</th>\n",
              "      <td>0.822893</td>\n",
              "      <td>-1.423711</td>\n",
              "      <td>0.158221</td>\n",
              "      <td>-0.463175</td>\n",
              "      <td>-1.440577</td>\n",
              "    </tr>\n",
              "    <tr>\n",
              "      <th>second row</th>\n",
              "      <td>-0.152790</td>\n",
              "      <td>0.002065</td>\n",
              "      <td>-0.636972</td>\n",
              "      <td>-0.738839</td>\n",
              "      <td>0.281420</td>\n",
              "    </tr>\n",
              "    <tr>\n",
              "      <th>third row</th>\n",
              "      <td>-0.193864</td>\n",
              "      <td>-1.179945</td>\n",
              "      <td>1.376465</td>\n",
              "      <td>0.184676</td>\n",
              "      <td>-0.024457</td>\n",
              "    </tr>\n",
              "    <tr>\n",
              "      <th>fourth row</th>\n",
              "      <td>1.131401</td>\n",
              "      <td>0.407221</td>\n",
              "      <td>0.328429</td>\n",
              "      <td>-0.027129</td>\n",
              "      <td>0.873589</td>\n",
              "    </tr>\n",
              "    <tr>\n",
              "      <th>fifth row</th>\n",
              "      <td>-0.790992</td>\n",
              "      <td>0.408077</td>\n",
              "      <td>0.895058</td>\n",
              "      <td>-0.923893</td>\n",
              "      <td>-0.268849</td>\n",
              "    </tr>\n",
              "  </tbody>\n",
              "</table>\n",
              "</div>"
            ],
            "text/plain": [
              "            first col  second col  fourth col  fifth col  sixth col\n",
              "first row    0.822893   -1.423711    0.158221  -0.463175  -1.440577\n",
              "second row  -0.152790    0.002065   -0.636972  -0.738839   0.281420\n",
              "third row   -0.193864   -1.179945    1.376465   0.184676  -0.024457\n",
              "fourth row   1.131401    0.407221    0.328429  -0.027129   0.873589\n",
              "fifth row   -0.790992    0.408077    0.895058  -0.923893  -0.268849"
            ]
          },
          "execution_count": 51,
          "metadata": {},
          "output_type": "execute_result"
        }
      ],
      "source": [
        "df3"
      ]
    },
    {
      "cell_type": "code",
      "execution_count": null,
      "metadata": {
        "jupyter": {
          "outputs_hidden": true
        },
        "id": "w4N7nYabba8K",
        "outputId": "286dd0eb-2d88-4ee2-9d3c-1d3c3da935e2"
      },
      "outputs": [
        {
          "data": {
            "text/html": [
              "<div>\n",
              "<style scoped>\n",
              "    .dataframe tbody tr th:only-of-type {\n",
              "        vertical-align: middle;\n",
              "    }\n",
              "\n",
              "    .dataframe tbody tr th {\n",
              "        vertical-align: top;\n",
              "    }\n",
              "\n",
              "    .dataframe thead th {\n",
              "        text-align: right;\n",
              "    }\n",
              "</style>\n",
              "<table border=\"1\" class=\"dataframe\">\n",
              "  <thead>\n",
              "    <tr style=\"text-align: right;\">\n",
              "      <th></th>\n",
              "      <th>first col</th>\n",
              "      <th>fourth col</th>\n",
              "      <th>fifth col</th>\n",
              "      <th>sixth col</th>\n",
              "    </tr>\n",
              "  </thead>\n",
              "  <tbody>\n",
              "    <tr>\n",
              "      <th>first row</th>\n",
              "      <td>0.822893</td>\n",
              "      <td>0.158221</td>\n",
              "      <td>-0.463175</td>\n",
              "      <td>-1.440577</td>\n",
              "    </tr>\n",
              "    <tr>\n",
              "      <th>second row</th>\n",
              "      <td>-0.152790</td>\n",
              "      <td>-0.636972</td>\n",
              "      <td>-0.738839</td>\n",
              "      <td>0.281420</td>\n",
              "    </tr>\n",
              "    <tr>\n",
              "      <th>third row</th>\n",
              "      <td>-0.193864</td>\n",
              "      <td>1.376465</td>\n",
              "      <td>0.184676</td>\n",
              "      <td>-0.024457</td>\n",
              "    </tr>\n",
              "    <tr>\n",
              "      <th>fourth row</th>\n",
              "      <td>1.131401</td>\n",
              "      <td>0.328429</td>\n",
              "      <td>-0.027129</td>\n",
              "      <td>0.873589</td>\n",
              "    </tr>\n",
              "    <tr>\n",
              "      <th>fifth row</th>\n",
              "      <td>-0.790992</td>\n",
              "      <td>0.895058</td>\n",
              "      <td>-0.923893</td>\n",
              "      <td>-0.268849</td>\n",
              "    </tr>\n",
              "  </tbody>\n",
              "</table>\n",
              "</div>"
            ],
            "text/plain": [
              "            first col  fourth col  fifth col  sixth col\n",
              "first row    0.822893    0.158221  -0.463175  -1.440577\n",
              "second row  -0.152790   -0.636972  -0.738839   0.281420\n",
              "third row   -0.193864    1.376465   0.184676  -0.024457\n",
              "fourth row   1.131401    0.328429  -0.027129   0.873589\n",
              "fifth row   -0.790992    0.895058  -0.923893  -0.268849"
            ]
          },
          "execution_count": 52,
          "metadata": {},
          "output_type": "execute_result"
        }
      ],
      "source": [
        "df4 = df3.drop(['second col'],axis=1)\n",
        "df4"
      ]
    },
    {
      "cell_type": "code",
      "execution_count": null,
      "metadata": {
        "scrolled": true,
        "id": "wRIuuNRuba8L",
        "outputId": "10496b3e-b41b-4da5-9602-b819911f0836"
      },
      "outputs": [
        {
          "data": {
            "text/html": [
              "<div>\n",
              "<style scoped>\n",
              "    .dataframe tbody tr th:only-of-type {\n",
              "        vertical-align: middle;\n",
              "    }\n",
              "\n",
              "    .dataframe tbody tr th {\n",
              "        vertical-align: top;\n",
              "    }\n",
              "\n",
              "    .dataframe thead th {\n",
              "        text-align: right;\n",
              "    }\n",
              "</style>\n",
              "<table border=\"1\" class=\"dataframe\">\n",
              "  <thead>\n",
              "    <tr style=\"text-align: right;\">\n",
              "      <th></th>\n",
              "      <th>first col</th>\n",
              "      <th>second col</th>\n",
              "      <th>fourth col</th>\n",
              "      <th>fifth col</th>\n",
              "      <th>sixth col</th>\n",
              "    </tr>\n",
              "  </thead>\n",
              "  <tbody>\n",
              "    <tr>\n",
              "      <th>first row</th>\n",
              "      <td>0.822893</td>\n",
              "      <td>-1.423711</td>\n",
              "      <td>0.158221</td>\n",
              "      <td>-0.463175</td>\n",
              "      <td>-1.440577</td>\n",
              "    </tr>\n",
              "    <tr>\n",
              "      <th>third row</th>\n",
              "      <td>-0.193864</td>\n",
              "      <td>-1.179945</td>\n",
              "      <td>1.376465</td>\n",
              "      <td>0.184676</td>\n",
              "      <td>-0.024457</td>\n",
              "    </tr>\n",
              "    <tr>\n",
              "      <th>fourth row</th>\n",
              "      <td>1.131401</td>\n",
              "      <td>0.407221</td>\n",
              "      <td>0.328429</td>\n",
              "      <td>-0.027129</td>\n",
              "      <td>0.873589</td>\n",
              "    </tr>\n",
              "    <tr>\n",
              "      <th>fifth row</th>\n",
              "      <td>-0.790992</td>\n",
              "      <td>0.408077</td>\n",
              "      <td>0.895058</td>\n",
              "      <td>-0.923893</td>\n",
              "      <td>-0.268849</td>\n",
              "    </tr>\n",
              "  </tbody>\n",
              "</table>\n",
              "</div>"
            ],
            "text/plain": [
              "            first col  second col  fourth col  fifth col  sixth col\n",
              "first row    0.822893   -1.423711    0.158221  -0.463175  -1.440577\n",
              "third row   -0.193864   -1.179945    1.376465   0.184676  -0.024457\n",
              "fourth row   1.131401    0.407221    0.328429  -0.027129   0.873589\n",
              "fifth row   -0.790992    0.408077    0.895058  -0.923893  -0.268849"
            ]
          },
          "execution_count": 53,
          "metadata": {},
          "output_type": "execute_result"
        }
      ],
      "source": [
        "df5 = df3.drop('second row',axis=0)\n",
        "df5"
      ]
    },
    {
      "cell_type": "code",
      "execution_count": null,
      "metadata": {
        "scrolled": true,
        "id": "Ep1ZzlGzba8M",
        "outputId": "1d1014b1-460c-4d6f-8ebf-a90469e3d4e5"
      },
      "outputs": [
        {
          "data": {
            "text/html": [
              "<div>\n",
              "<style scoped>\n",
              "    .dataframe tbody tr th:only-of-type {\n",
              "        vertical-align: middle;\n",
              "    }\n",
              "\n",
              "    .dataframe tbody tr th {\n",
              "        vertical-align: top;\n",
              "    }\n",
              "\n",
              "    .dataframe thead th {\n",
              "        text-align: right;\n",
              "    }\n",
              "</style>\n",
              "<table border=\"1\" class=\"dataframe\">\n",
              "  <thead>\n",
              "    <tr style=\"text-align: right;\">\n",
              "      <th></th>\n",
              "      <th>first col</th>\n",
              "      <th>second col</th>\n",
              "      <th>fourth col</th>\n",
              "      <th>fifth col</th>\n",
              "      <th>sixth col</th>\n",
              "    </tr>\n",
              "  </thead>\n",
              "  <tbody>\n",
              "    <tr>\n",
              "      <th>first row</th>\n",
              "      <td>0.822893</td>\n",
              "      <td>-1.423711</td>\n",
              "      <td>0.158221</td>\n",
              "      <td>-0.463175</td>\n",
              "      <td>-1.440577</td>\n",
              "    </tr>\n",
              "    <tr>\n",
              "      <th>third row</th>\n",
              "      <td>-0.193864</td>\n",
              "      <td>-1.179945</td>\n",
              "      <td>1.376465</td>\n",
              "      <td>0.184676</td>\n",
              "      <td>-0.024457</td>\n",
              "    </tr>\n",
              "    <tr>\n",
              "      <th>fourth row</th>\n",
              "      <td>1.131401</td>\n",
              "      <td>0.407221</td>\n",
              "      <td>0.328429</td>\n",
              "      <td>-0.027129</td>\n",
              "      <td>0.873589</td>\n",
              "    </tr>\n",
              "    <tr>\n",
              "      <th>fifth row</th>\n",
              "      <td>-0.790992</td>\n",
              "      <td>0.408077</td>\n",
              "      <td>0.895058</td>\n",
              "      <td>-0.923893</td>\n",
              "      <td>-0.268849</td>\n",
              "    </tr>\n",
              "  </tbody>\n",
              "</table>\n",
              "</div>"
            ],
            "text/plain": [
              "            first col  second col  fourth col  fifth col  sixth col\n",
              "first row    0.822893   -1.423711    0.158221  -0.463175  -1.440577\n",
              "third row   -0.193864   -1.179945    1.376465   0.184676  -0.024457\n",
              "fourth row   1.131401    0.407221    0.328429  -0.027129   0.873589\n",
              "fifth row   -0.790992    0.408077    0.895058  -0.923893  -0.268849"
            ]
          },
          "execution_count": 54,
          "metadata": {},
          "output_type": "execute_result"
        }
      ],
      "source": [
        "df3=df3.drop('second row',axis=0)\n",
        "df3"
      ]
    },
    {
      "cell_type": "code",
      "execution_count": null,
      "metadata": {
        "scrolled": true,
        "id": "iToSV3VKba8M",
        "outputId": "193f6513-f0e5-451b-b695-d77b0f5d7fc2"
      },
      "outputs": [
        {
          "data": {
            "text/html": [
              "<div>\n",
              "<style scoped>\n",
              "    .dataframe tbody tr th:only-of-type {\n",
              "        vertical-align: middle;\n",
              "    }\n",
              "\n",
              "    .dataframe tbody tr th {\n",
              "        vertical-align: top;\n",
              "    }\n",
              "\n",
              "    .dataframe thead th {\n",
              "        text-align: right;\n",
              "    }\n",
              "</style>\n",
              "<table border=\"1\" class=\"dataframe\">\n",
              "  <thead>\n",
              "    <tr style=\"text-align: right;\">\n",
              "      <th></th>\n",
              "      <th>first col</th>\n",
              "      <th>second col</th>\n",
              "      <th>fourth col</th>\n",
              "      <th>fifth col</th>\n",
              "      <th>sixth col</th>\n",
              "    </tr>\n",
              "  </thead>\n",
              "  <tbody>\n",
              "    <tr>\n",
              "      <th>first row</th>\n",
              "      <td>0.822893</td>\n",
              "      <td>-1.423711</td>\n",
              "      <td>0.158221</td>\n",
              "      <td>-0.463175</td>\n",
              "      <td>-1.440577</td>\n",
              "    </tr>\n",
              "    <tr>\n",
              "      <th>third row</th>\n",
              "      <td>-0.193864</td>\n",
              "      <td>-1.179945</td>\n",
              "      <td>1.376465</td>\n",
              "      <td>0.184676</td>\n",
              "      <td>-0.024457</td>\n",
              "    </tr>\n",
              "    <tr>\n",
              "      <th>fourth row</th>\n",
              "      <td>1.131401</td>\n",
              "      <td>0.407221</td>\n",
              "      <td>0.328429</td>\n",
              "      <td>-0.027129</td>\n",
              "      <td>0.873589</td>\n",
              "    </tr>\n",
              "  </tbody>\n",
              "</table>\n",
              "</div>"
            ],
            "text/plain": [
              "            first col  second col  fourth col  fifth col  sixth col\n",
              "first row    0.822893   -1.423711    0.158221  -0.463175  -1.440577\n",
              "third row   -0.193864   -1.179945    1.376465   0.184676  -0.024457\n",
              "fourth row   1.131401    0.407221    0.328429  -0.027129   0.873589"
            ]
          },
          "execution_count": 55,
          "metadata": {},
          "output_type": "execute_result"
        }
      ],
      "source": [
        "df3.drop('fifth row',axis=0,inplace=True)\n",
        "df3"
      ]
    },
    {
      "cell_type": "code",
      "execution_count": null,
      "metadata": {
        "id": "AApcqaD4ba8N"
      },
      "outputs": [],
      "source": [
        "# Pandas - Series, DataFrame\n"
      ]
    },
    {
      "cell_type": "code",
      "execution_count": null,
      "metadata": {
        "id": "ThDhWAFyba8N"
      },
      "outputs": [],
      "source": [
        "s=pd.Series([1,2,3,4],index=['a','b','c','d'])"
      ]
    },
    {
      "cell_type": "code",
      "execution_count": null,
      "metadata": {
        "id": "LaT6nA4Nba8N",
        "outputId": "616bb4bc-f5d9-4570-ee8a-55d2ec80d076"
      },
      "outputs": [
        {
          "data": {
            "text/plain": [
              "b    2\n",
              "c    3\n",
              "dtype: int64"
            ]
          },
          "execution_count": 60,
          "metadata": {},
          "output_type": "execute_result"
        }
      ],
      "source": [
        "s[1:3]"
      ]
    },
    {
      "cell_type": "code",
      "execution_count": null,
      "metadata": {
        "id": "H5z2d3D1ba8N",
        "outputId": "00dd0c02-36cb-4abc-9104-3425492b2a26"
      },
      "outputs": [
        {
          "data": {
            "text/html": [
              "<div>\n",
              "<style scoped>\n",
              "    .dataframe tbody tr th:only-of-type {\n",
              "        vertical-align: middle;\n",
              "    }\n",
              "\n",
              "    .dataframe tbody tr th {\n",
              "        vertical-align: top;\n",
              "    }\n",
              "\n",
              "    .dataframe thead th {\n",
              "        text-align: right;\n",
              "    }\n",
              "</style>\n",
              "<table border=\"1\" class=\"dataframe\">\n",
              "  <thead>\n",
              "    <tr style=\"text-align: right;\">\n",
              "      <th></th>\n",
              "      <th>second col</th>\n",
              "      <th>fourth col</th>\n",
              "    </tr>\n",
              "  </thead>\n",
              "  <tbody>\n",
              "    <tr>\n",
              "      <th>third row</th>\n",
              "      <td>-1.179945</td>\n",
              "      <td>1.376465</td>\n",
              "    </tr>\n",
              "    <tr>\n",
              "      <th>fourth row</th>\n",
              "      <td>0.407221</td>\n",
              "      <td>0.328429</td>\n",
              "    </tr>\n",
              "  </tbody>\n",
              "</table>\n",
              "</div>"
            ],
            "text/plain": [
              "            second col  fourth col\n",
              "third row    -1.179945    1.376465\n",
              "fourth row    0.407221    0.328429"
            ]
          },
          "execution_count": 69,
          "metadata": {},
          "output_type": "execute_result"
        }
      ],
      "source": [
        "df5.iloc[1:3,1:3]"
      ]
    },
    {
      "cell_type": "code",
      "execution_count": null,
      "metadata": {
        "id": "d4M36Z8Oba8O",
        "outputId": "a7c2da8c-c8f4-44e7-90f4-1c57779708f0"
      },
      "outputs": [
        {
          "data": {
            "text/html": [
              "<div>\n",
              "<style scoped>\n",
              "    .dataframe tbody tr th:only-of-type {\n",
              "        vertical-align: middle;\n",
              "    }\n",
              "\n",
              "    .dataframe tbody tr th {\n",
              "        vertical-align: top;\n",
              "    }\n",
              "\n",
              "    .dataframe thead th {\n",
              "        text-align: right;\n",
              "    }\n",
              "</style>\n",
              "<table border=\"1\" class=\"dataframe\">\n",
              "  <thead>\n",
              "    <tr style=\"text-align: right;\">\n",
              "      <th></th>\n",
              "      <th>first col</th>\n",
              "      <th>second col</th>\n",
              "      <th>fourth col</th>\n",
              "      <th>fifth col</th>\n",
              "      <th>sixth col</th>\n",
              "    </tr>\n",
              "  </thead>\n",
              "  <tbody>\n",
              "    <tr>\n",
              "      <th>first row</th>\n",
              "      <td>0.822893</td>\n",
              "      <td>-1.423711</td>\n",
              "      <td>0.158221</td>\n",
              "      <td>-0.463175</td>\n",
              "      <td>-1.440577</td>\n",
              "    </tr>\n",
              "    <tr>\n",
              "      <th>third row</th>\n",
              "      <td>-0.193864</td>\n",
              "      <td>-1.179945</td>\n",
              "      <td>1.376465</td>\n",
              "      <td>0.184676</td>\n",
              "      <td>-0.024457</td>\n",
              "    </tr>\n",
              "    <tr>\n",
              "      <th>fourth row</th>\n",
              "      <td>1.131401</td>\n",
              "      <td>0.407221</td>\n",
              "      <td>0.328429</td>\n",
              "      <td>-0.027129</td>\n",
              "      <td>0.873589</td>\n",
              "    </tr>\n",
              "    <tr>\n",
              "      <th>fifth row</th>\n",
              "      <td>-0.790992</td>\n",
              "      <td>0.408077</td>\n",
              "      <td>0.895058</td>\n",
              "      <td>-0.923893</td>\n",
              "      <td>-0.268849</td>\n",
              "    </tr>\n",
              "  </tbody>\n",
              "</table>\n",
              "</div>"
            ],
            "text/plain": [
              "            first col  second col  fourth col  fifth col  sixth col\n",
              "first row    0.822893   -1.423711    0.158221  -0.463175  -1.440577\n",
              "third row   -0.193864   -1.179945    1.376465   0.184676  -0.024457\n",
              "fourth row   1.131401    0.407221    0.328429  -0.027129   0.873589\n",
              "fifth row   -0.790992    0.408077    0.895058  -0.923893  -0.268849"
            ]
          },
          "execution_count": 72,
          "metadata": {},
          "output_type": "execute_result"
        }
      ],
      "source": [
        "df5"
      ]
    },
    {
      "cell_type": "code",
      "execution_count": null,
      "metadata": {
        "scrolled": true,
        "id": "BSvVNQwsba8O",
        "outputId": "30cb9c66-f9ef-4078-e65f-2343c42e414b"
      },
      "outputs": [
        {
          "data": {
            "text/html": [
              "<div>\n",
              "<style scoped>\n",
              "    .dataframe tbody tr th:only-of-type {\n",
              "        vertical-align: middle;\n",
              "    }\n",
              "\n",
              "    .dataframe tbody tr th {\n",
              "        vertical-align: top;\n",
              "    }\n",
              "\n",
              "    .dataframe thead th {\n",
              "        text-align: right;\n",
              "    }\n",
              "</style>\n",
              "<table border=\"1\" class=\"dataframe\">\n",
              "  <thead>\n",
              "    <tr style=\"text-align: right;\">\n",
              "      <th></th>\n",
              "      <th>first col</th>\n",
              "      <th>fourth col</th>\n",
              "    </tr>\n",
              "  </thead>\n",
              "  <tbody>\n",
              "    <tr>\n",
              "      <th>fifth row</th>\n",
              "      <td>-0.790992</td>\n",
              "      <td>0.895058</td>\n",
              "    </tr>\n",
              "    <tr>\n",
              "      <th>fourth row</th>\n",
              "      <td>1.131401</td>\n",
              "      <td>0.328429</td>\n",
              "    </tr>\n",
              "  </tbody>\n",
              "</table>\n",
              "</div>"
            ],
            "text/plain": [
              "            first col  fourth col\n",
              "fifth row   -0.790992    0.895058\n",
              "fourth row   1.131401    0.328429"
            ]
          },
          "execution_count": 74,
          "metadata": {},
          "output_type": "execute_result"
        }
      ],
      "source": [
        "df5.loc[['fifth row','fourth row'],['first col','fourth col']]"
      ]
    },
    {
      "cell_type": "code",
      "execution_count": null,
      "metadata": {
        "id": "h21rmcvnba8O",
        "outputId": "8fc99ad3-a3b2-45d0-d0fc-03609c24dfa6"
      },
      "outputs": [
        {
          "data": {
            "text/html": [
              "<div>\n",
              "<style scoped>\n",
              "    .dataframe tbody tr th:only-of-type {\n",
              "        vertical-align: middle;\n",
              "    }\n",
              "\n",
              "    .dataframe tbody tr th {\n",
              "        vertical-align: top;\n",
              "    }\n",
              "\n",
              "    .dataframe thead th {\n",
              "        text-align: right;\n",
              "    }\n",
              "</style>\n",
              "<table border=\"1\" class=\"dataframe\">\n",
              "  <thead>\n",
              "    <tr style=\"text-align: right;\">\n",
              "      <th></th>\n",
              "      <th>first col</th>\n",
              "      <th>second col</th>\n",
              "      <th>fourth col</th>\n",
              "      <th>fifth col</th>\n",
              "      <th>sixth col</th>\n",
              "    </tr>\n",
              "  </thead>\n",
              "  <tbody>\n",
              "    <tr>\n",
              "      <th>first row</th>\n",
              "      <td>0.822893</td>\n",
              "      <td>NaN</td>\n",
              "      <td>0.158221</td>\n",
              "      <td>NaN</td>\n",
              "      <td>NaN</td>\n",
              "    </tr>\n",
              "    <tr>\n",
              "      <th>third row</th>\n",
              "      <td>NaN</td>\n",
              "      <td>NaN</td>\n",
              "      <td>1.376465</td>\n",
              "      <td>0.184676</td>\n",
              "      <td>NaN</td>\n",
              "    </tr>\n",
              "    <tr>\n",
              "      <th>fourth row</th>\n",
              "      <td>1.131401</td>\n",
              "      <td>0.407221</td>\n",
              "      <td>0.328429</td>\n",
              "      <td>NaN</td>\n",
              "      <td>0.873589</td>\n",
              "    </tr>\n",
              "    <tr>\n",
              "      <th>fifth row</th>\n",
              "      <td>NaN</td>\n",
              "      <td>0.408077</td>\n",
              "      <td>0.895058</td>\n",
              "      <td>NaN</td>\n",
              "      <td>NaN</td>\n",
              "    </tr>\n",
              "  </tbody>\n",
              "</table>\n",
              "</div>"
            ],
            "text/plain": [
              "            first col  second col  fourth col  fifth col  sixth col\n",
              "first row    0.822893         NaN    0.158221        NaN        NaN\n",
              "third row         NaN         NaN    1.376465   0.184676        NaN\n",
              "fourth row   1.131401    0.407221    0.328429        NaN   0.873589\n",
              "fifth row         NaN    0.408077    0.895058        NaN        NaN"
            ]
          },
          "execution_count": 77,
          "metadata": {},
          "output_type": "execute_result"
        }
      ],
      "source": [
        "df5[df5>0]"
      ]
    },
    {
      "cell_type": "code",
      "execution_count": null,
      "metadata": {
        "id": "wjXUUdkKba8P"
      },
      "outputs": [],
      "source": [
        "df=pd.DataFrame(np.random.randint(5,35,(5,6)))"
      ]
    },
    {
      "cell_type": "code",
      "execution_count": null,
      "metadata": {
        "id": "s19SoFvRba8P",
        "outputId": "5761ed18-c816-449b-8c17-35e0049f6108"
      },
      "outputs": [
        {
          "data": {
            "text/html": [
              "<div>\n",
              "<style scoped>\n",
              "    .dataframe tbody tr th:only-of-type {\n",
              "        vertical-align: middle;\n",
              "    }\n",
              "\n",
              "    .dataframe tbody tr th {\n",
              "        vertical-align: top;\n",
              "    }\n",
              "\n",
              "    .dataframe thead th {\n",
              "        text-align: right;\n",
              "    }\n",
              "</style>\n",
              "<table border=\"1\" class=\"dataframe\">\n",
              "  <thead>\n",
              "    <tr style=\"text-align: right;\">\n",
              "      <th></th>\n",
              "      <th>0</th>\n",
              "      <th>1</th>\n",
              "      <th>2</th>\n",
              "      <th>3</th>\n",
              "      <th>4</th>\n",
              "      <th>5</th>\n",
              "    </tr>\n",
              "  </thead>\n",
              "  <tbody>\n",
              "    <tr>\n",
              "      <th>0</th>\n",
              "      <td>24</td>\n",
              "      <td>7</td>\n",
              "      <td>17</td>\n",
              "      <td>8</td>\n",
              "      <td>33</td>\n",
              "      <td>29</td>\n",
              "    </tr>\n",
              "    <tr>\n",
              "      <th>1</th>\n",
              "      <td>17</td>\n",
              "      <td>31</td>\n",
              "      <td>15</td>\n",
              "      <td>28</td>\n",
              "      <td>27</td>\n",
              "      <td>31</td>\n",
              "    </tr>\n",
              "    <tr>\n",
              "      <th>2</th>\n",
              "      <td>24</td>\n",
              "      <td>14</td>\n",
              "      <td>11</td>\n",
              "      <td>8</td>\n",
              "      <td>29</td>\n",
              "      <td>24</td>\n",
              "    </tr>\n",
              "    <tr>\n",
              "      <th>3</th>\n",
              "      <td>26</td>\n",
              "      <td>30</td>\n",
              "      <td>20</td>\n",
              "      <td>13</td>\n",
              "      <td>32</td>\n",
              "      <td>19</td>\n",
              "    </tr>\n",
              "    <tr>\n",
              "      <th>4</th>\n",
              "      <td>27</td>\n",
              "      <td>31</td>\n",
              "      <td>29</td>\n",
              "      <td>8</td>\n",
              "      <td>5</td>\n",
              "      <td>7</td>\n",
              "    </tr>\n",
              "  </tbody>\n",
              "</table>\n",
              "</div>"
            ],
            "text/plain": [
              "    0   1   2   3   4   5\n",
              "0  24   7  17   8  33  29\n",
              "1  17  31  15  28  27  31\n",
              "2  24  14  11   8  29  24\n",
              "3  26  30  20  13  32  19\n",
              "4  27  31  29   8   5   7"
            ]
          },
          "execution_count": 83,
          "metadata": {},
          "output_type": "execute_result"
        }
      ],
      "source": [
        "df"
      ]
    },
    {
      "cell_type": "code",
      "execution_count": null,
      "metadata": {
        "id": "Tl4F4ET4ba8Q",
        "outputId": "2b1ef92c-1b10-4b9c-c508-b32dc0b4b963"
      },
      "outputs": [
        {
          "data": {
            "text/html": [
              "<div>\n",
              "<style scoped>\n",
              "    .dataframe tbody tr th:only-of-type {\n",
              "        vertical-align: middle;\n",
              "    }\n",
              "\n",
              "    .dataframe tbody tr th {\n",
              "        vertical-align: top;\n",
              "    }\n",
              "\n",
              "    .dataframe thead th {\n",
              "        text-align: right;\n",
              "    }\n",
              "</style>\n",
              "<table border=\"1\" class=\"dataframe\">\n",
              "  <thead>\n",
              "    <tr style=\"text-align: right;\">\n",
              "      <th></th>\n",
              "      <th>0</th>\n",
              "      <th>1</th>\n",
              "      <th>2</th>\n",
              "      <th>3</th>\n",
              "      <th>4</th>\n",
              "      <th>5</th>\n",
              "    </tr>\n",
              "  </thead>\n",
              "  <tbody>\n",
              "    <tr>\n",
              "      <th>0</th>\n",
              "      <td>NaN</td>\n",
              "      <td>NaN</td>\n",
              "      <td>NaN</td>\n",
              "      <td>NaN</td>\n",
              "      <td>NaN</td>\n",
              "      <td>NaN</td>\n",
              "    </tr>\n",
              "    <tr>\n",
              "      <th>1</th>\n",
              "      <td>NaN</td>\n",
              "      <td>NaN</td>\n",
              "      <td>NaN</td>\n",
              "      <td>28.0</td>\n",
              "      <td>NaN</td>\n",
              "      <td>NaN</td>\n",
              "    </tr>\n",
              "    <tr>\n",
              "      <th>2</th>\n",
              "      <td>NaN</td>\n",
              "      <td>NaN</td>\n",
              "      <td>NaN</td>\n",
              "      <td>NaN</td>\n",
              "      <td>NaN</td>\n",
              "      <td>NaN</td>\n",
              "    </tr>\n",
              "    <tr>\n",
              "      <th>3</th>\n",
              "      <td>26.0</td>\n",
              "      <td>30.0</td>\n",
              "      <td>NaN</td>\n",
              "      <td>NaN</td>\n",
              "      <td>32.0</td>\n",
              "      <td>NaN</td>\n",
              "    </tr>\n",
              "    <tr>\n",
              "      <th>4</th>\n",
              "      <td>NaN</td>\n",
              "      <td>NaN</td>\n",
              "      <td>NaN</td>\n",
              "      <td>NaN</td>\n",
              "      <td>NaN</td>\n",
              "      <td>NaN</td>\n",
              "    </tr>\n",
              "  </tbody>\n",
              "</table>\n",
              "</div>"
            ],
            "text/plain": [
              "      0     1   2     3     4   5\n",
              "0   NaN   NaN NaN   NaN   NaN NaN\n",
              "1   NaN   NaN NaN  28.0   NaN NaN\n",
              "2   NaN   NaN NaN   NaN   NaN NaN\n",
              "3  26.0  30.0 NaN   NaN  32.0 NaN\n",
              "4   NaN   NaN NaN   NaN   NaN NaN"
            ]
          },
          "execution_count": 82,
          "metadata": {},
          "output_type": "execute_result"
        }
      ],
      "source": [
        "# - Give me numbers greater than 25\n",
        "df[(df>25) & (df%2==0)]"
      ]
    },
    {
      "cell_type": "code",
      "execution_count": null,
      "metadata": {
        "id": "z-GsKXleba8Q",
        "outputId": "2eec3d65-d6a6-4ee2-b94e-6cb0cf67401f"
      },
      "outputs": [
        {
          "data": {
            "text/html": [
              "<div>\n",
              "<style scoped>\n",
              "    .dataframe tbody tr th:only-of-type {\n",
              "        vertical-align: middle;\n",
              "    }\n",
              "\n",
              "    .dataframe tbody tr th {\n",
              "        vertical-align: top;\n",
              "    }\n",
              "\n",
              "    .dataframe thead th {\n",
              "        text-align: right;\n",
              "    }\n",
              "</style>\n",
              "<table border=\"1\" class=\"dataframe\">\n",
              "  <thead>\n",
              "    <tr style=\"text-align: right;\">\n",
              "      <th></th>\n",
              "      <th>first col</th>\n",
              "      <th>second col</th>\n",
              "      <th>fourth col</th>\n",
              "      <th>fifth col</th>\n",
              "      <th>sixth col</th>\n",
              "    </tr>\n",
              "  </thead>\n",
              "  <tbody>\n",
              "    <tr>\n",
              "      <th>first row</th>\n",
              "      <td>0.822893</td>\n",
              "      <td>NaN</td>\n",
              "      <td>NaN</td>\n",
              "      <td>NaN</td>\n",
              "      <td>NaN</td>\n",
              "    </tr>\n",
              "    <tr>\n",
              "      <th>third row</th>\n",
              "      <td>NaN</td>\n",
              "      <td>NaN</td>\n",
              "      <td>1.376465</td>\n",
              "      <td>NaN</td>\n",
              "      <td>NaN</td>\n",
              "    </tr>\n",
              "    <tr>\n",
              "      <th>fourth row</th>\n",
              "      <td>1.131401</td>\n",
              "      <td>NaN</td>\n",
              "      <td>NaN</td>\n",
              "      <td>NaN</td>\n",
              "      <td>0.873589</td>\n",
              "    </tr>\n",
              "    <tr>\n",
              "      <th>fifth row</th>\n",
              "      <td>NaN</td>\n",
              "      <td>NaN</td>\n",
              "      <td>0.895058</td>\n",
              "      <td>NaN</td>\n",
              "      <td>NaN</td>\n",
              "    </tr>\n",
              "  </tbody>\n",
              "</table>\n",
              "</div>"
            ],
            "text/plain": [
              "            first col  second col  fourth col  fifth col  sixth col\n",
              "first row    0.822893         NaN         NaN        NaN        NaN\n",
              "third row         NaN         NaN    1.376465        NaN        NaN\n",
              "fourth row   1.131401         NaN         NaN        NaN   0.873589\n",
              "fifth row         NaN         NaN    0.895058        NaN        NaN"
            ]
          },
          "execution_count": 89,
          "metadata": {},
          "output_type": "execute_result"
        }
      ],
      "source": [
        "df5[(df5>0.5)]"
      ]
    },
    {
      "cell_type": "code",
      "execution_count": null,
      "metadata": {
        "id": "97_s40J-ba8Q"
      },
      "outputs": [],
      "source": [
        "df5.drop('first row',axis=0,inplace=True)"
      ]
    },
    {
      "cell_type": "code",
      "execution_count": null,
      "metadata": {
        "id": "4dWjWRi2ba8R",
        "outputId": "fac17ea0-4797-438e-8786-2a2aa14e8e4f"
      },
      "outputs": [
        {
          "data": {
            "text/html": [
              "<div>\n",
              "<style scoped>\n",
              "    .dataframe tbody tr th:only-of-type {\n",
              "        vertical-align: middle;\n",
              "    }\n",
              "\n",
              "    .dataframe tbody tr th {\n",
              "        vertical-align: top;\n",
              "    }\n",
              "\n",
              "    .dataframe thead th {\n",
              "        text-align: right;\n",
              "    }\n",
              "</style>\n",
              "<table border=\"1\" class=\"dataframe\">\n",
              "  <thead>\n",
              "    <tr style=\"text-align: right;\">\n",
              "      <th></th>\n",
              "      <th>first col</th>\n",
              "      <th>second col</th>\n",
              "      <th>fourth col</th>\n",
              "      <th>fifth col</th>\n",
              "      <th>sixth col</th>\n",
              "    </tr>\n",
              "  </thead>\n",
              "  <tbody>\n",
              "    <tr>\n",
              "      <th>third row</th>\n",
              "      <td>-0.193864</td>\n",
              "      <td>-1.179945</td>\n",
              "      <td>1.376465</td>\n",
              "      <td>0.184676</td>\n",
              "      <td>-0.024457</td>\n",
              "    </tr>\n",
              "    <tr>\n",
              "      <th>fourth row</th>\n",
              "      <td>1.131401</td>\n",
              "      <td>0.407221</td>\n",
              "      <td>0.328429</td>\n",
              "      <td>-0.027129</td>\n",
              "      <td>0.873589</td>\n",
              "    </tr>\n",
              "    <tr>\n",
              "      <th>fifth row</th>\n",
              "      <td>-0.790992</td>\n",
              "      <td>0.408077</td>\n",
              "      <td>0.895058</td>\n",
              "      <td>-0.923893</td>\n",
              "      <td>-0.268849</td>\n",
              "    </tr>\n",
              "  </tbody>\n",
              "</table>\n",
              "</div>"
            ],
            "text/plain": [
              "            first col  second col  fourth col  fifth col  sixth col\n",
              "third row   -0.193864   -1.179945    1.376465   0.184676  -0.024457\n",
              "fourth row   1.131401    0.407221    0.328429  -0.027129   0.873589\n",
              "fifth row   -0.790992    0.408077    0.895058  -0.923893  -0.268849"
            ]
          },
          "execution_count": 94,
          "metadata": {},
          "output_type": "execute_result"
        }
      ],
      "source": [
        "df5"
      ]
    },
    {
      "cell_type": "code",
      "execution_count": null,
      "metadata": {
        "id": "C8hlnXiZba8R"
      },
      "outputs": [],
      "source": []
    },
    {
      "cell_type": "code",
      "execution_count": null,
      "metadata": {
        "id": "ioyKSL0mba8R"
      },
      "outputs": [],
      "source": []
    },
    {
      "cell_type": "code",
      "execution_count": null,
      "metadata": {
        "id": "7fdenlmhba8R"
      },
      "outputs": [],
      "source": []
    },
    {
      "cell_type": "code",
      "execution_count": null,
      "metadata": {
        "id": "qmvUW-zTba8R"
      },
      "outputs": [],
      "source": [
        "# we can remove a dataframe's index labels\n",
        "df5.reset_index(inplace=True)"
      ]
    },
    {
      "cell_type": "code",
      "execution_count": null,
      "metadata": {
        "id": "W-3e5HWaba8S",
        "outputId": "74fea39d-ef21-4908-b75a-cc4712cfef2a"
      },
      "outputs": [
        {
          "data": {
            "text/html": [
              "<div>\n",
              "<style scoped>\n",
              "    .dataframe tbody tr th:only-of-type {\n",
              "        vertical-align: middle;\n",
              "    }\n",
              "\n",
              "    .dataframe tbody tr th {\n",
              "        vertical-align: top;\n",
              "    }\n",
              "\n",
              "    .dataframe thead th {\n",
              "        text-align: right;\n",
              "    }\n",
              "</style>\n",
              "<table border=\"1\" class=\"dataframe\">\n",
              "  <thead>\n",
              "    <tr style=\"text-align: right;\">\n",
              "      <th></th>\n",
              "      <th>index</th>\n",
              "      <th>first col</th>\n",
              "      <th>second col</th>\n",
              "      <th>fourth col</th>\n",
              "      <th>fifth col</th>\n",
              "      <th>sixth col</th>\n",
              "    </tr>\n",
              "  </thead>\n",
              "  <tbody>\n",
              "    <tr>\n",
              "      <th>0</th>\n",
              "      <td>third row</td>\n",
              "      <td>-0.193864</td>\n",
              "      <td>-1.179945</td>\n",
              "      <td>1.376465</td>\n",
              "      <td>0.184676</td>\n",
              "      <td>-0.024457</td>\n",
              "    </tr>\n",
              "    <tr>\n",
              "      <th>1</th>\n",
              "      <td>fourth row</td>\n",
              "      <td>1.131401</td>\n",
              "      <td>0.407221</td>\n",
              "      <td>0.328429</td>\n",
              "      <td>-0.027129</td>\n",
              "      <td>0.873589</td>\n",
              "    </tr>\n",
              "    <tr>\n",
              "      <th>2</th>\n",
              "      <td>fifth row</td>\n",
              "      <td>-0.790992</td>\n",
              "      <td>0.408077</td>\n",
              "      <td>0.895058</td>\n",
              "      <td>-0.923893</td>\n",
              "      <td>-0.268849</td>\n",
              "    </tr>\n",
              "  </tbody>\n",
              "</table>\n",
              "</div>"
            ],
            "text/plain": [
              "        index  first col  second col  fourth col  fifth col  sixth col\n",
              "0   third row  -0.193864   -1.179945    1.376465   0.184676  -0.024457\n",
              "1  fourth row   1.131401    0.407221    0.328429  -0.027129   0.873589\n",
              "2   fifth row  -0.790992    0.408077    0.895058  -0.923893  -0.268849"
            ]
          },
          "execution_count": 96,
          "metadata": {},
          "output_type": "execute_result"
        }
      ],
      "source": [
        "df5"
      ]
    },
    {
      "cell_type": "code",
      "execution_count": null,
      "metadata": {
        "scrolled": true,
        "id": "mIop2hdGba8S",
        "outputId": "d29f7452-21bb-4189-80e7-1e8b376c35da"
      },
      "outputs": [
        {
          "data": {
            "text/html": [
              "<div>\n",
              "<style scoped>\n",
              "    .dataframe tbody tr th:only-of-type {\n",
              "        vertical-align: middle;\n",
              "    }\n",
              "\n",
              "    .dataframe tbody tr th {\n",
              "        vertical-align: top;\n",
              "    }\n",
              "\n",
              "    .dataframe thead th {\n",
              "        text-align: right;\n",
              "    }\n",
              "</style>\n",
              "<table border=\"1\" class=\"dataframe\">\n",
              "  <thead>\n",
              "    <tr style=\"text-align: right;\">\n",
              "      <th></th>\n",
              "      <th>level_0</th>\n",
              "      <th>index</th>\n",
              "      <th>first col</th>\n",
              "      <th>second col</th>\n",
              "      <th>fourth col</th>\n",
              "      <th>fifth col</th>\n",
              "      <th>sixth col</th>\n",
              "    </tr>\n",
              "  </thead>\n",
              "  <tbody>\n",
              "    <tr>\n",
              "      <th>0</th>\n",
              "      <td>0</td>\n",
              "      <td>third row</td>\n",
              "      <td>-0.193864</td>\n",
              "      <td>-1.179945</td>\n",
              "      <td>1.376465</td>\n",
              "      <td>0.184676</td>\n",
              "      <td>-0.024457</td>\n",
              "    </tr>\n",
              "    <tr>\n",
              "      <th>1</th>\n",
              "      <td>1</td>\n",
              "      <td>fourth row</td>\n",
              "      <td>1.131401</td>\n",
              "      <td>0.407221</td>\n",
              "      <td>0.328429</td>\n",
              "      <td>-0.027129</td>\n",
              "      <td>0.873589</td>\n",
              "    </tr>\n",
              "    <tr>\n",
              "      <th>2</th>\n",
              "      <td>2</td>\n",
              "      <td>fifth row</td>\n",
              "      <td>-0.790992</td>\n",
              "      <td>0.408077</td>\n",
              "      <td>0.895058</td>\n",
              "      <td>-0.923893</td>\n",
              "      <td>-0.268849</td>\n",
              "    </tr>\n",
              "  </tbody>\n",
              "</table>\n",
              "</div>"
            ],
            "text/plain": [
              "   level_0       index  first col  second col  fourth col  fifth col  \\\n",
              "0        0   third row  -0.193864   -1.179945    1.376465   0.184676   \n",
              "1        1  fourth row   1.131401    0.407221    0.328429  -0.027129   \n",
              "2        2   fifth row  -0.790992    0.408077    0.895058  -0.923893   \n",
              "\n",
              "   sixth col  \n",
              "0  -0.024457  \n",
              "1   0.873589  \n",
              "2  -0.268849  "
            ]
          },
          "execution_count": 97,
          "metadata": {},
          "output_type": "execute_result"
        }
      ],
      "source": [
        "df5.reset_index(inplace=True)\n",
        "df5"
      ]
    },
    {
      "cell_type": "code",
      "execution_count": null,
      "metadata": {
        "id": "nMB_SRw6ba8S"
      },
      "outputs": [],
      "source": [
        "s=['uno','dos','tres']"
      ]
    },
    {
      "cell_type": "code",
      "execution_count": null,
      "metadata": {
        "id": "lkM8nyFrba8S",
        "outputId": "3eac3acb-2196-4e36-ad9a-6fae94232c09"
      },
      "outputs": [
        {
          "data": {
            "text/html": [
              "<div>\n",
              "<style scoped>\n",
              "    .dataframe tbody tr th:only-of-type {\n",
              "        vertical-align: middle;\n",
              "    }\n",
              "\n",
              "    .dataframe tbody tr th {\n",
              "        vertical-align: top;\n",
              "    }\n",
              "\n",
              "    .dataframe thead th {\n",
              "        text-align: right;\n",
              "    }\n",
              "</style>\n",
              "<table border=\"1\" class=\"dataframe\">\n",
              "  <thead>\n",
              "    <tr style=\"text-align: right;\">\n",
              "      <th></th>\n",
              "      <th>level_0</th>\n",
              "      <th>index</th>\n",
              "      <th>first col</th>\n",
              "      <th>second col</th>\n",
              "      <th>fourth col</th>\n",
              "      <th>fifth col</th>\n",
              "      <th>sixth col</th>\n",
              "    </tr>\n",
              "    <tr>\n",
              "      <th>Level_1</th>\n",
              "      <th></th>\n",
              "      <th></th>\n",
              "      <th></th>\n",
              "      <th></th>\n",
              "      <th></th>\n",
              "      <th></th>\n",
              "      <th></th>\n",
              "    </tr>\n",
              "  </thead>\n",
              "  <tbody>\n",
              "    <tr>\n",
              "      <th>uno</th>\n",
              "      <td>0</td>\n",
              "      <td>third row</td>\n",
              "      <td>-0.193864</td>\n",
              "      <td>-1.179945</td>\n",
              "      <td>1.376465</td>\n",
              "      <td>0.184676</td>\n",
              "      <td>-0.024457</td>\n",
              "    </tr>\n",
              "    <tr>\n",
              "      <th>dos</th>\n",
              "      <td>1</td>\n",
              "      <td>fourth row</td>\n",
              "      <td>1.131401</td>\n",
              "      <td>0.407221</td>\n",
              "      <td>0.328429</td>\n",
              "      <td>-0.027129</td>\n",
              "      <td>0.873589</td>\n",
              "    </tr>\n",
              "    <tr>\n",
              "      <th>tres</th>\n",
              "      <td>2</td>\n",
              "      <td>fifth row</td>\n",
              "      <td>-0.790992</td>\n",
              "      <td>0.408077</td>\n",
              "      <td>0.895058</td>\n",
              "      <td>-0.923893</td>\n",
              "      <td>-0.268849</td>\n",
              "    </tr>\n",
              "  </tbody>\n",
              "</table>\n",
              "</div>"
            ],
            "text/plain": [
              "         level_0       index  first col  second col  fourth col  fifth col  \\\n",
              "Level_1                                                                      \n",
              "uno            0   third row  -0.193864   -1.179945    1.376465   0.184676   \n",
              "dos            1  fourth row   1.131401    0.407221    0.328429  -0.027129   \n",
              "tres           2   fifth row  -0.790992    0.408077    0.895058  -0.923893   \n",
              "\n",
              "         sixth col  \n",
              "Level_1             \n",
              "uno      -0.024457  \n",
              "dos       0.873589  \n",
              "tres     -0.268849  "
            ]
          },
          "execution_count": 101,
          "metadata": {},
          "output_type": "execute_result"
        }
      ],
      "source": [
        "df5['Level_1']=s\n",
        "df5.set_index('Level_1')"
      ]
    },
    {
      "cell_type": "code",
      "execution_count": null,
      "metadata": {
        "id": "YBkOUr51ba8T",
        "outputId": "05af62eb-428d-4113-9c3e-b9b299d164fd"
      },
      "outputs": [
        {
          "data": {
            "text/html": [
              "<div>\n",
              "<style scoped>\n",
              "    .dataframe tbody tr th:only-of-type {\n",
              "        vertical-align: middle;\n",
              "    }\n",
              "\n",
              "    .dataframe tbody tr th {\n",
              "        vertical-align: top;\n",
              "    }\n",
              "\n",
              "    .dataframe thead th {\n",
              "        text-align: right;\n",
              "    }\n",
              "</style>\n",
              "<table border=\"1\" class=\"dataframe\">\n",
              "  <thead>\n",
              "    <tr style=\"text-align: right;\">\n",
              "      <th></th>\n",
              "      <th>index</th>\n",
              "      <th>first col</th>\n",
              "      <th>second col</th>\n",
              "      <th>fourth col</th>\n",
              "      <th>fifth col</th>\n",
              "      <th>sixth col</th>\n",
              "      <th>Level_1</th>\n",
              "    </tr>\n",
              "  </thead>\n",
              "  <tbody>\n",
              "    <tr>\n",
              "      <th>0</th>\n",
              "      <td>third row</td>\n",
              "      <td>-0.193864</td>\n",
              "      <td>-1.179945</td>\n",
              "      <td>1.376465</td>\n",
              "      <td>0.184676</td>\n",
              "      <td>-0.024457</td>\n",
              "      <td>uno</td>\n",
              "    </tr>\n",
              "    <tr>\n",
              "      <th>1</th>\n",
              "      <td>fourth row</td>\n",
              "      <td>1.131401</td>\n",
              "      <td>0.407221</td>\n",
              "      <td>0.328429</td>\n",
              "      <td>-0.027129</td>\n",
              "      <td>0.873589</td>\n",
              "      <td>dos</td>\n",
              "    </tr>\n",
              "    <tr>\n",
              "      <th>2</th>\n",
              "      <td>fifth row</td>\n",
              "      <td>-0.790992</td>\n",
              "      <td>0.408077</td>\n",
              "      <td>0.895058</td>\n",
              "      <td>-0.923893</td>\n",
              "      <td>-0.268849</td>\n",
              "      <td>tres</td>\n",
              "    </tr>\n",
              "  </tbody>\n",
              "</table>\n",
              "</div>"
            ],
            "text/plain": [
              "        index  first col  second col  fourth col  fifth col  sixth col Level_1\n",
              "0   third row  -0.193864   -1.179945    1.376465   0.184676  -0.024457     uno\n",
              "1  fourth row   1.131401    0.407221    0.328429  -0.027129   0.873589     dos\n",
              "2   fifth row  -0.790992    0.408077    0.895058  -0.923893  -0.268849    tres"
            ]
          },
          "execution_count": 103,
          "metadata": {},
          "output_type": "execute_result"
        }
      ],
      "source": [
        "df5.drop('level_0',axis=1)"
      ]
    },
    {
      "cell_type": "code",
      "execution_count": null,
      "metadata": {
        "id": "KNU-1WuXba8T",
        "outputId": "31c1cc94-cd73-4701-aa68-b34c407320f2"
      },
      "outputs": [
        {
          "data": {
            "text/html": [
              "<div>\n",
              "<style scoped>\n",
              "    .dataframe tbody tr th:only-of-type {\n",
              "        vertical-align: middle;\n",
              "    }\n",
              "\n",
              "    .dataframe tbody tr th {\n",
              "        vertical-align: top;\n",
              "    }\n",
              "\n",
              "    .dataframe thead th {\n",
              "        text-align: right;\n",
              "    }\n",
              "</style>\n",
              "<table border=\"1\" class=\"dataframe\">\n",
              "  <thead>\n",
              "    <tr style=\"text-align: right;\">\n",
              "      <th></th>\n",
              "      <th>level_0</th>\n",
              "      <th>index</th>\n",
              "      <th>first col</th>\n",
              "      <th>fourth col</th>\n",
              "      <th>fifth col</th>\n",
              "      <th>sixth col</th>\n",
              "      <th>Level_1</th>\n",
              "    </tr>\n",
              "    <tr>\n",
              "      <th>second col</th>\n",
              "      <th></th>\n",
              "      <th></th>\n",
              "      <th></th>\n",
              "      <th></th>\n",
              "      <th></th>\n",
              "      <th></th>\n",
              "      <th></th>\n",
              "    </tr>\n",
              "  </thead>\n",
              "  <tbody>\n",
              "    <tr>\n",
              "      <th>-1.179945</th>\n",
              "      <td>0</td>\n",
              "      <td>third row</td>\n",
              "      <td>-0.193864</td>\n",
              "      <td>1.376465</td>\n",
              "      <td>0.184676</td>\n",
              "      <td>-0.024457</td>\n",
              "      <td>uno</td>\n",
              "    </tr>\n",
              "    <tr>\n",
              "      <th>0.407221</th>\n",
              "      <td>1</td>\n",
              "      <td>fourth row</td>\n",
              "      <td>1.131401</td>\n",
              "      <td>0.328429</td>\n",
              "      <td>-0.027129</td>\n",
              "      <td>0.873589</td>\n",
              "      <td>dos</td>\n",
              "    </tr>\n",
              "    <tr>\n",
              "      <th>0.408077</th>\n",
              "      <td>2</td>\n",
              "      <td>fifth row</td>\n",
              "      <td>-0.790992</td>\n",
              "      <td>0.895058</td>\n",
              "      <td>-0.923893</td>\n",
              "      <td>-0.268849</td>\n",
              "      <td>tres</td>\n",
              "    </tr>\n",
              "  </tbody>\n",
              "</table>\n",
              "</div>"
            ],
            "text/plain": [
              "            level_0       index  first col  fourth col  fifth col  sixth col  \\\n",
              "second col                                                                     \n",
              "-1.179945         0   third row  -0.193864    1.376465   0.184676  -0.024457   \n",
              " 0.407221         1  fourth row   1.131401    0.328429  -0.027129   0.873589   \n",
              " 0.408077         2   fifth row  -0.790992    0.895058  -0.923893  -0.268849   \n",
              "\n",
              "           Level_1  \n",
              "second col          \n",
              "-1.179945      uno  \n",
              " 0.407221      dos  \n",
              " 0.408077     tres  "
            ]
          },
          "execution_count": 104,
          "metadata": {},
          "output_type": "execute_result"
        }
      ],
      "source": [
        "df5.set_index('second col')"
      ]
    },
    {
      "cell_type": "code",
      "execution_count": null,
      "metadata": {
        "id": "TlDwhqbVba8T"
      },
      "outputs": [],
      "source": []
    },
    {
      "cell_type": "code",
      "execution_count": null,
      "metadata": {
        "id": "y9Hr45CFba8U"
      },
      "outputs": [],
      "source": []
    },
    {
      "cell_type": "code",
      "execution_count": null,
      "metadata": {
        "collapsed": true,
        "id": "WhnGiYYEba8U",
        "outputId": "3cdcc160-8a87-4b8d-9e97-1af15ffdd310"
      },
      "outputs": [
        {
          "ename": "ValueError",
          "evalue": "Length of values (3) does not match length of index (4)",
          "output_type": "error",
          "traceback": [
            "\u001b[1;31m---------------------------------------------------------------------------\u001b[0m",
            "\u001b[1;31mValueError\u001b[0m                                Traceback (most recent call last)",
            "Input \u001b[1;32mIn [40]\u001b[0m, in \u001b[0;36m<cell line: 2>\u001b[1;34m()\u001b[0m\n\u001b[0;32m      1\u001b[0m \u001b[38;5;66;03m# we can assign new names to the index\u001b[39;00m\n\u001b[1;32m----> 2\u001b[0m df5[\u001b[38;5;124m'\u001b[39m\u001b[38;5;124mnew index\u001b[39m\u001b[38;5;124m'\u001b[39m] \u001b[38;5;241m=\u001b[39m [\u001b[38;5;124m'\u001b[39m\u001b[38;5;124mThis\u001b[39m\u001b[38;5;124m'\u001b[39m,\u001b[38;5;124m'\u001b[39m\u001b[38;5;124mis a new\u001b[39m\u001b[38;5;124m'\u001b[39m,\u001b[38;5;124m'\u001b[39m\u001b[38;5;124mrow\u001b[39m\u001b[38;5;124m'\u001b[39m]\n\u001b[0;32m      3\u001b[0m df5\n",
            "File \u001b[1;32m~\\anaconda3\\Anaconda Files1\\lib\\site-packages\\pandas\\core\\frame.py:3655\u001b[0m, in \u001b[0;36mDataFrame.__setitem__\u001b[1;34m(self, key, value)\u001b[0m\n\u001b[0;32m   3652\u001b[0m     \u001b[38;5;28mself\u001b[39m\u001b[38;5;241m.\u001b[39m_setitem_array([key], value)\n\u001b[0;32m   3653\u001b[0m \u001b[38;5;28;01melse\u001b[39;00m:\n\u001b[0;32m   3654\u001b[0m     \u001b[38;5;66;03m# set column\u001b[39;00m\n\u001b[1;32m-> 3655\u001b[0m     \u001b[38;5;28;43mself\u001b[39;49m\u001b[38;5;241;43m.\u001b[39;49m\u001b[43m_set_item\u001b[49m\u001b[43m(\u001b[49m\u001b[43mkey\u001b[49m\u001b[43m,\u001b[49m\u001b[43m \u001b[49m\u001b[43mvalue\u001b[49m\u001b[43m)\u001b[49m\n",
            "File \u001b[1;32m~\\anaconda3\\Anaconda Files1\\lib\\site-packages\\pandas\\core\\frame.py:3832\u001b[0m, in \u001b[0;36mDataFrame._set_item\u001b[1;34m(self, key, value)\u001b[0m\n\u001b[0;32m   3822\u001b[0m \u001b[38;5;28;01mdef\u001b[39;00m \u001b[38;5;21m_set_item\u001b[39m(\u001b[38;5;28mself\u001b[39m, key, value) \u001b[38;5;241m-\u001b[39m\u001b[38;5;241m>\u001b[39m \u001b[38;5;28;01mNone\u001b[39;00m:\n\u001b[0;32m   3823\u001b[0m     \u001b[38;5;124;03m\"\"\"\u001b[39;00m\n\u001b[0;32m   3824\u001b[0m \u001b[38;5;124;03m    Add series to DataFrame in specified column.\u001b[39;00m\n\u001b[0;32m   3825\u001b[0m \n\u001b[1;32m   (...)\u001b[0m\n\u001b[0;32m   3830\u001b[0m \u001b[38;5;124;03m    ensure homogeneity.\u001b[39;00m\n\u001b[0;32m   3831\u001b[0m \u001b[38;5;124;03m    \"\"\"\u001b[39;00m\n\u001b[1;32m-> 3832\u001b[0m     value \u001b[38;5;241m=\u001b[39m \u001b[38;5;28;43mself\u001b[39;49m\u001b[38;5;241;43m.\u001b[39;49m\u001b[43m_sanitize_column\u001b[49m\u001b[43m(\u001b[49m\u001b[43mvalue\u001b[49m\u001b[43m)\u001b[49m\n\u001b[0;32m   3834\u001b[0m     \u001b[38;5;28;01mif\u001b[39;00m (\n\u001b[0;32m   3835\u001b[0m         key \u001b[38;5;129;01min\u001b[39;00m \u001b[38;5;28mself\u001b[39m\u001b[38;5;241m.\u001b[39mcolumns\n\u001b[0;32m   3836\u001b[0m         \u001b[38;5;129;01mand\u001b[39;00m value\u001b[38;5;241m.\u001b[39mndim \u001b[38;5;241m==\u001b[39m \u001b[38;5;241m1\u001b[39m\n\u001b[0;32m   3837\u001b[0m         \u001b[38;5;129;01mand\u001b[39;00m \u001b[38;5;129;01mnot\u001b[39;00m is_extension_array_dtype(value)\n\u001b[0;32m   3838\u001b[0m     ):\n\u001b[0;32m   3839\u001b[0m         \u001b[38;5;66;03m# broadcast across multiple columns if necessary\u001b[39;00m\n\u001b[0;32m   3840\u001b[0m         \u001b[38;5;28;01mif\u001b[39;00m \u001b[38;5;129;01mnot\u001b[39;00m \u001b[38;5;28mself\u001b[39m\u001b[38;5;241m.\u001b[39mcolumns\u001b[38;5;241m.\u001b[39mis_unique \u001b[38;5;129;01mor\u001b[39;00m \u001b[38;5;28misinstance\u001b[39m(\u001b[38;5;28mself\u001b[39m\u001b[38;5;241m.\u001b[39mcolumns, MultiIndex):\n",
            "File \u001b[1;32m~\\anaconda3\\Anaconda Files1\\lib\\site-packages\\pandas\\core\\frame.py:4535\u001b[0m, in \u001b[0;36mDataFrame._sanitize_column\u001b[1;34m(self, value)\u001b[0m\n\u001b[0;32m   4532\u001b[0m     \u001b[38;5;28;01mreturn\u001b[39;00m _reindex_for_setitem(value, \u001b[38;5;28mself\u001b[39m\u001b[38;5;241m.\u001b[39mindex)\n\u001b[0;32m   4534\u001b[0m \u001b[38;5;28;01mif\u001b[39;00m is_list_like(value):\n\u001b[1;32m-> 4535\u001b[0m     \u001b[43mcom\u001b[49m\u001b[38;5;241;43m.\u001b[39;49m\u001b[43mrequire_length_match\u001b[49m\u001b[43m(\u001b[49m\u001b[43mvalue\u001b[49m\u001b[43m,\u001b[49m\u001b[43m \u001b[49m\u001b[38;5;28;43mself\u001b[39;49m\u001b[38;5;241;43m.\u001b[39;49m\u001b[43mindex\u001b[49m\u001b[43m)\u001b[49m\n\u001b[0;32m   4536\u001b[0m \u001b[38;5;28;01mreturn\u001b[39;00m sanitize_array(value, \u001b[38;5;28mself\u001b[39m\u001b[38;5;241m.\u001b[39mindex, copy\u001b[38;5;241m=\u001b[39m\u001b[38;5;28;01mTrue\u001b[39;00m, allow_2d\u001b[38;5;241m=\u001b[39m\u001b[38;5;28;01mTrue\u001b[39;00m)\n",
            "File \u001b[1;32m~\\anaconda3\\Anaconda Files1\\lib\\site-packages\\pandas\\core\\common.py:557\u001b[0m, in \u001b[0;36mrequire_length_match\u001b[1;34m(data, index)\u001b[0m\n\u001b[0;32m    553\u001b[0m \u001b[38;5;124;03m\"\"\"\u001b[39;00m\n\u001b[0;32m    554\u001b[0m \u001b[38;5;124;03mCheck the length of data matches the length of the index.\u001b[39;00m\n\u001b[0;32m    555\u001b[0m \u001b[38;5;124;03m\"\"\"\u001b[39;00m\n\u001b[0;32m    556\u001b[0m \u001b[38;5;28;01mif\u001b[39;00m \u001b[38;5;28mlen\u001b[39m(data) \u001b[38;5;241m!=\u001b[39m \u001b[38;5;28mlen\u001b[39m(index):\n\u001b[1;32m--> 557\u001b[0m     \u001b[38;5;28;01mraise\u001b[39;00m \u001b[38;5;167;01mValueError\u001b[39;00m(\n\u001b[0;32m    558\u001b[0m         \u001b[38;5;124m\"\u001b[39m\u001b[38;5;124mLength of values \u001b[39m\u001b[38;5;124m\"\u001b[39m\n\u001b[0;32m    559\u001b[0m         \u001b[38;5;124mf\u001b[39m\u001b[38;5;124m\"\u001b[39m\u001b[38;5;124m(\u001b[39m\u001b[38;5;132;01m{\u001b[39;00m\u001b[38;5;28mlen\u001b[39m(data)\u001b[38;5;132;01m}\u001b[39;00m\u001b[38;5;124m) \u001b[39m\u001b[38;5;124m\"\u001b[39m\n\u001b[0;32m    560\u001b[0m         \u001b[38;5;124m\"\u001b[39m\u001b[38;5;124mdoes not match length of index \u001b[39m\u001b[38;5;124m\"\u001b[39m\n\u001b[0;32m    561\u001b[0m         \u001b[38;5;124mf\u001b[39m\u001b[38;5;124m\"\u001b[39m\u001b[38;5;124m(\u001b[39m\u001b[38;5;132;01m{\u001b[39;00m\u001b[38;5;28mlen\u001b[39m(index)\u001b[38;5;132;01m}\u001b[39;00m\u001b[38;5;124m)\u001b[39m\u001b[38;5;124m\"\u001b[39m\n\u001b[0;32m    562\u001b[0m     )\n",
            "\u001b[1;31mValueError\u001b[0m: Length of values (3) does not match length of index (4)"
          ]
        }
      ],
      "source": [
        "# we can assign new names to the index\n",
        "df5['new index'] = ['This','is a new','row']\n",
        "df5"
      ]
    },
    {
      "cell_type": "code",
      "execution_count": null,
      "metadata": {
        "scrolled": true,
        "id": "BSmmcgnTba8U"
      },
      "outputs": [],
      "source": [
        "df5.reset_index()"
      ]
    },
    {
      "cell_type": "code",
      "execution_count": null,
      "metadata": {
        "scrolled": true,
        "id": "tIFtrDf2ba8V"
      },
      "outputs": [],
      "source": [
        "df5['Row_index']=['uno','dos','tres','cuanta']\n",
        "df5.set_index('Row_index')"
      ]
    },
    {
      "cell_type": "code",
      "execution_count": null,
      "metadata": {
        "id": "twhe9sLXba8V"
      },
      "outputs": [],
      "source": [
        "df5"
      ]
    },
    {
      "cell_type": "code",
      "execution_count": null,
      "metadata": {
        "id": "0uUGhqglba8V"
      },
      "outputs": [],
      "source": [
        "df5.set_index('Row_index',inplace=True)\n",
        "df5"
      ]
    },
    {
      "cell_type": "code",
      "execution_count": null,
      "metadata": {
        "collapsed": true,
        "id": "ZcjsGxcqba8V",
        "outputId": "a381f1aa-b8e9-4db7-d885-c70c60013374"
      },
      "outputs": [
        {
          "ename": "ValueError",
          "evalue": "cannot insert level_0, already exists",
          "output_type": "error",
          "traceback": [
            "\u001b[1;31m---------------------------------------------------------------------------\u001b[0m",
            "\u001b[1;31mValueError\u001b[0m                                Traceback (most recent call last)",
            "Input \u001b[1;32mIn [41]\u001b[0m, in \u001b[0;36m<cell line: 1>\u001b[1;34m()\u001b[0m\n\u001b[1;32m----> 1\u001b[0m \u001b[43mdf5\u001b[49m\u001b[38;5;241;43m.\u001b[39;49m\u001b[43mreset_index\u001b[49m\u001b[43m(\u001b[49m\u001b[43m)\u001b[49m\n",
            "File \u001b[1;32m~\\anaconda3\\Anaconda Files1\\lib\\site-packages\\pandas\\util\\_decorators.py:311\u001b[0m, in \u001b[0;36mdeprecate_nonkeyword_arguments.<locals>.decorate.<locals>.wrapper\u001b[1;34m(*args, **kwargs)\u001b[0m\n\u001b[0;32m    305\u001b[0m \u001b[38;5;28;01mif\u001b[39;00m \u001b[38;5;28mlen\u001b[39m(args) \u001b[38;5;241m>\u001b[39m num_allow_args:\n\u001b[0;32m    306\u001b[0m     warnings\u001b[38;5;241m.\u001b[39mwarn(\n\u001b[0;32m    307\u001b[0m         msg\u001b[38;5;241m.\u001b[39mformat(arguments\u001b[38;5;241m=\u001b[39marguments),\n\u001b[0;32m    308\u001b[0m         \u001b[38;5;167;01mFutureWarning\u001b[39;00m,\n\u001b[0;32m    309\u001b[0m         stacklevel\u001b[38;5;241m=\u001b[39mstacklevel,\n\u001b[0;32m    310\u001b[0m     )\n\u001b[1;32m--> 311\u001b[0m \u001b[38;5;28;01mreturn\u001b[39;00m func(\u001b[38;5;241m*\u001b[39margs, \u001b[38;5;241m*\u001b[39m\u001b[38;5;241m*\u001b[39mkwargs)\n",
            "File \u001b[1;32m~\\anaconda3\\Anaconda Files1\\lib\\site-packages\\pandas\\core\\frame.py:5839\u001b[0m, in \u001b[0;36mDataFrame.reset_index\u001b[1;34m(self, level, drop, inplace, col_level, col_fill)\u001b[0m\n\u001b[0;32m   5833\u001b[0m         \u001b[38;5;28;01mif\u001b[39;00m lab \u001b[38;5;129;01mis\u001b[39;00m \u001b[38;5;129;01mnot\u001b[39;00m \u001b[38;5;28;01mNone\u001b[39;00m:\n\u001b[0;32m   5834\u001b[0m             \u001b[38;5;66;03m# if we have the codes, extract the values with a mask\u001b[39;00m\n\u001b[0;32m   5835\u001b[0m             level_values \u001b[38;5;241m=\u001b[39m algorithms\u001b[38;5;241m.\u001b[39mtake(\n\u001b[0;32m   5836\u001b[0m                 level_values, lab, allow_fill\u001b[38;5;241m=\u001b[39m\u001b[38;5;28;01mTrue\u001b[39;00m, fill_value\u001b[38;5;241m=\u001b[39mlev\u001b[38;5;241m.\u001b[39m_na_value\n\u001b[0;32m   5837\u001b[0m             )\n\u001b[1;32m-> 5839\u001b[0m         \u001b[43mnew_obj\u001b[49m\u001b[38;5;241;43m.\u001b[39;49m\u001b[43minsert\u001b[49m\u001b[43m(\u001b[49m\u001b[38;5;241;43m0\u001b[39;49m\u001b[43m,\u001b[49m\u001b[43m \u001b[49m\u001b[43mname\u001b[49m\u001b[43m,\u001b[49m\u001b[43m \u001b[49m\u001b[43mlevel_values\u001b[49m\u001b[43m)\u001b[49m\n\u001b[0;32m   5841\u001b[0m new_obj\u001b[38;5;241m.\u001b[39mindex \u001b[38;5;241m=\u001b[39m new_index\n\u001b[0;32m   5842\u001b[0m \u001b[38;5;28;01mif\u001b[39;00m \u001b[38;5;129;01mnot\u001b[39;00m inplace:\n",
            "File \u001b[1;32m~\\anaconda3\\Anaconda Files1\\lib\\site-packages\\pandas\\core\\frame.py:4440\u001b[0m, in \u001b[0;36mDataFrame.insert\u001b[1;34m(self, loc, column, value, allow_duplicates)\u001b[0m\n\u001b[0;32m   4434\u001b[0m     \u001b[38;5;28;01mraise\u001b[39;00m \u001b[38;5;167;01mValueError\u001b[39;00m(\n\u001b[0;32m   4435\u001b[0m         \u001b[38;5;124m\"\u001b[39m\u001b[38;5;124mCannot specify \u001b[39m\u001b[38;5;124m'\u001b[39m\u001b[38;5;124mallow_duplicates=True\u001b[39m\u001b[38;5;124m'\u001b[39m\u001b[38;5;124m when \u001b[39m\u001b[38;5;124m\"\u001b[39m\n\u001b[0;32m   4436\u001b[0m         \u001b[38;5;124m\"\u001b[39m\u001b[38;5;124m'\u001b[39m\u001b[38;5;124mself.flags.allows_duplicate_labels\u001b[39m\u001b[38;5;124m'\u001b[39m\u001b[38;5;124m is False.\u001b[39m\u001b[38;5;124m\"\u001b[39m\n\u001b[0;32m   4437\u001b[0m     )\n\u001b[0;32m   4438\u001b[0m \u001b[38;5;28;01mif\u001b[39;00m \u001b[38;5;129;01mnot\u001b[39;00m allow_duplicates \u001b[38;5;129;01mand\u001b[39;00m column \u001b[38;5;129;01min\u001b[39;00m \u001b[38;5;28mself\u001b[39m\u001b[38;5;241m.\u001b[39mcolumns:\n\u001b[0;32m   4439\u001b[0m     \u001b[38;5;66;03m# Should this be a different kind of error??\u001b[39;00m\n\u001b[1;32m-> 4440\u001b[0m     \u001b[38;5;28;01mraise\u001b[39;00m \u001b[38;5;167;01mValueError\u001b[39;00m(\u001b[38;5;124mf\u001b[39m\u001b[38;5;124m\"\u001b[39m\u001b[38;5;124mcannot insert \u001b[39m\u001b[38;5;132;01m{\u001b[39;00mcolumn\u001b[38;5;132;01m}\u001b[39;00m\u001b[38;5;124m, already exists\u001b[39m\u001b[38;5;124m\"\u001b[39m)\n\u001b[0;32m   4441\u001b[0m \u001b[38;5;28;01mif\u001b[39;00m \u001b[38;5;129;01mnot\u001b[39;00m \u001b[38;5;28misinstance\u001b[39m(loc, \u001b[38;5;28mint\u001b[39m):\n\u001b[0;32m   4442\u001b[0m     \u001b[38;5;28;01mraise\u001b[39;00m \u001b[38;5;167;01mTypeError\u001b[39;00m(\u001b[38;5;124m\"\u001b[39m\u001b[38;5;124mloc must be int\u001b[39m\u001b[38;5;124m\"\u001b[39m)\n",
            "\u001b[1;31mValueError\u001b[0m: cannot insert level_0, already exists"
          ]
        }
      ],
      "source": [
        "df5.reset_index()"
      ]
    },
    {
      "cell_type": "code",
      "execution_count": null,
      "metadata": {
        "id": "pI8fcHgdba8V"
      },
      "outputs": [],
      "source": []
    },
    {
      "cell_type": "markdown",
      "metadata": {
        "id": "CPW0HdR9ba8W"
      },
      "source": [
        "## Pandas Lecture 2"
      ]
    },
    {
      "cell_type": "markdown",
      "metadata": {
        "id": "tHwTtLvDba8W"
      },
      "source": [
        "# Combining data frames\n",
        "\n",
        "The ways dataframes are combined in pandas is similar to SQL\n",
        "\n",
        "We will examine 3 methods for combining dataframes\n",
        "\n",
        "1. concat\n",
        "2. join\n",
        "3. merge"
      ]
    },
    {
      "cell_type": "code",
      "execution_count": null,
      "metadata": {
        "id": "l7rRQGwbba8W"
      },
      "outputs": [],
      "source": [
        "\n",
        "\n",
        "df7 = pd.DataFrame({\"customer\":['101','102','103','104'], \n",
        "                    'category': ['cat2','cat2','cat1','cat3'],\n",
        "                    'important': ['yes','no','yes','yes'],\n",
        "                    'sales': [123,52,214,663]},index=[0,1,2,3])\n",
        "\n",
        "df8 = pd.DataFrame({\"customer\":['101','103','104','105'], \n",
        "                    'color': ['yellow','green','green','blue'],\n",
        "                    'distance': [12,9,44,21],\n",
        "                    'sales': [123,214,663,331]},index=[4,5,6,7])\n",
        "\n",
        "#list of tuples\n"
      ]
    },
    {
      "cell_type": "code",
      "execution_count": null,
      "metadata": {
        "scrolled": true,
        "id": "QJl9ySMfba8W",
        "outputId": "6427c57f-b43a-431e-e933-bd58a49d2511"
      },
      "outputs": [
        {
          "name": "stdout",
          "output_type": "stream",
          "text": [
            "  customer category important  sales\n",
            "0      101     cat2       yes    123\n",
            "1      102     cat2        no     52\n",
            "2      103     cat1       yes    214\n",
            "3      104     cat3       yes    663\n",
            "\n",
            "  customer   color  distance  sales\n",
            "4      101  yellow        12    123\n",
            "5      103   green         9    214\n",
            "6      104   green        44    663\n",
            "7      105    blue        21    331\n"
          ]
        }
      ],
      "source": [
        "print(df7)\n",
        "print('')\n",
        "print(df8)"
      ]
    },
    {
      "cell_type": "code",
      "execution_count": null,
      "metadata": {
        "id": "YvHyWWCdba8X",
        "outputId": "1ae39bb8-7959-4cff-af4b-84c3e0a7f4bd"
      },
      "outputs": [
        {
          "data": {
            "text/html": [
              "<div>\n",
              "<style scoped>\n",
              "    .dataframe tbody tr th:only-of-type {\n",
              "        vertical-align: middle;\n",
              "    }\n",
              "\n",
              "    .dataframe tbody tr th {\n",
              "        vertical-align: top;\n",
              "    }\n",
              "\n",
              "    .dataframe thead th {\n",
              "        text-align: right;\n",
              "    }\n",
              "</style>\n",
              "<table border=\"1\" class=\"dataframe\">\n",
              "  <thead>\n",
              "    <tr style=\"text-align: right;\">\n",
              "      <th></th>\n",
              "      <th>customer</th>\n",
              "      <th>category</th>\n",
              "      <th>important</th>\n",
              "      <th>sales</th>\n",
              "    </tr>\n",
              "  </thead>\n",
              "  <tbody>\n",
              "    <tr>\n",
              "      <th>0</th>\n",
              "      <td>101</td>\n",
              "      <td>cat2</td>\n",
              "      <td>yes</td>\n",
              "      <td>123</td>\n",
              "    </tr>\n",
              "    <tr>\n",
              "      <th>1</th>\n",
              "      <td>102</td>\n",
              "      <td>cat2</td>\n",
              "      <td>no</td>\n",
              "      <td>52</td>\n",
              "    </tr>\n",
              "    <tr>\n",
              "      <th>2</th>\n",
              "      <td>103</td>\n",
              "      <td>cat1</td>\n",
              "      <td>yes</td>\n",
              "      <td>214</td>\n",
              "    </tr>\n",
              "    <tr>\n",
              "      <th>3</th>\n",
              "      <td>104</td>\n",
              "      <td>cat3</td>\n",
              "      <td>yes</td>\n",
              "      <td>663</td>\n",
              "    </tr>\n",
              "  </tbody>\n",
              "</table>\n",
              "</div>"
            ],
            "text/plain": [
              "  customer category important  sales\n",
              "0      101     cat2       yes    123\n",
              "1      102     cat2        no     52\n",
              "2      103     cat1       yes    214\n",
              "3      104     cat3       yes    663"
            ]
          },
          "execution_count": 114,
          "metadata": {},
          "output_type": "execute_result"
        }
      ],
      "source": [
        "df7"
      ]
    },
    {
      "cell_type": "code",
      "execution_count": null,
      "metadata": {
        "id": "CPHWIe8lba8Y",
        "outputId": "4e09339d-7f75-4f6e-d243-faeea8d3c500"
      },
      "outputs": [
        {
          "data": {
            "text/html": [
              "<div>\n",
              "<style scoped>\n",
              "    .dataframe tbody tr th:only-of-type {\n",
              "        vertical-align: middle;\n",
              "    }\n",
              "\n",
              "    .dataframe tbody tr th {\n",
              "        vertical-align: top;\n",
              "    }\n",
              "\n",
              "    .dataframe thead th {\n",
              "        text-align: right;\n",
              "    }\n",
              "</style>\n",
              "<table border=\"1\" class=\"dataframe\">\n",
              "  <thead>\n",
              "    <tr style=\"text-align: right;\">\n",
              "      <th></th>\n",
              "      <th>customer</th>\n",
              "      <th>category</th>\n",
              "      <th>important</th>\n",
              "      <th>sales</th>\n",
              "      <th>color</th>\n",
              "      <th>distance</th>\n",
              "    </tr>\n",
              "  </thead>\n",
              "  <tbody>\n",
              "    <tr>\n",
              "      <th>0</th>\n",
              "      <td>101</td>\n",
              "      <td>cat2</td>\n",
              "      <td>yes</td>\n",
              "      <td>123</td>\n",
              "      <td>NaN</td>\n",
              "      <td>NaN</td>\n",
              "    </tr>\n",
              "    <tr>\n",
              "      <th>1</th>\n",
              "      <td>102</td>\n",
              "      <td>cat2</td>\n",
              "      <td>no</td>\n",
              "      <td>52</td>\n",
              "      <td>NaN</td>\n",
              "      <td>NaN</td>\n",
              "    </tr>\n",
              "    <tr>\n",
              "      <th>2</th>\n",
              "      <td>103</td>\n",
              "      <td>cat1</td>\n",
              "      <td>yes</td>\n",
              "      <td>214</td>\n",
              "      <td>NaN</td>\n",
              "      <td>NaN</td>\n",
              "    </tr>\n",
              "    <tr>\n",
              "      <th>3</th>\n",
              "      <td>104</td>\n",
              "      <td>cat3</td>\n",
              "      <td>yes</td>\n",
              "      <td>663</td>\n",
              "      <td>NaN</td>\n",
              "      <td>NaN</td>\n",
              "    </tr>\n",
              "    <tr>\n",
              "      <th>4</th>\n",
              "      <td>101</td>\n",
              "      <td>NaN</td>\n",
              "      <td>NaN</td>\n",
              "      <td>123</td>\n",
              "      <td>yellow</td>\n",
              "      <td>12.0</td>\n",
              "    </tr>\n",
              "    <tr>\n",
              "      <th>5</th>\n",
              "      <td>103</td>\n",
              "      <td>NaN</td>\n",
              "      <td>NaN</td>\n",
              "      <td>214</td>\n",
              "      <td>green</td>\n",
              "      <td>9.0</td>\n",
              "    </tr>\n",
              "    <tr>\n",
              "      <th>6</th>\n",
              "      <td>104</td>\n",
              "      <td>NaN</td>\n",
              "      <td>NaN</td>\n",
              "      <td>663</td>\n",
              "      <td>green</td>\n",
              "      <td>44.0</td>\n",
              "    </tr>\n",
              "    <tr>\n",
              "      <th>7</th>\n",
              "      <td>105</td>\n",
              "      <td>NaN</td>\n",
              "      <td>NaN</td>\n",
              "      <td>331</td>\n",
              "      <td>blue</td>\n",
              "      <td>21.0</td>\n",
              "    </tr>\n",
              "  </tbody>\n",
              "</table>\n",
              "</div>"
            ],
            "text/plain": [
              "  customer category important  sales   color  distance\n",
              "0      101     cat2       yes    123     NaN       NaN\n",
              "1      102     cat2        no     52     NaN       NaN\n",
              "2      103     cat1       yes    214     NaN       NaN\n",
              "3      104     cat3       yes    663     NaN       NaN\n",
              "4      101      NaN       NaN    123  yellow      12.0\n",
              "5      103      NaN       NaN    214   green       9.0\n",
              "6      104      NaN       NaN    663   green      44.0\n",
              "7      105      NaN       NaN    331    blue      21.0"
            ]
          },
          "execution_count": 111,
          "metadata": {},
          "output_type": "execute_result"
        }
      ],
      "source": [
        "pd.concat([df7,df8],axis=0,sort=False)"
      ]
    },
    {
      "cell_type": "code",
      "execution_count": null,
      "metadata": {
        "id": "PRuemPX0ba8Y",
        "outputId": "b437c184-9fbd-4f8a-d191-e2254e473ff1"
      },
      "outputs": [
        {
          "data": {
            "text/html": [
              "<div>\n",
              "<style scoped>\n",
              "    .dataframe tbody tr th:only-of-type {\n",
              "        vertical-align: middle;\n",
              "    }\n",
              "\n",
              "    .dataframe tbody tr th {\n",
              "        vertical-align: top;\n",
              "    }\n",
              "\n",
              "    .dataframe thead th {\n",
              "        text-align: right;\n",
              "    }\n",
              "</style>\n",
              "<table border=\"1\" class=\"dataframe\">\n",
              "  <thead>\n",
              "    <tr style=\"text-align: right;\">\n",
              "      <th></th>\n",
              "      <th>customer</th>\n",
              "      <th>category</th>\n",
              "      <th>important</th>\n",
              "      <th>sales</th>\n",
              "      <th>customer</th>\n",
              "      <th>color</th>\n",
              "      <th>distance</th>\n",
              "      <th>sales</th>\n",
              "    </tr>\n",
              "  </thead>\n",
              "  <tbody>\n",
              "    <tr>\n",
              "      <th>0</th>\n",
              "      <td>101</td>\n",
              "      <td>cat2</td>\n",
              "      <td>yes</td>\n",
              "      <td>123.0</td>\n",
              "      <td>NaN</td>\n",
              "      <td>NaN</td>\n",
              "      <td>NaN</td>\n",
              "      <td>NaN</td>\n",
              "    </tr>\n",
              "    <tr>\n",
              "      <th>1</th>\n",
              "      <td>102</td>\n",
              "      <td>cat2</td>\n",
              "      <td>no</td>\n",
              "      <td>52.0</td>\n",
              "      <td>NaN</td>\n",
              "      <td>NaN</td>\n",
              "      <td>NaN</td>\n",
              "      <td>NaN</td>\n",
              "    </tr>\n",
              "    <tr>\n",
              "      <th>2</th>\n",
              "      <td>103</td>\n",
              "      <td>cat1</td>\n",
              "      <td>yes</td>\n",
              "      <td>214.0</td>\n",
              "      <td>NaN</td>\n",
              "      <td>NaN</td>\n",
              "      <td>NaN</td>\n",
              "      <td>NaN</td>\n",
              "    </tr>\n",
              "    <tr>\n",
              "      <th>3</th>\n",
              "      <td>104</td>\n",
              "      <td>cat3</td>\n",
              "      <td>yes</td>\n",
              "      <td>663.0</td>\n",
              "      <td>NaN</td>\n",
              "      <td>NaN</td>\n",
              "      <td>NaN</td>\n",
              "      <td>NaN</td>\n",
              "    </tr>\n",
              "    <tr>\n",
              "      <th>4</th>\n",
              "      <td>NaN</td>\n",
              "      <td>NaN</td>\n",
              "      <td>NaN</td>\n",
              "      <td>NaN</td>\n",
              "      <td>101</td>\n",
              "      <td>yellow</td>\n",
              "      <td>12.0</td>\n",
              "      <td>123.0</td>\n",
              "    </tr>\n",
              "    <tr>\n",
              "      <th>5</th>\n",
              "      <td>NaN</td>\n",
              "      <td>NaN</td>\n",
              "      <td>NaN</td>\n",
              "      <td>NaN</td>\n",
              "      <td>103</td>\n",
              "      <td>green</td>\n",
              "      <td>9.0</td>\n",
              "      <td>214.0</td>\n",
              "    </tr>\n",
              "    <tr>\n",
              "      <th>6</th>\n",
              "      <td>NaN</td>\n",
              "      <td>NaN</td>\n",
              "      <td>NaN</td>\n",
              "      <td>NaN</td>\n",
              "      <td>104</td>\n",
              "      <td>green</td>\n",
              "      <td>44.0</td>\n",
              "      <td>663.0</td>\n",
              "    </tr>\n",
              "    <tr>\n",
              "      <th>7</th>\n",
              "      <td>NaN</td>\n",
              "      <td>NaN</td>\n",
              "      <td>NaN</td>\n",
              "      <td>NaN</td>\n",
              "      <td>105</td>\n",
              "      <td>blue</td>\n",
              "      <td>21.0</td>\n",
              "      <td>331.0</td>\n",
              "    </tr>\n",
              "  </tbody>\n",
              "</table>\n",
              "</div>"
            ],
            "text/plain": [
              "  customer category important  sales customer   color  distance  sales\n",
              "0      101     cat2       yes  123.0      NaN     NaN       NaN    NaN\n",
              "1      102     cat2        no   52.0      NaN     NaN       NaN    NaN\n",
              "2      103     cat1       yes  214.0      NaN     NaN       NaN    NaN\n",
              "3      104     cat3       yes  663.0      NaN     NaN       NaN    NaN\n",
              "4      NaN      NaN       NaN    NaN      101  yellow      12.0  123.0\n",
              "5      NaN      NaN       NaN    NaN      103   green       9.0  214.0\n",
              "6      NaN      NaN       NaN    NaN      104   green      44.0  663.0\n",
              "7      NaN      NaN       NaN    NaN      105    blue      21.0  331.0"
            ]
          },
          "execution_count": 113,
          "metadata": {},
          "output_type": "execute_result"
        }
      ],
      "source": [
        "pd.concat([df7,df8],axis=1,sort=True)"
      ]
    },
    {
      "cell_type": "code",
      "execution_count": null,
      "metadata": {
        "id": "hUSRbuBRba8Z",
        "outputId": "1ae43d09-e74b-4c76-86f4-4971e4b94b95"
      },
      "outputs": [
        {
          "data": {
            "text/html": [
              "<div>\n",
              "<style scoped>\n",
              "    .dataframe tbody tr th:only-of-type {\n",
              "        vertical-align: middle;\n",
              "    }\n",
              "\n",
              "    .dataframe tbody tr th {\n",
              "        vertical-align: top;\n",
              "    }\n",
              "\n",
              "    .dataframe thead th {\n",
              "        text-align: right;\n",
              "    }\n",
              "</style>\n",
              "<table border=\"1\" class=\"dataframe\">\n",
              "  <thead>\n",
              "    <tr style=\"text-align: right;\">\n",
              "      <th></th>\n",
              "      <th>customer</th>\n",
              "      <th>category</th>\n",
              "      <th>important</th>\n",
              "      <th>sales</th>\n",
              "      <th>customer</th>\n",
              "      <th>color</th>\n",
              "      <th>distance</th>\n",
              "      <th>sales</th>\n",
              "    </tr>\n",
              "  </thead>\n",
              "  <tbody>\n",
              "    <tr>\n",
              "      <th>0</th>\n",
              "      <td>101</td>\n",
              "      <td>cat2</td>\n",
              "      <td>yes</td>\n",
              "      <td>123.0</td>\n",
              "      <td>NaN</td>\n",
              "      <td>NaN</td>\n",
              "      <td>NaN</td>\n",
              "      <td>NaN</td>\n",
              "    </tr>\n",
              "    <tr>\n",
              "      <th>1</th>\n",
              "      <td>102</td>\n",
              "      <td>cat2</td>\n",
              "      <td>no</td>\n",
              "      <td>52.0</td>\n",
              "      <td>NaN</td>\n",
              "      <td>NaN</td>\n",
              "      <td>NaN</td>\n",
              "      <td>NaN</td>\n",
              "    </tr>\n",
              "    <tr>\n",
              "      <th>2</th>\n",
              "      <td>103</td>\n",
              "      <td>cat1</td>\n",
              "      <td>yes</td>\n",
              "      <td>214.0</td>\n",
              "      <td>NaN</td>\n",
              "      <td>NaN</td>\n",
              "      <td>NaN</td>\n",
              "      <td>NaN</td>\n",
              "    </tr>\n",
              "    <tr>\n",
              "      <th>3</th>\n",
              "      <td>104</td>\n",
              "      <td>cat3</td>\n",
              "      <td>yes</td>\n",
              "      <td>663.0</td>\n",
              "      <td>NaN</td>\n",
              "      <td>NaN</td>\n",
              "      <td>NaN</td>\n",
              "      <td>NaN</td>\n",
              "    </tr>\n",
              "    <tr>\n",
              "      <th>4</th>\n",
              "      <td>NaN</td>\n",
              "      <td>NaN</td>\n",
              "      <td>NaN</td>\n",
              "      <td>NaN</td>\n",
              "      <td>101</td>\n",
              "      <td>yellow</td>\n",
              "      <td>12.0</td>\n",
              "      <td>123.0</td>\n",
              "    </tr>\n",
              "    <tr>\n",
              "      <th>5</th>\n",
              "      <td>NaN</td>\n",
              "      <td>NaN</td>\n",
              "      <td>NaN</td>\n",
              "      <td>NaN</td>\n",
              "      <td>103</td>\n",
              "      <td>green</td>\n",
              "      <td>9.0</td>\n",
              "      <td>214.0</td>\n",
              "    </tr>\n",
              "    <tr>\n",
              "      <th>6</th>\n",
              "      <td>NaN</td>\n",
              "      <td>NaN</td>\n",
              "      <td>NaN</td>\n",
              "      <td>NaN</td>\n",
              "      <td>104</td>\n",
              "      <td>green</td>\n",
              "      <td>44.0</td>\n",
              "      <td>663.0</td>\n",
              "    </tr>\n",
              "    <tr>\n",
              "      <th>7</th>\n",
              "      <td>NaN</td>\n",
              "      <td>NaN</td>\n",
              "      <td>NaN</td>\n",
              "      <td>NaN</td>\n",
              "      <td>105</td>\n",
              "      <td>blue</td>\n",
              "      <td>21.0</td>\n",
              "      <td>331.0</td>\n",
              "    </tr>\n",
              "  </tbody>\n",
              "</table>\n",
              "</div>"
            ],
            "text/plain": [
              "  customer category important  sales customer   color  distance  sales\n",
              "0      101     cat2       yes  123.0      NaN     NaN       NaN    NaN\n",
              "1      102     cat2        no   52.0      NaN     NaN       NaN    NaN\n",
              "2      103     cat1       yes  214.0      NaN     NaN       NaN    NaN\n",
              "3      104     cat3       yes  663.0      NaN     NaN       NaN    NaN\n",
              "4      NaN      NaN       NaN    NaN      101  yellow      12.0  123.0\n",
              "5      NaN      NaN       NaN    NaN      103   green       9.0  214.0\n",
              "6      NaN      NaN       NaN    NaN      104   green      44.0  663.0\n",
              "7      NaN      NaN       NaN    NaN      105    blue      21.0  331.0"
            ]
          },
          "execution_count": 106,
          "metadata": {},
          "output_type": "execute_result"
        }
      ],
      "source": [
        "pd.concat([df7,df8],axis=1,sort=False)"
      ]
    },
    {
      "cell_type": "markdown",
      "metadata": {
        "id": "wKklAtLeba8Z"
      },
      "source": [
        "# Merge and Join\n",
        "\n",
        "Merge combines dataframes using a column's values to identify common entries\n",
        "\n",
        "Join combines dataframes using the index to identify common entries"
      ]
    },
    {
      "cell_type": "code",
      "source": [
        "print(df7)\n",
        "print('')\n",
        "print(df8)"
      ],
      "metadata": {
        "id": "zgSXQdCI312n",
        "outputId": "a97e2420-9ceb-4ace-8e99-7e0cd2287741",
        "colab": {
          "base_uri": "https://localhost:8080/"
        }
      },
      "execution_count": null,
      "outputs": [
        {
          "output_type": "stream",
          "name": "stdout",
          "text": [
            "  customer category important  sales\n",
            "0      101     cat2       yes    123\n",
            "1      102     cat2        no     52\n",
            "2      103     cat1       yes    214\n",
            "3      104     cat3       yes    663\n",
            "\n",
            "  customer   color  distance  sales\n",
            "4      101  yellow        12    123\n",
            "5      103   green         9    214\n",
            "6      104   green        44    663\n",
            "7      105    blue        21    331\n"
          ]
        }
      ]
    },
    {
      "cell_type": "code",
      "execution_count": null,
      "metadata": {
        "id": "FuItf7-eba8Z",
        "outputId": "8019cd29-f7c8-49c7-80af-97bded455a9e"
      },
      "outputs": [
        {
          "data": {
            "text/html": [
              "<div>\n",
              "<style scoped>\n",
              "    .dataframe tbody tr th:only-of-type {\n",
              "        vertical-align: middle;\n",
              "    }\n",
              "\n",
              "    .dataframe tbody tr th {\n",
              "        vertical-align: top;\n",
              "    }\n",
              "\n",
              "    .dataframe thead th {\n",
              "        text-align: right;\n",
              "    }\n",
              "</style>\n",
              "<table border=\"1\" class=\"dataframe\">\n",
              "  <thead>\n",
              "    <tr style=\"text-align: right;\">\n",
              "      <th></th>\n",
              "      <th>customer</th>\n",
              "      <th>category</th>\n",
              "      <th>important</th>\n",
              "      <th>sales</th>\n",
              "      <th>color</th>\n",
              "      <th>distance</th>\n",
              "    </tr>\n",
              "  </thead>\n",
              "  <tbody>\n",
              "    <tr>\n",
              "      <th>0</th>\n",
              "      <td>101</td>\n",
              "      <td>cat2</td>\n",
              "      <td>yes</td>\n",
              "      <td>123</td>\n",
              "      <td>yellow</td>\n",
              "      <td>12.0</td>\n",
              "    </tr>\n",
              "    <tr>\n",
              "      <th>1</th>\n",
              "      <td>102</td>\n",
              "      <td>cat2</td>\n",
              "      <td>no</td>\n",
              "      <td>52</td>\n",
              "      <td>NaN</td>\n",
              "      <td>NaN</td>\n",
              "    </tr>\n",
              "    <tr>\n",
              "      <th>2</th>\n",
              "      <td>103</td>\n",
              "      <td>cat1</td>\n",
              "      <td>yes</td>\n",
              "      <td>214</td>\n",
              "      <td>green</td>\n",
              "      <td>9.0</td>\n",
              "    </tr>\n",
              "    <tr>\n",
              "      <th>3</th>\n",
              "      <td>104</td>\n",
              "      <td>cat3</td>\n",
              "      <td>yes</td>\n",
              "      <td>663</td>\n",
              "      <td>green</td>\n",
              "      <td>44.0</td>\n",
              "    </tr>\n",
              "  </tbody>\n",
              "</table>\n",
              "</div>"
            ],
            "text/plain": [
              "  customer category important  sales   color  distance\n",
              "0      101     cat2       yes    123  yellow      12.0\n",
              "1      102     cat2        no     52     NaN       NaN\n",
              "2      103     cat1       yes    214   green       9.0\n",
              "3      104     cat3       yes    663   green      44.0"
            ]
          },
          "execution_count": 116,
          "metadata": {},
          "output_type": "execute_result"
        }
      ],
      "source": [
        "pd.merge(df7,df8,how='left',on=['customer','sales']) # outer merge is union of on"
      ]
    },
    {
      "cell_type": "code",
      "execution_count": null,
      "metadata": {
        "id": "qWvy7ehRba8Z",
        "outputId": "9b7ed6cc-8544-40c4-f5c4-f06069a52928"
      },
      "outputs": [
        {
          "data": {
            "text/html": [
              "<div>\n",
              "<style scoped>\n",
              "    .dataframe tbody tr th:only-of-type {\n",
              "        vertical-align: middle;\n",
              "    }\n",
              "\n",
              "    .dataframe tbody tr th {\n",
              "        vertical-align: top;\n",
              "    }\n",
              "\n",
              "    .dataframe thead th {\n",
              "        text-align: right;\n",
              "    }\n",
              "</style>\n",
              "<table border=\"1\" class=\"dataframe\">\n",
              "  <thead>\n",
              "    <tr style=\"text-align: right;\">\n",
              "      <th></th>\n",
              "      <th>customer</th>\n",
              "      <th>category</th>\n",
              "      <th>important</th>\n",
              "      <th>sales_x</th>\n",
              "      <th>color</th>\n",
              "      <th>distance</th>\n",
              "      <th>sales_y</th>\n",
              "    </tr>\n",
              "  </thead>\n",
              "  <tbody>\n",
              "    <tr>\n",
              "      <th>0</th>\n",
              "      <td>101</td>\n",
              "      <td>cat2</td>\n",
              "      <td>yes</td>\n",
              "      <td>123</td>\n",
              "      <td>yellow</td>\n",
              "      <td>12</td>\n",
              "      <td>123</td>\n",
              "    </tr>\n",
              "    <tr>\n",
              "      <th>1</th>\n",
              "      <td>103</td>\n",
              "      <td>cat1</td>\n",
              "      <td>yes</td>\n",
              "      <td>214</td>\n",
              "      <td>green</td>\n",
              "      <td>9</td>\n",
              "      <td>214</td>\n",
              "    </tr>\n",
              "    <tr>\n",
              "      <th>2</th>\n",
              "      <td>104</td>\n",
              "      <td>cat3</td>\n",
              "      <td>yes</td>\n",
              "      <td>663</td>\n",
              "      <td>green</td>\n",
              "      <td>44</td>\n",
              "      <td>663</td>\n",
              "    </tr>\n",
              "  </tbody>\n",
              "</table>\n",
              "</div>"
            ],
            "text/plain": [
              "  customer category important  sales_x   color  distance  sales_y\n",
              "0      101     cat2       yes      123  yellow        12      123\n",
              "1      103     cat1       yes      214   green         9      214\n",
              "2      104     cat3       yes      663   green        44      663"
            ]
          },
          "execution_count": 117,
          "metadata": {},
          "output_type": "execute_result"
        }
      ],
      "source": [
        "pd.merge(df7,df8,how='inner',on='customer') # inner merge is intersection of on"
      ]
    },
    {
      "cell_type": "code",
      "execution_count": null,
      "metadata": {
        "scrolled": false,
        "id": "WIqc8fufba8a",
        "outputId": "595e3f1a-5ed0-4ffc-c902-ef55c1b36d0d"
      },
      "outputs": [
        {
          "data": {
            "text/html": [
              "<div>\n",
              "<style scoped>\n",
              "    .dataframe tbody tr th:only-of-type {\n",
              "        vertical-align: middle;\n",
              "    }\n",
              "\n",
              "    .dataframe tbody tr th {\n",
              "        vertical-align: top;\n",
              "    }\n",
              "\n",
              "    .dataframe thead th {\n",
              "        text-align: right;\n",
              "    }\n",
              "</style>\n",
              "<table border=\"1\" class=\"dataframe\">\n",
              "  <thead>\n",
              "    <tr style=\"text-align: right;\">\n",
              "      <th></th>\n",
              "      <th>customer</th>\n",
              "      <th>category</th>\n",
              "      <th>important</th>\n",
              "      <th>sales_x</th>\n",
              "      <th>color</th>\n",
              "      <th>distance</th>\n",
              "      <th>sales_y</th>\n",
              "    </tr>\n",
              "  </thead>\n",
              "  <tbody>\n",
              "    <tr>\n",
              "      <th>0</th>\n",
              "      <td>101</td>\n",
              "      <td>cat2</td>\n",
              "      <td>yes</td>\n",
              "      <td>123.0</td>\n",
              "      <td>yellow</td>\n",
              "      <td>12</td>\n",
              "      <td>123</td>\n",
              "    </tr>\n",
              "    <tr>\n",
              "      <th>1</th>\n",
              "      <td>103</td>\n",
              "      <td>cat1</td>\n",
              "      <td>yes</td>\n",
              "      <td>214.0</td>\n",
              "      <td>green</td>\n",
              "      <td>9</td>\n",
              "      <td>214</td>\n",
              "    </tr>\n",
              "    <tr>\n",
              "      <th>2</th>\n",
              "      <td>104</td>\n",
              "      <td>cat3</td>\n",
              "      <td>yes</td>\n",
              "      <td>663.0</td>\n",
              "      <td>green</td>\n",
              "      <td>44</td>\n",
              "      <td>663</td>\n",
              "    </tr>\n",
              "    <tr>\n",
              "      <th>3</th>\n",
              "      <td>105</td>\n",
              "      <td>NaN</td>\n",
              "      <td>NaN</td>\n",
              "      <td>NaN</td>\n",
              "      <td>blue</td>\n",
              "      <td>21</td>\n",
              "      <td>331</td>\n",
              "    </tr>\n",
              "  </tbody>\n",
              "</table>\n",
              "</div>"
            ],
            "text/plain": [
              "  customer category important  sales_x   color  distance  sales_y\n",
              "0      101     cat2       yes    123.0  yellow        12      123\n",
              "1      103     cat1       yes    214.0   green         9      214\n",
              "2      104     cat3       yes    663.0   green        44      663\n",
              "3      105      NaN       NaN      NaN    blue        21      331"
            ]
          },
          "execution_count": 118,
          "metadata": {},
          "output_type": "execute_result"
        }
      ],
      "source": [
        "pd.merge(df7,df8,'right','customer') # left merge is just first on, but all columns ... right is second"
      ]
    },
    {
      "cell_type": "code",
      "execution_count": null,
      "metadata": {
        "id": "zDQSdbNfba8a",
        "outputId": "152343d3-e01d-4aa5-dc2c-29238a7b07ed"
      },
      "outputs": [
        {
          "data": {
            "text/html": [
              "<div>\n",
              "<style scoped>\n",
              "    .dataframe tbody tr th:only-of-type {\n",
              "        vertical-align: middle;\n",
              "    }\n",
              "\n",
              "    .dataframe tbody tr th {\n",
              "        vertical-align: top;\n",
              "    }\n",
              "\n",
              "    .dataframe thead th {\n",
              "        text-align: right;\n",
              "    }\n",
              "</style>\n",
              "<table border=\"1\" class=\"dataframe\">\n",
              "  <thead>\n",
              "    <tr style=\"text-align: right;\">\n",
              "      <th></th>\n",
              "      <th>customer</th>\n",
              "      <th>category</th>\n",
              "      <th>important</th>\n",
              "      <th>sales_x</th>\n",
              "      <th>color</th>\n",
              "      <th>distance</th>\n",
              "      <th>sales_y</th>\n",
              "    </tr>\n",
              "  </thead>\n",
              "  <tbody>\n",
              "    <tr>\n",
              "      <th>0</th>\n",
              "      <td>101</td>\n",
              "      <td>cat2</td>\n",
              "      <td>yes</td>\n",
              "      <td>123.0</td>\n",
              "      <td>yellow</td>\n",
              "      <td>12.0</td>\n",
              "      <td>123.0</td>\n",
              "    </tr>\n",
              "    <tr>\n",
              "      <th>1</th>\n",
              "      <td>102</td>\n",
              "      <td>cat2</td>\n",
              "      <td>no</td>\n",
              "      <td>52.0</td>\n",
              "      <td>NaN</td>\n",
              "      <td>NaN</td>\n",
              "      <td>NaN</td>\n",
              "    </tr>\n",
              "    <tr>\n",
              "      <th>2</th>\n",
              "      <td>103</td>\n",
              "      <td>cat1</td>\n",
              "      <td>yes</td>\n",
              "      <td>214.0</td>\n",
              "      <td>green</td>\n",
              "      <td>9.0</td>\n",
              "      <td>214.0</td>\n",
              "    </tr>\n",
              "    <tr>\n",
              "      <th>3</th>\n",
              "      <td>104</td>\n",
              "      <td>cat3</td>\n",
              "      <td>yes</td>\n",
              "      <td>663.0</td>\n",
              "      <td>green</td>\n",
              "      <td>44.0</td>\n",
              "      <td>663.0</td>\n",
              "    </tr>\n",
              "    <tr>\n",
              "      <th>4</th>\n",
              "      <td>105</td>\n",
              "      <td>NaN</td>\n",
              "      <td>NaN</td>\n",
              "      <td>NaN</td>\n",
              "      <td>blue</td>\n",
              "      <td>21.0</td>\n",
              "      <td>331.0</td>\n",
              "    </tr>\n",
              "  </tbody>\n",
              "</table>\n",
              "</div>"
            ],
            "text/plain": [
              "  customer category important  sales_x   color  distance  sales_y\n",
              "0      101     cat2       yes    123.0  yellow      12.0    123.0\n",
              "1      102     cat2        no     52.0     NaN       NaN      NaN\n",
              "2      103     cat1       yes    214.0   green       9.0    214.0\n",
              "3      104     cat3       yes    663.0   green      44.0    663.0\n",
              "4      105      NaN       NaN      NaN    blue      21.0    331.0"
            ]
          },
          "execution_count": 119,
          "metadata": {},
          "output_type": "execute_result"
        }
      ],
      "source": [
        "pd.merge(df7,df8,'outer','customer') # left merge is just first on, but all columns ... right is second"
      ]
    },
    {
      "cell_type": "code",
      "execution_count": null,
      "metadata": {
        "id": "HoImaC6fba8a"
      },
      "outputs": [],
      "source": [
        "df9 = pd.DataFrame({'Q1': [101,102,103],\n",
        "                    'Q2': [201,202,203]},\n",
        "                   index=['I0','I1','I2'])\n",
        "\n",
        "df10 = pd.DataFrame({'Q3': [301,302,303],\n",
        "                    'Q4': [401,402,403]},\n",
        "                   index=['I0','I2','I3'])"
      ]
    },
    {
      "cell_type": "code",
      "execution_count": null,
      "metadata": {
        "id": "Hsq3zaKvba8a",
        "outputId": "1b4dcbb6-a2a4-43c3-c3f8-42e1b45ae721"
      },
      "outputs": [
        {
          "name": "stdout",
          "output_type": "stream",
          "text": [
            "     Q1   Q2\n",
            "I0  101  201\n",
            "I1  102  202\n",
            "I2  103  203\n",
            "\n",
            "     Q3   Q4\n",
            "I0  301  401\n",
            "I2  302  402\n",
            "I3  303  403\n"
          ]
        }
      ],
      "source": [
        "print(df9)\n",
        "print('')\n",
        "print(df10)"
      ]
    },
    {
      "cell_type": "code",
      "execution_count": null,
      "metadata": {
        "id": "Q3KmT53yba8b",
        "outputId": "a20eee38-3883-4f02-fd04-c08bc55c2b0a"
      },
      "outputs": [
        {
          "data": {
            "text/html": [
              "<div>\n",
              "<style scoped>\n",
              "    .dataframe tbody tr th:only-of-type {\n",
              "        vertical-align: middle;\n",
              "    }\n",
              "\n",
              "    .dataframe tbody tr th {\n",
              "        vertical-align: top;\n",
              "    }\n",
              "\n",
              "    .dataframe thead th {\n",
              "        text-align: right;\n",
              "    }\n",
              "</style>\n",
              "<table border=\"1\" class=\"dataframe\">\n",
              "  <thead>\n",
              "    <tr style=\"text-align: right;\">\n",
              "      <th></th>\n",
              "      <th>Q1</th>\n",
              "      <th>Q2</th>\n",
              "      <th>Q3</th>\n",
              "      <th>Q4</th>\n",
              "    </tr>\n",
              "  </thead>\n",
              "  <tbody>\n",
              "    <tr>\n",
              "      <th>I0</th>\n",
              "      <td>101</td>\n",
              "      <td>201</td>\n",
              "      <td>301.0</td>\n",
              "      <td>401.0</td>\n",
              "    </tr>\n",
              "    <tr>\n",
              "      <th>I1</th>\n",
              "      <td>102</td>\n",
              "      <td>202</td>\n",
              "      <td>NaN</td>\n",
              "      <td>NaN</td>\n",
              "    </tr>\n",
              "    <tr>\n",
              "      <th>I2</th>\n",
              "      <td>103</td>\n",
              "      <td>203</td>\n",
              "      <td>302.0</td>\n",
              "      <td>402.0</td>\n",
              "    </tr>\n",
              "  </tbody>\n",
              "</table>\n",
              "</div>"
            ],
            "text/plain": [
              "     Q1   Q2     Q3     Q4\n",
              "I0  101  201  301.0  401.0\n",
              "I1  102  202    NaN    NaN\n",
              "I2  103  203  302.0  402.0"
            ]
          },
          "execution_count": 123,
          "metadata": {},
          "output_type": "execute_result"
        }
      ],
      "source": [
        "# join behaves just like merge, \n",
        "# except instead of using the values of one of the columns \n",
        "# to combine data frames, it uses the index labels\n",
        "df9.join(df10,how='left') # outer, inner, left, and right work the same as merge"
      ]
    },
    {
      "cell_type": "code",
      "execution_count": null,
      "metadata": {
        "scrolled": true,
        "id": "q7HtGE4Pba8c",
        "outputId": "8b1f7222-0f46-497b-ec47-82ca7d6de992"
      },
      "outputs": [
        {
          "data": {
            "text/plain": [
              "4    yellow\n",
              "5     green\n",
              "6     green\n",
              "7      blue\n",
              "Name: color, dtype: object"
            ]
          },
          "execution_count": 127,
          "metadata": {},
          "output_type": "execute_result"
        }
      ],
      "source": [
        "df8['color']\n",
        "df8.color"
      ]
    },
    {
      "cell_type": "code",
      "execution_count": null,
      "metadata": {
        "id": "j9zODE9dba8c",
        "outputId": "66b463be-1211-4bc2-9499-9740e98f3248"
      },
      "outputs": [
        {
          "data": {
            "text/plain": [
              "3"
            ]
          },
          "execution_count": 134,
          "metadata": {},
          "output_type": "execute_result"
        }
      ],
      "source": [
        "df8.color.nunique()\n",
        "\n",
        "# - unique - gives all unique values\n",
        "# - unique() - output - np.array \n",
        "# - nunique() - number of unique values - len(df.color.unique())"
      ]
    },
    {
      "cell_type": "code",
      "execution_count": null,
      "metadata": {
        "id": "HoKOkaAKba8c",
        "outputId": "07807e3e-5aef-4ad7-f155-c6a1038ab699"
      },
      "outputs": [
        {
          "data": {
            "text/plain": [
              "123    1\n",
              "214    1\n",
              "663    1\n",
              "331    1\n",
              "Name: sales, dtype: int64"
            ]
          },
          "execution_count": 137,
          "metadata": {},
          "output_type": "execute_result"
        }
      ],
      "source": [
        "df8.sales.value_counts()\n",
        "# output - series"
      ]
    },
    {
      "cell_type": "code",
      "execution_count": null,
      "metadata": {
        "id": "RDYLdPoQba8d",
        "outputId": "daa82c34-d1c6-4cc0-ea20-02de3c6c3b10"
      },
      "outputs": [
        {
          "data": {
            "text/plain": [
              "green     2\n",
              "yellow    1\n",
              "blue      1\n",
              "Name: color, dtype: int64"
            ]
          },
          "execution_count": 135,
          "metadata": {},
          "output_type": "execute_result"
        }
      ],
      "source": [
        "df8.color.value_counts()"
      ]
    },
    {
      "cell_type": "code",
      "execution_count": null,
      "metadata": {
        "id": "0Ufm8j2lba8d"
      },
      "outputs": [],
      "source": []
    },
    {
      "cell_type": "code",
      "execution_count": null,
      "metadata": {
        "id": "d1a_zduRba8d"
      },
      "outputs": [],
      "source": []
    },
    {
      "cell_type": "code",
      "execution_count": null,
      "metadata": {
        "id": "V3pAm-ILba8d",
        "outputId": "e89a7a23-2e92-4e86-9d44-a3dbd60e8078"
      },
      "outputs": [
        {
          "data": {
            "text/plain": [
              "array(['yellow', 'green', 'blue'], dtype=object)"
            ]
          },
          "execution_count": 47,
          "metadata": {},
          "output_type": "execute_result"
        }
      ],
      "source": [
        "df8['color'].unique()"
      ]
    },
    {
      "cell_type": "code",
      "execution_count": null,
      "metadata": {
        "id": "ZKlIuprZba8e",
        "outputId": "38739ea6-de53-47b2-c8f6-18bc3ce01d19"
      },
      "outputs": [
        {
          "data": {
            "text/plain": [
              "array(['yellow', 'green', 'blue'], dtype=object)"
            ]
          },
          "execution_count": 121,
          "metadata": {},
          "output_type": "execute_result"
        }
      ],
      "source": [
        "# let's now go over a few more basic functialities of pandas\n",
        "\n",
        "df8['color'].unique()"
      ]
    },
    {
      "cell_type": "code",
      "execution_count": null,
      "metadata": {
        "id": "TlFz1Gipba8e",
        "outputId": "e5ffe9ea-e894-4154-c1ed-755379914f2d"
      },
      "outputs": [
        {
          "data": {
            "text/plain": [
              "green     2\n",
              "yellow    1\n",
              "blue      1\n",
              "Name: color, dtype: int64"
            ]
          },
          "execution_count": 48,
          "metadata": {},
          "output_type": "execute_result"
        }
      ],
      "source": [
        "df8['color'].value_counts()"
      ]
    },
    {
      "cell_type": "code",
      "execution_count": null,
      "metadata": {
        "id": "Z2CV6uAHba8e",
        "outputId": "7e03651d-95fa-4f70-cf0c-9fdfd61c136a"
      },
      "outputs": [
        {
          "data": {
            "text/html": [
              "<div>\n",
              "<style scoped>\n",
              "    .dataframe tbody tr th:only-of-type {\n",
              "        vertical-align: middle;\n",
              "    }\n",
              "\n",
              "    .dataframe tbody tr th {\n",
              "        vertical-align: top;\n",
              "    }\n",
              "\n",
              "    .dataframe thead th {\n",
              "        text-align: right;\n",
              "    }\n",
              "</style>\n",
              "<table border=\"1\" class=\"dataframe\">\n",
              "  <thead>\n",
              "    <tr style=\"text-align: right;\">\n",
              "      <th></th>\n",
              "      <th>Q1</th>\n",
              "      <th>Q2</th>\n",
              "    </tr>\n",
              "  </thead>\n",
              "  <tbody>\n",
              "    <tr>\n",
              "      <th>I0</th>\n",
              "      <td>101</td>\n",
              "      <td>201</td>\n",
              "    </tr>\n",
              "    <tr>\n",
              "      <th>I1</th>\n",
              "      <td>102</td>\n",
              "      <td>202</td>\n",
              "    </tr>\n",
              "    <tr>\n",
              "      <th>I2</th>\n",
              "      <td>103</td>\n",
              "      <td>203</td>\n",
              "    </tr>\n",
              "  </tbody>\n",
              "</table>\n",
              "</div>"
            ],
            "text/plain": [
              "     Q1   Q2\n",
              "I0  101  201\n",
              "I1  102  202\n",
              "I2  103  203"
            ]
          },
          "execution_count": 138,
          "metadata": {},
          "output_type": "execute_result"
        }
      ],
      "source": [
        "df9"
      ]
    },
    {
      "cell_type": "code",
      "execution_count": null,
      "metadata": {
        "id": "2p8015_Yba8e",
        "outputId": "debda2c7-fd0f-4220-e23c-8da241007ca2"
      },
      "outputs": [
        {
          "data": {
            "text/plain": [
              "Q1    102.0\n",
              "Q2    202.0\n",
              "dtype: float64"
            ]
          },
          "execution_count": 140,
          "metadata": {},
          "output_type": "execute_result"
        }
      ],
      "source": [
        "df9.mean(axis=0)"
      ]
    },
    {
      "cell_type": "code",
      "execution_count": null,
      "metadata": {
        "id": "iA8DttRlba8f"
      },
      "outputs": [],
      "source": []
    },
    {
      "cell_type": "code",
      "execution_count": null,
      "metadata": {
        "id": "NV8fGIfRba8f"
      },
      "outputs": [],
      "source": []
    },
    {
      "cell_type": "code",
      "execution_count": null,
      "metadata": {
        "id": "-KqcOlUZba8f"
      },
      "outputs": [],
      "source": []
    },
    {
      "cell_type": "code",
      "execution_count": null,
      "metadata": {
        "id": "LpI5VGnvba8f"
      },
      "outputs": [],
      "source": []
    },
    {
      "cell_type": "code",
      "execution_count": null,
      "metadata": {
        "id": "EVLLJ4fdba8g",
        "outputId": "df84b71f-72a6-40c4-e395-a872cff576cf"
      },
      "outputs": [
        {
          "data": {
            "text/plain": [
              "Q1    102.0\n",
              "Q2    202.0\n",
              "dtype: float64"
            ]
          },
          "execution_count": 54,
          "metadata": {},
          "output_type": "execute_result"
        }
      ],
      "source": [
        "df9.mean(axis=0)"
      ]
    },
    {
      "cell_type": "code",
      "execution_count": null,
      "metadata": {
        "id": "h40EmtGbba8g",
        "outputId": "eb6ae3f4-80c9-4cfc-85a1-1eb5c78992c4"
      },
      "outputs": [
        {
          "data": {
            "text/plain": [
              "Index(['customer', 'color', 'distance', 'sales'], dtype='object')"
            ]
          },
          "execution_count": 141,
          "metadata": {},
          "output_type": "execute_result"
        }
      ],
      "source": [
        "df8.columns"
      ]
    },
    {
      "cell_type": "code",
      "execution_count": null,
      "metadata": {
        "scrolled": true,
        "id": "5ufbyA5cba8g",
        "outputId": "f7574618-4d93-483b-d6f6-7d8efe7ff530"
      },
      "outputs": [
        {
          "data": {
            "text/plain": [
              "4    yellow\n",
              "5     green\n",
              "6     green\n",
              "7      blue\n",
              "Name: color, dtype: object"
            ]
          },
          "execution_count": 142,
          "metadata": {},
          "output_type": "execute_result"
        }
      ],
      "source": [
        "df8['color']"
      ]
    },
    {
      "cell_type": "code",
      "execution_count": null,
      "metadata": {
        "id": "cr_YA6-Jba8g",
        "outputId": "b2eaa4d9-f7f7-4713-b66c-c8665285547f"
      },
      "outputs": [
        {
          "data": {
            "text/html": [
              "<div>\n",
              "<style scoped>\n",
              "    .dataframe tbody tr th:only-of-type {\n",
              "        vertical-align: middle;\n",
              "    }\n",
              "\n",
              "    .dataframe tbody tr th {\n",
              "        vertical-align: top;\n",
              "    }\n",
              "\n",
              "    .dataframe thead th {\n",
              "        text-align: right;\n",
              "    }\n",
              "</style>\n",
              "<table border=\"1\" class=\"dataframe\">\n",
              "  <thead>\n",
              "    <tr style=\"text-align: right;\">\n",
              "      <th></th>\n",
              "      <th>customer</th>\n",
              "      <th>color</th>\n",
              "      <th>distance</th>\n",
              "      <th>sales</th>\n",
              "    </tr>\n",
              "  </thead>\n",
              "  <tbody>\n",
              "    <tr>\n",
              "      <th>4</th>\n",
              "      <td>101</td>\n",
              "      <td>yellow</td>\n",
              "      <td>12</td>\n",
              "      <td>123</td>\n",
              "    </tr>\n",
              "    <tr>\n",
              "      <th>5</th>\n",
              "      <td>103</td>\n",
              "      <td>green</td>\n",
              "      <td>9</td>\n",
              "      <td>214</td>\n",
              "    </tr>\n",
              "    <tr>\n",
              "      <th>6</th>\n",
              "      <td>104</td>\n",
              "      <td>green</td>\n",
              "      <td>44</td>\n",
              "      <td>663</td>\n",
              "    </tr>\n",
              "    <tr>\n",
              "      <th>7</th>\n",
              "      <td>105</td>\n",
              "      <td>blue</td>\n",
              "      <td>21</td>\n",
              "      <td>331</td>\n",
              "    </tr>\n",
              "  </tbody>\n",
              "</table>\n",
              "</div>"
            ],
            "text/plain": [
              "  customer   color  distance  sales\n",
              "4      101  yellow        12    123\n",
              "5      103   green         9    214\n",
              "6      104   green        44    663\n",
              "7      105    blue        21    331"
            ]
          },
          "execution_count": 143,
          "metadata": {},
          "output_type": "execute_result"
        }
      ],
      "source": [
        "df8"
      ]
    },
    {
      "cell_type": "code",
      "execution_count": null,
      "metadata": {
        "scrolled": true,
        "id": "Tp-8Z2bAba8h",
        "outputId": "b521846e-ed8c-482c-9946-cccaff3402cf"
      },
      "outputs": [
        {
          "data": {
            "text/html": [
              "<div>\n",
              "<style scoped>\n",
              "    .dataframe tbody tr th:only-of-type {\n",
              "        vertical-align: middle;\n",
              "    }\n",
              "\n",
              "    .dataframe tbody tr th {\n",
              "        vertical-align: top;\n",
              "    }\n",
              "\n",
              "    .dataframe thead th {\n",
              "        text-align: right;\n",
              "    }\n",
              "</style>\n",
              "<table border=\"1\" class=\"dataframe\">\n",
              "  <thead>\n",
              "    <tr style=\"text-align: right;\">\n",
              "      <th></th>\n",
              "      <th>customer</th>\n",
              "      <th>color</th>\n",
              "      <th>distance</th>\n",
              "      <th>sales</th>\n",
              "    </tr>\n",
              "  </thead>\n",
              "  <tbody>\n",
              "    <tr>\n",
              "      <th>5</th>\n",
              "      <td>103</td>\n",
              "      <td>green</td>\n",
              "      <td>9</td>\n",
              "      <td>214</td>\n",
              "    </tr>\n",
              "    <tr>\n",
              "      <th>6</th>\n",
              "      <td>104</td>\n",
              "      <td>green</td>\n",
              "      <td>44</td>\n",
              "      <td>663</td>\n",
              "    </tr>\n",
              "  </tbody>\n",
              "</table>\n",
              "</div>"
            ],
            "text/plain": [
              "  customer  color  distance  sales\n",
              "5      103  green         9    214\n",
              "6      104  green        44    663"
            ]
          },
          "execution_count": 144,
          "metadata": {},
          "output_type": "execute_result"
        }
      ],
      "source": [
        "# -- rows having color as green\n",
        "df8[df8.color=='green']"
      ]
    },
    {
      "cell_type": "code",
      "execution_count": null,
      "metadata": {
        "scrolled": true,
        "id": "0Kk9k65Qba8h",
        "outputId": "583c55bd-8ed7-4b93-fdb3-365a794c5e33"
      },
      "outputs": [
        {
          "data": {
            "text/html": [
              "<div>\n",
              "<style scoped>\n",
              "    .dataframe tbody tr th:only-of-type {\n",
              "        vertical-align: middle;\n",
              "    }\n",
              "\n",
              "    .dataframe tbody tr th {\n",
              "        vertical-align: top;\n",
              "    }\n",
              "\n",
              "    .dataframe thead th {\n",
              "        text-align: right;\n",
              "    }\n",
              "</style>\n",
              "<table border=\"1\" class=\"dataframe\">\n",
              "  <thead>\n",
              "    <tr style=\"text-align: right;\">\n",
              "      <th></th>\n",
              "      <th>color</th>\n",
              "      <th>distance</th>\n",
              "    </tr>\n",
              "  </thead>\n",
              "  <tbody>\n",
              "    <tr>\n",
              "      <th>6</th>\n",
              "      <td>green</td>\n",
              "      <td>44</td>\n",
              "    </tr>\n",
              "  </tbody>\n",
              "</table>\n",
              "</div>"
            ],
            "text/plain": [
              "   color  distance\n",
              "6  green        44"
            ]
          },
          "execution_count": 152,
          "metadata": {},
          "output_type": "execute_result"
        }
      ],
      "source": [
        "# Rows having green and distance even\n",
        "df8[(df8.color=='green') & (df8.distance%2==0)][['color','distance']]"
      ]
    },
    {
      "cell_type": "code",
      "execution_count": null,
      "metadata": {
        "id": "dWZCke54ba8h",
        "outputId": "b09b368e-b5ac-4d1a-a5b7-78dc44941664"
      },
      "outputs": [
        {
          "data": {
            "text/html": [
              "<div>\n",
              "<style scoped>\n",
              "    .dataframe tbody tr th:only-of-type {\n",
              "        vertical-align: middle;\n",
              "    }\n",
              "\n",
              "    .dataframe tbody tr th {\n",
              "        vertical-align: top;\n",
              "    }\n",
              "\n",
              "    .dataframe thead th {\n",
              "        text-align: right;\n",
              "    }\n",
              "</style>\n",
              "<table border=\"1\" class=\"dataframe\">\n",
              "  <thead>\n",
              "    <tr style=\"text-align: right;\">\n",
              "      <th></th>\n",
              "      <th>color</th>\n",
              "      <th>distance</th>\n",
              "    </tr>\n",
              "  </thead>\n",
              "  <tbody>\n",
              "    <tr>\n",
              "      <th>6</th>\n",
              "      <td>green</td>\n",
              "      <td>44</td>\n",
              "    </tr>\n",
              "  </tbody>\n",
              "</table>\n",
              "</div>"
            ],
            "text/plain": [
              "   color  distance\n",
              "6  green        44"
            ]
          },
          "execution_count": 147,
          "metadata": {},
          "output_type": "execute_result"
        }
      ],
      "source": [
        "df[['color','distance']]"
      ]
    },
    {
      "cell_type": "code",
      "execution_count": null,
      "metadata": {
        "id": "f48KOpopba8i",
        "outputId": "bfe814bb-cf8b-4f99-9343-36d1c3ae8851"
      },
      "outputs": [
        {
          "data": {
            "text/html": [
              "<div>\n",
              "<style scoped>\n",
              "    .dataframe tbody tr th:only-of-type {\n",
              "        vertical-align: middle;\n",
              "    }\n",
              "\n",
              "    .dataframe tbody tr th {\n",
              "        vertical-align: top;\n",
              "    }\n",
              "\n",
              "    .dataframe thead th {\n",
              "        text-align: right;\n",
              "    }\n",
              "</style>\n",
              "<table border=\"1\" class=\"dataframe\">\n",
              "  <thead>\n",
              "    <tr style=\"text-align: right;\">\n",
              "      <th></th>\n",
              "      <th>customer</th>\n",
              "      <th>color</th>\n",
              "      <th>distance</th>\n",
              "      <th>sales</th>\n",
              "    </tr>\n",
              "  </thead>\n",
              "  <tbody>\n",
              "    <tr>\n",
              "      <th>5</th>\n",
              "      <td>103</td>\n",
              "      <td>green</td>\n",
              "      <td>9</td>\n",
              "      <td>214</td>\n",
              "    </tr>\n",
              "  </tbody>\n",
              "</table>\n",
              "</div>"
            ],
            "text/plain": [
              "  customer  color  distance  sales\n",
              "5      103  green         9    214"
            ]
          },
          "execution_count": 56,
          "metadata": {},
          "output_type": "execute_result"
        }
      ],
      "source": [
        "df8[(df8['color']=='green') & (df8['distance']<10)]"
      ]
    },
    {
      "cell_type": "code",
      "execution_count": null,
      "metadata": {
        "scrolled": true,
        "id": "HDAVaHw0ba8i",
        "outputId": "139df0ed-ebe1-49c8-addf-17da78fa5237"
      },
      "outputs": [
        {
          "data": {
            "text/html": [
              "<div>\n",
              "<style scoped>\n",
              "    .dataframe tbody tr th:only-of-type {\n",
              "        vertical-align: middle;\n",
              "    }\n",
              "\n",
              "    .dataframe tbody tr th {\n",
              "        vertical-align: top;\n",
              "    }\n",
              "\n",
              "    .dataframe thead th {\n",
              "        text-align: right;\n",
              "    }\n",
              "</style>\n",
              "<table border=\"1\" class=\"dataframe\">\n",
              "  <thead>\n",
              "    <tr style=\"text-align: right;\">\n",
              "      <th></th>\n",
              "      <th>customer</th>\n",
              "      <th>color</th>\n",
              "      <th>distance</th>\n",
              "      <th>sales</th>\n",
              "    </tr>\n",
              "  </thead>\n",
              "  <tbody>\n",
              "    <tr>\n",
              "      <th>4</th>\n",
              "      <td>101</td>\n",
              "      <td>yellow</td>\n",
              "      <td>12</td>\n",
              "      <td>123</td>\n",
              "    </tr>\n",
              "    <tr>\n",
              "      <th>5</th>\n",
              "      <td>103</td>\n",
              "      <td>green</td>\n",
              "      <td>9</td>\n",
              "      <td>214</td>\n",
              "    </tr>\n",
              "    <tr>\n",
              "      <th>6</th>\n",
              "      <td>104</td>\n",
              "      <td>green</td>\n",
              "      <td>44</td>\n",
              "      <td>663</td>\n",
              "    </tr>\n",
              "    <tr>\n",
              "      <th>7</th>\n",
              "      <td>105</td>\n",
              "      <td>blue</td>\n",
              "      <td>21</td>\n",
              "      <td>331</td>\n",
              "    </tr>\n",
              "  </tbody>\n",
              "</table>\n",
              "</div>"
            ],
            "text/plain": [
              "  customer   color  distance  sales\n",
              "4      101  yellow        12    123\n",
              "5      103   green         9    214\n",
              "6      104   green        44    663\n",
              "7      105    blue        21    331"
            ]
          },
          "execution_count": 127,
          "metadata": {},
          "output_type": "execute_result"
        }
      ],
      "source": [
        "df8"
      ]
    },
    {
      "cell_type": "code",
      "execution_count": null,
      "metadata": {
        "id": "B8CGLLAkba8i",
        "outputId": "3c69659d-afb8-4b64-f1d6-3a8e26b193c1"
      },
      "outputs": [
        {
          "data": {
            "text/html": [
              "<div>\n",
              "<style scoped>\n",
              "    .dataframe tbody tr th:only-of-type {\n",
              "        vertical-align: middle;\n",
              "    }\n",
              "\n",
              "    .dataframe tbody tr th {\n",
              "        vertical-align: top;\n",
              "    }\n",
              "\n",
              "    .dataframe thead th {\n",
              "        text-align: right;\n",
              "    }\n",
              "</style>\n",
              "<table border=\"1\" class=\"dataframe\">\n",
              "  <thead>\n",
              "    <tr style=\"text-align: right;\">\n",
              "      <th></th>\n",
              "      <th>customer</th>\n",
              "      <th>color</th>\n",
              "      <th>distance</th>\n",
              "      <th>sales</th>\n",
              "    </tr>\n",
              "  </thead>\n",
              "  <tbody>\n",
              "    <tr>\n",
              "      <th>5</th>\n",
              "      <td>103</td>\n",
              "      <td>green</td>\n",
              "      <td>9</td>\n",
              "      <td>214</td>\n",
              "    </tr>\n",
              "  </tbody>\n",
              "</table>\n",
              "</div>"
            ],
            "text/plain": [
              "  customer  color  distance  sales\n",
              "5      103  green         9    214"
            ]
          },
          "execution_count": 136,
          "metadata": {},
          "output_type": "execute_result"
        }
      ],
      "source": [
        "df8[(df8['color']=='green') & (df8.distance<10)]\n"
      ]
    },
    {
      "cell_type": "code",
      "execution_count": null,
      "metadata": {
        "id": "2ywsmYnPba8i",
        "outputId": "eb852d89-1641-43a3-c180-754d942cfb89"
      },
      "outputs": [
        {
          "data": {
            "text/plain": [
              "332.75"
            ]
          },
          "execution_count": 154,
          "metadata": {},
          "output_type": "execute_result"
        }
      ],
      "source": [
        "df8.sales.mean()"
      ]
    },
    {
      "cell_type": "code",
      "execution_count": null,
      "metadata": {
        "id": "VlloF9o_ba8j"
      },
      "outputs": [],
      "source": []
    },
    {
      "cell_type": "code",
      "execution_count": null,
      "metadata": {
        "id": "tZ85yPeUba8j"
      },
      "outputs": [],
      "source": []
    },
    {
      "cell_type": "code",
      "execution_count": null,
      "metadata": {
        "id": "MT-PoOzZba8j",
        "outputId": "5c88afde-3dad-4a28-990e-41b92fd3a715"
      },
      "outputs": [
        {
          "name": "stdout",
          "output_type": "stream",
          "text": [
            "1331\n"
          ]
        },
        {
          "data": {
            "text/plain": [
              "9"
            ]
          },
          "execution_count": 138,
          "metadata": {},
          "output_type": "execute_result"
        }
      ],
      "source": [
        "print(df8['sales'].sum())\n",
        "# print(df8['distance'].min()) #\n",
        "df8.distance.min()\n"
      ]
    },
    {
      "cell_type": "code",
      "execution_count": null,
      "metadata": {
        "id": "zda5zyLnba8j",
        "outputId": "408896f6-3c40-4051-b2f2-bd8c37045ca1"
      },
      "outputs": [
        {
          "data": {
            "text/html": [
              "<div>\n",
              "<style scoped>\n",
              "    .dataframe tbody tr th:only-of-type {\n",
              "        vertical-align: middle;\n",
              "    }\n",
              "\n",
              "    .dataframe tbody tr th {\n",
              "        vertical-align: top;\n",
              "    }\n",
              "\n",
              "    .dataframe thead th {\n",
              "        text-align: right;\n",
              "    }\n",
              "</style>\n",
              "<table border=\"1\" class=\"dataframe\">\n",
              "  <thead>\n",
              "    <tr style=\"text-align: right;\">\n",
              "      <th></th>\n",
              "      <th>customer</th>\n",
              "      <th>color</th>\n",
              "      <th>distance</th>\n",
              "      <th>sales</th>\n",
              "    </tr>\n",
              "  </thead>\n",
              "  <tbody>\n",
              "    <tr>\n",
              "      <th>4</th>\n",
              "      <td>101</td>\n",
              "      <td>yellow</td>\n",
              "      <td>12</td>\n",
              "      <td>123</td>\n",
              "    </tr>\n",
              "    <tr>\n",
              "      <th>5</th>\n",
              "      <td>103</td>\n",
              "      <td>green</td>\n",
              "      <td>9</td>\n",
              "      <td>214</td>\n",
              "    </tr>\n",
              "    <tr>\n",
              "      <th>6</th>\n",
              "      <td>104</td>\n",
              "      <td>green</td>\n",
              "      <td>44</td>\n",
              "      <td>663</td>\n",
              "    </tr>\n",
              "    <tr>\n",
              "      <th>7</th>\n",
              "      <td>105</td>\n",
              "      <td>blue</td>\n",
              "      <td>21</td>\n",
              "      <td>331</td>\n",
              "    </tr>\n",
              "  </tbody>\n",
              "</table>\n",
              "</div>"
            ],
            "text/plain": [
              "  customer   color  distance  sales\n",
              "4      101  yellow        12    123\n",
              "5      103   green         9    214\n",
              "6      104   green        44    663\n",
              "7      105    blue        21    331"
            ]
          },
          "execution_count": 155,
          "metadata": {},
          "output_type": "execute_result"
        }
      ],
      "source": [
        "df8"
      ]
    },
    {
      "cell_type": "code",
      "execution_count": null,
      "metadata": {
        "id": "F4vS4EFmba8k"
      },
      "outputs": [],
      "source": [
        "df8['profit']=df8.sales*0.2"
      ]
    },
    {
      "cell_type": "code",
      "execution_count": null,
      "metadata": {
        "id": "XGzXdZ_Bba8k",
        "outputId": "43cf642e-126f-4932-9587-39ea0f4c245d"
      },
      "outputs": [
        {
          "data": {
            "text/html": [
              "<div>\n",
              "<style scoped>\n",
              "    .dataframe tbody tr th:only-of-type {\n",
              "        vertical-align: middle;\n",
              "    }\n",
              "\n",
              "    .dataframe tbody tr th {\n",
              "        vertical-align: top;\n",
              "    }\n",
              "\n",
              "    .dataframe thead th {\n",
              "        text-align: right;\n",
              "    }\n",
              "</style>\n",
              "<table border=\"1\" class=\"dataframe\">\n",
              "  <thead>\n",
              "    <tr style=\"text-align: right;\">\n",
              "      <th></th>\n",
              "      <th>customer</th>\n",
              "      <th>color</th>\n",
              "      <th>distance</th>\n",
              "      <th>sales</th>\n",
              "      <th>profit</th>\n",
              "    </tr>\n",
              "  </thead>\n",
              "  <tbody>\n",
              "    <tr>\n",
              "      <th>4</th>\n",
              "      <td>101</td>\n",
              "      <td>yellow</td>\n",
              "      <td>12</td>\n",
              "      <td>123</td>\n",
              "      <td>24.6</td>\n",
              "    </tr>\n",
              "    <tr>\n",
              "      <th>5</th>\n",
              "      <td>103</td>\n",
              "      <td>green</td>\n",
              "      <td>9</td>\n",
              "      <td>214</td>\n",
              "      <td>42.8</td>\n",
              "    </tr>\n",
              "    <tr>\n",
              "      <th>6</th>\n",
              "      <td>104</td>\n",
              "      <td>green</td>\n",
              "      <td>44</td>\n",
              "      <td>663</td>\n",
              "      <td>132.6</td>\n",
              "    </tr>\n",
              "    <tr>\n",
              "      <th>7</th>\n",
              "      <td>105</td>\n",
              "      <td>blue</td>\n",
              "      <td>21</td>\n",
              "      <td>331</td>\n",
              "      <td>66.2</td>\n",
              "    </tr>\n",
              "  </tbody>\n",
              "</table>\n",
              "</div>"
            ],
            "text/plain": [
              "  customer   color  distance  sales  profit\n",
              "4      101  yellow        12    123    24.6\n",
              "5      103   green         9    214    42.8\n",
              "6      104   green        44    663   132.6\n",
              "7      105    blue        21    331    66.2"
            ]
          },
          "execution_count": 157,
          "metadata": {},
          "output_type": "execute_result"
        }
      ],
      "source": [
        "df8"
      ]
    },
    {
      "cell_type": "code",
      "execution_count": null,
      "metadata": {
        "id": "00IMpITGba8k"
      },
      "outputs": [],
      "source": [
        "def profit(s):\n",
        "    return s*20/100"
      ]
    },
    {
      "cell_type": "code",
      "execution_count": null,
      "metadata": {
        "id": "6sJA-ps8ba8l"
      },
      "outputs": [],
      "source": [
        "df8['profit1']=df8.sales.apply(profit)"
      ]
    },
    {
      "cell_type": "code",
      "execution_count": null,
      "metadata": {
        "id": "td9x1iC2ba8l"
      },
      "outputs": [],
      "source": [
        "df8['discount']=df8.profit.apply(lambda x:x/2)"
      ]
    },
    {
      "cell_type": "code",
      "execution_count": null,
      "metadata": {
        "id": "tiCPnfD0ba8m",
        "outputId": "89b55657-44d3-492c-d02a-ffa15a9f4ff6"
      },
      "outputs": [
        {
          "data": {
            "text/html": [
              "<div>\n",
              "<style scoped>\n",
              "    .dataframe tbody tr th:only-of-type {\n",
              "        vertical-align: middle;\n",
              "    }\n",
              "\n",
              "    .dataframe tbody tr th {\n",
              "        vertical-align: top;\n",
              "    }\n",
              "\n",
              "    .dataframe thead th {\n",
              "        text-align: right;\n",
              "    }\n",
              "</style>\n",
              "<table border=\"1\" class=\"dataframe\">\n",
              "  <thead>\n",
              "    <tr style=\"text-align: right;\">\n",
              "      <th></th>\n",
              "      <th>customer</th>\n",
              "      <th>color</th>\n",
              "      <th>distance</th>\n",
              "      <th>sales</th>\n",
              "      <th>profit</th>\n",
              "      <th>profit1</th>\n",
              "      <th>discount</th>\n",
              "    </tr>\n",
              "  </thead>\n",
              "  <tbody>\n",
              "    <tr>\n",
              "      <th>4</th>\n",
              "      <td>101</td>\n",
              "      <td>yellow</td>\n",
              "      <td>12</td>\n",
              "      <td>123</td>\n",
              "      <td>24.6</td>\n",
              "      <td>24.6</td>\n",
              "      <td>12.3</td>\n",
              "    </tr>\n",
              "    <tr>\n",
              "      <th>5</th>\n",
              "      <td>103</td>\n",
              "      <td>green</td>\n",
              "      <td>9</td>\n",
              "      <td>214</td>\n",
              "      <td>42.8</td>\n",
              "      <td>42.8</td>\n",
              "      <td>21.4</td>\n",
              "    </tr>\n",
              "    <tr>\n",
              "      <th>6</th>\n",
              "      <td>104</td>\n",
              "      <td>green</td>\n",
              "      <td>44</td>\n",
              "      <td>663</td>\n",
              "      <td>132.6</td>\n",
              "      <td>132.6</td>\n",
              "      <td>66.3</td>\n",
              "    </tr>\n",
              "    <tr>\n",
              "      <th>7</th>\n",
              "      <td>105</td>\n",
              "      <td>blue</td>\n",
              "      <td>21</td>\n",
              "      <td>331</td>\n",
              "      <td>66.2</td>\n",
              "      <td>66.2</td>\n",
              "      <td>33.1</td>\n",
              "    </tr>\n",
              "  </tbody>\n",
              "</table>\n",
              "</div>"
            ],
            "text/plain": [
              "  customer   color  distance  sales  profit  profit1  discount\n",
              "4      101  yellow        12    123    24.6     24.6      12.3\n",
              "5      103   green         9    214    42.8     42.8      21.4\n",
              "6      104   green        44    663   132.6    132.6      66.3\n",
              "7      105    blue        21    331    66.2     66.2      33.1"
            ]
          },
          "execution_count": 166,
          "metadata": {},
          "output_type": "execute_result"
        }
      ],
      "source": [
        "df8"
      ]
    },
    {
      "cell_type": "code",
      "execution_count": null,
      "metadata": {
        "id": "8K26PaMfba8t"
      },
      "outputs": [],
      "source": []
    },
    {
      "cell_type": "code",
      "execution_count": null,
      "metadata": {
        "id": "1Ee7S_wbba8t"
      },
      "outputs": [],
      "source": []
    },
    {
      "cell_type": "code",
      "execution_count": null,
      "metadata": {
        "id": "Nqu171bZba8t"
      },
      "outputs": [],
      "source": []
    },
    {
      "cell_type": "code",
      "execution_count": null,
      "metadata": {
        "id": "V7GdATAwba8t"
      },
      "outputs": [],
      "source": [
        "def profit(s):\n",
        "    return s*0.5 # 50% markup..."
      ]
    },
    {
      "cell_type": "code",
      "execution_count": null,
      "metadata": {
        "id": "gDXFaMkuba8u",
        "outputId": "7683579f-95bf-474d-b8b3-6e80a45a5c93"
      },
      "outputs": [
        {
          "data": {
            "text/plain": [
              "4    123\n",
              "5    214\n",
              "6    663\n",
              "7    331\n",
              "Name: sales, dtype: int64"
            ]
          },
          "execution_count": 63,
          "metadata": {},
          "output_type": "execute_result"
        }
      ],
      "source": [
        "df8['sales']"
      ]
    },
    {
      "cell_type": "code",
      "execution_count": null,
      "metadata": {
        "id": "nQrI2Cidba8u",
        "outputId": "cf07cb9b-19cd-4922-ad1e-01e001135bc8"
      },
      "outputs": [
        {
          "data": {
            "text/plain": [
              "4     61.5\n",
              "5    107.0\n",
              "6    331.5\n",
              "7    165.5\n",
              "Name: sales, dtype: float64"
            ]
          },
          "execution_count": 62,
          "metadata": {},
          "output_type": "execute_result"
        }
      ],
      "source": [
        "df8['sales'].apply(profit)"
      ]
    },
    {
      "cell_type": "code",
      "execution_count": null,
      "metadata": {
        "id": "eXhvLQOOba8u",
        "outputId": "b578f133-6693-49a8-f4cc-c7dde606d629"
      },
      "outputs": [
        {
          "data": {
            "text/plain": [
              "4    6\n",
              "5    5\n",
              "6    5\n",
              "7    4\n",
              "Name: color, dtype: int64"
            ]
          },
          "execution_count": 64,
          "metadata": {},
          "output_type": "execute_result"
        }
      ],
      "source": [
        "df8['color'].apply(len)"
      ]
    },
    {
      "cell_type": "code",
      "execution_count": null,
      "metadata": {
        "id": "LIMTpAClba8u",
        "outputId": "dc4224ab-e858-4c3e-adea-ccd45d9bc364"
      },
      "outputs": [
        {
          "data": {
            "text/html": [
              "<div>\n",
              "<style scoped>\n",
              "    .dataframe tbody tr th:only-of-type {\n",
              "        vertical-align: middle;\n",
              "    }\n",
              "\n",
              "    .dataframe tbody tr th {\n",
              "        vertical-align: top;\n",
              "    }\n",
              "\n",
              "    .dataframe thead th {\n",
              "        text-align: right;\n",
              "    }\n",
              "</style>\n",
              "<table border=\"1\" class=\"dataframe\">\n",
              "  <thead>\n",
              "    <tr style=\"text-align: right;\">\n",
              "      <th></th>\n",
              "      <th>distance</th>\n",
              "      <th>sales</th>\n",
              "    </tr>\n",
              "  </thead>\n",
              "  <tbody>\n",
              "    <tr>\n",
              "      <th>4</th>\n",
              "      <td>6.0</td>\n",
              "      <td>61.5</td>\n",
              "    </tr>\n",
              "    <tr>\n",
              "      <th>5</th>\n",
              "      <td>4.5</td>\n",
              "      <td>107.0</td>\n",
              "    </tr>\n",
              "    <tr>\n",
              "      <th>6</th>\n",
              "      <td>22.0</td>\n",
              "      <td>331.5</td>\n",
              "    </tr>\n",
              "    <tr>\n",
              "      <th>7</th>\n",
              "      <td>10.5</td>\n",
              "      <td>165.5</td>\n",
              "    </tr>\n",
              "  </tbody>\n",
              "</table>\n",
              "</div>"
            ],
            "text/plain": [
              "   distance  sales\n",
              "4       6.0   61.5\n",
              "5       4.5  107.0\n",
              "6      22.0  331.5\n",
              "7      10.5  165.5"
            ]
          },
          "execution_count": 65,
          "metadata": {},
          "output_type": "execute_result"
        }
      ],
      "source": [
        "df11 = df8[['distance','sales']]\n",
        "df11.applymap(profit)\n",
        "# df11"
      ]
    },
    {
      "cell_type": "code",
      "execution_count": null,
      "metadata": {
        "id": "nqPOnmrpba8v",
        "outputId": "4b217850-02f8-444b-8a11-89d4e9376fc6"
      },
      "outputs": [
        {
          "data": {
            "text/html": [
              "<div>\n",
              "<style scoped>\n",
              "    .dataframe tbody tr th:only-of-type {\n",
              "        vertical-align: middle;\n",
              "    }\n",
              "\n",
              "    .dataframe tbody tr th {\n",
              "        vertical-align: top;\n",
              "    }\n",
              "\n",
              "    .dataframe thead th {\n",
              "        text-align: right;\n",
              "    }\n",
              "</style>\n",
              "<table border=\"1\" class=\"dataframe\">\n",
              "  <thead>\n",
              "    <tr style=\"text-align: right;\">\n",
              "      <th></th>\n",
              "      <th>distance</th>\n",
              "      <th>sales</th>\n",
              "    </tr>\n",
              "  </thead>\n",
              "  <tbody>\n",
              "    <tr>\n",
              "      <th>4</th>\n",
              "      <td>12</td>\n",
              "      <td>123</td>\n",
              "    </tr>\n",
              "    <tr>\n",
              "      <th>5</th>\n",
              "      <td>9</td>\n",
              "      <td>214</td>\n",
              "    </tr>\n",
              "    <tr>\n",
              "      <th>6</th>\n",
              "      <td>44</td>\n",
              "      <td>663</td>\n",
              "    </tr>\n",
              "    <tr>\n",
              "      <th>7</th>\n",
              "      <td>21</td>\n",
              "      <td>331</td>\n",
              "    </tr>\n",
              "  </tbody>\n",
              "</table>\n",
              "</div>"
            ],
            "text/plain": [
              "   distance  sales\n",
              "4        12    123\n",
              "5         9    214\n",
              "6        44    663\n",
              "7        21    331"
            ]
          },
          "execution_count": 66,
          "metadata": {},
          "output_type": "execute_result"
        }
      ],
      "source": [
        "df11"
      ]
    },
    {
      "cell_type": "code",
      "execution_count": null,
      "metadata": {
        "id": "eH5-NTivba8v",
        "outputId": "ad92e5b1-8ea4-4f13-bcf8-373b9e721bb6"
      },
      "outputs": [
        {
          "data": {
            "text/plain": [
              "distance      86\n",
              "sales       1331\n",
              "dtype: int64"
            ]
          },
          "execution_count": 149,
          "metadata": {},
          "output_type": "execute_result"
        }
      ],
      "source": [
        "def col_sum(abc):\n",
        "    return sum(abc)\n",
        "df11.apply(col_sum)"
      ]
    },
    {
      "cell_type": "code",
      "execution_count": null,
      "metadata": {
        "id": "okYBTpJsba8v"
      },
      "outputs": [],
      "source": [
        "del df11"
      ]
    },
    {
      "cell_type": "code",
      "execution_count": null,
      "metadata": {
        "id": "gOpxzdD4ba8w",
        "outputId": "9ce51e93-8fb5-4e9d-fa1b-ab0c38c81ee4"
      },
      "outputs": [
        {
          "ename": "NameError",
          "evalue": "name 'df11' is not defined",
          "output_type": "error",
          "traceback": [
            "\u001b[1;31m---------------------------------------------------------------------------\u001b[0m",
            "\u001b[1;31mNameError\u001b[0m                                 Traceback (most recent call last)",
            "Input \u001b[1;32mIn [68]\u001b[0m, in \u001b[0;36m<cell line: 1>\u001b[1;34m()\u001b[0m\n\u001b[1;32m----> 1\u001b[0m \u001b[43mdf11\u001b[49m\n",
            "\u001b[1;31mNameError\u001b[0m: name 'df11' is not defined"
          ]
        }
      ],
      "source": [
        "df11"
      ]
    },
    {
      "cell_type": "code",
      "execution_count": null,
      "metadata": {
        "id": "cQoo1PiRba8w",
        "outputId": "2fa55d4b-9895-42b4-f1b8-4b0d0872b626"
      },
      "outputs": [
        {
          "data": {
            "text/html": [
              "<div>\n",
              "<style scoped>\n",
              "    .dataframe tbody tr th:only-of-type {\n",
              "        vertical-align: middle;\n",
              "    }\n",
              "\n",
              "    .dataframe tbody tr th {\n",
              "        vertical-align: top;\n",
              "    }\n",
              "\n",
              "    .dataframe thead th {\n",
              "        text-align: right;\n",
              "    }\n",
              "</style>\n",
              "<table border=\"1\" class=\"dataframe\">\n",
              "  <thead>\n",
              "    <tr style=\"text-align: right;\">\n",
              "      <th></th>\n",
              "      <th>customer</th>\n",
              "      <th>distance</th>\n",
              "      <th>sales</th>\n",
              "    </tr>\n",
              "  </thead>\n",
              "  <tbody>\n",
              "    <tr>\n",
              "      <th>4</th>\n",
              "      <td>101</td>\n",
              "      <td>12</td>\n",
              "      <td>123</td>\n",
              "    </tr>\n",
              "    <tr>\n",
              "      <th>5</th>\n",
              "      <td>103</td>\n",
              "      <td>9</td>\n",
              "      <td>214</td>\n",
              "    </tr>\n",
              "    <tr>\n",
              "      <th>6</th>\n",
              "      <td>104</td>\n",
              "      <td>44</td>\n",
              "      <td>663</td>\n",
              "    </tr>\n",
              "    <tr>\n",
              "      <th>7</th>\n",
              "      <td>105</td>\n",
              "      <td>21</td>\n",
              "      <td>331</td>\n",
              "    </tr>\n",
              "  </tbody>\n",
              "</table>\n",
              "</div>"
            ],
            "text/plain": [
              "  customer  distance  sales\n",
              "4      101        12    123\n",
              "5      103         9    214\n",
              "6      104        44    663\n",
              "7      105        21    331"
            ]
          },
          "execution_count": 69,
          "metadata": {},
          "output_type": "execute_result"
        }
      ],
      "source": [
        "del df8['color']\n",
        "df8"
      ]
    },
    {
      "cell_type": "code",
      "execution_count": null,
      "metadata": {
        "id": "tpj_brYgba8w",
        "outputId": "79d14d12-05ec-45df-e728-c6da2f157545"
      },
      "outputs": [
        {
          "data": {
            "text/plain": [
              "Index(['customer', 'distance', 'sales'], dtype='object')"
            ]
          },
          "execution_count": 70,
          "metadata": {},
          "output_type": "execute_result"
        }
      ],
      "source": [
        "df8.columns"
      ]
    },
    {
      "cell_type": "code",
      "execution_count": null,
      "metadata": {
        "id": "7fjlw5M9ba8x",
        "outputId": "429306d6-a442-424b-c5ea-7ff24de8c9b7"
      },
      "outputs": [
        {
          "data": {
            "text/plain": [
              "Int64Index([4, 5, 6, 7], dtype='int64')"
            ]
          },
          "execution_count": 71,
          "metadata": {},
          "output_type": "execute_result"
        }
      ],
      "source": [
        "df8.index"
      ]
    },
    {
      "cell_type": "code",
      "execution_count": null,
      "metadata": {
        "scrolled": true,
        "id": "-0Hq4Eskba8x",
        "outputId": "35610145-dad0-429c-ae10-c691e2cf0480"
      },
      "outputs": [
        {
          "data": {
            "text/html": [
              "<div>\n",
              "<style scoped>\n",
              "    .dataframe tbody tr th:only-of-type {\n",
              "        vertical-align: middle;\n",
              "    }\n",
              "\n",
              "    .dataframe tbody tr th {\n",
              "        vertical-align: top;\n",
              "    }\n",
              "\n",
              "    .dataframe thead th {\n",
              "        text-align: right;\n",
              "    }\n",
              "</style>\n",
              "<table border=\"1\" class=\"dataframe\">\n",
              "  <thead>\n",
              "    <tr style=\"text-align: right;\">\n",
              "      <th></th>\n",
              "      <th>customer</th>\n",
              "      <th>distance</th>\n",
              "      <th>sales</th>\n",
              "    </tr>\n",
              "  </thead>\n",
              "  <tbody>\n",
              "    <tr>\n",
              "      <th>6</th>\n",
              "      <td>104</td>\n",
              "      <td>44</td>\n",
              "      <td>663</td>\n",
              "    </tr>\n",
              "    <tr>\n",
              "      <th>7</th>\n",
              "      <td>105</td>\n",
              "      <td>21</td>\n",
              "      <td>331</td>\n",
              "    </tr>\n",
              "    <tr>\n",
              "      <th>5</th>\n",
              "      <td>103</td>\n",
              "      <td>9</td>\n",
              "      <td>214</td>\n",
              "    </tr>\n",
              "    <tr>\n",
              "      <th>4</th>\n",
              "      <td>101</td>\n",
              "      <td>12</td>\n",
              "      <td>123</td>\n",
              "    </tr>\n",
              "  </tbody>\n",
              "</table>\n",
              "</div>"
            ],
            "text/plain": [
              "  customer  distance  sales\n",
              "6      104        44    663\n",
              "7      105        21    331\n",
              "5      103         9    214\n",
              "4      101        12    123"
            ]
          },
          "execution_count": 72,
          "metadata": {},
          "output_type": "execute_result"
        }
      ],
      "source": [
        "df8.sort_values(by=['sales'],ascending=False,inplace=True)\n",
        "df8"
      ]
    },
    {
      "cell_type": "code",
      "execution_count": null,
      "metadata": {
        "id": "saHRWIKvba8x",
        "outputId": "d2839b7b-e354-4ca3-c823-ee723ab2a3b4"
      },
      "outputs": [
        {
          "data": {
            "text/html": [
              "<div>\n",
              "<style scoped>\n",
              "    .dataframe tbody tr th:only-of-type {\n",
              "        vertical-align: middle;\n",
              "    }\n",
              "\n",
              "    .dataframe tbody tr th {\n",
              "        vertical-align: top;\n",
              "    }\n",
              "\n",
              "    .dataframe thead th {\n",
              "        text-align: right;\n",
              "    }\n",
              "</style>\n",
              "<table border=\"1\" class=\"dataframe\">\n",
              "  <thead>\n",
              "    <tr style=\"text-align: right;\">\n",
              "      <th></th>\n",
              "      <th>customer</th>\n",
              "      <th>distance</th>\n",
              "      <th>sales</th>\n",
              "    </tr>\n",
              "  </thead>\n",
              "  <tbody>\n",
              "    <tr>\n",
              "      <th>6</th>\n",
              "      <td>104</td>\n",
              "      <td>44</td>\n",
              "      <td>663</td>\n",
              "    </tr>\n",
              "    <tr>\n",
              "      <th>7</th>\n",
              "      <td>105</td>\n",
              "      <td>21</td>\n",
              "      <td>331</td>\n",
              "    </tr>\n",
              "    <tr>\n",
              "      <th>5</th>\n",
              "      <td>103</td>\n",
              "      <td>9</td>\n",
              "      <td>214</td>\n",
              "    </tr>\n",
              "    <tr>\n",
              "      <th>4</th>\n",
              "      <td>101</td>\n",
              "      <td>12</td>\n",
              "      <td>123</td>\n",
              "    </tr>\n",
              "  </tbody>\n",
              "</table>\n",
              "</div>"
            ],
            "text/plain": [
              "  customer  distance  sales\n",
              "6      104        44    663\n",
              "7      105        21    331\n",
              "5      103         9    214\n",
              "4      101        12    123"
            ]
          },
          "execution_count": 158,
          "metadata": {},
          "output_type": "execute_result"
        }
      ],
      "source": [
        "df8"
      ]
    },
    {
      "cell_type": "code",
      "execution_count": null,
      "metadata": {
        "id": "cHfZEzXxba8y",
        "outputId": "3c1ce2fc-46db-4276-b341-0b8de70e61bd"
      },
      "outputs": [
        {
          "data": {
            "text/html": [
              "<div>\n",
              "<style scoped>\n",
              "    .dataframe tbody tr th:only-of-type {\n",
              "        vertical-align: middle;\n",
              "    }\n",
              "\n",
              "    .dataframe tbody tr th {\n",
              "        vertical-align: top;\n",
              "    }\n",
              "\n",
              "    .dataframe thead th {\n",
              "        text-align: right;\n",
              "    }\n",
              "</style>\n",
              "<table border=\"1\" class=\"dataframe\">\n",
              "  <thead>\n",
              "    <tr style=\"text-align: right;\">\n",
              "      <th></th>\n",
              "      <th>customer</th>\n",
              "      <th>product1</th>\n",
              "      <th>product2</th>\n",
              "    </tr>\n",
              "  </thead>\n",
              "  <tbody>\n",
              "    <tr>\n",
              "      <th>Purchase 1</th>\n",
              "      <td>Customer 1</td>\n",
              "      <td>1.1</td>\n",
              "      <td>8.20</td>\n",
              "    </tr>\n",
              "    <tr>\n",
              "      <th>Purchase 2</th>\n",
              "      <td>Customer 1</td>\n",
              "      <td>2.1</td>\n",
              "      <td>9.10</td>\n",
              "    </tr>\n",
              "    <tr>\n",
              "      <th>Purchase 3</th>\n",
              "      <td>Customer2</td>\n",
              "      <td>3.8</td>\n",
              "      <td>11.10</td>\n",
              "    </tr>\n",
              "    <tr>\n",
              "      <th>Purchase 4</th>\n",
              "      <td>Customer2</td>\n",
              "      <td>4.2</td>\n",
              "      <td>5.20</td>\n",
              "    </tr>\n",
              "    <tr>\n",
              "      <th>Purchase 5</th>\n",
              "      <td>Customer3</td>\n",
              "      <td>5.5</td>\n",
              "      <td>44.66</td>\n",
              "    </tr>\n",
              "    <tr>\n",
              "      <th>Purchase 6</th>\n",
              "      <td>Customer3</td>\n",
              "      <td>6.9</td>\n",
              "      <td>983.00</td>\n",
              "    </tr>\n",
              "  </tbody>\n",
              "</table>\n",
              "</div>"
            ],
            "text/plain": [
              "              customer  product1  product2\n",
              "Purchase 1  Customer 1       1.1      8.20\n",
              "Purchase 2  Customer 1       2.1      9.10\n",
              "Purchase 3   Customer2       3.8     11.10\n",
              "Purchase 4   Customer2       4.2      5.20\n",
              "Purchase 5   Customer3       5.5     44.66\n",
              "Purchase 6   Customer3       6.9    983.00"
            ]
          },
          "execution_count": 159,
          "metadata": {},
          "output_type": "execute_result"
        }
      ],
      "source": [
        "# if some series has multiple of the same value then we can group all the unique entries together\n",
        "mydict = {'customer': ['Customer 1','Customer 1','Customer2','Customer2','Customer3','Customer3'], \n",
        "          'product1': [1.1,2.1,3.8,4.2,5.5,6.9],\n",
        "          'product2': [8.2,9.1,11.1,5.2,44.66,983]}\n",
        "df6 = pd.DataFrame(mydict,index=['Purchase 1','Purchase 2','Purchase 3','Purchase 4','Purchase 5','Purchase 6'])\n",
        "df6"
      ]
    },
    {
      "cell_type": "code",
      "execution_count": null,
      "metadata": {
        "id": "rf8Rbydjba8z",
        "outputId": "66182d5f-ba46-4548-ff89-23d3ebc2a69e"
      },
      "outputs": [
        {
          "data": {
            "text/html": [
              "<div>\n",
              "<style scoped>\n",
              "    .dataframe tbody tr th:only-of-type {\n",
              "        vertical-align: middle;\n",
              "    }\n",
              "\n",
              "    .dataframe tbody tr th {\n",
              "        vertical-align: top;\n",
              "    }\n",
              "\n",
              "    .dataframe thead th {\n",
              "        text-align: right;\n",
              "    }\n",
              "</style>\n",
              "<table border=\"1\" class=\"dataframe\">\n",
              "  <thead>\n",
              "    <tr style=\"text-align: right;\">\n",
              "      <th></th>\n",
              "      <th>product1</th>\n",
              "      <th>product2</th>\n",
              "    </tr>\n",
              "    <tr>\n",
              "      <th>customer</th>\n",
              "      <th></th>\n",
              "      <th></th>\n",
              "    </tr>\n",
              "  </thead>\n",
              "  <tbody>\n",
              "    <tr>\n",
              "      <th>Customer 1</th>\n",
              "      <td>1.6</td>\n",
              "      <td>8.65</td>\n",
              "    </tr>\n",
              "    <tr>\n",
              "      <th>Customer2</th>\n",
              "      <td>4.0</td>\n",
              "      <td>8.15</td>\n",
              "    </tr>\n",
              "    <tr>\n",
              "      <th>Customer3</th>\n",
              "      <td>6.2</td>\n",
              "      <td>513.83</td>\n",
              "    </tr>\n",
              "  </tbody>\n",
              "</table>\n",
              "</div>"
            ],
            "text/plain": [
              "            product1  product2\n",
              "customer                      \n",
              "Customer 1       1.6      8.65\n",
              "Customer2        4.0      8.15\n",
              "Customer3        6.2    513.83"
            ]
          },
          "execution_count": 163,
          "metadata": {},
          "output_type": "execute_result"
        }
      ],
      "source": [
        "df6.groupby('customer').mean()\n"
      ]
    },
    {
      "cell_type": "code",
      "execution_count": null,
      "metadata": {
        "id": "6YxovLdGba80"
      },
      "outputs": [],
      "source": [
        "df8"
      ]
    },
    {
      "cell_type": "markdown",
      "metadata": {
        "id": "sQtgjupXba81"
      },
      "source": [
        "## Working with a CSV File"
      ]
    },
    {
      "cell_type": "code",
      "execution_count": null,
      "metadata": {
        "id": "YoCSJNVFE2Sg",
        "outputId": "4e465819-da2f-4c29-bd8b-13022cd89277"
      },
      "outputs": [
        {
          "data": {
            "text/html": [
              "<div>\n",
              "<style scoped>\n",
              "    .dataframe tbody tr th:only-of-type {\n",
              "        vertical-align: middle;\n",
              "    }\n",
              "\n",
              "    .dataframe tbody tr th {\n",
              "        vertical-align: top;\n",
              "    }\n",
              "\n",
              "    .dataframe thead th {\n",
              "        text-align: right;\n",
              "    }\n",
              "</style>\n",
              "<table border=\"1\" class=\"dataframe\">\n",
              "  <thead>\n",
              "    <tr style=\"text-align: right;\">\n",
              "      <th></th>\n",
              "      <th>day</th>\n",
              "      <th>temperature</th>\n",
              "      <th>windspeed</th>\n",
              "      <th>event</th>\n",
              "    </tr>\n",
              "  </thead>\n",
              "  <tbody>\n",
              "    <tr>\n",
              "      <th>0</th>\n",
              "      <td>1/1/2017</td>\n",
              "      <td>32</td>\n",
              "      <td>6</td>\n",
              "      <td>Rain</td>\n",
              "    </tr>\n",
              "    <tr>\n",
              "      <th>1</th>\n",
              "      <td>1/2/2017</td>\n",
              "      <td>35</td>\n",
              "      <td>7</td>\n",
              "      <td>Sunny</td>\n",
              "    </tr>\n",
              "    <tr>\n",
              "      <th>2</th>\n",
              "      <td>1/3/2017</td>\n",
              "      <td>28</td>\n",
              "      <td>2</td>\n",
              "      <td>Snow</td>\n",
              "    </tr>\n",
              "    <tr>\n",
              "      <th>3</th>\n",
              "      <td>1/4/2017</td>\n",
              "      <td>24</td>\n",
              "      <td>7</td>\n",
              "      <td>Snow</td>\n",
              "    </tr>\n",
              "    <tr>\n",
              "      <th>4</th>\n",
              "      <td>1/5/2017</td>\n",
              "      <td>32</td>\n",
              "      <td>4</td>\n",
              "      <td>Rain</td>\n",
              "    </tr>\n",
              "    <tr>\n",
              "      <th>5</th>\n",
              "      <td>1/6/2017</td>\n",
              "      <td>31</td>\n",
              "      <td>2</td>\n",
              "      <td>Sunny</td>\n",
              "    </tr>\n",
              "  </tbody>\n",
              "</table>\n",
              "</div>"
            ],
            "text/plain": [
              "        day  temperature  windspeed  event\n",
              "0  1/1/2017           32          6   Rain\n",
              "1  1/2/2017           35          7  Sunny\n",
              "2  1/3/2017           28          2   Snow\n",
              "3  1/4/2017           24          7   Snow\n",
              "4  1/5/2017           32          4   Rain\n",
              "5  1/6/2017           31          2  Sunny"
            ]
          },
          "execution_count": 167,
          "metadata": {},
          "output_type": "execute_result"
        }
      ],
      "source": [
        "import pandas as pd\n",
        "df = pd.read_csv(\"weather_data.csv\")   #read weather.csv data\n",
        "df"
      ]
    },
    {
      "cell_type": "code",
      "execution_count": null,
      "metadata": {
        "id": "8K3vksgGE2Sp",
        "outputId": "f5ae1ecc-2de4-4bb8-bbef-dfe0b80c29ce",
        "scrolled": true
      },
      "outputs": [
        {
          "data": {
            "text/html": [
              "<div>\n",
              "<style>\n",
              "    .dataframe thead tr:only-child th {\n",
              "        text-align: right;\n",
              "    }\n",
              "\n",
              "    .dataframe thead th {\n",
              "        text-align: left;\n",
              "    }\n",
              "\n",
              "    .dataframe tbody tr th {\n",
              "        vertical-align: top;\n",
              "    }\n",
              "</style>\n",
              "<table border=\"1\" class=\"dataframe\">\n",
              "  <thead>\n",
              "    <tr style=\"text-align: right;\">\n",
              "      <th></th>\n",
              "      <th>day</th>\n",
              "      <th>temp</th>\n",
              "      <th>windspeed</th>\n",
              "      <th>event</th>\n",
              "    </tr>\n",
              "  </thead>\n",
              "  <tbody>\n",
              "    <tr>\n",
              "      <th>0</th>\n",
              "      <td>1/1/2017</td>\n",
              "      <td>32</td>\n",
              "      <td>6</td>\n",
              "      <td>Rain</td>\n",
              "    </tr>\n",
              "    <tr>\n",
              "      <th>1</th>\n",
              "      <td>1/2/2017</td>\n",
              "      <td>35</td>\n",
              "      <td>7</td>\n",
              "      <td>Sunny</td>\n",
              "    </tr>\n",
              "    <tr>\n",
              "      <th>2</th>\n",
              "      <td>1/3/2017</td>\n",
              "      <td>28</td>\n",
              "      <td>2</td>\n",
              "      <td>Snow</td>\n",
              "    </tr>\n",
              "    <tr>\n",
              "      <th>3</th>\n",
              "      <td>1/4/2017</td>\n",
              "      <td>24</td>\n",
              "      <td>7</td>\n",
              "      <td>Snow</td>\n",
              "    </tr>\n",
              "    <tr>\n",
              "      <th>4</th>\n",
              "      <td>1/5/2017</td>\n",
              "      <td>32</td>\n",
              "      <td>4</td>\n",
              "      <td>Rain</td>\n",
              "    </tr>\n",
              "    <tr>\n",
              "      <th>5</th>\n",
              "      <td>1/6/2017</td>\n",
              "      <td>31</td>\n",
              "      <td>2</td>\n",
              "      <td>Sunny</td>\n",
              "    </tr>\n",
              "  </tbody>\n",
              "</table>\n",
              "</div>"
            ],
            "text/plain": [
              "        day  temp  windspeed  event\n",
              "0  1/1/2017    32          6   Rain\n",
              "1  1/2/2017    35          7  Sunny\n",
              "2  1/3/2017    28          2   Snow\n",
              "3  1/4/2017    24          7   Snow\n",
              "4  1/5/2017    32          4   Rain\n",
              "5  1/6/2017    31          2  Sunny"
            ]
          },
          "execution_count": 15,
          "metadata": {
            "tags": []
          },
          "output_type": "execute_result"
        }
      ],
      "source": [
        "#list of tuples\n",
        "\n",
        "weather_data = [('1/1/2017', 32, 6, 'Rain'),\n",
        "                ('1/2/2017', 35, 7, 'Sunny'),\n",
        "                ('1/3/2017', 28, 2, 'Snow'),\n",
        "                ('1/4/2017', 24, 7, 'Snow'),\n",
        "                ('1/5/2017', 32, 4, 'Rain'),\n",
        "                ('1/6/2017', 31, 2, 'Sunny')\n",
        "               ]\n",
        "df = pd.DataFrame(weather_data, columns=['day', 'temperature', 'windspeed', 'event'])\n",
        "df"
      ]
    },
    {
      "cell_type": "code",
      "execution_count": null,
      "metadata": {
        "id": "uaeYPoNIE2St",
        "outputId": "f4dc4a5a-8a3c-44bc-9af2-047768bda050"
      },
      "outputs": [
        {
          "data": {
            "text/plain": [
              "(6, 4)"
            ]
          },
          "execution_count": 168,
          "metadata": {},
          "output_type": "execute_result"
        }
      ],
      "source": [
        "#get dimentions of the table\n",
        "\n",
        "df.shape   #total number of rows and columns"
      ]
    },
    {
      "cell_type": "code",
      "execution_count": null,
      "metadata": {
        "id": "xnRkevWIba84",
        "outputId": "8cf1bd29-1fd8-495e-ee79-5d329d0571ab"
      },
      "outputs": [
        {
          "data": {
            "text/html": [
              "<div>\n",
              "<style scoped>\n",
              "    .dataframe tbody tr th:only-of-type {\n",
              "        vertical-align: middle;\n",
              "    }\n",
              "\n",
              "    .dataframe tbody tr th {\n",
              "        vertical-align: top;\n",
              "    }\n",
              "\n",
              "    .dataframe thead th {\n",
              "        text-align: right;\n",
              "    }\n",
              "</style>\n",
              "<table border=\"1\" class=\"dataframe\">\n",
              "  <thead>\n",
              "    <tr style=\"text-align: right;\">\n",
              "      <th></th>\n",
              "      <th>day</th>\n",
              "      <th>temperature</th>\n",
              "      <th>windspeed</th>\n",
              "      <th>event</th>\n",
              "    </tr>\n",
              "  </thead>\n",
              "  <tbody>\n",
              "    <tr>\n",
              "      <th>0</th>\n",
              "      <td>1/1/2017</td>\n",
              "      <td>32</td>\n",
              "      <td>6</td>\n",
              "      <td>Rain</td>\n",
              "    </tr>\n",
              "    <tr>\n",
              "      <th>1</th>\n",
              "      <td>1/2/2017</td>\n",
              "      <td>35</td>\n",
              "      <td>7</td>\n",
              "      <td>Sunny</td>\n",
              "    </tr>\n",
              "  </tbody>\n",
              "</table>\n",
              "</div>"
            ],
            "text/plain": [
              "        day  temperature  windspeed  event\n",
              "0  1/1/2017           32          6   Rain\n",
              "1  1/2/2017           35          7  Sunny"
            ]
          },
          "execution_count": 170,
          "metadata": {},
          "output_type": "execute_result"
        }
      ],
      "source": [
        "df.head(2)"
      ]
    },
    {
      "cell_type": "code",
      "execution_count": null,
      "metadata": {
        "id": "lesAvaK7ba84",
        "outputId": "2be01aeb-85cb-4ce4-c535-28dcd630fb5d"
      },
      "outputs": [
        {
          "data": {
            "text/html": [
              "<div>\n",
              "<style scoped>\n",
              "    .dataframe tbody tr th:only-of-type {\n",
              "        vertical-align: middle;\n",
              "    }\n",
              "\n",
              "    .dataframe tbody tr th {\n",
              "        vertical-align: top;\n",
              "    }\n",
              "\n",
              "    .dataframe thead th {\n",
              "        text-align: right;\n",
              "    }\n",
              "</style>\n",
              "<table border=\"1\" class=\"dataframe\">\n",
              "  <thead>\n",
              "    <tr style=\"text-align: right;\">\n",
              "      <th></th>\n",
              "      <th>day</th>\n",
              "      <th>temperature</th>\n",
              "      <th>windspeed</th>\n",
              "      <th>event</th>\n",
              "    </tr>\n",
              "  </thead>\n",
              "  <tbody>\n",
              "    <tr>\n",
              "      <th>2</th>\n",
              "      <td>1/3/2017</td>\n",
              "      <td>28</td>\n",
              "      <td>2</td>\n",
              "      <td>Snow</td>\n",
              "    </tr>\n",
              "    <tr>\n",
              "      <th>3</th>\n",
              "      <td>1/4/2017</td>\n",
              "      <td>24</td>\n",
              "      <td>7</td>\n",
              "      <td>Snow</td>\n",
              "    </tr>\n",
              "    <tr>\n",
              "      <th>4</th>\n",
              "      <td>1/5/2017</td>\n",
              "      <td>32</td>\n",
              "      <td>4</td>\n",
              "      <td>Rain</td>\n",
              "    </tr>\n",
              "    <tr>\n",
              "      <th>5</th>\n",
              "      <td>1/6/2017</td>\n",
              "      <td>31</td>\n",
              "      <td>2</td>\n",
              "      <td>Sunny</td>\n",
              "    </tr>\n",
              "  </tbody>\n",
              "</table>\n",
              "</div>"
            ],
            "text/plain": [
              "        day  temperature  windspeed  event\n",
              "2  1/3/2017           28          2   Snow\n",
              "3  1/4/2017           24          7   Snow\n",
              "4  1/5/2017           32          4   Rain\n",
              "5  1/6/2017           31          2  Sunny"
            ]
          },
          "execution_count": 172,
          "metadata": {},
          "output_type": "execute_result"
        }
      ],
      "source": [
        "df.tail(4)"
      ]
    },
    {
      "cell_type": "code",
      "execution_count": null,
      "metadata": {
        "id": "n7kt2lrWba84",
        "outputId": "9f61376b-1452-4bd0-c8ef-86d702fef349"
      },
      "outputs": [
        {
          "data": {
            "text/html": [
              "<div>\n",
              "<style scoped>\n",
              "    .dataframe tbody tr th:only-of-type {\n",
              "        vertical-align: middle;\n",
              "    }\n",
              "\n",
              "    .dataframe tbody tr th {\n",
              "        vertical-align: top;\n",
              "    }\n",
              "\n",
              "    .dataframe thead th {\n",
              "        text-align: right;\n",
              "    }\n",
              "</style>\n",
              "<table border=\"1\" class=\"dataframe\">\n",
              "  <thead>\n",
              "    <tr style=\"text-align: right;\">\n",
              "      <th></th>\n",
              "      <th>temperature</th>\n",
              "      <th>windspeed</th>\n",
              "    </tr>\n",
              "  </thead>\n",
              "  <tbody>\n",
              "    <tr>\n",
              "      <th>count</th>\n",
              "      <td>6.000000</td>\n",
              "      <td>6.000000</td>\n",
              "    </tr>\n",
              "    <tr>\n",
              "      <th>mean</th>\n",
              "      <td>30.333333</td>\n",
              "      <td>4.666667</td>\n",
              "    </tr>\n",
              "    <tr>\n",
              "      <th>std</th>\n",
              "      <td>3.829708</td>\n",
              "      <td>2.338090</td>\n",
              "    </tr>\n",
              "    <tr>\n",
              "      <th>min</th>\n",
              "      <td>24.000000</td>\n",
              "      <td>2.000000</td>\n",
              "    </tr>\n",
              "    <tr>\n",
              "      <th>25%</th>\n",
              "      <td>28.750000</td>\n",
              "      <td>2.500000</td>\n",
              "    </tr>\n",
              "    <tr>\n",
              "      <th>50%</th>\n",
              "      <td>31.500000</td>\n",
              "      <td>5.000000</td>\n",
              "    </tr>\n",
              "    <tr>\n",
              "      <th>75%</th>\n",
              "      <td>32.000000</td>\n",
              "      <td>6.750000</td>\n",
              "    </tr>\n",
              "    <tr>\n",
              "      <th>max</th>\n",
              "      <td>35.000000</td>\n",
              "      <td>7.000000</td>\n",
              "    </tr>\n",
              "  </tbody>\n",
              "</table>\n",
              "</div>"
            ],
            "text/plain": [
              "       temperature  windspeed\n",
              "count     6.000000   6.000000\n",
              "mean     30.333333   4.666667\n",
              "std       3.829708   2.338090\n",
              "min      24.000000   2.000000\n",
              "25%      28.750000   2.500000\n",
              "50%      31.500000   5.000000\n",
              "75%      32.000000   6.750000\n",
              "max      35.000000   7.000000"
            ]
          },
          "execution_count": 173,
          "metadata": {},
          "output_type": "execute_result"
        }
      ],
      "source": [
        "df.describe()"
      ]
    },
    {
      "cell_type": "code",
      "execution_count": null,
      "metadata": {
        "id": "6J7eaynBba85"
      },
      "outputs": [],
      "source": []
    },
    {
      "cell_type": "code",
      "execution_count": null,
      "metadata": {
        "id": "6aaD_jAxE2Sx",
        "outputId": "18a50237-12bd-4268-9053-f2fc2d2cdc43"
      },
      "outputs": [
        {
          "data": {
            "text/html": [
              "<div>\n",
              "<style scoped>\n",
              "    .dataframe tbody tr th:only-of-type {\n",
              "        vertical-align: middle;\n",
              "    }\n",
              "\n",
              "    .dataframe tbody tr th {\n",
              "        vertical-align: top;\n",
              "    }\n",
              "\n",
              "    .dataframe thead th {\n",
              "        text-align: right;\n",
              "    }\n",
              "</style>\n",
              "<table border=\"1\" class=\"dataframe\">\n",
              "  <thead>\n",
              "    <tr style=\"text-align: right;\">\n",
              "      <th></th>\n",
              "      <th>day</th>\n",
              "      <th>temperature</th>\n",
              "      <th>windspeed</th>\n",
              "      <th>event</th>\n",
              "    </tr>\n",
              "  </thead>\n",
              "  <tbody>\n",
              "    <tr>\n",
              "      <th>0</th>\n",
              "      <td>1/1/2017</td>\n",
              "      <td>32</td>\n",
              "      <td>6</td>\n",
              "      <td>Rain</td>\n",
              "    </tr>\n",
              "    <tr>\n",
              "      <th>1</th>\n",
              "      <td>1/2/2017</td>\n",
              "      <td>35</td>\n",
              "      <td>7</td>\n",
              "      <td>Sunny</td>\n",
              "    </tr>\n",
              "    <tr>\n",
              "      <th>2</th>\n",
              "      <td>1/3/2017</td>\n",
              "      <td>28</td>\n",
              "      <td>2</td>\n",
              "      <td>Snow</td>\n",
              "    </tr>\n",
              "    <tr>\n",
              "      <th>3</th>\n",
              "      <td>1/4/2017</td>\n",
              "      <td>24</td>\n",
              "      <td>7</td>\n",
              "      <td>Snow</td>\n",
              "    </tr>\n",
              "    <tr>\n",
              "      <th>4</th>\n",
              "      <td>1/5/2017</td>\n",
              "      <td>32</td>\n",
              "      <td>4</td>\n",
              "      <td>Rain</td>\n",
              "    </tr>\n",
              "  </tbody>\n",
              "</table>\n",
              "</div>"
            ],
            "text/plain": [
              "        day  temperature  windspeed  event\n",
              "0  1/1/2017           32          6   Rain\n",
              "1  1/2/2017           35          7  Sunny\n",
              "2  1/3/2017           28          2   Snow\n",
              "3  1/4/2017           24          7   Snow\n",
              "4  1/5/2017           32          4   Rain"
            ]
          },
          "execution_count": 75,
          "metadata": {},
          "output_type": "execute_result"
        }
      ],
      "source": [
        "#if you want to see initial some rows then use head command (default 5 rows)\n",
        "df.head()"
      ]
    },
    {
      "cell_type": "code",
      "execution_count": null,
      "metadata": {
        "id": "UxLwacUpE2S4",
        "outputId": "79603545-12a4-4d36-9ab1-6de6cfb60ae6"
      },
      "outputs": [
        {
          "data": {
            "text/html": [
              "<div>\n",
              "<style scoped>\n",
              "    .dataframe tbody tr th:only-of-type {\n",
              "        vertical-align: middle;\n",
              "    }\n",
              "\n",
              "    .dataframe tbody tr th {\n",
              "        vertical-align: top;\n",
              "    }\n",
              "\n",
              "    .dataframe thead th {\n",
              "        text-align: right;\n",
              "    }\n",
              "</style>\n",
              "<table border=\"1\" class=\"dataframe\">\n",
              "  <thead>\n",
              "    <tr style=\"text-align: right;\">\n",
              "      <th></th>\n",
              "      <th>day</th>\n",
              "      <th>temperature</th>\n",
              "      <th>windspeed</th>\n",
              "      <th>event</th>\n",
              "    </tr>\n",
              "  </thead>\n",
              "  <tbody>\n",
              "    <tr>\n",
              "      <th>1</th>\n",
              "      <td>1/2/2017</td>\n",
              "      <td>35</td>\n",
              "      <td>7</td>\n",
              "      <td>Sunny</td>\n",
              "    </tr>\n",
              "    <tr>\n",
              "      <th>2</th>\n",
              "      <td>1/3/2017</td>\n",
              "      <td>28</td>\n",
              "      <td>2</td>\n",
              "      <td>Snow</td>\n",
              "    </tr>\n",
              "    <tr>\n",
              "      <th>3</th>\n",
              "      <td>1/4/2017</td>\n",
              "      <td>24</td>\n",
              "      <td>7</td>\n",
              "      <td>Snow</td>\n",
              "    </tr>\n",
              "    <tr>\n",
              "      <th>4</th>\n",
              "      <td>1/5/2017</td>\n",
              "      <td>32</td>\n",
              "      <td>4</td>\n",
              "      <td>Rain</td>\n",
              "    </tr>\n",
              "    <tr>\n",
              "      <th>5</th>\n",
              "      <td>1/6/2017</td>\n",
              "      <td>31</td>\n",
              "      <td>2</td>\n",
              "      <td>Sunny</td>\n",
              "    </tr>\n",
              "  </tbody>\n",
              "</table>\n",
              "</div>"
            ],
            "text/plain": [
              "        day  temperature  windspeed  event\n",
              "1  1/2/2017           35          7  Sunny\n",
              "2  1/3/2017           28          2   Snow\n",
              "3  1/4/2017           24          7   Snow\n",
              "4  1/5/2017           32          4   Rain\n",
              "5  1/6/2017           31          2  Sunny"
            ]
          },
          "execution_count": 76,
          "metadata": {},
          "output_type": "execute_result"
        }
      ],
      "source": [
        "#if you want to see last few rows then use tail command (default last 5 rows will print)\n",
        "df.tail()"
      ]
    },
    {
      "cell_type": "code",
      "execution_count": null,
      "metadata": {
        "id": "xWkZ7rqAE2S8",
        "outputId": "935837e9-5a8a-4aac-ce26-bbddd9c3bd5f"
      },
      "outputs": [
        {
          "data": {
            "text/html": [
              "<div>\n",
              "<style scoped>\n",
              "    .dataframe tbody tr th:only-of-type {\n",
              "        vertical-align: middle;\n",
              "    }\n",
              "\n",
              "    .dataframe tbody tr th {\n",
              "        vertical-align: top;\n",
              "    }\n",
              "\n",
              "    .dataframe thead th {\n",
              "        text-align: right;\n",
              "    }\n",
              "</style>\n",
              "<table border=\"1\" class=\"dataframe\">\n",
              "  <thead>\n",
              "    <tr style=\"text-align: right;\">\n",
              "      <th></th>\n",
              "      <th>day</th>\n",
              "      <th>temperature</th>\n",
              "      <th>windspeed</th>\n",
              "      <th>event</th>\n",
              "    </tr>\n",
              "  </thead>\n",
              "  <tbody>\n",
              "    <tr>\n",
              "      <th>2</th>\n",
              "      <td>1/3/2017</td>\n",
              "      <td>28</td>\n",
              "      <td>2</td>\n",
              "      <td>Snow</td>\n",
              "    </tr>\n",
              "    <tr>\n",
              "      <th>3</th>\n",
              "      <td>1/4/2017</td>\n",
              "      <td>24</td>\n",
              "      <td>7</td>\n",
              "      <td>Snow</td>\n",
              "    </tr>\n",
              "    <tr>\n",
              "      <th>4</th>\n",
              "      <td>1/5/2017</td>\n",
              "      <td>32</td>\n",
              "      <td>4</td>\n",
              "      <td>Rain</td>\n",
              "    </tr>\n",
              "  </tbody>\n",
              "</table>\n",
              "</div>"
            ],
            "text/plain": [
              "        day  temperature  windspeed event\n",
              "2  1/3/2017           28          2  Snow\n",
              "3  1/4/2017           24          7  Snow\n",
              "4  1/5/2017           32          4  Rain"
            ]
          },
          "execution_count": 77,
          "metadata": {},
          "output_type": "execute_result"
        }
      ],
      "source": [
        "#slicing\n",
        "df[2:5]"
      ]
    },
    {
      "cell_type": "code",
      "execution_count": null,
      "metadata": {
        "id": "TQUyOoktE2TB",
        "outputId": "083c82f6-41d6-4a7f-dd03-75d8218a6746"
      },
      "outputs": [
        {
          "data": {
            "text/plain": [
              "Index(['day', 'temperature', 'windspeed', 'event'], dtype='object')"
            ]
          },
          "execution_count": 21,
          "metadata": {
            "tags": []
          },
          "output_type": "execute_result"
        }
      ],
      "source": [
        "df.columns   #print columns in a table"
      ]
    },
    {
      "cell_type": "code",
      "execution_count": null,
      "metadata": {
        "id": "s1vnbMmuE2TG",
        "outputId": "7903f35b-882b-4cac-b8a8-0aed51d655d0"
      },
      "outputs": [
        {
          "data": {
            "text/plain": [
              "0    1/1/2017\n",
              "1    1/2/2017\n",
              "2    1/3/2017\n",
              "3    1/4/2017\n",
              "4    1/5/2017\n",
              "5    1/6/2017\n",
              "Name: day, dtype: object"
            ]
          },
          "execution_count": 174,
          "metadata": {},
          "output_type": "execute_result"
        }
      ],
      "source": [
        "df.day      #print particular column data\n",
        "\n",
        "df['day']\n"
      ]
    },
    {
      "cell_type": "code",
      "execution_count": null,
      "metadata": {
        "id": "V9rPH1YFE2TK",
        "outputId": "df20a1fe-651c-4e18-cbd9-e2ded3d637da"
      },
      "outputs": [
        {
          "data": {
            "text/plain": [
              "0    1/1/2017\n",
              "1    1/2/2017\n",
              "2    1/3/2017\n",
              "3    1/4/2017\n",
              "4    1/5/2017\n",
              "5    1/6/2017\n",
              "Name: day, dtype: object"
            ]
          },
          "execution_count": 24,
          "metadata": {
            "tags": []
          },
          "output_type": "execute_result"
        }
      ],
      "source": [
        "#another way of accessing column\n",
        "df['day'] #df.day (both are same)"
      ]
    },
    {
      "cell_type": "code",
      "execution_count": null,
      "metadata": {
        "id": "MbsjOYiCE2TN",
        "outputId": "d0d1b487-7623-46aa-f980-02de70f9305c"
      },
      "outputs": [
        {
          "data": {
            "text/html": [
              "<div>\n",
              "<style>\n",
              "    .dataframe thead tr:only-child th {\n",
              "        text-align: right;\n",
              "    }\n",
              "\n",
              "    .dataframe thead th {\n",
              "        text-align: left;\n",
              "    }\n",
              "\n",
              "    .dataframe tbody tr th {\n",
              "        vertical-align: top;\n",
              "    }\n",
              "</style>\n",
              "<table border=\"1\" class=\"dataframe\">\n",
              "  <thead>\n",
              "    <tr style=\"text-align: right;\">\n",
              "      <th></th>\n",
              "      <th>day</th>\n",
              "      <th>event</th>\n",
              "    </tr>\n",
              "  </thead>\n",
              "  <tbody>\n",
              "    <tr>\n",
              "      <th>0</th>\n",
              "      <td>1/1/2017</td>\n",
              "      <td>Rain</td>\n",
              "    </tr>\n",
              "    <tr>\n",
              "      <th>1</th>\n",
              "      <td>1/2/2017</td>\n",
              "      <td>Sunny</td>\n",
              "    </tr>\n",
              "    <tr>\n",
              "      <th>2</th>\n",
              "      <td>1/3/2017</td>\n",
              "      <td>Snow</td>\n",
              "    </tr>\n",
              "    <tr>\n",
              "      <th>3</th>\n",
              "      <td>1/4/2017</td>\n",
              "      <td>Snow</td>\n",
              "    </tr>\n",
              "    <tr>\n",
              "      <th>4</th>\n",
              "      <td>1/5/2017</td>\n",
              "      <td>Rain</td>\n",
              "    </tr>\n",
              "    <tr>\n",
              "      <th>5</th>\n",
              "      <td>1/6/2017</td>\n",
              "      <td>Sunny</td>\n",
              "    </tr>\n",
              "  </tbody>\n",
              "</table>\n",
              "</div>"
            ],
            "text/plain": [
              "        day  event\n",
              "0  1/1/2017   Rain\n",
              "1  1/2/2017  Sunny\n",
              "2  1/3/2017   Snow\n",
              "3  1/4/2017   Snow\n",
              "4  1/5/2017   Rain\n",
              "5  1/6/2017  Sunny"
            ]
          },
          "execution_count": 26,
          "metadata": {
            "tags": []
          },
          "output_type": "execute_result"
        }
      ],
      "source": [
        "#get 2 or more columns\n",
        "df[['day', 'event']]"
      ]
    },
    {
      "cell_type": "code",
      "execution_count": null,
      "metadata": {
        "id": "2hBjHYCzba86",
        "outputId": "e0a60ec2-75e5-4db5-8970-8be8094c5881"
      },
      "outputs": [
        {
          "data": {
            "text/html": [
              "<div>\n",
              "<style scoped>\n",
              "    .dataframe tbody tr th:only-of-type {\n",
              "        vertical-align: middle;\n",
              "    }\n",
              "\n",
              "    .dataframe tbody tr th {\n",
              "        vertical-align: top;\n",
              "    }\n",
              "\n",
              "    .dataframe thead th {\n",
              "        text-align: right;\n",
              "    }\n",
              "</style>\n",
              "<table border=\"1\" class=\"dataframe\">\n",
              "  <thead>\n",
              "    <tr style=\"text-align: right;\">\n",
              "      <th></th>\n",
              "      <th>day</th>\n",
              "      <th>temperature</th>\n",
              "      <th>windspeed</th>\n",
              "      <th>event</th>\n",
              "    </tr>\n",
              "  </thead>\n",
              "  <tbody>\n",
              "    <tr>\n",
              "      <th>3</th>\n",
              "      <td>1/4/2017</td>\n",
              "      <td>24</td>\n",
              "      <td>7</td>\n",
              "      <td>Snow</td>\n",
              "    </tr>\n",
              "  </tbody>\n",
              "</table>\n",
              "</div>"
            ],
            "text/plain": [
              "        day  temperature  windspeed event\n",
              "3  1/4/2017           24          7  Snow"
            ]
          },
          "execution_count": 180,
          "metadata": {},
          "output_type": "execute_result"
        }
      ],
      "source": [
        "# row with min temp\n",
        "df[df.temperature==df.temperature.min()]"
      ]
    },
    {
      "cell_type": "code",
      "execution_count": null,
      "metadata": {
        "id": "lrr51XzfE2TR",
        "outputId": "449f85ed-808e-4f86-df48-3170e2420d76",
        "scrolled": false
      },
      "outputs": [
        {
          "data": {
            "text/plain": [
              "0    32\n",
              "1    35\n",
              "2    28\n",
              "3    24\n",
              "4    32\n",
              "5    31\n",
              "Name: temperature, dtype: int64"
            ]
          },
          "execution_count": 175,
          "metadata": {},
          "output_type": "execute_result"
        }
      ],
      "source": [
        "#get all temperatures\n",
        "df['temperature']"
      ]
    },
    {
      "cell_type": "code",
      "execution_count": null,
      "metadata": {
        "id": "RDbcg0FhE2TV",
        "outputId": "1bda9a4d-9774-4e53-fa46-954a1000c864"
      },
      "outputs": [
        {
          "data": {
            "text/plain": [
              "35"
            ]
          },
          "execution_count": 78,
          "metadata": {},
          "output_type": "execute_result"
        }
      ],
      "source": [
        "#print max temperature\n",
        "df['temperature'].max()"
      ]
    },
    {
      "cell_type": "code",
      "execution_count": null,
      "metadata": {
        "id": "xIKB8jvjE2Ta",
        "outputId": "1b6ae228-bd62-4bea-fc78-b80f870ed83a"
      },
      "outputs": [
        {
          "data": {
            "text/plain": [
              "24"
            ]
          },
          "execution_count": 30,
          "metadata": {
            "tags": []
          },
          "output_type": "execute_result"
        }
      ],
      "source": [
        "#print max temperature\n",
        "df['temperature'].min()"
      ]
    },
    {
      "cell_type": "code",
      "execution_count": null,
      "metadata": {
        "id": "0uWj9DdXE2Te",
        "outputId": "dcb7b3a3-c928-4a0c-e1dd-97f7f98e8c41"
      },
      "outputs": [
        {
          "data": {
            "text/plain": [
              "count     6.000000\n",
              "mean     30.333333\n",
              "std       3.829708\n",
              "min      24.000000\n",
              "25%      28.750000\n",
              "50%      31.500000\n",
              "75%      32.000000\n",
              "max      35.000000\n",
              "Name: temperature, dtype: float64"
            ]
          },
          "execution_count": 31,
          "metadata": {
            "tags": []
          },
          "output_type": "execute_result"
        }
      ],
      "source": [
        "#print max temperature\n",
        "df['temperature'].describe()"
      ]
    },
    {
      "cell_type": "code",
      "execution_count": null,
      "metadata": {
        "id": "f7yFrONKE2Th",
        "outputId": "0453933b-844a-44de-b0df-783beb4c3dcd"
      },
      "outputs": [
        {
          "data": {
            "text/html": [
              "<div>\n",
              "<style>\n",
              "    .dataframe thead tr:only-child th {\n",
              "        text-align: right;\n",
              "    }\n",
              "\n",
              "    .dataframe thead th {\n",
              "        text-align: left;\n",
              "    }\n",
              "\n",
              "    .dataframe tbody tr th {\n",
              "        vertical-align: top;\n",
              "    }\n",
              "</style>\n",
              "<table border=\"1\" class=\"dataframe\">\n",
              "  <thead>\n",
              "    <tr style=\"text-align: right;\">\n",
              "      <th></th>\n",
              "      <th>day</th>\n",
              "      <th>temperature</th>\n",
              "      <th>windspeed</th>\n",
              "      <th>event</th>\n",
              "    </tr>\n",
              "  </thead>\n",
              "  <tbody>\n",
              "    <tr>\n",
              "      <th>1</th>\n",
              "      <td>1/2/2017</td>\n",
              "      <td>35</td>\n",
              "      <td>7</td>\n",
              "      <td>Sunny</td>\n",
              "    </tr>\n",
              "  </tbody>\n",
              "</table>\n",
              "</div>"
            ],
            "text/plain": [
              "        day  temperature  windspeed  event\n",
              "1  1/2/2017           35          7  Sunny"
            ]
          },
          "execution_count": 32,
          "metadata": {
            "tags": []
          },
          "output_type": "execute_result"
        }
      ],
      "source": [
        "# select rows which has maximum temperature\n",
        "df[df.temperature == df.temperature.max()] \n"
      ]
    },
    {
      "cell_type": "code",
      "execution_count": null,
      "metadata": {
        "id": "NBaLglmXE2Tk",
        "outputId": "2aa0863a-316e-46f5-df5b-8020d166d6e8",
        "scrolled": true
      },
      "outputs": [
        {
          "data": {
            "text/html": [
              "<div>\n",
              "<style scoped>\n",
              "    .dataframe tbody tr th:only-of-type {\n",
              "        vertical-align: middle;\n",
              "    }\n",
              "\n",
              "    .dataframe tbody tr th {\n",
              "        vertical-align: top;\n",
              "    }\n",
              "\n",
              "    .dataframe thead th {\n",
              "        text-align: right;\n",
              "    }\n",
              "</style>\n",
              "<table border=\"1\" class=\"dataframe\">\n",
              "  <thead>\n",
              "    <tr style=\"text-align: right;\">\n",
              "      <th></th>\n",
              "      <th>day</th>\n",
              "      <th>event</th>\n",
              "    </tr>\n",
              "  </thead>\n",
              "  <tbody>\n",
              "    <tr>\n",
              "      <th>1</th>\n",
              "      <td>1/2/2017</td>\n",
              "      <td>Sunny</td>\n",
              "    </tr>\n",
              "  </tbody>\n",
              "</table>\n",
              "</div>"
            ],
            "text/plain": [
              "        day  event\n",
              "1  1/2/2017  Sunny"
            ]
          },
          "execution_count": 182,
          "metadata": {},
          "output_type": "execute_result"
        }
      ],
      "source": [
        "#select only day column which has maximum temperature\n",
        "df[df.temperature == df.temperature.max()][['day','event']]\n"
      ]
    },
    {
      "cell_type": "code",
      "execution_count": null,
      "metadata": {
        "id": "VXGgkfmDba8-"
      },
      "outputs": [],
      "source": []
    }
  ],
  "metadata": {
    "kernelspec": {
      "display_name": "Python 3 (ipykernel)",
      "language": "python",
      "name": "python3"
    },
    "language_info": {
      "codemirror_mode": {
        "name": "ipython",
        "version": 3
      },
      "file_extension": ".py",
      "mimetype": "text/x-python",
      "name": "python",
      "nbconvert_exporter": "python",
      "pygments_lexer": "ipython3",
      "version": "3.9.12"
    },
    "colab": {
      "provenance": []
    }
  },
  "nbformat": 4,
  "nbformat_minor": 0
}