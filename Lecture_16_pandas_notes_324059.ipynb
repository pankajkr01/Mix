{
  "cells": [
    {
      "cell_type": "code",
      "execution_count": null,
      "metadata": {
        "id": "O89veOqgGpug"
      },
      "outputs": [],
      "source": [
        "import numpy as np"
      ]
    },
    {
      "cell_type": "code",
      "execution_count": null,
      "metadata": {
        "id": "guy1VaqiGpuj"
      },
      "outputs": [],
      "source": [
        "a=np.array([[[1,2],[3,4]],\n",
        "            [[5,6],[7,8]],\n",
        "            [[0,1],[2,3]]])"
      ]
    },
    {
      "cell_type": "code",
      "execution_count": null,
      "metadata": {
        "id": "qm6pMeB_Gpuk",
        "outputId": "5dc9578a-85e4-4efa-ce62-caf688624c32"
      },
      "outputs": [
        {
          "data": {
            "text/plain": [
              "array([[[1, 2],\n",
              "        [3, 4]],\n",
              "\n",
              "       [[5, 6],\n",
              "        [7, 8]],\n",
              "\n",
              "       [[0, 1],\n",
              "        [2, 3]]])"
            ]
          },
          "execution_count": 9,
          "metadata": {},
          "output_type": "execute_result"
        }
      ],
      "source": [
        "a"
      ]
    },
    {
      "cell_type": "code",
      "execution_count": null,
      "metadata": {
        "scrolled": true,
        "id": "ykYePBUZGpum",
        "outputId": "a45d9382-2e3d-42e1-ff2e-97fb26b4e0a6"
      },
      "outputs": [
        {
          "data": {
            "text/plain": [
              "array([[ 3,  7],\n",
              "       [11, 15],\n",
              "       [ 1,  5]])"
            ]
          },
          "execution_count": 12,
          "metadata": {},
          "output_type": "execute_result"
        }
      ],
      "source": [
        "a.sum(axis=2)"
      ]
    },
    {
      "cell_type": "code",
      "execution_count": null,
      "metadata": {
        "scrolled": true,
        "id": "1sAcqh2iGpun",
        "outputId": "000081ab-1024-4be2-8255-99f7d1fc048a"
      },
      "outputs": [
        {
          "data": {
            "text/plain": [
              "array([[[False, False],\n",
              "        [False,  True]],\n",
              "\n",
              "       [[ True,  True],\n",
              "        [ True,  True]],\n",
              "\n",
              "       [[False, False],\n",
              "        [False, False]]])"
            ]
          },
          "execution_count": 15,
          "metadata": {},
          "output_type": "execute_result"
        }
      ],
      "source": []
    },
    {
      "cell_type": "code",
      "execution_count": null,
      "metadata": {
        "id": "oATKAYrlGpuo",
        "outputId": "3f267f55-4e39-4213-8a5d-e31507420092"
      },
      "outputs": [
        {
          "data": {
            "text/plain": [
              "array([3, 7])"
            ]
          },
          "execution_count": 6,
          "metadata": {},
          "output_type": "execute_result"
        }
      ],
      "source": [
        "a.sum(axis=1)"
      ]
    },
    {
      "cell_type": "markdown",
      "metadata": {
        "id": "oIMy4Gl9Gpup"
      },
      "source": [
        "# Pandas\n",
        "\n",
        "Pandas is a package used for managing data.\n",
        "\n",
        "Pandas main use is that it creates 2 new data types for storing data: series and dataframe.\n",
        "\n",
        "A dataframe is made up of several series.  Each column of a dataframe is a series.\n",
        "\n",
        "We can name each column and row of a dataframe.\n",
        "\n",
        "Similar to numpy arrays, a dataframe is a more robust data type for storing data than lists of lists. Dataframes are more flexible than numpy arrays.\n",
        "\n",
        "A numpy array can create a matrix with all entries of the same data type.  In a dataframe each column can have its own datatype.  \n",
        "\n",
        "That's not to say numpy arrays aren't useful.  It is often easiest to convert some subset of a dataframe to a numpy array and then use that to do some math.\n",
        "\n",
        "Pandas also has SQL-like functions for merging, joining, and sorting dataframes.\n",
        "\n"
      ]
    },
    {
      "cell_type": "code",
      "execution_count": null,
      "metadata": {
        "id": "w1wVmIduGpur",
        "outputId": "483d428e-7d20-434d-d2ff-b08362c6614d"
      },
      "outputs": [
        {
          "name": "stdout",
          "output_type": "stream",
          "text": [
            "Requirement already satisfied: pandas in c:\\users\\sriaj\\anaconda3\\anaconda files1\\lib\\site-packages (1.4.2)\n",
            "Requirement already satisfied: python-dateutil>=2.8.1 in c:\\users\\sriaj\\anaconda3\\anaconda files1\\lib\\site-packages (from pandas) (2.8.2)\n",
            "Requirement already satisfied: numpy>=1.18.5 in c:\\users\\sriaj\\anaconda3\\anaconda files1\\lib\\site-packages (from pandas) (1.21.5)\n",
            "Requirement already satisfied: pytz>=2020.1 in c:\\users\\sriaj\\anaconda3\\anaconda files1\\lib\\site-packages (from pandas) (2021.3)\n",
            "Requirement already satisfied: six>=1.5 in c:\\users\\sriaj\\anaconda3\\anaconda files1\\lib\\site-packages (from python-dateutil>=2.8.1->pandas) (1.16.0)\n"
          ]
        }
      ],
      "source": [
        "!pip install pandas"
      ]
    },
    {
      "cell_type": "code",
      "execution_count": null,
      "metadata": {
        "id": "7yjP4KXPGpus"
      },
      "outputs": [],
      "source": [
        "import pandas as pd\n",
        "import numpy as np  # numpy is not necessary for pandas, but we will use some np code in this example\n",
        "# in general it's good practice to import all pacakages at the beginning"
      ]
    },
    {
      "cell_type": "code",
      "execution_count": null,
      "metadata": {
        "id": "nmADIgnLGpuv"
      },
      "outputs": [],
      "source": [
        "series - list, np.array"
      ]
    },
    {
      "cell_type": "code",
      "execution_count": null,
      "metadata": {
        "id": "O85N7gG_Gpuv"
      },
      "outputs": [],
      "source": [
        "mylist=[1,2,3,4]\n",
        "array=np.random.randint(10,20,4) "
      ]
    },
    {
      "cell_type": "code",
      "execution_count": null,
      "metadata": {
        "id": "P94B0nkJGpuw",
        "outputId": "1b280e33-e6b3-42b0-abf6-05f4c2208fe9"
      },
      "outputs": [
        {
          "data": {
            "text/plain": [
              "array([11, 15, 12, 14])"
            ]
          },
          "execution_count": 22,
          "metadata": {},
          "output_type": "execute_result"
        }
      ],
      "source": [
        "array"
      ]
    },
    {
      "cell_type": "code",
      "execution_count": null,
      "metadata": {
        "scrolled": true,
        "id": "P8zTsjQDGpux",
        "outputId": "49c8c4fc-dedf-4705-eabe-147b1a6aed40"
      },
      "outputs": [
        {
          "data": {
            "text/plain": [
              "0    1\n",
              "1    2\n",
              "2    3\n",
              "3    4\n",
              "dtype: int64"
            ]
          },
          "execution_count": 24,
          "metadata": {},
          "output_type": "execute_result"
        }
      ],
      "source": [
        "s1=pd.Series(mylist)\n",
        "s1"
      ]
    },
    {
      "cell_type": "code",
      "execution_count": null,
      "metadata": {
        "id": "X_03vyVTGpux",
        "outputId": "c200863b-45a1-4503-8158-19de2963e634"
      },
      "outputs": [
        {
          "data": {
            "text/plain": [
              "0    11\n",
              "1    15\n",
              "2    12\n",
              "3    14\n",
              "dtype: int32"
            ]
          },
          "execution_count": 26,
          "metadata": {},
          "output_type": "execute_result"
        }
      ],
      "source": [
        "s2=pd.Series(array)\n",
        "s2"
      ]
    },
    {
      "cell_type": "code",
      "execution_count": null,
      "metadata": {
        "id": "sPVcG6bYGpuy"
      },
      "outputs": [],
      "source": [
        "# first let's look at series - think of this as a single column of a spreadsheet\n",
        "# each entry in a series corresponds to an individual row in the spreadsheet\n",
        "# we can create a series by converting a list, or numpy array\n",
        "\n",
        "mylist = [5.4,6.1,1.7,99.8]\n",
        "myarray = np.array(mylist)\n"
      ]
    },
    {
      "cell_type": "code",
      "execution_count": null,
      "metadata": {
        "id": "JdRwOoppGpuy",
        "outputId": "3166cd88-f447-490e-f05b-3138cec48059"
      },
      "outputs": [
        {
          "data": {
            "text/plain": [
              "0     5.4\n",
              "1     6.1\n",
              "2     1.7\n",
              "3    99.8\n",
              "dtype: float64"
            ]
          },
          "execution_count": 28,
          "metadata": {},
          "output_type": "execute_result"
        }
      ],
      "source": [
        "a=pd.Series(mylist)\n",
        "a"
      ]
    },
    {
      "cell_type": "code",
      "execution_count": null,
      "metadata": {
        "id": "mMx7OtBSGpuz",
        "outputId": "99cf4007-fb56-4584-eb69-9fc35258875d"
      },
      "outputs": [
        {
          "name": "stdout",
          "output_type": "stream",
          "text": [
            "0     5.4\n",
            "1     6.1\n",
            "2     1.7\n",
            "3    99.8\n",
            "dtype: float64\n",
            "0     5.4\n",
            "1     6.1\n",
            "2     1.7\n",
            "3    99.8\n",
            "dtype: float64\n"
          ]
        }
      ],
      "source": [
        "myseries1 = pd.Series(data=mylist)\n",
        "print(myseries1)\n",
        "myseries2 = pd.Series(data=myarray)\n",
        "print(myseries2)"
      ]
    },
    {
      "cell_type": "code",
      "execution_count": null,
      "metadata": {
        "id": "KHzdlR1xGpu0",
        "outputId": "919b056a-2cdb-4b3c-9437-f73748022d91"
      },
      "outputs": [
        {
          "name": "stdout",
          "output_type": "stream",
          "text": [
            "2     1.7\n",
            "3    99.8\n",
            "dtype: float64\n"
          ]
        }
      ],
      "source": [
        "# we access individual entries the same way as with lists and arrays\n",
        "print(myseries2[2:])"
      ]
    },
    {
      "cell_type": "code",
      "execution_count": null,
      "metadata": {
        "id": "lGgfD16LGpu0",
        "outputId": "cadac69b-c711-4590-c8c6-01fb6f84fafd"
      },
      "outputs": [
        {
          "name": "stdout",
          "output_type": "stream",
          "text": [
            "first      5.4\n",
            "second     6.1\n",
            "third      1.7\n",
            "fourth    99.8\n",
            "dtype: float64\n"
          ]
        }
      ],
      "source": [
        "# we can add labels to the entries of a series\n",
        "\n",
        "mylabels = ['first','second','third','fourth']\n",
        "myseries3 = pd.Series(data=mylist,index=mylabels)\n",
        "print(myseries3)"
      ]
    },
    {
      "cell_type": "code",
      "execution_count": null,
      "metadata": {
        "id": "_8GUI9B0Gpu1",
        "outputId": "cd598de2-cac4-4109-8cf3-43ea09594844"
      },
      "outputs": [
        {
          "name": "stdout",
          "output_type": "stream",
          "text": [
            "5.4      first\n",
            "6.1     second\n",
            "1.7      third\n",
            "99.8    fourth\n",
            "dtype: object\n"
          ]
        }
      ],
      "source": [
        "# we need not be explicit about the entries of pd.Series\n",
        "myseries4 = pd.Series(mylabels,mylist)\n",
        "print(myseries4)"
      ]
    },
    {
      "cell_type": "code",
      "execution_count": null,
      "metadata": {
        "id": "9NI9Wk7hGpu2",
        "outputId": "1827b329-185e-41f0-8f00-7acd6ebc46d3"
      },
      "outputs": [
        {
          "name": "stdout",
          "output_type": "stream",
          "text": [
            "99.8\n"
          ]
        }
      ],
      "source": [
        "# we can also access entries using the index labels\n",
        "print(myseries3['fourth'])"
      ]
    },
    {
      "cell_type": "code",
      "execution_count": null,
      "metadata": {
        "scrolled": true,
        "id": "TzZnRnV5Gpu2",
        "outputId": "8ddd61bc-9489-469e-fe02-987f3ae56ca7"
      },
      "outputs": [
        {
          "data": {
            "text/plain": [
              "'first'"
            ]
          },
          "execution_count": 44,
          "metadata": {},
          "output_type": "execute_result"
        }
      ],
      "source": [
        "myseries4[5.4]"
      ]
    },
    {
      "cell_type": "code",
      "execution_count": null,
      "metadata": {
        "id": "klvlf9NaGpu2"
      },
      "outputs": [],
      "source": [
        "# myseries5"
      ]
    },
    {
      "cell_type": "code",
      "execution_count": null,
      "metadata": {
        "id": "-m5-vzwhGpu3",
        "outputId": "b31b98a1-42b5-4ea8-f012-617b1941ce53"
      },
      "outputs": [
        {
          "name": "stdout",
          "output_type": "stream",
          "text": [
            "first     5.5\n",
            "third     1.1\n",
            "fourth    8.8\n",
            "fifth     1.6\n",
            "dtype: float64\n",
            "\n",
            "fifth       NaN\n",
            "first      10.9\n",
            "fourth    108.6\n",
            "second      NaN\n",
            "third       2.8\n",
            "dtype: float64\n"
          ]
        }
      ],
      "source": [
        "# we can do math on series \n",
        "myseries5 = pd.Series([5.5,1.1,8.8,1.6],['first','third','fourth','fifth'])\n",
        "print(myseries5)\n",
        "print('')\n",
        "print(myseries5+myseries3)"
      ]
    },
    {
      "cell_type": "code",
      "execution_count": null,
      "metadata": {
        "id": "O1WAGhd8Gpu3"
      },
      "outputs": [],
      "source": [
        "concatenate 1,2 - 12"
      ]
    },
    {
      "cell_type": "code",
      "execution_count": null,
      "metadata": {
        "id": "_zhfEa_tGpu3",
        "outputId": "1ce1e267-4dee-44ef-be2b-639ed67dcf4a"
      },
      "outputs": [
        {
          "name": "stdout",
          "output_type": "stream",
          "text": [
            "first      5.4\n",
            "second     6.1\n",
            "third      1.7\n",
            "fourth    99.8\n",
            "dtype: float64\n",
            "\n",
            "first     5.5\n",
            "third     1.1\n",
            "fourth    8.8\n",
            "fifth     1.6\n",
            "dtype: float64\n"
          ]
        }
      ],
      "source": [
        "print(myseries3)\n",
        "print()\n",
        "print(myseries5)"
      ]
    },
    {
      "cell_type": "code",
      "execution_count": null,
      "metadata": {
        "id": "qyXpLGVnGpu3",
        "outputId": "a7bc678d-ce30-40bb-91f9-11d1f01d2264"
      },
      "outputs": [
        {
          "data": {
            "text/html": [
              "<div>\n",
              "<style scoped>\n",
              "    .dataframe tbody tr th:only-of-type {\n",
              "        vertical-align: middle;\n",
              "    }\n",
              "\n",
              "    .dataframe tbody tr th {\n",
              "        vertical-align: top;\n",
              "    }\n",
              "\n",
              "    .dataframe thead th {\n",
              "        text-align: right;\n",
              "    }\n",
              "</style>\n",
              "<table border=\"1\" class=\"dataframe\">\n",
              "  <thead>\n",
              "    <tr style=\"text-align: right;\">\n",
              "      <th></th>\n",
              "      <th>0</th>\n",
              "      <th>1</th>\n",
              "    </tr>\n",
              "  </thead>\n",
              "  <tbody>\n",
              "    <tr>\n",
              "      <th>first</th>\n",
              "      <td>5.4</td>\n",
              "      <td>5.5</td>\n",
              "    </tr>\n",
              "    <tr>\n",
              "      <th>second</th>\n",
              "      <td>6.1</td>\n",
              "      <td>NaN</td>\n",
              "    </tr>\n",
              "    <tr>\n",
              "      <th>third</th>\n",
              "      <td>1.7</td>\n",
              "      <td>1.1</td>\n",
              "    </tr>\n",
              "    <tr>\n",
              "      <th>fourth</th>\n",
              "      <td>99.8</td>\n",
              "      <td>8.8</td>\n",
              "    </tr>\n",
              "    <tr>\n",
              "      <th>fifth</th>\n",
              "      <td>NaN</td>\n",
              "      <td>1.6</td>\n",
              "    </tr>\n",
              "  </tbody>\n",
              "</table>\n",
              "</div>"
            ],
            "text/plain": [
              "           0    1\n",
              "first    5.4  5.5\n",
              "second   6.1  NaN\n",
              "third    1.7  1.1\n",
              "fourth  99.8  8.8\n",
              "fifth    NaN  1.6"
            ]
          },
          "execution_count": 54,
          "metadata": {},
          "output_type": "execute_result"
        }
      ],
      "source": [
        "# we can combine series to create a dataframe using the concat function\n",
        "\n",
        "df1 = pd.concat([myseries3,myseries5],axis=1,sort=False)\n",
        "df1"
      ]
    },
    {
      "cell_type": "code",
      "execution_count": null,
      "metadata": {
        "id": "BNKOxEa4Gpu4",
        "outputId": "3c51d1d0-ccec-42f7-9199-ea6cc2b5566f"
      },
      "outputs": [
        {
          "data": {
            "text/html": [
              "<div>\n",
              "<style scoped>\n",
              "    .dataframe tbody tr th:only-of-type {\n",
              "        vertical-align: middle;\n",
              "    }\n",
              "\n",
              "    .dataframe tbody tr th {\n",
              "        vertical-align: top;\n",
              "    }\n",
              "\n",
              "    .dataframe thead th {\n",
              "        text-align: right;\n",
              "    }\n",
              "</style>\n",
              "<table border=\"1\" class=\"dataframe\">\n",
              "  <thead>\n",
              "    <tr style=\"text-align: right;\">\n",
              "      <th></th>\n",
              "      <th>p</th>\n",
              "      <th>q</th>\n",
              "      <th>r</th>\n",
              "      <th>s</th>\n",
              "      <th>t</th>\n",
              "    </tr>\n",
              "  </thead>\n",
              "  <tbody>\n",
              "    <tr>\n",
              "      <th>a</th>\n",
              "      <td>0.482268</td>\n",
              "      <td>0.112784</td>\n",
              "      <td>0.639393</td>\n",
              "      <td>0.664639</td>\n",
              "      <td>0.917334</td>\n",
              "    </tr>\n",
              "    <tr>\n",
              "      <th>b</th>\n",
              "      <td>0.396474</td>\n",
              "      <td>0.372235</td>\n",
              "      <td>0.294564</td>\n",
              "      <td>0.024484</td>\n",
              "      <td>0.710847</td>\n",
              "    </tr>\n",
              "    <tr>\n",
              "      <th>c</th>\n",
              "      <td>0.544272</td>\n",
              "      <td>0.067242</td>\n",
              "      <td>0.458721</td>\n",
              "      <td>0.696116</td>\n",
              "      <td>0.599218</td>\n",
              "    </tr>\n",
              "    <tr>\n",
              "      <th>d</th>\n",
              "      <td>0.407176</td>\n",
              "      <td>0.832049</td>\n",
              "      <td>0.431591</td>\n",
              "      <td>0.516257</td>\n",
              "      <td>0.874876</td>\n",
              "    </tr>\n",
              "    <tr>\n",
              "      <th>e</th>\n",
              "      <td>0.809323</td>\n",
              "      <td>0.106928</td>\n",
              "      <td>0.695921</td>\n",
              "      <td>0.143821</td>\n",
              "      <td>0.693984</td>\n",
              "    </tr>\n",
              "  </tbody>\n",
              "</table>\n",
              "</div>"
            ],
            "text/plain": [
              "          p         q         r         s         t\n",
              "a  0.482268  0.112784  0.639393  0.664639  0.917334\n",
              "b  0.396474  0.372235  0.294564  0.024484  0.710847\n",
              "c  0.544272  0.067242  0.458721  0.696116  0.599218\n",
              "d  0.407176  0.832049  0.431591  0.516257  0.874876\n",
              "e  0.809323  0.106928  0.695921  0.143821  0.693984"
            ]
          },
          "execution_count": 55,
          "metadata": {},
          "output_type": "execute_result"
        }
      ],
      "source": [
        "# we can create a new dataframe \n",
        "df2 = pd.DataFrame(np.random.rand(5,5),index=['a','b','c','d','e'],columns=['p','q','r','s','t'])\n",
        "df2"
      ]
    },
    {
      "cell_type": "code",
      "execution_count": null,
      "metadata": {
        "scrolled": true,
        "id": "f0ciwLJmGpu4",
        "outputId": "8aabdb92-74a2-4809-c2a0-7bcdf5c3c935"
      },
      "outputs": [
        {
          "data": {
            "text/html": [
              "<div>\n",
              "<style scoped>\n",
              "    .dataframe tbody tr th:only-of-type {\n",
              "        vertical-align: middle;\n",
              "    }\n",
              "\n",
              "    .dataframe tbody tr th {\n",
              "        vertical-align: top;\n",
              "    }\n",
              "\n",
              "    .dataframe thead th {\n",
              "        text-align: right;\n",
              "    }\n",
              "</style>\n",
              "<table border=\"1\" class=\"dataframe\">\n",
              "  <thead>\n",
              "    <tr style=\"text-align: right;\">\n",
              "      <th></th>\n",
              "      <th>first col</th>\n",
              "      <th>second col</th>\n",
              "      <th>third col</th>\n",
              "      <th>fourth col</th>\n",
              "      <th>fifth col</th>\n",
              "    </tr>\n",
              "  </thead>\n",
              "  <tbody>\n",
              "    <tr>\n",
              "      <th>first row</th>\n",
              "      <td>-0.248954</td>\n",
              "      <td>-2.090749</td>\n",
              "      <td>0.766858</td>\n",
              "      <td>-0.838886</td>\n",
              "      <td>0.633128</td>\n",
              "    </tr>\n",
              "    <tr>\n",
              "      <th>second row</th>\n",
              "      <td>-1.022491</td>\n",
              "      <td>-0.284207</td>\n",
              "      <td>-0.037904</td>\n",
              "      <td>-1.794641</td>\n",
              "      <td>0.859787</td>\n",
              "    </tr>\n",
              "    <tr>\n",
              "      <th>third row</th>\n",
              "      <td>2.305055</td>\n",
              "      <td>0.990373</td>\n",
              "      <td>-1.062569</td>\n",
              "      <td>-0.393941</td>\n",
              "      <td>-0.518357</td>\n",
              "    </tr>\n",
              "    <tr>\n",
              "      <th>fourth row</th>\n",
              "      <td>-1.620665</td>\n",
              "      <td>-0.894481</td>\n",
              "      <td>-2.206637</td>\n",
              "      <td>1.889650</td>\n",
              "      <td>-0.168061</td>\n",
              "    </tr>\n",
              "    <tr>\n",
              "      <th>fifth row</th>\n",
              "      <td>-0.793989</td>\n",
              "      <td>0.815225</td>\n",
              "      <td>0.244170</td>\n",
              "      <td>-1.834688</td>\n",
              "      <td>0.020800</td>\n",
              "    </tr>\n",
              "  </tbody>\n",
              "</table>\n",
              "</div>"
            ],
            "text/plain": [
              "            first col  second col  third col  fourth col  fifth col\n",
              "first row   -0.248954   -2.090749   0.766858   -0.838886   0.633128\n",
              "second row  -1.022491   -0.284207  -0.037904   -1.794641   0.859787\n",
              "third row    2.305055    0.990373  -1.062569   -0.393941  -0.518357\n",
              "fourth row  -1.620665   -0.894481  -2.206637    1.889650  -0.168061\n",
              "fifth row   -0.793989    0.815225   0.244170   -1.834688   0.020800"
            ]
          },
          "execution_count": 56,
          "metadata": {},
          "output_type": "execute_result"
        }
      ],
      "source": [
        "# lets give labels to rows and columns\n",
        "df3 = pd.DataFrame(np.random.randn(5,5),index=['first row','second row','third row','fourth row','fifth row'],\n",
        "                   columns=['first col','second col','third col','fourth col','fifth col'])\n",
        "df3"
      ]
    },
    {
      "cell_type": "code",
      "execution_count": null,
      "metadata": {
        "id": "zBwfT-BBGpu5",
        "outputId": "ff8bdc84-6825-429e-f083-a9c071e010c3"
      },
      "outputs": [
        {
          "data": {
            "text/html": [
              "<div>\n",
              "<style scoped>\n",
              "    .dataframe tbody tr th:only-of-type {\n",
              "        vertical-align: middle;\n",
              "    }\n",
              "\n",
              "    .dataframe tbody tr th {\n",
              "        vertical-align: top;\n",
              "    }\n",
              "\n",
              "    .dataframe thead th {\n",
              "        text-align: right;\n",
              "    }\n",
              "</style>\n",
              "<table border=\"1\" class=\"dataframe\">\n",
              "  <thead>\n",
              "    <tr style=\"text-align: right;\">\n",
              "      <th></th>\n",
              "      <th>third col</th>\n",
              "      <th>fourth col</th>\n",
              "      <th>first col</th>\n",
              "    </tr>\n",
              "  </thead>\n",
              "  <tbody>\n",
              "    <tr>\n",
              "      <th>first row</th>\n",
              "      <td>0.766858</td>\n",
              "      <td>-0.838886</td>\n",
              "      <td>-0.248954</td>\n",
              "    </tr>\n",
              "    <tr>\n",
              "      <th>second row</th>\n",
              "      <td>-0.037904</td>\n",
              "      <td>-1.794641</td>\n",
              "      <td>-1.022491</td>\n",
              "    </tr>\n",
              "    <tr>\n",
              "      <th>third row</th>\n",
              "      <td>-1.062569</td>\n",
              "      <td>-0.393941</td>\n",
              "      <td>2.305055</td>\n",
              "    </tr>\n",
              "    <tr>\n",
              "      <th>fourth row</th>\n",
              "      <td>-2.206637</td>\n",
              "      <td>1.889650</td>\n",
              "      <td>-1.620665</td>\n",
              "    </tr>\n",
              "    <tr>\n",
              "      <th>fifth row</th>\n",
              "      <td>0.244170</td>\n",
              "      <td>-1.834688</td>\n",
              "      <td>-0.793989</td>\n",
              "    </tr>\n",
              "  </tbody>\n",
              "</table>\n",
              "</div>"
            ],
            "text/plain": [
              "            third col  fourth col  first col\n",
              "first row    0.766858   -0.838886  -0.248954\n",
              "second row  -0.037904   -1.794641  -1.022491\n",
              "third row   -1.062569   -0.393941   2.305055\n",
              "fourth row  -2.206637    1.889650  -1.620665\n",
              "fifth row    0.244170   -1.834688  -0.793989"
            ]
          },
          "execution_count": 60,
          "metadata": {},
          "output_type": "execute_result"
        }
      ],
      "source": [
        "df3[['third col','fourth col','first col']]"
      ]
    },
    {
      "cell_type": "code",
      "execution_count": null,
      "metadata": {
        "id": "E3hPhfPhGpu5",
        "outputId": "98aa7bad-c65d-4378-d472-6154b778d14c"
      },
      "outputs": [
        {
          "data": {
            "text/plain": [
              "Index(['first col', 'second col', 'third col', 'fourth col', 'fifth col'], dtype='object')"
            ]
          },
          "execution_count": 68,
          "metadata": {},
          "output_type": "execute_result"
        }
      ],
      "source": [
        "df3.columns"
      ]
    },
    {
      "cell_type": "code",
      "execution_count": null,
      "metadata": {
        "scrolled": true,
        "id": "8gjToWquGpu6",
        "outputId": "fb843328-aefc-4d8d-88d4-927a2dd66ddc"
      },
      "outputs": [
        {
          "data": {
            "text/html": [
              "<div>\n",
              "<style scoped>\n",
              "    .dataframe tbody tr th:only-of-type {\n",
              "        vertical-align: middle;\n",
              "    }\n",
              "\n",
              "    .dataframe tbody tr th {\n",
              "        vertical-align: top;\n",
              "    }\n",
              "\n",
              "    .dataframe thead th {\n",
              "        text-align: right;\n",
              "    }\n",
              "</style>\n",
              "<table border=\"1\" class=\"dataframe\">\n",
              "  <thead>\n",
              "    <tr style=\"text-align: right;\">\n",
              "      <th></th>\n",
              "      <th>third col</th>\n",
              "      <th>first col</th>\n",
              "    </tr>\n",
              "  </thead>\n",
              "  <tbody>\n",
              "    <tr>\n",
              "      <th>second row</th>\n",
              "      <td>-0.037904</td>\n",
              "      <td>-1.022491</td>\n",
              "    </tr>\n",
              "    <tr>\n",
              "      <th>fourth row</th>\n",
              "      <td>-2.206637</td>\n",
              "      <td>-1.620665</td>\n",
              "    </tr>\n",
              "  </tbody>\n",
              "</table>\n",
              "</div>"
            ],
            "text/plain": [
              "            third col  first col\n",
              "second row  -0.037904  -1.022491\n",
              "fourth row  -2.206637  -1.620665"
            ]
          },
          "execution_count": 72,
          "metadata": {},
          "output_type": "execute_result"
        }
      ],
      "source": [
        "df3.loc[['second row','fourth row'],['third col','first col']]"
      ]
    },
    {
      "cell_type": "code",
      "execution_count": null,
      "metadata": {
        "id": "q9wTWO9zGpu6",
        "outputId": "02a0ed00-df7b-4a76-ad13-916af92d01a9"
      },
      "outputs": [
        {
          "data": {
            "text/html": [
              "<div>\n",
              "<style scoped>\n",
              "    .dataframe tbody tr th:only-of-type {\n",
              "        vertical-align: middle;\n",
              "    }\n",
              "\n",
              "    .dataframe tbody tr th {\n",
              "        vertical-align: top;\n",
              "    }\n",
              "\n",
              "    .dataframe thead th {\n",
              "        text-align: right;\n",
              "    }\n",
              "</style>\n",
              "<table border=\"1\" class=\"dataframe\">\n",
              "  <thead>\n",
              "    <tr style=\"text-align: right;\">\n",
              "      <th></th>\n",
              "      <th>first col</th>\n",
              "      <th>second col</th>\n",
              "      <th>third col</th>\n",
              "      <th>fourth col</th>\n",
              "      <th>fifth col</th>\n",
              "    </tr>\n",
              "  </thead>\n",
              "  <tbody>\n",
              "    <tr>\n",
              "      <th>first row</th>\n",
              "      <td>-0.248954</td>\n",
              "      <td>-2.090749</td>\n",
              "      <td>0.766858</td>\n",
              "      <td>-0.838886</td>\n",
              "      <td>0.633128</td>\n",
              "    </tr>\n",
              "    <tr>\n",
              "      <th>second row</th>\n",
              "      <td>-1.022491</td>\n",
              "      <td>-0.284207</td>\n",
              "      <td>-0.037904</td>\n",
              "      <td>-1.794641</td>\n",
              "      <td>0.859787</td>\n",
              "    </tr>\n",
              "    <tr>\n",
              "      <th>third row</th>\n",
              "      <td>2.305055</td>\n",
              "      <td>0.990373</td>\n",
              "      <td>-1.062569</td>\n",
              "      <td>-0.393941</td>\n",
              "      <td>-0.518357</td>\n",
              "    </tr>\n",
              "    <tr>\n",
              "      <th>fourth row</th>\n",
              "      <td>-1.620665</td>\n",
              "      <td>-0.894481</td>\n",
              "      <td>-2.206637</td>\n",
              "      <td>1.889650</td>\n",
              "      <td>-0.168061</td>\n",
              "    </tr>\n",
              "    <tr>\n",
              "      <th>fifth row</th>\n",
              "      <td>-0.793989</td>\n",
              "      <td>0.815225</td>\n",
              "      <td>0.244170</td>\n",
              "      <td>-1.834688</td>\n",
              "      <td>0.020800</td>\n",
              "    </tr>\n",
              "  </tbody>\n",
              "</table>\n",
              "</div>"
            ],
            "text/plain": [
              "            first col  second col  third col  fourth col  fifth col\n",
              "first row   -0.248954   -2.090749   0.766858   -0.838886   0.633128\n",
              "second row  -1.022491   -0.284207  -0.037904   -1.794641   0.859787\n",
              "third row    2.305055    0.990373  -1.062569   -0.393941  -0.518357\n",
              "fourth row  -1.620665   -0.894481  -2.206637    1.889650  -0.168061\n",
              "fifth row   -0.793989    0.815225   0.244170   -1.834688   0.020800"
            ]
          },
          "execution_count": 75,
          "metadata": {},
          "output_type": "execute_result"
        }
      ],
      "source": [
        "df3"
      ]
    },
    {
      "cell_type": "code",
      "execution_count": null,
      "metadata": {
        "scrolled": true,
        "id": "-Am6UYohGpu7",
        "outputId": "a6513ccb-f5f3-40a5-8e42-919219c25b26"
      },
      "outputs": [
        {
          "data": {
            "text/html": [
              "<div>\n",
              "<style scoped>\n",
              "    .dataframe tbody tr th:only-of-type {\n",
              "        vertical-align: middle;\n",
              "    }\n",
              "\n",
              "    .dataframe tbody tr th {\n",
              "        vertical-align: top;\n",
              "    }\n",
              "\n",
              "    .dataframe thead th {\n",
              "        text-align: right;\n",
              "    }\n",
              "</style>\n",
              "<table border=\"1\" class=\"dataframe\">\n",
              "  <thead>\n",
              "    <tr style=\"text-align: right;\">\n",
              "      <th></th>\n",
              "      <th>fourth col</th>\n",
              "      <th>fifth col</th>\n",
              "    </tr>\n",
              "  </thead>\n",
              "  <tbody>\n",
              "    <tr>\n",
              "      <th>second row</th>\n",
              "      <td>-1.794641</td>\n",
              "      <td>0.859787</td>\n",
              "    </tr>\n",
              "    <tr>\n",
              "      <th>third row</th>\n",
              "      <td>-0.393941</td>\n",
              "      <td>-0.518357</td>\n",
              "    </tr>\n",
              "    <tr>\n",
              "      <th>fourth row</th>\n",
              "      <td>1.889650</td>\n",
              "      <td>-0.168061</td>\n",
              "    </tr>\n",
              "  </tbody>\n",
              "</table>\n",
              "</div>"
            ],
            "text/plain": [
              "            fourth col  fifth col\n",
              "second row   -1.794641   0.859787\n",
              "third row    -0.393941  -0.518357\n",
              "fourth row    1.889650  -0.168061"
            ]
          },
          "execution_count": 78,
          "metadata": {},
          "output_type": "execute_result"
        }
      ],
      "source": [
        "df3.iloc[1:4,3:]"
      ]
    },
    {
      "cell_type": "code",
      "execution_count": null,
      "metadata": {
        "id": "jNa8m7WxGpu7"
      },
      "outputs": [],
      "source": []
    },
    {
      "cell_type": "code",
      "execution_count": null,
      "metadata": {
        "id": "_319JgP_Gpu8",
        "outputId": "ed8d755b-e904-473f-c2d8-60301e75e60f"
      },
      "outputs": [
        {
          "name": "stdout",
          "output_type": "stream",
          "text": [
            "first row     0.392322\n",
            "second row   -0.545976\n",
            "third row     0.154637\n",
            "fourth row    1.347788\n",
            "fifth row    -1.656737\n",
            "Name: second col, dtype: float64\n",
            "\n"
          ]
        },
        {
          "data": {
            "text/html": [
              "<div>\n",
              "<style scoped>\n",
              "    .dataframe tbody tr th:only-of-type {\n",
              "        vertical-align: middle;\n",
              "    }\n",
              "\n",
              "    .dataframe tbody tr th {\n",
              "        vertical-align: top;\n",
              "    }\n",
              "\n",
              "    .dataframe thead th {\n",
              "        text-align: right;\n",
              "    }\n",
              "</style>\n",
              "<table border=\"1\" class=\"dataframe\">\n",
              "  <thead>\n",
              "    <tr style=\"text-align: right;\">\n",
              "      <th></th>\n",
              "      <th>third col</th>\n",
              "      <th>first col</th>\n",
              "    </tr>\n",
              "  </thead>\n",
              "  <tbody>\n",
              "    <tr>\n",
              "      <th>first row</th>\n",
              "      <td>-0.124973</td>\n",
              "      <td>-0.997329</td>\n",
              "    </tr>\n",
              "    <tr>\n",
              "      <th>second row</th>\n",
              "      <td>0.179702</td>\n",
              "      <td>0.016515</td>\n",
              "    </tr>\n",
              "    <tr>\n",
              "      <th>third row</th>\n",
              "      <td>0.383640</td>\n",
              "      <td>-0.397730</td>\n",
              "    </tr>\n",
              "    <tr>\n",
              "      <th>fourth row</th>\n",
              "      <td>-1.010151</td>\n",
              "      <td>-0.123778</td>\n",
              "    </tr>\n",
              "    <tr>\n",
              "      <th>fifth row</th>\n",
              "      <td>-1.381358</td>\n",
              "      <td>-0.034453</td>\n",
              "    </tr>\n",
              "  </tbody>\n",
              "</table>\n",
              "</div>"
            ],
            "text/plain": [
              "            third col  first col\n",
              "first row   -0.124973  -0.997329\n",
              "second row   0.179702   0.016515\n",
              "third row    0.383640  -0.397730\n",
              "fourth row  -1.010151  -0.123778\n",
              "fifth row   -1.381358  -0.034453"
            ]
          },
          "execution_count": 19,
          "metadata": {},
          "output_type": "execute_result"
        }
      ],
      "source": [
        "# we can access individual series in a data frame\n",
        "print(df3['second col'])\n",
        "print('')\n",
        "df3[['third col','first col']]"
      ]
    },
    {
      "cell_type": "code",
      "execution_count": null,
      "metadata": {
        "scrolled": true,
        "id": "zG7ijBaPGpu8",
        "outputId": "ae2f8241-6fe0-461e-a7b0-5f3cbd466f60"
      },
      "outputs": [
        {
          "data": {
            "text/plain": [
              "first col    -0.123778\n",
              "second col    1.347788\n",
              "third col    -1.010151\n",
              "fourth col   -0.487149\n",
              "fifth col     0.724082\n",
              "Name: fourth row, dtype: float64"
            ]
          },
          "execution_count": 20,
          "metadata": {},
          "output_type": "execute_result"
        }
      ],
      "source": [
        "# we can access rows of a dataframe\n",
        "df3.loc['fourth row']"
      ]
    },
    {
      "cell_type": "code",
      "execution_count": null,
      "metadata": {
        "id": "xtkdD-ZJGpu9",
        "outputId": "9297936d-cb72-4bf7-c680-d0dbe8cba0fb"
      },
      "outputs": [
        {
          "data": {
            "text/html": [
              "<div>\n",
              "<style scoped>\n",
              "    .dataframe tbody tr th:only-of-type {\n",
              "        vertical-align: middle;\n",
              "    }\n",
              "\n",
              "    .dataframe tbody tr th {\n",
              "        vertical-align: top;\n",
              "    }\n",
              "\n",
              "    .dataframe thead th {\n",
              "        text-align: right;\n",
              "    }\n",
              "</style>\n",
              "<table border=\"1\" class=\"dataframe\">\n",
              "  <thead>\n",
              "    <tr style=\"text-align: right;\">\n",
              "      <th></th>\n",
              "      <th>second col</th>\n",
              "      <th>first col</th>\n",
              "    </tr>\n",
              "  </thead>\n",
              "  <tbody>\n",
              "    <tr>\n",
              "      <th>fourth row</th>\n",
              "      <td>1.347788</td>\n",
              "      <td>-0.123778</td>\n",
              "    </tr>\n",
              "    <tr>\n",
              "      <th>third row</th>\n",
              "      <td>0.154637</td>\n",
              "      <td>-0.397730</td>\n",
              "    </tr>\n",
              "  </tbody>\n",
              "</table>\n",
              "</div>"
            ],
            "text/plain": [
              "            second col  first col\n",
              "fourth row    1.347788  -0.123778\n",
              "third row     0.154637  -0.397730"
            ]
          },
          "execution_count": 21,
          "metadata": {},
          "output_type": "execute_result"
        }
      ],
      "source": [
        "df3.loc[['fourth row','third row'],['second col','first col']]"
      ]
    },
    {
      "cell_type": "code",
      "execution_count": null,
      "metadata": {
        "id": "Q0tkfs91Gpu-",
        "outputId": "7c79b4e7-cd73-4e8b-e4cb-bc3e5f0d376f"
      },
      "outputs": [
        {
          "data": {
            "text/html": [
              "<div>\n",
              "<style scoped>\n",
              "    .dataframe tbody tr th:only-of-type {\n",
              "        vertical-align: middle;\n",
              "    }\n",
              "\n",
              "    .dataframe tbody tr th {\n",
              "        vertical-align: top;\n",
              "    }\n",
              "\n",
              "    .dataframe thead th {\n",
              "        text-align: right;\n",
              "    }\n",
              "</style>\n",
              "<table border=\"1\" class=\"dataframe\">\n",
              "  <thead>\n",
              "    <tr style=\"text-align: right;\">\n",
              "      <th></th>\n",
              "      <th>fourth col</th>\n",
              "      <th>fifth col</th>\n",
              "    </tr>\n",
              "  </thead>\n",
              "  <tbody>\n",
              "    <tr>\n",
              "      <th>third row</th>\n",
              "      <td>-0.023996</td>\n",
              "      <td>0.526021</td>\n",
              "    </tr>\n",
              "    <tr>\n",
              "      <th>fourth row</th>\n",
              "      <td>-0.487149</td>\n",
              "      <td>0.724082</td>\n",
              "    </tr>\n",
              "    <tr>\n",
              "      <th>fifth row</th>\n",
              "      <td>-1.181719</td>\n",
              "      <td>-0.319324</td>\n",
              "    </tr>\n",
              "  </tbody>\n",
              "</table>\n",
              "</div>"
            ],
            "text/plain": [
              "            fourth col  fifth col\n",
              "third row    -0.023996   0.526021\n",
              "fourth row   -0.487149   0.724082\n",
              "fifth row    -1.181719  -0.319324"
            ]
          },
          "execution_count": 22,
          "metadata": {},
          "output_type": "execute_result"
        }
      ],
      "source": [
        "df3.iloc[2:,3:]"
      ]
    },
    {
      "cell_type": "code",
      "execution_count": null,
      "metadata": {
        "id": "JNwhgIqaGpu-",
        "outputId": "55877f7a-4e00-498b-c671-cbefa04d0679"
      },
      "outputs": [
        {
          "data": {
            "text/html": [
              "<div>\n",
              "<style scoped>\n",
              "    .dataframe tbody tr th:only-of-type {\n",
              "        vertical-align: middle;\n",
              "    }\n",
              "\n",
              "    .dataframe tbody tr th {\n",
              "        vertical-align: top;\n",
              "    }\n",
              "\n",
              "    .dataframe thead th {\n",
              "        text-align: right;\n",
              "    }\n",
              "</style>\n",
              "<table border=\"1\" class=\"dataframe\">\n",
              "  <thead>\n",
              "    <tr style=\"text-align: right;\">\n",
              "      <th></th>\n",
              "      <th>first col</th>\n",
              "      <th>second col</th>\n",
              "      <th>third col</th>\n",
              "      <th>fourth col</th>\n",
              "      <th>fifth col</th>\n",
              "    </tr>\n",
              "  </thead>\n",
              "  <tbody>\n",
              "    <tr>\n",
              "      <th>first row</th>\n",
              "      <td>-0.997329</td>\n",
              "      <td>0.392322</td>\n",
              "      <td>-0.124973</td>\n",
              "      <td>-0.730586</td>\n",
              "      <td>-0.989552</td>\n",
              "    </tr>\n",
              "    <tr>\n",
              "      <th>second row</th>\n",
              "      <td>0.016515</td>\n",
              "      <td>-0.545976</td>\n",
              "      <td>0.179702</td>\n",
              "      <td>0.911808</td>\n",
              "      <td>-0.505986</td>\n",
              "    </tr>\n",
              "    <tr>\n",
              "      <th>third row</th>\n",
              "      <td>-0.397730</td>\n",
              "      <td>0.154637</td>\n",
              "      <td>0.383640</td>\n",
              "      <td>-0.023996</td>\n",
              "      <td>0.526021</td>\n",
              "    </tr>\n",
              "    <tr>\n",
              "      <th>fourth row</th>\n",
              "      <td>-0.123778</td>\n",
              "      <td>1.347788</td>\n",
              "      <td>-1.010151</td>\n",
              "      <td>-0.487149</td>\n",
              "      <td>0.724082</td>\n",
              "    </tr>\n",
              "    <tr>\n",
              "      <th>fifth row</th>\n",
              "      <td>-0.034453</td>\n",
              "      <td>-1.656737</td>\n",
              "      <td>-1.381358</td>\n",
              "      <td>-1.181719</td>\n",
              "      <td>-0.319324</td>\n",
              "    </tr>\n",
              "  </tbody>\n",
              "</table>\n",
              "</div>"
            ],
            "text/plain": [
              "            first col  second col  third col  fourth col  fifth col\n",
              "first row   -0.997329    0.392322  -0.124973   -0.730586  -0.989552\n",
              "second row   0.016515   -0.545976   0.179702    0.911808  -0.505986\n",
              "third row   -0.397730    0.154637   0.383640   -0.023996   0.526021\n",
              "fourth row  -0.123778    1.347788  -1.010151   -0.487149   0.724082\n",
              "fifth row   -0.034453   -1.656737  -1.381358   -1.181719  -0.319324"
            ]
          },
          "execution_count": 23,
          "metadata": {},
          "output_type": "execute_result"
        }
      ],
      "source": [
        "df3"
      ]
    },
    {
      "cell_type": "code",
      "execution_count": null,
      "metadata": {
        "scrolled": true,
        "id": "T9dQs6L2GpvA",
        "outputId": "a80af42a-19a5-4013-a98d-057acff7c148"
      },
      "outputs": [
        {
          "data": {
            "text/html": [
              "<div>\n",
              "<style scoped>\n",
              "    .dataframe tbody tr th:only-of-type {\n",
              "        vertical-align: middle;\n",
              "    }\n",
              "\n",
              "    .dataframe tbody tr th {\n",
              "        vertical-align: top;\n",
              "    }\n",
              "\n",
              "    .dataframe thead th {\n",
              "        text-align: right;\n",
              "    }\n",
              "</style>\n",
              "<table border=\"1\" class=\"dataframe\">\n",
              "  <thead>\n",
              "    <tr style=\"text-align: right;\">\n",
              "      <th></th>\n",
              "      <th>first col</th>\n",
              "      <th>second col</th>\n",
              "      <th>third col</th>\n",
              "      <th>fourth col</th>\n",
              "      <th>fifth col</th>\n",
              "    </tr>\n",
              "  </thead>\n",
              "  <tbody>\n",
              "    <tr>\n",
              "      <th>first row</th>\n",
              "      <td>NaN</td>\n",
              "      <td>0.392322</td>\n",
              "      <td>NaN</td>\n",
              "      <td>NaN</td>\n",
              "      <td>NaN</td>\n",
              "    </tr>\n",
              "    <tr>\n",
              "      <th>second row</th>\n",
              "      <td>0.016515</td>\n",
              "      <td>NaN</td>\n",
              "      <td>NaN</td>\n",
              "      <td>NaN</td>\n",
              "      <td>NaN</td>\n",
              "    </tr>\n",
              "    <tr>\n",
              "      <th>third row</th>\n",
              "      <td>NaN</td>\n",
              "      <td>0.154637</td>\n",
              "      <td>NaN</td>\n",
              "      <td>NaN</td>\n",
              "      <td>NaN</td>\n",
              "    </tr>\n",
              "    <tr>\n",
              "      <th>fourth row</th>\n",
              "      <td>NaN</td>\n",
              "      <td>1.347788</td>\n",
              "      <td>NaN</td>\n",
              "      <td>NaN</td>\n",
              "      <td>NaN</td>\n",
              "    </tr>\n",
              "    <tr>\n",
              "      <th>fifth row</th>\n",
              "      <td>NaN</td>\n",
              "      <td>NaN</td>\n",
              "      <td>NaN</td>\n",
              "      <td>NaN</td>\n",
              "      <td>NaN</td>\n",
              "    </tr>\n",
              "  </tbody>\n",
              "</table>\n",
              "</div>"
            ],
            "text/plain": [
              "            first col  second col  third col  fourth col  fifth col\n",
              "first row         NaN    0.392322        NaN         NaN        NaN\n",
              "second row   0.016515         NaN        NaN         NaN        NaN\n",
              "third row         NaN    0.154637        NaN         NaN        NaN\n",
              "fourth row        NaN    1.347788        NaN         NaN        NaN\n",
              "fifth row         NaN         NaN        NaN         NaN        NaN"
            ]
          },
          "execution_count": 24,
          "metadata": {},
          "output_type": "execute_result"
        }
      ],
      "source": [
        "df3[df3.iloc[:,:2]>0]"
      ]
    },
    {
      "cell_type": "code",
      "execution_count": null,
      "metadata": {
        "id": "009WCVCNGpvA",
        "outputId": "b194d707-7075-4321-a117-eefba227a19d"
      },
      "outputs": [
        {
          "data": {
            "text/html": [
              "<div>\n",
              "<style scoped>\n",
              "    .dataframe tbody tr th:only-of-type {\n",
              "        vertical-align: middle;\n",
              "    }\n",
              "\n",
              "    .dataframe tbody tr th {\n",
              "        vertical-align: top;\n",
              "    }\n",
              "\n",
              "    .dataframe thead th {\n",
              "        text-align: right;\n",
              "    }\n",
              "</style>\n",
              "<table border=\"1\" class=\"dataframe\">\n",
              "  <thead>\n",
              "    <tr style=\"text-align: right;\">\n",
              "      <th></th>\n",
              "      <th>third col</th>\n",
              "      <th>fourth col</th>\n",
              "      <th>fifth col</th>\n",
              "    </tr>\n",
              "  </thead>\n",
              "  <tbody>\n",
              "    <tr>\n",
              "      <th>fifth row</th>\n",
              "      <td>-1.381358</td>\n",
              "      <td>-1.181719</td>\n",
              "      <td>-0.319324</td>\n",
              "    </tr>\n",
              "  </tbody>\n",
              "</table>\n",
              "</div>"
            ],
            "text/plain": [
              "           third col  fourth col  fifth col\n",
              "fifth row  -1.381358   -1.181719  -0.319324"
            ]
          },
          "execution_count": 25,
          "metadata": {},
          "output_type": "execute_result"
        }
      ],
      "source": [
        "df3.iloc[4:,2:]"
      ]
    },
    {
      "cell_type": "code",
      "execution_count": null,
      "metadata": {
        "id": "c5pi8rrnGpvB",
        "outputId": "e15a80fb-7c81-44da-ad7f-2de3858a3e96"
      },
      "outputs": [
        {
          "data": {
            "text/html": [
              "<div>\n",
              "<style scoped>\n",
              "    .dataframe tbody tr th:only-of-type {\n",
              "        vertical-align: middle;\n",
              "    }\n",
              "\n",
              "    .dataframe tbody tr th {\n",
              "        vertical-align: top;\n",
              "    }\n",
              "\n",
              "    .dataframe thead th {\n",
              "        text-align: right;\n",
              "    }\n",
              "</style>\n",
              "<table border=\"1\" class=\"dataframe\">\n",
              "  <thead>\n",
              "    <tr style=\"text-align: right;\">\n",
              "      <th></th>\n",
              "      <th>second col</th>\n",
              "      <th>third col</th>\n",
              "    </tr>\n",
              "  </thead>\n",
              "  <tbody>\n",
              "    <tr>\n",
              "      <th>fourth row</th>\n",
              "      <td>1.347788</td>\n",
              "      <td>-1.010151</td>\n",
              "    </tr>\n",
              "    <tr>\n",
              "      <th>first row</th>\n",
              "      <td>0.392322</td>\n",
              "      <td>-0.124973</td>\n",
              "    </tr>\n",
              "  </tbody>\n",
              "</table>\n",
              "</div>"
            ],
            "text/plain": [
              "            second col  third col\n",
              "fourth row    1.347788  -1.010151\n",
              "first row     0.392322  -0.124973"
            ]
          },
          "execution_count": 26,
          "metadata": {},
          "output_type": "execute_result"
        }
      ],
      "source": [
        "df3.loc[['fourth row','first row'],['second col','third col']]"
      ]
    },
    {
      "cell_type": "code",
      "execution_count": null,
      "metadata": {
        "id": "6Pxxzs2vGpvB",
        "outputId": "0c422e26-f285-484f-e083-6654ff54304f"
      },
      "outputs": [
        {
          "data": {
            "text/html": [
              "<div>\n",
              "<style scoped>\n",
              "    .dataframe tbody tr th:only-of-type {\n",
              "        vertical-align: middle;\n",
              "    }\n",
              "\n",
              "    .dataframe tbody tr th {\n",
              "        vertical-align: top;\n",
              "    }\n",
              "\n",
              "    .dataframe thead th {\n",
              "        text-align: right;\n",
              "    }\n",
              "</style>\n",
              "<table border=\"1\" class=\"dataframe\">\n",
              "  <thead>\n",
              "    <tr style=\"text-align: right;\">\n",
              "      <th></th>\n",
              "      <th>first col</th>\n",
              "      <th>second col</th>\n",
              "      <th>third col</th>\n",
              "      <th>fourth col</th>\n",
              "      <th>fifth col</th>\n",
              "    </tr>\n",
              "  </thead>\n",
              "  <tbody>\n",
              "    <tr>\n",
              "      <th>first row</th>\n",
              "      <td>-0.248954</td>\n",
              "      <td>-2.090749</td>\n",
              "      <td>0.766858</td>\n",
              "      <td>-0.838886</td>\n",
              "      <td>0.633128</td>\n",
              "    </tr>\n",
              "    <tr>\n",
              "      <th>second row</th>\n",
              "      <td>-1.022491</td>\n",
              "      <td>-0.284207</td>\n",
              "      <td>-0.037904</td>\n",
              "      <td>-1.794641</td>\n",
              "      <td>0.859787</td>\n",
              "    </tr>\n",
              "    <tr>\n",
              "      <th>third row</th>\n",
              "      <td>2.305055</td>\n",
              "      <td>0.990373</td>\n",
              "      <td>-1.062569</td>\n",
              "      <td>-0.393941</td>\n",
              "      <td>-0.518357</td>\n",
              "    </tr>\n",
              "    <tr>\n",
              "      <th>fourth row</th>\n",
              "      <td>-1.620665</td>\n",
              "      <td>-0.894481</td>\n",
              "      <td>-2.206637</td>\n",
              "      <td>1.889650</td>\n",
              "      <td>-0.168061</td>\n",
              "    </tr>\n",
              "    <tr>\n",
              "      <th>fifth row</th>\n",
              "      <td>-0.793989</td>\n",
              "      <td>0.815225</td>\n",
              "      <td>0.244170</td>\n",
              "      <td>-1.834688</td>\n",
              "      <td>0.020800</td>\n",
              "    </tr>\n",
              "  </tbody>\n",
              "</table>\n",
              "</div>"
            ],
            "text/plain": [
              "            first col  second col  third col  fourth col  fifth col\n",
              "first row   -0.248954   -2.090749   0.766858   -0.838886   0.633128\n",
              "second row  -1.022491   -0.284207  -0.037904   -1.794641   0.859787\n",
              "third row    2.305055    0.990373  -1.062569   -0.393941  -0.518357\n",
              "fourth row  -1.620665   -0.894481  -2.206637    1.889650  -0.168061\n",
              "fifth row   -0.793989    0.815225   0.244170   -1.834688   0.020800"
            ]
          },
          "execution_count": 79,
          "metadata": {},
          "output_type": "execute_result"
        }
      ],
      "source": [
        "df3"
      ]
    },
    {
      "cell_type": "code",
      "execution_count": null,
      "metadata": {
        "scrolled": true,
        "id": "FtbHOyKPGpvC",
        "outputId": "e13e21a9-3e4c-4ffa-8185-94fd4d0f9c76"
      },
      "outputs": [
        {
          "data": {
            "text/html": [
              "<div>\n",
              "<style scoped>\n",
              "    .dataframe tbody tr th:only-of-type {\n",
              "        vertical-align: middle;\n",
              "    }\n",
              "\n",
              "    .dataframe tbody tr th {\n",
              "        vertical-align: top;\n",
              "    }\n",
              "\n",
              "    .dataframe thead th {\n",
              "        text-align: right;\n",
              "    }\n",
              "</style>\n",
              "<table border=\"1\" class=\"dataframe\">\n",
              "  <thead>\n",
              "    <tr style=\"text-align: right;\">\n",
              "      <th></th>\n",
              "      <th>first col</th>\n",
              "      <th>second col</th>\n",
              "      <th>third col</th>\n",
              "      <th>fourth col</th>\n",
              "      <th>fifth col</th>\n",
              "    </tr>\n",
              "  </thead>\n",
              "  <tbody>\n",
              "    <tr>\n",
              "      <th>first row</th>\n",
              "      <td>False</td>\n",
              "      <td>False</td>\n",
              "      <td>True</td>\n",
              "      <td>False</td>\n",
              "      <td>True</td>\n",
              "    </tr>\n",
              "    <tr>\n",
              "      <th>second row</th>\n",
              "      <td>False</td>\n",
              "      <td>False</td>\n",
              "      <td>False</td>\n",
              "      <td>False</td>\n",
              "      <td>True</td>\n",
              "    </tr>\n",
              "    <tr>\n",
              "      <th>third row</th>\n",
              "      <td>True</td>\n",
              "      <td>True</td>\n",
              "      <td>False</td>\n",
              "      <td>False</td>\n",
              "      <td>False</td>\n",
              "    </tr>\n",
              "    <tr>\n",
              "      <th>fourth row</th>\n",
              "      <td>False</td>\n",
              "      <td>False</td>\n",
              "      <td>False</td>\n",
              "      <td>True</td>\n",
              "      <td>False</td>\n",
              "    </tr>\n",
              "    <tr>\n",
              "      <th>fifth row</th>\n",
              "      <td>False</td>\n",
              "      <td>True</td>\n",
              "      <td>True</td>\n",
              "      <td>False</td>\n",
              "      <td>True</td>\n",
              "    </tr>\n",
              "  </tbody>\n",
              "</table>\n",
              "</div>"
            ],
            "text/plain": [
              "            first col  second col  third col  fourth col  fifth col\n",
              "first row       False       False       True       False       True\n",
              "second row      False       False      False       False       True\n",
              "third row        True        True      False       False      False\n",
              "fourth row      False       False      False        True      False\n",
              "fifth row       False        True       True       False       True"
            ]
          },
          "execution_count": 81,
          "metadata": {},
          "output_type": "execute_result"
        }
      ],
      "source": [
        "# we can use logical indexing for dataframes just like for numpy arrays\n",
        "df3>0"
      ]
    },
    {
      "cell_type": "code",
      "execution_count": null,
      "metadata": {
        "id": "_GIF-TPLGpvD",
        "outputId": "2943c2b0-7cde-4809-f0ad-95eccbc246e0"
      },
      "outputs": [
        {
          "data": {
            "text/html": [
              "<div>\n",
              "<style scoped>\n",
              "    .dataframe tbody tr th:only-of-type {\n",
              "        vertical-align: middle;\n",
              "    }\n",
              "\n",
              "    .dataframe tbody tr th {\n",
              "        vertical-align: top;\n",
              "    }\n",
              "\n",
              "    .dataframe thead th {\n",
              "        text-align: right;\n",
              "    }\n",
              "</style>\n",
              "<table border=\"1\" class=\"dataframe\">\n",
              "  <thead>\n",
              "    <tr style=\"text-align: right;\">\n",
              "      <th></th>\n",
              "      <th>first col</th>\n",
              "      <th>second col</th>\n",
              "      <th>third col</th>\n",
              "      <th>fourth col</th>\n",
              "      <th>fifth col</th>\n",
              "    </tr>\n",
              "  </thead>\n",
              "  <tbody>\n",
              "    <tr>\n",
              "      <th>first row</th>\n",
              "      <td>NaN</td>\n",
              "      <td>0.392322</td>\n",
              "      <td>NaN</td>\n",
              "      <td>NaN</td>\n",
              "      <td>NaN</td>\n",
              "    </tr>\n",
              "    <tr>\n",
              "      <th>second row</th>\n",
              "      <td>0.016515</td>\n",
              "      <td>NaN</td>\n",
              "      <td>0.179702</td>\n",
              "      <td>0.911808</td>\n",
              "      <td>NaN</td>\n",
              "    </tr>\n",
              "    <tr>\n",
              "      <th>third row</th>\n",
              "      <td>NaN</td>\n",
              "      <td>0.154637</td>\n",
              "      <td>0.383640</td>\n",
              "      <td>NaN</td>\n",
              "      <td>0.526021</td>\n",
              "    </tr>\n",
              "    <tr>\n",
              "      <th>fourth row</th>\n",
              "      <td>NaN</td>\n",
              "      <td>1.347788</td>\n",
              "      <td>NaN</td>\n",
              "      <td>NaN</td>\n",
              "      <td>0.724082</td>\n",
              "    </tr>\n",
              "    <tr>\n",
              "      <th>fifth row</th>\n",
              "      <td>NaN</td>\n",
              "      <td>NaN</td>\n",
              "      <td>NaN</td>\n",
              "      <td>NaN</td>\n",
              "      <td>NaN</td>\n",
              "    </tr>\n",
              "  </tbody>\n",
              "</table>\n",
              "</div>"
            ],
            "text/plain": [
              "            first col  second col  third col  fourth col  fifth col\n",
              "first row         NaN    0.392322        NaN         NaN        NaN\n",
              "second row   0.016515         NaN   0.179702    0.911808        NaN\n",
              "third row         NaN    0.154637   0.383640         NaN   0.526021\n",
              "fourth row        NaN    1.347788        NaN         NaN   0.724082\n",
              "fifth row         NaN         NaN        NaN         NaN        NaN"
            ]
          },
          "execution_count": 28,
          "metadata": {},
          "output_type": "execute_result"
        }
      ],
      "source": [
        "df3[(df3>0)]"
      ]
    },
    {
      "cell_type": "code",
      "execution_count": null,
      "metadata": {
        "id": "pX5sZ6lQGpvD",
        "outputId": "1063920e-bf0c-4ddb-d050-fce51c2c4809"
      },
      "outputs": [
        {
          "data": {
            "text/html": [
              "<div>\n",
              "<style scoped>\n",
              "    .dataframe tbody tr th:only-of-type {\n",
              "        vertical-align: middle;\n",
              "    }\n",
              "\n",
              "    .dataframe tbody tr th {\n",
              "        vertical-align: top;\n",
              "    }\n",
              "\n",
              "    .dataframe thead th {\n",
              "        text-align: right;\n",
              "    }\n",
              "</style>\n",
              "<table border=\"1\" class=\"dataframe\">\n",
              "  <thead>\n",
              "    <tr style=\"text-align: right;\">\n",
              "      <th></th>\n",
              "      <th>first col</th>\n",
              "      <th>second col</th>\n",
              "      <th>third col</th>\n",
              "      <th>fourth col</th>\n",
              "      <th>fifth col</th>\n",
              "      <th>sixth col</th>\n",
              "      <th>abc</th>\n",
              "    </tr>\n",
              "  </thead>\n",
              "  <tbody>\n",
              "    <tr>\n",
              "      <th>first row</th>\n",
              "      <td>-0.248954</td>\n",
              "      <td>-2.090749</td>\n",
              "      <td>0.766858</td>\n",
              "      <td>-0.838886</td>\n",
              "      <td>0.633128</td>\n",
              "      <td>This</td>\n",
              "      <td>Yet</td>\n",
              "    </tr>\n",
              "    <tr>\n",
              "      <th>second row</th>\n",
              "      <td>-1.022491</td>\n",
              "      <td>-0.284207</td>\n",
              "      <td>-0.037904</td>\n",
              "      <td>-1.794641</td>\n",
              "      <td>0.859787</td>\n",
              "      <td>is</td>\n",
              "      <td>another</td>\n",
              "    </tr>\n",
              "    <tr>\n",
              "      <th>third row</th>\n",
              "      <td>2.305055</td>\n",
              "      <td>0.990373</td>\n",
              "      <td>-1.062569</td>\n",
              "      <td>-0.393941</td>\n",
              "      <td>-0.518357</td>\n",
              "      <td>a</td>\n",
              "      <td>new</td>\n",
              "    </tr>\n",
              "    <tr>\n",
              "      <th>fourth row</th>\n",
              "      <td>-1.620665</td>\n",
              "      <td>-0.894481</td>\n",
              "      <td>-2.206637</td>\n",
              "      <td>1.889650</td>\n",
              "      <td>-0.168061</td>\n",
              "      <td>new</td>\n",
              "      <td>col</td>\n",
              "    </tr>\n",
              "    <tr>\n",
              "      <th>fifth row</th>\n",
              "      <td>-0.793989</td>\n",
              "      <td>0.815225</td>\n",
              "      <td>0.244170</td>\n",
              "      <td>-1.834688</td>\n",
              "      <td>0.020800</td>\n",
              "      <td>col</td>\n",
              "      <td>NaN</td>\n",
              "    </tr>\n",
              "  </tbody>\n",
              "</table>\n",
              "</div>"
            ],
            "text/plain": [
              "            first col  second col  third col  fourth col  fifth col sixth col  \\\n",
              "first row   -0.248954   -2.090749   0.766858   -0.838886   0.633128      This   \n",
              "second row  -1.022491   -0.284207  -0.037904   -1.794641   0.859787        is   \n",
              "third row    2.305055    0.990373  -1.062569   -0.393941  -0.518357         a   \n",
              "fourth row  -1.620665   -0.894481  -2.206637    1.889650  -0.168061       new   \n",
              "fifth row   -0.793989    0.815225   0.244170   -1.834688   0.020800       col   \n",
              "\n",
              "                abc  \n",
              "first row       Yet  \n",
              "second row  another  \n",
              "third row       new  \n",
              "fourth row      col  \n",
              "fifth row       NaN  "
            ]
          },
          "execution_count": 90,
          "metadata": {},
          "output_type": "execute_result"
        }
      ],
      "source": [
        "# df3['sixth col']=['This','is','a','new','col']\n",
        "df3['abc']=['Yet','another','new','col',np.NaN]\n",
        "df3"
      ]
    },
    {
      "cell_type": "code",
      "execution_count": null,
      "metadata": {
        "id": "DJbSfQoYGpvE",
        "outputId": "7ca7ac28-9e3e-4ad6-885b-e1f35142be36"
      },
      "outputs": [
        {
          "data": {
            "text/html": [
              "<div>\n",
              "<style scoped>\n",
              "    .dataframe tbody tr th:only-of-type {\n",
              "        vertical-align: middle;\n",
              "    }\n",
              "\n",
              "    .dataframe tbody tr th {\n",
              "        vertical-align: top;\n",
              "    }\n",
              "\n",
              "    .dataframe thead th {\n",
              "        text-align: right;\n",
              "    }\n",
              "</style>\n",
              "<table border=\"1\" class=\"dataframe\">\n",
              "  <thead>\n",
              "    <tr style=\"text-align: right;\">\n",
              "      <th></th>\n",
              "      <th>first col</th>\n",
              "      <th>second col</th>\n",
              "      <th>third col</th>\n",
              "      <th>fourth col</th>\n",
              "      <th>fifth col</th>\n",
              "      <th>sixth col</th>\n",
              "      <th>abc</th>\n",
              "    </tr>\n",
              "  </thead>\n",
              "  <tbody>\n",
              "    <tr>\n",
              "      <th>first row</th>\n",
              "      <td>-0.248954</td>\n",
              "      <td>-2.090749</td>\n",
              "      <td>0.766858</td>\n",
              "      <td>-0.838886</td>\n",
              "      <td>0.633128</td>\n",
              "      <td>-1.164861</td>\n",
              "      <td>Yet</td>\n",
              "    </tr>\n",
              "    <tr>\n",
              "      <th>second row</th>\n",
              "      <td>-1.022491</td>\n",
              "      <td>-0.284207</td>\n",
              "      <td>-0.037904</td>\n",
              "      <td>-1.794641</td>\n",
              "      <td>0.859787</td>\n",
              "      <td>-0.834197</td>\n",
              "      <td>another</td>\n",
              "    </tr>\n",
              "    <tr>\n",
              "      <th>third row</th>\n",
              "      <td>2.305055</td>\n",
              "      <td>0.990373</td>\n",
              "      <td>-1.062569</td>\n",
              "      <td>-0.393941</td>\n",
              "      <td>-0.518357</td>\n",
              "      <td>1.053753</td>\n",
              "      <td>new</td>\n",
              "    </tr>\n",
              "    <tr>\n",
              "      <th>fourth row</th>\n",
              "      <td>-1.620665</td>\n",
              "      <td>-0.894481</td>\n",
              "      <td>-2.206637</td>\n",
              "      <td>1.889650</td>\n",
              "      <td>-0.168061</td>\n",
              "      <td>-1.533005</td>\n",
              "      <td>col</td>\n",
              "    </tr>\n",
              "    <tr>\n",
              "      <th>fifth row</th>\n",
              "      <td>-0.793989</td>\n",
              "      <td>0.815225</td>\n",
              "      <td>0.244170</td>\n",
              "      <td>-1.834688</td>\n",
              "      <td>0.020800</td>\n",
              "      <td>0.778935</td>\n",
              "      <td>NaN</td>\n",
              "    </tr>\n",
              "  </tbody>\n",
              "</table>\n",
              "</div>"
            ],
            "text/plain": [
              "            first col  second col  third col  fourth col  fifth col  \\\n",
              "first row   -0.248954   -2.090749   0.766858   -0.838886   0.633128   \n",
              "second row  -1.022491   -0.284207  -0.037904   -1.794641   0.859787   \n",
              "third row    2.305055    0.990373  -1.062569   -0.393941  -0.518357   \n",
              "fourth row  -1.620665   -0.894481  -2.206637    1.889650  -0.168061   \n",
              "fifth row   -0.793989    0.815225   0.244170   -1.834688   0.020800   \n",
              "\n",
              "            sixth col      abc  \n",
              "first row   -1.164861      Yet  \n",
              "second row  -0.834197  another  \n",
              "third row    1.053753      new  \n",
              "fourth row  -1.533005      col  \n",
              "fifth row    0.778935      NaN  "
            ]
          },
          "execution_count": 91,
          "metadata": {},
          "output_type": "execute_result"
        }
      ],
      "source": [
        "# we can add columns to a dataframe\n",
        "df3['sixth col'] = np.random.randn(5,1)\n",
        "df3"
      ]
    },
    {
      "cell_type": "code",
      "execution_count": null,
      "metadata": {
        "id": "_4znEBXeGpvE"
      },
      "outputs": [],
      "source": [
        "# we can remove columns or rows from a dataframe\n",
        "# Method 1\n",
        "df3=df3.drop('third col',axis=1)"
      ]
    },
    {
      "cell_type": "code",
      "execution_count": null,
      "metadata": {
        "id": "vTvBz2SwGpvF"
      },
      "outputs": [],
      "source": [
        "# Method 2\n",
        "df3.drop('abc',axis=1,inplace=True)"
      ]
    },
    {
      "cell_type": "code",
      "execution_count": null,
      "metadata": {
        "id": "FWfQy3MgGpvF",
        "outputId": "c6fc4ebe-c20b-4b69-933f-8214c6c646c0"
      },
      "outputs": [
        {
          "data": {
            "text/html": [
              "<div>\n",
              "<style scoped>\n",
              "    .dataframe tbody tr th:only-of-type {\n",
              "        vertical-align: middle;\n",
              "    }\n",
              "\n",
              "    .dataframe tbody tr th {\n",
              "        vertical-align: top;\n",
              "    }\n",
              "\n",
              "    .dataframe thead th {\n",
              "        text-align: right;\n",
              "    }\n",
              "</style>\n",
              "<table border=\"1\" class=\"dataframe\">\n",
              "  <thead>\n",
              "    <tr style=\"text-align: right;\">\n",
              "      <th></th>\n",
              "      <th>second col</th>\n",
              "      <th>fourth col</th>\n",
              "      <th>fifth col</th>\n",
              "      <th>sixth col</th>\n",
              "    </tr>\n",
              "  </thead>\n",
              "  <tbody>\n",
              "    <tr>\n",
              "      <th>first row</th>\n",
              "      <td>-2.090749</td>\n",
              "      <td>-0.838886</td>\n",
              "      <td>0.633128</td>\n",
              "      <td>-1.164861</td>\n",
              "    </tr>\n",
              "    <tr>\n",
              "      <th>second row</th>\n",
              "      <td>-0.284207</td>\n",
              "      <td>-1.794641</td>\n",
              "      <td>0.859787</td>\n",
              "      <td>-0.834197</td>\n",
              "    </tr>\n",
              "    <tr>\n",
              "      <th>third row</th>\n",
              "      <td>0.990373</td>\n",
              "      <td>-0.393941</td>\n",
              "      <td>-0.518357</td>\n",
              "      <td>1.053753</td>\n",
              "    </tr>\n",
              "    <tr>\n",
              "      <th>fourth row</th>\n",
              "      <td>-0.894481</td>\n",
              "      <td>1.889650</td>\n",
              "      <td>-0.168061</td>\n",
              "      <td>-1.533005</td>\n",
              "    </tr>\n",
              "    <tr>\n",
              "      <th>fifth row</th>\n",
              "      <td>0.815225</td>\n",
              "      <td>-1.834688</td>\n",
              "      <td>0.020800</td>\n",
              "      <td>0.778935</td>\n",
              "    </tr>\n",
              "  </tbody>\n",
              "</table>\n",
              "</div>"
            ],
            "text/plain": [
              "            second col  fourth col  fifth col  sixth col\n",
              "first row    -2.090749   -0.838886   0.633128  -1.164861\n",
              "second row   -0.284207   -1.794641   0.859787  -0.834197\n",
              "third row     0.990373   -0.393941  -0.518357   1.053753\n",
              "fourth row   -0.894481    1.889650  -0.168061  -1.533005\n",
              "fifth row     0.815225   -1.834688   0.020800   0.778935"
            ]
          },
          "execution_count": 101,
          "metadata": {},
          "output_type": "execute_result"
        }
      ],
      "source": [
        "df3"
      ]
    },
    {
      "cell_type": "code",
      "execution_count": null,
      "metadata": {
        "id": "CincQ_1bGpvF",
        "outputId": "29357f0b-3ebe-4c13-d4b9-736c56c6da31"
      },
      "outputs": [
        {
          "data": {
            "text/html": [
              "<div>\n",
              "<style scoped>\n",
              "    .dataframe tbody tr th:only-of-type {\n",
              "        vertical-align: middle;\n",
              "    }\n",
              "\n",
              "    .dataframe tbody tr th {\n",
              "        vertical-align: top;\n",
              "    }\n",
              "\n",
              "    .dataframe thead th {\n",
              "        text-align: right;\n",
              "    }\n",
              "</style>\n",
              "<table border=\"1\" class=\"dataframe\">\n",
              "  <thead>\n",
              "    <tr style=\"text-align: right;\">\n",
              "      <th></th>\n",
              "      <th>third col</th>\n",
              "      <th>fourth col</th>\n",
              "      <th>fifth col</th>\n",
              "      <th>sixth col</th>\n",
              "    </tr>\n",
              "  </thead>\n",
              "  <tbody>\n",
              "    <tr>\n",
              "      <th>first row</th>\n",
              "      <td>-0.124973</td>\n",
              "      <td>-0.730586</td>\n",
              "      <td>-0.989552</td>\n",
              "      <td>0.859396</td>\n",
              "    </tr>\n",
              "    <tr>\n",
              "      <th>second row</th>\n",
              "      <td>0.179702</td>\n",
              "      <td>0.911808</td>\n",
              "      <td>-0.505986</td>\n",
              "      <td>-0.101485</td>\n",
              "    </tr>\n",
              "    <tr>\n",
              "      <th>third row</th>\n",
              "      <td>0.383640</td>\n",
              "      <td>-0.023996</td>\n",
              "      <td>0.526021</td>\n",
              "      <td>0.379618</td>\n",
              "    </tr>\n",
              "    <tr>\n",
              "      <th>fourth row</th>\n",
              "      <td>-1.010151</td>\n",
              "      <td>-0.487149</td>\n",
              "      <td>0.724082</td>\n",
              "      <td>2.302619</td>\n",
              "    </tr>\n",
              "    <tr>\n",
              "      <th>fifth row</th>\n",
              "      <td>-1.381358</td>\n",
              "      <td>-1.181719</td>\n",
              "      <td>-0.319324</td>\n",
              "      <td>0.745309</td>\n",
              "    </tr>\n",
              "  </tbody>\n",
              "</table>\n",
              "</div>"
            ],
            "text/plain": [
              "            third col  fourth col  fifth col  sixth col\n",
              "first row   -0.124973   -0.730586  -0.989552   0.859396\n",
              "second row   0.179702    0.911808  -0.505986  -0.101485\n",
              "third row    0.383640   -0.023996   0.526021   0.379618\n",
              "fourth row  -1.010151   -0.487149   0.724082   2.302619\n",
              "fifth row   -1.381358   -1.181719  -0.319324   0.745309"
            ]
          },
          "execution_count": 33,
          "metadata": {},
          "output_type": "execute_result"
        }
      ],
      "source": [
        "df3.drop('second col',axis=1)"
      ]
    },
    {
      "cell_type": "code",
      "execution_count": null,
      "metadata": {
        "id": "jdOXnAm-GpvG",
        "outputId": "2bfef14e-5f7e-4dce-e740-62e1872b4564"
      },
      "outputs": [
        {
          "data": {
            "text/html": [
              "<div>\n",
              "<style scoped>\n",
              "    .dataframe tbody tr th:only-of-type {\n",
              "        vertical-align: middle;\n",
              "    }\n",
              "\n",
              "    .dataframe tbody tr th {\n",
              "        vertical-align: top;\n",
              "    }\n",
              "\n",
              "    .dataframe thead th {\n",
              "        text-align: right;\n",
              "    }\n",
              "</style>\n",
              "<table border=\"1\" class=\"dataframe\">\n",
              "  <thead>\n",
              "    <tr style=\"text-align: right;\">\n",
              "      <th></th>\n",
              "      <th>second col</th>\n",
              "      <th>third col</th>\n",
              "      <th>fourth col</th>\n",
              "      <th>fifth col</th>\n",
              "      <th>sixth col</th>\n",
              "    </tr>\n",
              "  </thead>\n",
              "  <tbody>\n",
              "    <tr>\n",
              "      <th>first row</th>\n",
              "      <td>0.392322</td>\n",
              "      <td>-0.124973</td>\n",
              "      <td>-0.730586</td>\n",
              "      <td>-0.989552</td>\n",
              "      <td>0.859396</td>\n",
              "    </tr>\n",
              "    <tr>\n",
              "      <th>second row</th>\n",
              "      <td>-0.545976</td>\n",
              "      <td>0.179702</td>\n",
              "      <td>0.911808</td>\n",
              "      <td>-0.505986</td>\n",
              "      <td>-0.101485</td>\n",
              "    </tr>\n",
              "    <tr>\n",
              "      <th>third row</th>\n",
              "      <td>0.154637</td>\n",
              "      <td>0.383640</td>\n",
              "      <td>-0.023996</td>\n",
              "      <td>0.526021</td>\n",
              "      <td>0.379618</td>\n",
              "    </tr>\n",
              "    <tr>\n",
              "      <th>fourth row</th>\n",
              "      <td>1.347788</td>\n",
              "      <td>-1.010151</td>\n",
              "      <td>-0.487149</td>\n",
              "      <td>0.724082</td>\n",
              "      <td>2.302619</td>\n",
              "    </tr>\n",
              "    <tr>\n",
              "      <th>fifth row</th>\n",
              "      <td>-1.656737</td>\n",
              "      <td>-1.381358</td>\n",
              "      <td>-1.181719</td>\n",
              "      <td>-0.319324</td>\n",
              "      <td>0.745309</td>\n",
              "    </tr>\n",
              "  </tbody>\n",
              "</table>\n",
              "</div>"
            ],
            "text/plain": [
              "            second col  third col  fourth col  fifth col  sixth col\n",
              "first row     0.392322  -0.124973   -0.730586  -0.989552   0.859396\n",
              "second row   -0.545976   0.179702    0.911808  -0.505986  -0.101485\n",
              "third row     0.154637   0.383640   -0.023996   0.526021   0.379618\n",
              "fourth row    1.347788  -1.010151   -0.487149   0.724082   2.302619\n",
              "fifth row    -1.656737  -1.381358   -1.181719  -0.319324   0.745309"
            ]
          },
          "execution_count": 34,
          "metadata": {},
          "output_type": "execute_result"
        }
      ],
      "source": [
        "df3"
      ]
    },
    {
      "cell_type": "code",
      "execution_count": null,
      "metadata": {
        "jupyter": {
          "outputs_hidden": true
        },
        "id": "uiCvl-DpGpvG",
        "outputId": "4ae50a39-c17b-48d9-d104-2155254089a7"
      },
      "outputs": [
        {
          "data": {
            "text/html": [
              "<div>\n",
              "<style scoped>\n",
              "    .dataframe tbody tr th:only-of-type {\n",
              "        vertical-align: middle;\n",
              "    }\n",
              "\n",
              "    .dataframe tbody tr th {\n",
              "        vertical-align: top;\n",
              "    }\n",
              "\n",
              "    .dataframe thead th {\n",
              "        text-align: right;\n",
              "    }\n",
              "</style>\n",
              "<table border=\"1\" class=\"dataframe\">\n",
              "  <thead>\n",
              "    <tr style=\"text-align: right;\">\n",
              "      <th></th>\n",
              "      <th>third col</th>\n",
              "      <th>fourth col</th>\n",
              "      <th>fifth col</th>\n",
              "      <th>sixth col</th>\n",
              "    </tr>\n",
              "  </thead>\n",
              "  <tbody>\n",
              "    <tr>\n",
              "      <th>first row</th>\n",
              "      <td>-0.124973</td>\n",
              "      <td>-0.730586</td>\n",
              "      <td>-0.989552</td>\n",
              "      <td>0.859396</td>\n",
              "    </tr>\n",
              "    <tr>\n",
              "      <th>second row</th>\n",
              "      <td>0.179702</td>\n",
              "      <td>0.911808</td>\n",
              "      <td>-0.505986</td>\n",
              "      <td>-0.101485</td>\n",
              "    </tr>\n",
              "    <tr>\n",
              "      <th>third row</th>\n",
              "      <td>0.383640</td>\n",
              "      <td>-0.023996</td>\n",
              "      <td>0.526021</td>\n",
              "      <td>0.379618</td>\n",
              "    </tr>\n",
              "    <tr>\n",
              "      <th>fourth row</th>\n",
              "      <td>-1.010151</td>\n",
              "      <td>-0.487149</td>\n",
              "      <td>0.724082</td>\n",
              "      <td>2.302619</td>\n",
              "    </tr>\n",
              "    <tr>\n",
              "      <th>fifth row</th>\n",
              "      <td>-1.381358</td>\n",
              "      <td>-1.181719</td>\n",
              "      <td>-0.319324</td>\n",
              "      <td>0.745309</td>\n",
              "    </tr>\n",
              "  </tbody>\n",
              "</table>\n",
              "</div>"
            ],
            "text/plain": [
              "            third col  fourth col  fifth col  sixth col\n",
              "first row   -0.124973   -0.730586  -0.989552   0.859396\n",
              "second row   0.179702    0.911808  -0.505986  -0.101485\n",
              "third row    0.383640   -0.023996   0.526021   0.379618\n",
              "fourth row  -1.010151   -0.487149   0.724082   2.302619\n",
              "fifth row   -1.381358   -1.181719  -0.319324   0.745309"
            ]
          },
          "execution_count": 35,
          "metadata": {},
          "output_type": "execute_result"
        }
      ],
      "source": [
        "df4 = df3.drop(['second col'],axis=1)\n",
        "df4"
      ]
    },
    {
      "cell_type": "code",
      "execution_count": null,
      "metadata": {
        "scrolled": true,
        "id": "Xpw14_OaGpvH",
        "outputId": "6b6a4708-cbd0-4583-cf96-8b59116cc503"
      },
      "outputs": [
        {
          "data": {
            "text/html": [
              "<div>\n",
              "<style scoped>\n",
              "    .dataframe tbody tr th:only-of-type {\n",
              "        vertical-align: middle;\n",
              "    }\n",
              "\n",
              "    .dataframe tbody tr th {\n",
              "        vertical-align: top;\n",
              "    }\n",
              "\n",
              "    .dataframe thead th {\n",
              "        text-align: right;\n",
              "    }\n",
              "</style>\n",
              "<table border=\"1\" class=\"dataframe\">\n",
              "  <thead>\n",
              "    <tr style=\"text-align: right;\">\n",
              "      <th></th>\n",
              "      <th>second col</th>\n",
              "      <th>fourth col</th>\n",
              "      <th>fifth col</th>\n",
              "      <th>sixth col</th>\n",
              "    </tr>\n",
              "  </thead>\n",
              "  <tbody>\n",
              "    <tr>\n",
              "      <th>first row</th>\n",
              "      <td>-2.090749</td>\n",
              "      <td>-0.838886</td>\n",
              "      <td>0.633128</td>\n",
              "      <td>-1.164861</td>\n",
              "    </tr>\n",
              "    <tr>\n",
              "      <th>third row</th>\n",
              "      <td>0.990373</td>\n",
              "      <td>-0.393941</td>\n",
              "      <td>-0.518357</td>\n",
              "      <td>1.053753</td>\n",
              "    </tr>\n",
              "    <tr>\n",
              "      <th>fourth row</th>\n",
              "      <td>-0.894481</td>\n",
              "      <td>1.889650</td>\n",
              "      <td>-0.168061</td>\n",
              "      <td>-1.533005</td>\n",
              "    </tr>\n",
              "    <tr>\n",
              "      <th>fifth row</th>\n",
              "      <td>0.815225</td>\n",
              "      <td>-1.834688</td>\n",
              "      <td>0.020800</td>\n",
              "      <td>0.778935</td>\n",
              "    </tr>\n",
              "  </tbody>\n",
              "</table>\n",
              "</div>"
            ],
            "text/plain": [
              "            second col  fourth col  fifth col  sixth col\n",
              "first row    -2.090749   -0.838886   0.633128  -1.164861\n",
              "third row     0.990373   -0.393941  -0.518357   1.053753\n",
              "fourth row   -0.894481    1.889650  -0.168061  -1.533005\n",
              "fifth row     0.815225   -1.834688   0.020800   0.778935"
            ]
          },
          "execution_count": 102,
          "metadata": {},
          "output_type": "execute_result"
        }
      ],
      "source": [
        "df5 = df3.drop('second row',axis=0)\n",
        "df5"
      ]
    },
    {
      "cell_type": "code",
      "execution_count": null,
      "metadata": {
        "scrolled": true,
        "id": "zh5KCAULGpvH",
        "outputId": "afb3ab17-6d38-47dd-dcf2-c6fb6fd3a0fa"
      },
      "outputs": [
        {
          "data": {
            "text/html": [
              "<div>\n",
              "<style scoped>\n",
              "    .dataframe tbody tr th:only-of-type {\n",
              "        vertical-align: middle;\n",
              "    }\n",
              "\n",
              "    .dataframe tbody tr th {\n",
              "        vertical-align: top;\n",
              "    }\n",
              "\n",
              "    .dataframe thead th {\n",
              "        text-align: right;\n",
              "    }\n",
              "</style>\n",
              "<table border=\"1\" class=\"dataframe\">\n",
              "  <thead>\n",
              "    <tr style=\"text-align: right;\">\n",
              "      <th></th>\n",
              "      <th>second col</th>\n",
              "      <th>fourth col</th>\n",
              "      <th>fifth col</th>\n",
              "      <th>sixth col</th>\n",
              "    </tr>\n",
              "  </thead>\n",
              "  <tbody>\n",
              "    <tr>\n",
              "      <th>first row</th>\n",
              "      <td>-2.090749</td>\n",
              "      <td>-0.838886</td>\n",
              "      <td>0.633128</td>\n",
              "      <td>-1.164861</td>\n",
              "    </tr>\n",
              "    <tr>\n",
              "      <th>third row</th>\n",
              "      <td>0.990373</td>\n",
              "      <td>-0.393941</td>\n",
              "      <td>-0.518357</td>\n",
              "      <td>1.053753</td>\n",
              "    </tr>\n",
              "    <tr>\n",
              "      <th>fourth row</th>\n",
              "      <td>-0.894481</td>\n",
              "      <td>1.889650</td>\n",
              "      <td>-0.168061</td>\n",
              "      <td>-1.533005</td>\n",
              "    </tr>\n",
              "    <tr>\n",
              "      <th>fifth row</th>\n",
              "      <td>0.815225</td>\n",
              "      <td>-1.834688</td>\n",
              "      <td>0.020800</td>\n",
              "      <td>0.778935</td>\n",
              "    </tr>\n",
              "  </tbody>\n",
              "</table>\n",
              "</div>"
            ],
            "text/plain": [
              "            second col  fourth col  fifth col  sixth col\n",
              "first row    -2.090749   -0.838886   0.633128  -1.164861\n",
              "third row     0.990373   -0.393941  -0.518357   1.053753\n",
              "fourth row   -0.894481    1.889650  -0.168061  -1.533005\n",
              "fifth row     0.815225   -1.834688   0.020800   0.778935"
            ]
          },
          "execution_count": 104,
          "metadata": {},
          "output_type": "execute_result"
        }
      ],
      "source": [
        "df3=df3.drop('second row',axis=0)\n",
        "df3"
      ]
    },
    {
      "cell_type": "code",
      "execution_count": null,
      "metadata": {
        "id": "J0eXlbdCGpvI",
        "outputId": "d5475a44-caf5-459b-c0e2-13a0582ce8d4"
      },
      "outputs": [
        {
          "data": {
            "text/html": [
              "<div>\n",
              "<style scoped>\n",
              "    .dataframe tbody tr th:only-of-type {\n",
              "        vertical-align: middle;\n",
              "    }\n",
              "\n",
              "    .dataframe tbody tr th {\n",
              "        vertical-align: top;\n",
              "    }\n",
              "\n",
              "    .dataframe thead th {\n",
              "        text-align: right;\n",
              "    }\n",
              "</style>\n",
              "<table border=\"1\" class=\"dataframe\">\n",
              "  <thead>\n",
              "    <tr style=\"text-align: right;\">\n",
              "      <th></th>\n",
              "      <th>second col</th>\n",
              "      <th>fourth col</th>\n",
              "      <th>fifth col</th>\n",
              "      <th>sixth col</th>\n",
              "    </tr>\n",
              "  </thead>\n",
              "  <tbody>\n",
              "    <tr>\n",
              "      <th>first row</th>\n",
              "      <td>-2.090749</td>\n",
              "      <td>-0.838886</td>\n",
              "      <td>0.633128</td>\n",
              "      <td>-1.164861</td>\n",
              "    </tr>\n",
              "    <tr>\n",
              "      <th>third row</th>\n",
              "      <td>0.990373</td>\n",
              "      <td>-0.393941</td>\n",
              "      <td>-0.518357</td>\n",
              "      <td>1.053753</td>\n",
              "    </tr>\n",
              "    <tr>\n",
              "      <th>fourth row</th>\n",
              "      <td>-0.894481</td>\n",
              "      <td>1.889650</td>\n",
              "      <td>-0.168061</td>\n",
              "      <td>-1.533005</td>\n",
              "    </tr>\n",
              "  </tbody>\n",
              "</table>\n",
              "</div>"
            ],
            "text/plain": [
              "            second col  fourth col  fifth col  sixth col\n",
              "first row    -2.090749   -0.838886   0.633128  -1.164861\n",
              "third row     0.990373   -0.393941  -0.518357   1.053753\n",
              "fourth row   -0.894481    1.889650  -0.168061  -1.533005"
            ]
          },
          "execution_count": 105,
          "metadata": {},
          "output_type": "execute_result"
        }
      ],
      "source": [
        "df3.drop('fifth row',axis=0,inplace=True)\n",
        "df3"
      ]
    }
  ],
  "metadata": {
    "kernelspec": {
      "display_name": "Python 3 (ipykernel)",
      "language": "python",
      "name": "python3"
    },
    "language_info": {
      "codemirror_mode": {
        "name": "ipython",
        "version": 3
      },
      "file_extension": ".py",
      "mimetype": "text/x-python",
      "name": "python",
      "nbconvert_exporter": "python",
      "pygments_lexer": "ipython3",
      "version": "3.9.12"
    },
    "colab": {
      "provenance": []
    }
  },
  "nbformat": 4,
  "nbformat_minor": 0
}