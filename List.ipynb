{
  "nbformat": 4,
  "nbformat_minor": 0,
  "metadata": {
    "colab": {
      "provenance": []
    },
    "kernelspec": {
      "name": "python3",
      "display_name": "Python 3"
    },
    "language_info": {
      "name": "python"
    }
  },
  "cells": [
    {
      "cell_type": "code",
      "execution_count": null,
      "metadata": {
        "id": "nQh6I4QrEoiE"
      },
      "outputs": [],
      "source": [
        "Virat_S= [25,60,85,90,125]"
      ]
    },
    {
      "cell_type": "code",
      "source": [
        "virat_det= ['Virat', 33, 53.3, 'India', 183, [25,60,85,90,125]]"
      ],
      "metadata": {
        "id": "or2zjYiLFC7N"
      },
      "execution_count": null,
      "outputs": []
    },
    {
      "cell_type": "code",
      "source": [
        "print(Virat_S)"
      ],
      "metadata": {
        "colab": {
          "base_uri": "https://localhost:8080/"
        },
        "id": "fglRvznVE3Eg",
        "outputId": "2d3d09c7-a3e2-47e3-f6a2-9cbf4800c9a6"
      },
      "execution_count": null,
      "outputs": [
        {
          "output_type": "stream",
          "name": "stdout",
          "text": [
            "[25, 60, 85, 95, 125]\n"
          ]
        }
      ]
    },
    {
      "cell_type": "code",
      "source": [
        "virat_det"
      ],
      "metadata": {
        "colab": {
          "base_uri": "https://localhost:8080/"
        },
        "id": "kETqYbbmE3H1",
        "outputId": "1de3d90a-d9c1-45b1-92fc-0e09d953018a"
      },
      "execution_count": null,
      "outputs": [
        {
          "output_type": "execute_result",
          "data": {
            "text/plain": [
              "['Virat', 33, 53.3, 'India', 183, [25, 60, 85, 90, 125]]"
            ]
          },
          "metadata": {},
          "execution_count": 4
        }
      ]
    },
    {
      "cell_type": "code",
      "source": [
        "Virat_S[3]= 95"
      ],
      "metadata": {
        "id": "9l30HMOwE3LK"
      },
      "execution_count": null,
      "outputs": []
    },
    {
      "cell_type": "code",
      "source": [
        "virat_det[5][2]"
      ],
      "metadata": {
        "colab": {
          "base_uri": "https://localhost:8080/"
        },
        "id": "J_wn01YOGNYu",
        "outputId": "138f2728-208e-4a6a-b4d0-7ba97dae859d"
      },
      "execution_count": null,
      "outputs": [
        {
          "output_type": "execute_result",
          "data": {
            "text/plain": [
              "85"
            ]
          },
          "metadata": {},
          "execution_count": 7
        }
      ]
    },
    {
      "cell_type": "code",
      "source": [
        "for i in Virat_S:\n",
        "  print(i)"
      ],
      "metadata": {
        "colab": {
          "base_uri": "https://localhost:8080/"
        },
        "id": "G5apt_S7GNW_",
        "outputId": "ca914932-0c43-4d11-ea7d-3c5fb6703fb4"
      },
      "execution_count": null,
      "outputs": [
        {
          "output_type": "stream",
          "name": "stdout",
          "text": [
            "25\n",
            "60\n",
            "85\n",
            "95\n",
            "125\n"
          ]
        }
      ]
    },
    {
      "cell_type": "code",
      "source": [
        "95 in Virat_S"
      ],
      "metadata": {
        "colab": {
          "base_uri": "https://localhost:8080/"
        },
        "id": "ec1XxRXEGNSm",
        "outputId": "8401dc2f-9aff-4721-fefb-70d04538a3b1"
      },
      "execution_count": null,
      "outputs": [
        {
          "output_type": "execute_result",
          "data": {
            "text/plain": [
              "True"
            ]
          },
          "metadata": {},
          "execution_count": 9
        }
      ]
    },
    {
      "cell_type": "code",
      "source": [
        "a= list(range(1, 10, 2))\n",
        "print(a)"
      ],
      "metadata": {
        "id": "01-V-Ud-GNNx",
        "colab": {
          "base_uri": "https://localhost:8080/"
        },
        "outputId": "8c8fc9af-18eb-46a4-a192-f9c12974af07"
      },
      "execution_count": null,
      "outputs": [
        {
          "output_type": "stream",
          "name": "stdout",
          "text": [
            "[1, 3, 5, 7, 9]\n"
          ]
        }
      ]
    },
    {
      "cell_type": "code",
      "source": [
        "for i in a:\n",
        "  if i%3==0:\n",
        "    print(i, end=',')"
      ],
      "metadata": {
        "id": "BEntDjY8GNLF",
        "colab": {
          "base_uri": "https://localhost:8080/"
        },
        "outputId": "c51abcdb-705a-4c5b-9641-7650378e44ca"
      },
      "execution_count": null,
      "outputs": [
        {
          "output_type": "stream",
          "name": "stdout",
          "text": [
            "3,9,"
          ]
        }
      ]
    },
    {
      "cell_type": "code",
      "source": [
        "len(a)"
      ],
      "metadata": {
        "id": "g16PErwaGNH4",
        "colab": {
          "base_uri": "https://localhost:8080/"
        },
        "outputId": "586fb7a4-44af-44e3-f862-52e544c337f4"
      },
      "execution_count": null,
      "outputs": [
        {
          "output_type": "execute_result",
          "data": {
            "text/plain": [
              "5"
            ]
          },
          "metadata": {},
          "execution_count": 6
        }
      ]
    },
    {
      "cell_type": "code",
      "source": [
        "s=0\n",
        "for i in Virat_S:\n",
        "  s+=i\n",
        "print(s)"
      ],
      "metadata": {
        "id": "SZyi2hooGNF5",
        "colab": {
          "base_uri": "https://localhost:8080/"
        },
        "outputId": "fd3d7b35-6762-4bf7-fb7b-f6c23a6cada6"
      },
      "execution_count": null,
      "outputs": [
        {
          "output_type": "stream",
          "name": "stdout",
          "text": [
            "473\n"
          ]
        }
      ]
    },
    {
      "cell_type": "code",
      "source": [
        "Virat_S.append(83)"
      ],
      "metadata": {
        "id": "QNHSt3KaDH--"
      },
      "execution_count": null,
      "outputs": []
    },
    {
      "cell_type": "code",
      "source": [
        "s=0\n",
        "for i in Virat_S:\n",
        "  s+=i\n",
        "print(s)"
      ],
      "metadata": {
        "colab": {
          "base_uri": "https://localhost:8080/"
        },
        "id": "YIzDBtE1DH86",
        "outputId": "e34d20f5-e796-44bd-e9f6-a258482afcba"
      },
      "execution_count": null,
      "outputs": [
        {
          "output_type": "stream",
          "name": "stdout",
          "text": [
            "473\n"
          ]
        }
      ]
    },
    {
      "cell_type": "code",
      "source": [
        "Rohit_S=[]\n",
        "for i in range(8):\n",
        "  a= int(input())\n",
        "  Rohit_S.append(a)\n",
        "print(Rohit_S)"
      ],
      "metadata": {
        "colab": {
          "base_uri": "https://localhost:8080/"
        },
        "id": "ZiwE1yzMDH7E",
        "outputId": "fbce5eb7-bada-4c66-f798-f58faa7a0901"
      },
      "execution_count": null,
      "outputs": [
        {
          "output_type": "stream",
          "name": "stdout",
          "text": [
            "23\n",
            "56\n",
            "65\n",
            "63\n",
            "95\n",
            "156\n",
            "26\n",
            "264\n",
            "[23, 56, 65, 63, 95, 156, 26, 264]\n"
          ]
        }
      ]
    },
    {
      "cell_type": "code",
      "source": [
        "Rohit_S"
      ],
      "metadata": {
        "colab": {
          "base_uri": "https://localhost:8080/"
        },
        "id": "1LDCqDKaDH49",
        "outputId": "d4c3b547-13f7-4989-c4dc-5d3f6c65dce6"
      },
      "execution_count": null,
      "outputs": [
        {
          "output_type": "execute_result",
          "data": {
            "text/plain": [
              "[23, 56, 65, 63, 95, 156, 26, 264, 219, 225]"
            ]
          },
          "metadata": {},
          "execution_count": 19
        }
      ]
    },
    {
      "cell_type": "code",
      "source": [
        "Rohit_S.count(264)"
      ],
      "metadata": {
        "colab": {
          "base_uri": "https://localhost:8080/"
        },
        "id": "jLet5HGSDH1R",
        "outputId": "c82d7582-460f-4c8b-c38f-fc21df5ef163"
      },
      "execution_count": null,
      "outputs": [
        {
          "output_type": "execute_result",
          "data": {
            "text/plain": [
              "1"
            ]
          },
          "metadata": {},
          "execution_count": 17
        }
      ]
    },
    {
      "cell_type": "code",
      "source": [
        "Rohit_S.extend([219, 225])"
      ],
      "metadata": {
        "id": "rt2z4eB9DHxd"
      },
      "execution_count": null,
      "outputs": []
    },
    {
      "cell_type": "code",
      "source": [
        "Rohit_S.index(56)"
      ],
      "metadata": {
        "colab": {
          "base_uri": "https://localhost:8080/"
        },
        "id": "t8zQt2quDHvH",
        "outputId": "f4bb3d73-825f-40fb-dc8f-44be4669dd6e"
      },
      "execution_count": null,
      "outputs": [
        {
          "output_type": "execute_result",
          "data": {
            "text/plain": [
              "1"
            ]
          },
          "metadata": {},
          "execution_count": 21
        }
      ]
    },
    {
      "cell_type": "code",
      "source": [
        "Rohit_S.insert(3, 221)"
      ],
      "metadata": {
        "id": "DlgR-VFiDHtD"
      },
      "execution_count": null,
      "outputs": []
    },
    {
      "cell_type": "code",
      "source": [
        "Rohit_S"
      ],
      "metadata": {
        "colab": {
          "base_uri": "https://localhost:8080/"
        },
        "id": "Y1VfZ832DHqY",
        "outputId": "54748b65-567f-4307-bf99-d4dbfbbcae7f"
      },
      "execution_count": null,
      "outputs": [
        {
          "output_type": "execute_result",
          "data": {
            "text/plain": [
              "[23, 26, 56, 63, 65, 95, 156, 219, 221, 225, 264]"
            ]
          },
          "metadata": {},
          "execution_count": 27
        }
      ]
    },
    {
      "cell_type": "code",
      "source": [
        "Rohit_S.reverse()"
      ],
      "metadata": {
        "id": "f7JBSIj_DHoJ"
      },
      "execution_count": null,
      "outputs": []
    },
    {
      "cell_type": "code",
      "source": [
        "Rohit_S.sort(reverse= True)"
      ],
      "metadata": {
        "id": "IQ79OkkWDHls"
      },
      "execution_count": null,
      "outputs": []
    },
    {
      "cell_type": "code",
      "source": [
        "#Tuples"
      ],
      "metadata": {
        "id": "gCU_AlTKDHjl"
      },
      "execution_count": null,
      "outputs": []
    },
    {
      "cell_type": "code",
      "source": [
        "Dhoni_S=(45, 50, 63, 25, 100, 91)"
      ],
      "metadata": {
        "id": "YaBDnXBQDHhS"
      },
      "execution_count": null,
      "outputs": []
    },
    {
      "cell_type": "code",
      "source": [
        "Dhoni_S"
      ],
      "metadata": {
        "colab": {
          "base_uri": "https://localhost:8080/"
        },
        "id": "NlaZj3uQDHe_",
        "outputId": "7bd499fe-c340-48d4-926a-35ea5f8c4a10"
      },
      "execution_count": null,
      "outputs": [
        {
          "output_type": "execute_result",
          "data": {
            "text/plain": [
              "(45, 50, 63, 25, 100, 91)"
            ]
          },
          "metadata": {},
          "execution_count": 30
        }
      ]
    },
    {
      "cell_type": "code",
      "source": [
        "Dhoni_S.count(50)"
      ],
      "metadata": {
        "colab": {
          "base_uri": "https://localhost:8080/"
        },
        "id": "qv2tuUEuIqkW",
        "outputId": "aac3a560-9dc3-49fc-e640-29e2c16826ae"
      },
      "execution_count": null,
      "outputs": [
        {
          "output_type": "execute_result",
          "data": {
            "text/plain": [
              "1"
            ]
          },
          "metadata": {},
          "execution_count": 32
        }
      ]
    },
    {
      "cell_type": "code",
      "source": [
        "Virat_S"
      ],
      "metadata": {
        "colab": {
          "base_uri": "https://localhost:8080/"
        },
        "id": "1khW-vN7J6Nt",
        "outputId": "b0b07acd-de16-46d5-d989-95ef2676c57a"
      },
      "execution_count": null,
      "outputs": [
        {
          "output_type": "execute_result",
          "data": {
            "text/plain": [
              "[25, 60, 85, 95, 125, 83]"
            ]
          },
          "metadata": {},
          "execution_count": 35
        }
      ]
    },
    {
      "cell_type": "code",
      "source": [
        "Virat_S[3]"
      ],
      "metadata": {
        "colab": {
          "base_uri": "https://localhost:8080/"
        },
        "id": "iwnx2PO7Iqfa",
        "outputId": "e7b3312f-6ea3-4ac6-abf0-dcdd6af7288e"
      },
      "execution_count": null,
      "outputs": [
        {
          "output_type": "execute_result",
          "data": {
            "text/plain": [
              "95"
            ]
          },
          "metadata": {},
          "execution_count": 34
        }
      ]
    },
    {
      "cell_type": "code",
      "source": [
        "Virat_S[3:5]"
      ],
      "metadata": {
        "colab": {
          "base_uri": "https://localhost:8080/"
        },
        "id": "g7WZk4TUIqdH",
        "outputId": "379a15cf-ee12-40a3-cffb-397785d36f7a"
      },
      "execution_count": null,
      "outputs": [
        {
          "output_type": "execute_result",
          "data": {
            "text/plain": [
              "[95, 125]"
            ]
          },
          "metadata": {},
          "execution_count": 36
        }
      ]
    },
    {
      "cell_type": "code",
      "source": [
        "Virat_S[::-1]"
      ],
      "metadata": {
        "colab": {
          "base_uri": "https://localhost:8080/"
        },
        "id": "ELLyCTvPIqao",
        "outputId": "ddec69c5-82d0-4b8a-d116-dce753c2d2c4"
      },
      "execution_count": null,
      "outputs": [
        {
          "output_type": "execute_result",
          "data": {
            "text/plain": [
              "[83, 125, 95, 85, 60, 25]"
            ]
          },
          "metadata": {},
          "execution_count": 37
        }
      ]
    },
    {
      "cell_type": "code",
      "source": [],
      "metadata": {
        "id": "tFxNxMS6IqYM"
      },
      "execution_count": null,
      "outputs": []
    },
    {
      "cell_type": "code",
      "source": [],
      "metadata": {
        "id": "JGUQHeW6IqVv"
      },
      "execution_count": null,
      "outputs": []
    },
    {
      "cell_type": "code",
      "source": [],
      "metadata": {
        "id": "Z6rSHUivIqTY"
      },
      "execution_count": null,
      "outputs": []
    },
    {
      "cell_type": "code",
      "source": [],
      "metadata": {
        "id": "hQw3D3IjIqQb"
      },
      "execution_count": null,
      "outputs": []
    },
    {
      "cell_type": "code",
      "source": [],
      "metadata": {
        "id": "uws8q8ubIqOI"
      },
      "execution_count": null,
      "outputs": []
    },
    {
      "cell_type": "code",
      "source": [],
      "metadata": {
        "id": "hjapG5I_IqK8"
      },
      "execution_count": null,
      "outputs": []
    },
    {
      "cell_type": "code",
      "source": [],
      "metadata": {
        "id": "y1kWK9qnIqIy"
      },
      "execution_count": null,
      "outputs": []
    },
    {
      "cell_type": "code",
      "source": [],
      "metadata": {
        "id": "JfHwxc-_IqFe"
      },
      "execution_count": null,
      "outputs": []
    },
    {
      "cell_type": "code",
      "source": [],
      "metadata": {
        "id": "0OM1SI7wIqDS"
      },
      "execution_count": null,
      "outputs": []
    }
  ]
}