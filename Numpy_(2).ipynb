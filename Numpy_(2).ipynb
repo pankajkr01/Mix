{
  "cells": [
    {
      "cell_type": "code",
      "execution_count": null,
      "id": "streaming-humanity",
      "metadata": {
        "id": "streaming-humanity"
      },
      "outputs": [],
      "source": [
        "# Import statements\n",
        "import numpy as np"
      ]
    },
    {
      "cell_type": "code",
      "execution_count": null,
      "id": "verified-funds",
      "metadata": {
        "id": "verified-funds",
        "outputId": "97cd641c-3f4e-434f-e55c-db263df037f1"
      },
      "outputs": [
        {
          "data": {
            "text/plain": [
              "array([2. , 3. , 4. , 5.1])"
            ]
          },
          "execution_count": 7,
          "metadata": {},
          "output_type": "execute_result"
        }
      ],
      "source": [
        "# Create an array\n",
        "a = np.array([2, 3, 4, 5.1])\n",
        "type(a)\n",
        "a"
      ]
    },
    {
      "cell_type": "code",
      "execution_count": null,
      "id": "aggregate-controversy",
      "metadata": {
        "id": "aggregate-controversy",
        "outputId": "ff9bb74a-df12-4a54-9c4e-6ffd6b6a9cad"
      },
      "outputs": [
        {
          "data": {
            "text/plain": [
              "dtype('float64')"
            ]
          },
          "execution_count": 8,
          "metadata": {},
          "output_type": "execute_result"
        }
      ],
      "source": [
        "# data type of the values\n",
        "a.dtype"
      ]
    },
    {
      "cell_type": "code",
      "execution_count": null,
      "id": "empirical-picnic",
      "metadata": {
        "id": "empirical-picnic",
        "outputId": "c6148fc6-71a0-4e42-d365-c1f84c3239e7"
      },
      "outputs": [
        {
          "data": {
            "text/plain": [
              "dtype('float64')"
            ]
          },
          "execution_count": 9,
          "metadata": {},
          "output_type": "execute_result"
        }
      ],
      "source": [
        "b = np.array([1.2, 3.5, 5.1])\n",
        "b.dtype"
      ]
    },
    {
      "cell_type": "code",
      "execution_count": null,
      "id": "elegant-fitness",
      "metadata": {
        "id": "elegant-fitness",
        "outputId": "6ddb0ef0-6b62-4f24-a37f-13979f931d0d"
      },
      "outputs": [
        {
          "data": {
            "text/plain": [
              "2"
            ]
          },
          "execution_count": 10,
          "metadata": {},
          "output_type": "execute_result"
        }
      ],
      "source": [
        "# Sequence of sequences creates a 2d array\n",
        "twod_arr = np.array([(1, 2, 3), (4, 5, 6), (3, 5, 7), (1, 3, 4)])\n",
        "twod_arr.ndim"
      ]
    },
    {
      "cell_type": "code",
      "execution_count": null,
      "id": "circular-navigation",
      "metadata": {
        "id": "circular-navigation",
        "outputId": "7a9de04d-c099-4838-d2d4-75aeb4bc280f"
      },
      "outputs": [
        {
          "data": {
            "text/plain": [
              "array([[1, 2, 3],\n",
              "       [4, 5, 6],\n",
              "       [3, 5, 7],\n",
              "       [1, 3, 4]])"
            ]
          },
          "execution_count": 11,
          "metadata": {},
          "output_type": "execute_result"
        }
      ],
      "source": [
        "twod_arr"
      ]
    },
    {
      "cell_type": "code",
      "execution_count": null,
      "id": "responsible-screw",
      "metadata": {
        "id": "responsible-screw",
        "outputId": "b10b7318-9265-42f3-822e-ad7b495b4558"
      },
      "outputs": [
        {
          "data": {
            "text/plain": [
              "array([[[0, 0],\n",
              "        [0, 0],\n",
              "        [0, 0],\n",
              "        [0, 0]],\n",
              "\n",
              "       [[0, 0],\n",
              "        [0, 0],\n",
              "        [0, 0],\n",
              "        [0, 0]],\n",
              "\n",
              "       [[0, 0],\n",
              "        [0, 0],\n",
              "        [0, 0],\n",
              "        [0, 0]]])"
            ]
          },
          "execution_count": 12,
          "metadata": {},
          "output_type": "execute_result"
        }
      ],
      "source": [
        "# Create an array with all zeros\n",
        "# Default is float - 3 rows & 4 columns\n",
        "zeros_ex = np.zeros((3, 4, 2), dtype=int)\n",
        "zeros_ex.ndim\n",
        "zeros_ex.dtype\n",
        "zeros_ex"
      ]
    },
    {
      "cell_type": "code",
      "execution_count": null,
      "id": "unlimited-redhead",
      "metadata": {
        "id": "unlimited-redhead",
        "outputId": "7e411aca-af38-4cfb-d954-57c30a658d26"
      },
      "outputs": [
        {
          "data": {
            "text/plain": [
              "3"
            ]
          },
          "execution_count": 13,
          "metadata": {},
          "output_type": "execute_result"
        }
      ],
      "source": [
        "# Create an array with all ones\n",
        "# Pass the dtype to override default float\n",
        "ones_ex = np.ones((2, 3, 4), dtype=int)\n",
        "ones_ex.ndim"
      ]
    },
    {
      "cell_type": "code",
      "execution_count": null,
      "id": "level-spirit",
      "metadata": {
        "id": "level-spirit",
        "outputId": "2a084909-8407-4da6-9979-537d2e2eda38"
      },
      "outputs": [
        {
          "data": {
            "text/plain": [
              "array([[[1, 1, 1, 1],\n",
              "        [1, 1, 1, 1],\n",
              "        [1, 1, 1, 1]],\n",
              "\n",
              "       [[1, 1, 1, 1],\n",
              "        [1, 1, 1, 1],\n",
              "        [1, 1, 1, 1]]])"
            ]
          },
          "execution_count": 14,
          "metadata": {},
          "output_type": "execute_result"
        }
      ],
      "source": [
        "ones_ex"
      ]
    },
    {
      "cell_type": "code",
      "execution_count": null,
      "id": "iraqi-repeat",
      "metadata": {
        "id": "iraqi-repeat",
        "outputId": "c433284d-c2f1-4bee-e909-47e1d495a04b"
      },
      "outputs": [
        {
          "data": {
            "text/plain": [
              "array([[1.3, 2. ],\n",
              "       [3. , 4. ]])"
            ]
          },
          "execution_count": 15,
          "metadata": {},
          "output_type": "execute_result"
        }
      ],
      "source": [
        "float_arr = np.array([[1.3, 2], [3, 4]], dtype=float)\n",
        "float_arr"
      ]
    },
    {
      "cell_type": "code",
      "execution_count": null,
      "id": "strategic-accent",
      "metadata": {
        "id": "strategic-accent",
        "outputId": "04b4fa7f-ee18-444a-b8c2-9d68539126d2"
      },
      "outputs": [
        {
          "data": {
            "text/plain": [
              "array([10, 15, 20, 25])"
            ]
          },
          "execution_count": 16,
          "metadata": {},
          "output_type": "execute_result"
        }
      ],
      "source": [
        "# Similar to Python range, but returns an array\n",
        "range_ex = np.arange(10, 30, 5)\n",
        "range_ex"
      ]
    },
    {
      "cell_type": "code",
      "execution_count": null,
      "id": "ideal-prediction",
      "metadata": {
        "id": "ideal-prediction"
      },
      "outputs": [],
      "source": []
    },
    {
      "cell_type": "code",
      "execution_count": null,
      "id": "starting-grain",
      "metadata": {
        "id": "starting-grain",
        "outputId": "2311a4e7-be22-4cf0-c62e-6a46575d354b"
      },
      "outputs": [
        {
          "data": {
            "text/plain": [
              "array([0. , 0.3, 0.6, 0.9, 1.2, 1.5, 1.8, 2.1, 2.4, 2.7])"
            ]
          },
          "execution_count": 17,
          "metadata": {},
          "output_type": "execute_result"
        }
      ],
      "source": [
        "# arange works also with floating point step values\n",
        "range_fp = np.arange(0, 3, 0.3)\n",
        "range_fp"
      ]
    },
    {
      "cell_type": "code",
      "execution_count": null,
      "id": "vocal-representation",
      "metadata": {
        "id": "vocal-representation",
        "outputId": "817d9955-297e-4c01-e939-4873eeb82e17"
      },
      "outputs": [
        {
          "data": {
            "text/plain": [
              "array([0.  , 0.25, 0.5 , 0.75, 1.  , 1.25, 1.5 , 1.75, 2.  ])"
            ]
          },
          "execution_count": 18,
          "metadata": {},
          "output_type": "execute_result"
        }
      ],
      "source": [
        "# To provide the number of elements that are needed as input\n",
        "np.linspace(0, 2, 9)  # 9 numbers from 0 to 2"
      ]
    },
    {
      "cell_type": "code",
      "execution_count": null,
      "id": "political-quarter",
      "metadata": {
        "id": "political-quarter",
        "outputId": "78bc7fdf-eec0-4eae-af85-6c9b348bf91c"
      },
      "outputs": [
        {
          "data": {
            "text/plain": [
              "array([[[0.84419832, 0.05031646, 0.79541218, 0.1229544 ],\n",
              "        [0.44790303, 0.81772139, 0.72810437, 0.42425065],\n",
              "        [0.74928159, 0.47266227, 0.67772439, 0.69904533]],\n",
              "\n",
              "       [[0.28335259, 0.47749174, 0.48589972, 0.12751448],\n",
              "        [0.09591743, 0.90749461, 0.24058292, 0.53748964],\n",
              "        [0.22551513, 0.13021746, 0.77189436, 0.34520199]]])"
            ]
          },
          "execution_count": 19,
          "metadata": {},
          "output_type": "execute_result"
        }
      ],
      "source": [
        "# Create a 3x3 array of random values between 0 and 1\n",
        "np.random.random((2, 3, 4))"
      ]
    },
    {
      "cell_type": "code",
      "execution_count": null,
      "id": "smart-western",
      "metadata": {
        "id": "smart-western",
        "outputId": "fde8e4f1-d9ad-4329-b538-9680d6b8202e"
      },
      "outputs": [
        {
          "data": {
            "text/plain": [
              "array([[8, 9, 3],\n",
              "       [8, 8, 0]])"
            ]
          },
          "execution_count": 20,
          "metadata": {},
          "output_type": "execute_result"
        }
      ],
      "source": [
        "# Create a 2x3 array of random integers in the interval [0, 10)\n",
        "np.random.seed(3)\n",
        "np.random.randint(0, 10, (2, 3))"
      ]
    },
    {
      "cell_type": "markdown",
      "id": "static-anthony",
      "metadata": {
        "id": "static-anthony"
      },
      "source": [
        "### Attributes"
      ]
    },
    {
      "cell_type": "code",
      "execution_count": null,
      "id": "female-kitchen",
      "metadata": {
        "id": "female-kitchen"
      },
      "outputs": [],
      "source": [
        "np.random.seed(0)  # seed for reproducibility\n",
        "\n",
        "x1 = np.random.randint(10, size=6)  # One-dimensional array\n",
        "x2 = np.random.randint(10, size=(3, 4))  # Two-dimensional array\n",
        "x3 = np.random.randint(10, size=(3, 4, 5))  # Three-dimensional array"
      ]
    },
    {
      "cell_type": "code",
      "execution_count": null,
      "id": "soviet-distinction",
      "metadata": {
        "id": "soviet-distinction",
        "outputId": "be40d0ca-6563-4e79-bc43-84fea727b8e3"
      },
      "outputs": [
        {
          "name": "stdout",
          "output_type": "stream",
          "text": [
            "x3 number of dimensions:  3\n",
            "x3 shape: (3, 4, 5)\n",
            "x3 size:  60\n",
            "dtype: int64\n"
          ]
        }
      ],
      "source": [
        "print(\"x3 number of dimensions: \", x3.ndim)\n",
        "print(\"x3 shape:\", x3.shape)\n",
        "print(\"x3 size: \", x3.size)\n",
        "print(\"dtype:\", x3.dtype)"
      ]
    },
    {
      "cell_type": "code",
      "execution_count": null,
      "id": "lyric-coordinate",
      "metadata": {
        "id": "lyric-coordinate",
        "outputId": "80126fa8-6160-436b-bd2b-9cabe485f51b"
      },
      "outputs": [
        {
          "name": "stdout",
          "output_type": "stream",
          "text": [
            "itemsize: 8 bytes\n",
            "nbytes: 480 bytes\n"
          ]
        }
      ],
      "source": [
        "print(\"itemsize:\", x3.itemsize, \"bytes\") # size (in bytes) of each array element - 64 bits - 8bytes\n",
        "print(\"nbytes:\", x3.nbytes, \"bytes\") # lists the total size (in bytes) of the array"
      ]
    },
    {
      "cell_type": "markdown",
      "id": "architectural-wrapping",
      "metadata": {
        "id": "architectural-wrapping"
      },
      "source": [
        "### Accessing elements"
      ]
    },
    {
      "cell_type": "code",
      "execution_count": null,
      "id": "adult-interstate",
      "metadata": {
        "id": "adult-interstate",
        "outputId": "0d170347-d680-4284-8eb5-a2297e6c90b8"
      },
      "outputs": [
        {
          "data": {
            "text/plain": [
              "dtype('int64')"
            ]
          },
          "execution_count": 21,
          "metadata": {},
          "output_type": "execute_result"
        }
      ],
      "source": [
        "x1.dtype"
      ]
    },
    {
      "cell_type": "code",
      "execution_count": null,
      "id": "gentle-valley",
      "metadata": {
        "id": "gentle-valley",
        "outputId": "05816bec-4eec-4701-fb58-6f9dd931f48a"
      },
      "outputs": [
        {
          "name": "stdout",
          "output_type": "stream",
          "text": [
            "5\n",
            "7\n",
            "7\n"
          ]
        }
      ],
      "source": [
        "print(x1[0])\n",
        "print(x1[4])\n",
        "print(x1[-2])"
      ]
    },
    {
      "cell_type": "markdown",
      "id": "geological-killing",
      "metadata": {
        "id": "geological-killing"
      },
      "source": [
        "In a multi-dimensional array, items can be accessed using a comma-separated tuple of indices:"
      ]
    },
    {
      "cell_type": "code",
      "execution_count": null,
      "id": "wound-enforcement",
      "metadata": {
        "id": "wound-enforcement",
        "outputId": "5cc9056f-86ca-4141-8b54-e03f3108fd34"
      },
      "outputs": [
        {
          "data": {
            "text/plain": [
              "array([5, 0, 3, 3, 7, 9])"
            ]
          },
          "execution_count": 55,
          "metadata": {},
          "output_type": "execute_result"
        }
      ],
      "source": [
        "x2"
      ]
    },
    {
      "cell_type": "code",
      "execution_count": null,
      "id": "norwegian-visit",
      "metadata": {
        "id": "norwegian-visit",
        "outputId": "17e5819c-488e-485a-e23f-4059dde4801e"
      },
      "outputs": [
        {
          "name": "stdout",
          "output_type": "stream",
          "text": [
            "3\n",
            "7\n",
            "7\n"
          ]
        }
      ],
      "source": [
        "print(x2[0,0])\n",
        "print(x2[2,3])\n",
        "print(x2[2,-1])"
      ]
    },
    {
      "cell_type": "markdown",
      "id": "casual-quantum",
      "metadata": {
        "id": "casual-quantum"
      },
      "source": [
        "Values can also be modified using any of the above index notation:"
      ]
    },
    {
      "cell_type": "code",
      "execution_count": null,
      "id": "typical-liquid",
      "metadata": {
        "id": "typical-liquid",
        "outputId": "35104f95-22f1-4b6a-d4c5-a6ac33af8938"
      },
      "outputs": [
        {
          "data": {
            "text/plain": [
              "array([[12,  5,  2,  4],\n",
              "       [ 7,  6,  8,  8],\n",
              "       [ 1,  6,  7,  7]])"
            ]
          },
          "execution_count": 72,
          "metadata": {},
          "output_type": "execute_result"
        }
      ],
      "source": [
        "x2[0, 0] = 12\n",
        "x2"
      ]
    },
    {
      "cell_type": "markdown",
      "id": "serious-individual",
      "metadata": {
        "id": "serious-individual"
      },
      "source": [
        "Unlike Python lists, NumPy arrays have a fixed type. This means, for example, that if you attempt to insert a floating-point value to an integer array, the value will be silently truncated. Don't be caught unaware by this behavior!"
      ]
    },
    {
      "cell_type": "code",
      "execution_count": null,
      "id": "graduate-longer",
      "metadata": {
        "id": "graduate-longer",
        "outputId": "b7558eb6-5d27-4476-83aa-74b6a4cb0abf"
      },
      "outputs": [
        {
          "data": {
            "text/plain": [
              "array([3, 0, 3, 3, 7, 9])"
            ]
          },
          "execution_count": 56,
          "metadata": {},
          "output_type": "execute_result"
        }
      ],
      "source": [
        "x1[0] = 3.14159  # this will be truncated!\n",
        "x1"
      ]
    },
    {
      "cell_type": "markdown",
      "id": "deluxe-lloyd",
      "metadata": {
        "id": "deluxe-lloyd"
      },
      "source": [
        "### Slicing"
      ]
    },
    {
      "cell_type": "markdown",
      "id": "reported-intake",
      "metadata": {
        "id": "reported-intake"
      },
      "source": [
        "Just as we can use square brackets to access individual array elements, we can also use them to access subarrays with the slice notation, marked by the colon (:) character. The NumPy slicing syntax follows that of the standard Python list; to access a slice of an array x, use this:\n",
        "\n",
        "x[start:stop:step]\n",
        "\n",
        "If any of these are unspecified, they default to the values start=0, stop=size of dimension, step=1. We'll take a look at accessing sub-arrays in one dimension and in multiple dimensions."
      ]
    },
    {
      "cell_type": "code",
      "execution_count": null,
      "id": "modular-christmas",
      "metadata": {
        "id": "modular-christmas",
        "outputId": "cb6a3764-a2b5-4076-9b0a-b1c9707ac801"
      },
      "outputs": [
        {
          "data": {
            "text/plain": [
              "array([0, 1, 2, 3, 4, 5, 6, 7, 8, 9])"
            ]
          },
          "execution_count": 57,
          "metadata": {},
          "output_type": "execute_result"
        }
      ],
      "source": [
        "x = np.arange(10)\n",
        "x"
      ]
    },
    {
      "cell_type": "code",
      "execution_count": null,
      "id": "banner-malta",
      "metadata": {
        "id": "banner-malta",
        "outputId": "99454528-ee76-4438-d7cf-eac7f1f537cd"
      },
      "outputs": [
        {
          "name": "stdout",
          "output_type": "stream",
          "text": [
            "[0 1 2 3 4]\n",
            "[5 7 9]\n",
            "[3 4 5 6]\n"
          ]
        }
      ],
      "source": [
        "print(x[:5])  # first five elements\n",
        "print(x[5::2])  # last five elements\n",
        "print(x[3:7]) "
      ]
    },
    {
      "cell_type": "code",
      "execution_count": null,
      "id": "compatible-stomach",
      "metadata": {
        "id": "compatible-stomach",
        "outputId": "b12c0ad9-59d2-41f2-8020-7e2ca2126545"
      },
      "outputs": [
        {
          "data": {
            "text/plain": [
              "array([1, 3, 5, 7, 9])"
            ]
          },
          "execution_count": 59,
          "metadata": {},
          "output_type": "execute_result"
        }
      ],
      "source": [
        "x[1::2]  # every other element, starting at index 1"
      ]
    },
    {
      "cell_type": "markdown",
      "id": "focal-haiti",
      "metadata": {
        "id": "focal-haiti"
      },
      "source": [
        "### Multi-dimensional subarrays\n",
        "\n",
        "Multi-dimensional slices work in the same way, with multiple slices separated by commas.\n",
        "For example:"
      ]
    },
    {
      "cell_type": "code",
      "execution_count": null,
      "id": "final-calvin",
      "metadata": {
        "id": "final-calvin",
        "outputId": "7b493e17-562d-48b3-f9f3-3fb48039d9c6"
      },
      "outputs": [
        {
          "data": {
            "text/plain": [
              "array([[3, 5, 2, 4],\n",
              "       [7, 6, 8, 8],\n",
              "       [1, 6, 7, 7]])"
            ]
          },
          "execution_count": 59,
          "metadata": {},
          "output_type": "execute_result"
        }
      ],
      "source": [
        "x2"
      ]
    },
    {
      "cell_type": "code",
      "execution_count": null,
      "id": "wrapped-approval",
      "metadata": {
        "id": "wrapped-approval",
        "outputId": "160997ce-5aa7-4171-fad5-4278c29f9154"
      },
      "outputs": [
        {
          "name": "stdout",
          "output_type": "stream",
          "text": [
            "[[3 2]\n",
            " [1 7]]\n"
          ]
        }
      ],
      "source": [
        "# print(x2[:2,:3])  # First one for rows & next for columns\n",
        "print(x2[:3,::2])  # Using a step function for columns"
      ]
    },
    {
      "cell_type": "markdown",
      "id": "smart-adolescent",
      "metadata": {
        "id": "smart-adolescent"
      },
      "source": [
        "#### Accessing array rows and columns\n",
        "\n",
        "One commonly needed routine is accessing of single rows or columns of an array.\n",
        "This can be done by combining indexing and slicing, using an empty slice marked by a single colon (``:``):"
      ]
    },
    {
      "cell_type": "code",
      "execution_count": null,
      "id": "natural-judges",
      "metadata": {
        "id": "natural-judges",
        "outputId": "a10a3d4a-7627-42e8-d8f1-89628a4e983f"
      },
      "outputs": [
        {
          "data": {
            "text/plain": [
              "array([[3, 5, 2, 4],\n",
              "       [7, 6, 8, 8],\n",
              "       [1, 6, 7, 7]])"
            ]
          },
          "execution_count": 53,
          "metadata": {},
          "output_type": "execute_result"
        }
      ],
      "source": [
        "x2"
      ]
    },
    {
      "cell_type": "code",
      "execution_count": null,
      "id": "distant-stockholm",
      "metadata": {
        "id": "distant-stockholm",
        "outputId": "f614e265-563b-4d85-c47b-69af692c86af"
      },
      "outputs": [
        {
          "name": "stdout",
          "output_type": "stream",
          "text": [
            "[4 8 7]\n"
          ]
        }
      ],
      "source": [
        "print(x2[:, 3])  # first column of x2"
      ]
    },
    {
      "cell_type": "markdown",
      "id": "broadband-amount",
      "metadata": {
        "id": "broadband-amount"
      },
      "source": [
        "In the case of row access, the empty slice can be omitted for a more compact syntax:"
      ]
    },
    {
      "cell_type": "code",
      "execution_count": null,
      "id": "distinguished-permit",
      "metadata": {
        "id": "distinguished-permit",
        "outputId": "4900ec2c-f672-406d-d9ee-f3ae362030a3"
      },
      "outputs": [
        {
          "name": "stdout",
          "output_type": "stream",
          "text": [
            "[3 5 2 4]\n"
          ]
        }
      ],
      "source": [
        "print(x2[0])  # equivalent to x2[0, :]\n",
        "# print(x2[0, :])"
      ]
    },
    {
      "cell_type": "markdown",
      "id": "christian-headline",
      "metadata": {
        "id": "christian-headline"
      },
      "source": [
        "### Subarrays as no-copy views\n",
        "\n",
        "One important–and extremely useful–thing to know about array slices is that they return *views* rather than *copies* of the array data.\n",
        "This is one area in which NumPy array slicing differs from Python list slicing: in lists, slices will be copies.\n",
        "Consider our two-dimensional array from before:"
      ]
    },
    {
      "cell_type": "markdown",
      "id": "documented-contest",
      "metadata": {
        "id": "documented-contest"
      },
      "source": [
        "Let's extract a $2 \\times 2$ subarray from this:"
      ]
    },
    {
      "cell_type": "code",
      "execution_count": null,
      "id": "interesting-raise",
      "metadata": {
        "id": "interesting-raise",
        "outputId": "6ebe5689-578d-4551-bcd8-dfcbc9a47437"
      },
      "outputs": [
        {
          "name": "stdout",
          "output_type": "stream",
          "text": [
            "[[3 5]\n",
            " [7 6]]\n"
          ]
        }
      ],
      "source": [
        "x2_sub = x2[:2, :2]\n",
        "print(x2_sub)"
      ]
    },
    {
      "cell_type": "markdown",
      "id": "reverse-dimension",
      "metadata": {
        "id": "reverse-dimension"
      },
      "source": [
        "Now if we modify this subarray, we'll see that the original array is changed! Observe:"
      ]
    },
    {
      "cell_type": "code",
      "execution_count": null,
      "id": "saved-merchandise",
      "metadata": {
        "id": "saved-merchandise",
        "outputId": "1c47ccb0-c6f7-4fb1-da26-7d5faa539c78"
      },
      "outputs": [
        {
          "name": "stdout",
          "output_type": "stream",
          "text": [
            "[[99  5]\n",
            " [ 7  6]]\n"
          ]
        }
      ],
      "source": [
        "x2_sub[0, 0] = 99\n",
        "print(x2_sub)"
      ]
    },
    {
      "cell_type": "code",
      "execution_count": null,
      "id": "assumed-maple",
      "metadata": {
        "id": "assumed-maple",
        "outputId": "5c04fdea-52ca-4e37-92e1-e3428ac622f4"
      },
      "outputs": [
        {
          "name": "stdout",
          "output_type": "stream",
          "text": [
            "[[99  5  2  4]\n",
            " [ 7  6  8  8]\n",
            " [ 1  6  7  7]]\n"
          ]
        }
      ],
      "source": [
        "print(x2)"
      ]
    },
    {
      "cell_type": "markdown",
      "id": "composite-vitamin",
      "metadata": {
        "id": "composite-vitamin"
      },
      "source": [
        "### Creating copies of arrays\n",
        "\n",
        "Despite the nice features of array views, it is sometimes useful to instead explicitly copy the data within an array or a subarray. This can be most easily done with the ``copy()`` method:"
      ]
    },
    {
      "cell_type": "code",
      "execution_count": null,
      "id": "unable-philadelphia",
      "metadata": {
        "id": "unable-philadelphia",
        "outputId": "0e2b21da-eb43-4ee4-ea41-32741c23d18f"
      },
      "outputs": [
        {
          "name": "stdout",
          "output_type": "stream",
          "text": [
            "[[99  5]\n",
            " [ 7  6]]\n"
          ]
        }
      ],
      "source": [
        "x2_sub_copy = x2[:2, :2].copy()\n",
        "print(x2_sub_copy)"
      ]
    },
    {
      "cell_type": "markdown",
      "id": "figured-bulgaria",
      "metadata": {
        "id": "figured-bulgaria"
      },
      "source": [
        "If we now modify this subarray, the original array is not touched:"
      ]
    },
    {
      "cell_type": "code",
      "execution_count": null,
      "id": "decreased-municipality",
      "metadata": {
        "id": "decreased-municipality",
        "outputId": "c3e9a788-a977-44a9-b542-0be57526283f"
      },
      "outputs": [
        {
          "name": "stdout",
          "output_type": "stream",
          "text": [
            "[[42  5]\n",
            " [ 7  6]]\n"
          ]
        }
      ],
      "source": [
        "x2_sub_copy[0, 0] = 42\n",
        "print(x2_sub_copy)"
      ]
    },
    {
      "cell_type": "code",
      "execution_count": null,
      "id": "naughty-fleece",
      "metadata": {
        "id": "naughty-fleece",
        "outputId": "5767fa17-f155-49a5-b6db-1cc117fd96c9"
      },
      "outputs": [
        {
          "name": "stdout",
          "output_type": "stream",
          "text": [
            "[[99  5  2  4]\n",
            " [ 7  6  8  8]\n",
            " [ 1  6  7  7]]\n"
          ]
        }
      ],
      "source": [
        "print(x2)"
      ]
    },
    {
      "cell_type": "markdown",
      "id": "casual-fashion",
      "metadata": {
        "id": "casual-fashion"
      },
      "source": [
        "## Reshaping of Arrays\n",
        "\n",
        "For example, if you want to put the numbers 1 through 9 in a $3 \\times 3$ grid, you can do the following:"
      ]
    },
    {
      "cell_type": "code",
      "execution_count": null,
      "id": "international-birth",
      "metadata": {
        "id": "international-birth",
        "outputId": "99562e47-9609-4d79-e8e7-cd2c00e9ff95"
      },
      "outputs": [
        {
          "data": {
            "text/plain": [
              "array([1, 2, 3, 4, 5, 6, 7, 8, 9])"
            ]
          },
          "execution_count": 79,
          "metadata": {},
          "output_type": "execute_result"
        }
      ],
      "source": [
        "arr = np.arange(1, 10)\n",
        "arr"
      ]
    },
    {
      "cell_type": "code",
      "execution_count": null,
      "id": "transparent-cosmetic",
      "metadata": {
        "id": "transparent-cosmetic",
        "outputId": "098d135b-00fd-499b-c1e4-325292481602"
      },
      "outputs": [
        {
          "data": {
            "text/plain": [
              "array([[1, 2, 3],\n",
              "       [4, 5, 6],\n",
              "       [7, 8, 9]])"
            ]
          },
          "execution_count": 80,
          "metadata": {},
          "output_type": "execute_result"
        }
      ],
      "source": [
        "grid = arr.reshape((3, 3))  # Having 7 will through an error\n",
        "grid"
      ]
    },
    {
      "cell_type": "markdown",
      "id": "handy-polish",
      "metadata": {
        "id": "handy-polish"
      },
      "source": [
        "Note that for this to work, the size of the initial array must match the size of the reshaped array. \n",
        "\n",
        "Another common reshaping pattern is the conversion of a one-dimensional array into a two-dimensional row or column matrix."
      ]
    },
    {
      "cell_type": "code",
      "execution_count": null,
      "id": "aboriginal-belfast",
      "metadata": {
        "id": "aboriginal-belfast",
        "outputId": "bc3b7e67-0c47-45f1-886a-472508af7a75"
      },
      "outputs": [
        {
          "data": {
            "text/plain": [
              "array([[1, 2, 3],\n",
              "       [4, 5, 6]])"
            ]
          },
          "execution_count": 188,
          "metadata": {},
          "output_type": "execute_result"
        }
      ],
      "source": [
        "x = np.array([1, 2, 3, 4, 5, 6])\n",
        "\n",
        "x.reshape((2, 3))"
      ]
    },
    {
      "cell_type": "code",
      "execution_count": null,
      "id": "soviet-sound",
      "metadata": {
        "id": "soviet-sound",
        "outputId": "7d70c42c-13bd-49fc-8c3a-1d59d73b3aed"
      },
      "outputs": [
        {
          "data": {
            "text/plain": [
              "array([[1, 2],\n",
              "       [3, 4],\n",
              "       [5, 6]])"
            ]
          },
          "execution_count": 85,
          "metadata": {},
          "output_type": "execute_result"
        }
      ],
      "source": [
        "x.reshape((3, 2))"
      ]
    },
    {
      "cell_type": "markdown",
      "id": "australian-blade",
      "metadata": {
        "id": "australian-blade"
      },
      "source": [
        "## Array Concatenation and Splitting\n",
        "\n",
        "All of the preceding routines worked on single arrays. It's also possible to combine multiple arrays into one, and to conversely split a single array into multiple arrays. We'll take a look at those operations here."
      ]
    },
    {
      "cell_type": "markdown",
      "id": "greater-registrar",
      "metadata": {
        "id": "greater-registrar"
      },
      "source": [
        "### Concatenation of arrays\n",
        "\n",
        "Concatenation, or joining of two arrays in NumPy, is primarily accomplished using the routines ``np.concatenate``, ``np.vstack``, and ``np.hstack``.\n",
        "``np.concatenate`` takes a tuple or list of arrays as its first argument, as we can see here:"
      ]
    },
    {
      "cell_type": "code",
      "execution_count": null,
      "id": "premier-frank",
      "metadata": {
        "id": "premier-frank",
        "outputId": "e882edcb-c814-4c77-df46-0b30dc2c2813"
      },
      "outputs": [
        {
          "data": {
            "text/plain": [
              "array([1, 2, 3, 3, 2, 1])"
            ]
          },
          "execution_count": 81,
          "metadata": {},
          "output_type": "execute_result"
        }
      ],
      "source": [
        "x = np.array([1, 2, 3])\n",
        "y = np.array([3, 2, 1])\n",
        "np.concatenate([x, y])"
      ]
    },
    {
      "cell_type": "markdown",
      "id": "tough-figure",
      "metadata": {
        "id": "tough-figure"
      },
      "source": [
        "You can also concatenate more than two arrays at once:"
      ]
    },
    {
      "cell_type": "code",
      "execution_count": null,
      "id": "democratic-blond",
      "metadata": {
        "id": "democratic-blond",
        "outputId": "0b011770-8c5d-4e1e-eb42-9118c8498c7c"
      },
      "outputs": [
        {
          "name": "stdout",
          "output_type": "stream",
          "text": [
            "[ 1  2  3  3  2  1 99 99 99]\n"
          ]
        }
      ],
      "source": [
        "z = [99, 99, 99]\n",
        "print(np.concatenate([x, y, z]))"
      ]
    },
    {
      "cell_type": "markdown",
      "id": "attached-aluminum",
      "metadata": {
        "id": "attached-aluminum"
      },
      "source": [
        "It can also be used for two-dimensional arrays:"
      ]
    },
    {
      "cell_type": "code",
      "execution_count": null,
      "id": "ordered-entry",
      "metadata": {
        "id": "ordered-entry"
      },
      "outputs": [],
      "source": [
        "grid1 = np.array([[1, 2, 3],\n",
        "                 [4, 5, 6],\n",
        "                 [2, 2, 1]])\n",
        "grid2 = np.array([[10, 20, 3],\n",
        "                 [40, 50, 60],\n",
        "                 [2, 3, 1]])"
      ]
    },
    {
      "cell_type": "code",
      "execution_count": null,
      "id": "incredible-singing",
      "metadata": {
        "id": "incredible-singing",
        "outputId": "3d2f66f8-c0e8-400e-b627-de956f03141b"
      },
      "outputs": [
        {
          "data": {
            "text/plain": [
              "array([[ 1,  2,  3],\n",
              "       [ 4,  5,  6],\n",
              "       [10, 20,  3],\n",
              "       [40, 50, 60],\n",
              "       [ 2,  3,  1]])"
            ]
          },
          "execution_count": 84,
          "metadata": {},
          "output_type": "execute_result"
        }
      ],
      "source": [
        "# concatenate along the first axis\n",
        "np.concatenate([grid1, grid2], axis=0)"
      ]
    },
    {
      "cell_type": "code",
      "execution_count": null,
      "id": "metric-ballot",
      "metadata": {
        "id": "metric-ballot",
        "outputId": "31e767e4-3fac-4943-f0c0-e75bd124bc96"
      },
      "outputs": [
        {
          "data": {
            "text/plain": [
              "array([[ 1,  2,  3, 10, 20,  3],\n",
              "       [ 4,  5,  6, 40, 50, 60],\n",
              "       [ 2,  2,  1,  2,  3,  1]])"
            ]
          },
          "execution_count": 89,
          "metadata": {},
          "output_type": "execute_result"
        }
      ],
      "source": [
        "# concatenate along the second axis (zero-indexed)\n",
        "np.concatenate([grid1, grid2], axis=1)"
      ]
    },
    {
      "cell_type": "markdown",
      "id": "devoted-repair",
      "metadata": {
        "id": "devoted-repair"
      },
      "source": [
        "For working with arrays of mixed dimensions, it can be cleaner to use the ``np.vstack`` (vertical stack) and ``np.hstack`` (horizontal stack) functions:"
      ]
    },
    {
      "cell_type": "code",
      "execution_count": null,
      "id": "accessory-support",
      "metadata": {
        "id": "accessory-support",
        "outputId": "1bbcaa63-27e9-41f8-b437-603c720964c5"
      },
      "outputs": [
        {
          "data": {
            "text/plain": [
              "array([[1, 2, 3],\n",
              "       [9, 8, 7],\n",
              "       [6, 5, 4]])"
            ]
          },
          "execution_count": 93,
          "metadata": {},
          "output_type": "execute_result"
        }
      ],
      "source": [
        "x = np.array([1, 2, 3])\n",
        "grid = np.array([[9, 8, 7],\n",
        "                 [6, 5, 4]])\n",
        "\n",
        "# vertically stack the arrays\n",
        "np.vstack([x, grid])"
      ]
    },
    {
      "cell_type": "code",
      "execution_count": null,
      "id": "capital-invention",
      "metadata": {
        "id": "capital-invention",
        "outputId": "9e24f008-d5b5-459a-8b96-03f542d98148"
      },
      "outputs": [
        {
          "data": {
            "text/plain": [
              "array([[ 9,  8,  7, 99, 90],\n",
              "       [ 6,  5,  4, 99, 90]])"
            ]
          },
          "execution_count": 91,
          "metadata": {},
          "output_type": "execute_result"
        }
      ],
      "source": [
        "# horizontally stack the arrays\n",
        "y = np.array([[99, 90],\n",
        "              [99, 90]])\n",
        "np.hstack([grid, y])"
      ]
    },
    {
      "cell_type": "markdown",
      "id": "understanding-event",
      "metadata": {
        "id": "understanding-event"
      },
      "source": [
        "### Splitting of arrays\n",
        "\n",
        "The opposite of concatenation is splitting, which is implemented by the functions ``np.split``, ``np.hsplit``, and ``np.vsplit``.  For each of these, we can pass a list of indices giving the split points:"
      ]
    },
    {
      "cell_type": "code",
      "execution_count": null,
      "id": "breathing-proposition",
      "metadata": {
        "id": "breathing-proposition",
        "outputId": "b2127158-4d4a-4b59-bf98-3da905899268"
      },
      "outputs": [
        {
          "name": "stdout",
          "output_type": "stream",
          "text": [
            "[1 2 3] [] [ 3 99 99  3  2  1]\n"
          ]
        }
      ],
      "source": [
        "x = [1, 2, 3, 99, 99, 3, 2, 1]\n",
        "x1, x2, x3 = np.split(x, [3, 2])\n",
        "print(x1, x2, x3)"
      ]
    },
    {
      "cell_type": "markdown",
      "id": "developmental-treasury",
      "metadata": {
        "id": "developmental-treasury"
      },
      "source": [
        "Notice that *N* split-points, leads to *N + 1* subarrays.\n",
        "The related functions ``np.hsplit`` and ``np.vsplit`` are similar:"
      ]
    },
    {
      "cell_type": "code",
      "execution_count": null,
      "id": "polished-postage",
      "metadata": {
        "id": "polished-postage",
        "outputId": "9a383783-6d54-4280-e794-b32b60861725"
      },
      "outputs": [
        {
          "data": {
            "text/plain": [
              "array([[ 0,  1,  2,  3],\n",
              "       [ 4,  5,  6,  7],\n",
              "       [ 8,  9, 10, 11],\n",
              "       [12, 13, 14, 15]])"
            ]
          },
          "execution_count": 94,
          "metadata": {},
          "output_type": "execute_result"
        }
      ],
      "source": [
        "grid = np.arange(16).reshape((4, 4))\n",
        "grid"
      ]
    },
    {
      "cell_type": "code",
      "execution_count": null,
      "id": "engaging-circus",
      "metadata": {
        "id": "engaging-circus",
        "outputId": "51fd7037-4fc6-4646-cfb9-c7f8dda59b39"
      },
      "outputs": [
        {
          "name": "stdout",
          "output_type": "stream",
          "text": [
            "[[0 1 2 3]\n",
            " [4 5 6 7]]\n",
            "---\n",
            "[[ 8  9 10 11]\n",
            " [12 13 14 15]]\n"
          ]
        }
      ],
      "source": [
        "upper, lower = np.vsplit(grid, [2])\n",
        "print(upper)\n",
        "print('---')\n",
        "print(lower)"
      ]
    },
    {
      "cell_type": "code",
      "execution_count": null,
      "id": "treated-current",
      "metadata": {
        "id": "treated-current",
        "outputId": "13892d1e-6f6b-4828-9476-dcae66aa141b"
      },
      "outputs": [
        {
          "name": "stdout",
          "output_type": "stream",
          "text": [
            "[[ 0  1]\n",
            " [ 4  5]\n",
            " [ 8  9]\n",
            " [12 13]]\n",
            "---\n",
            "[[ 2  3]\n",
            " [ 6  7]\n",
            " [10 11]\n",
            " [14 15]]\n"
          ]
        }
      ],
      "source": [
        "left, right = np.hsplit(grid, [2])\n",
        "print(left)\n",
        "print('---')\n",
        "print(right)"
      ]
    },
    {
      "cell_type": "markdown",
      "id": "beginning-ecology",
      "metadata": {
        "id": "beginning-ecology"
      },
      "source": [
        "## Exploring NumPy's UFuncs\n",
        "\n",
        "Ufuncs exist in two flavors: *unary ufuncs*, which operate on a single input, and *binary ufuncs*, which operate on two inputs.\n",
        "We'll see examples of both these types of functions here."
      ]
    },
    {
      "cell_type": "markdown",
      "id": "civic-insider",
      "metadata": {
        "id": "civic-insider"
      },
      "source": [
        "### Array arithmetic\n",
        "\n",
        "NumPy's ufuncs feel very natural to use because they make use of Python's native arithmetic operators.\n",
        "The standard addition, subtraction, multiplication, and division can all be used:"
      ]
    },
    {
      "cell_type": "code",
      "execution_count": null,
      "id": "33ef67c2",
      "metadata": {
        "id": "33ef67c2"
      },
      "outputs": [],
      "source": []
    },
    {
      "cell_type": "code",
      "execution_count": null,
      "id": "documented-democracy",
      "metadata": {
        "id": "documented-democracy",
        "outputId": "6f42a4b7-73e9-4895-fe7a-e66285fd9930"
      },
      "outputs": [
        {
          "name": "stdout",
          "output_type": "stream",
          "text": [
            "x     = [0 1 2 3]\n",
            "x + 5 = [5 6 7 8]\n",
            "x - 5 = [-5 -4 -3 -2]\n",
            "x * 2 = [0 2 4 6]\n",
            "x / 2 = [0.  0.5 1.  1.5]\n",
            "-x     =  [ 0 -1 -2 -3]\n",
            "x ** 2 =  [0 1 4 9]\n",
            "x % 2  =  [0 1 0 1]\n"
          ]
        }
      ],
      "source": [
        "x = np.arange(4)\n",
        "print(\"x     =\", x)\n",
        "print(\"x + 5 =\", x + 5)\n",
        "print(\"x - 5 =\", x - 5)\n",
        "print(\"x * 2 =\", x * 2)\n",
        "print(\"x / 2 =\", x / 2)\n",
        "print(\"-x     = \", -x)\n",
        "print(\"x ** 2 = \", x ** 2)\n",
        "print(\"x % 2  = \", x % 2)"
      ]
    },
    {
      "cell_type": "code",
      "execution_count": null,
      "id": "waiting-debut",
      "metadata": {
        "id": "waiting-debut",
        "outputId": "75ff1210-6650-4dce-dd42-302a330edcf9"
      },
      "outputs": [
        {
          "data": {
            "text/plain": [
              "array([2, 3, 4, 5])"
            ]
          },
          "execution_count": 104,
          "metadata": {},
          "output_type": "execute_result"
        }
      ],
      "source": [
        "np.add(x, 2)  # Binary UFunc"
      ]
    },
    {
      "cell_type": "markdown",
      "id": "charged-apartment",
      "metadata": {
        "id": "charged-apartment"
      },
      "source": [
        "### Absolute value\n",
        "\n",
        "Just as NumPy understands Python's built-in arithmetic operators, it also understands Python's built-in absolute value function:"
      ]
    },
    {
      "cell_type": "code",
      "execution_count": null,
      "id": "least-contamination",
      "metadata": {
        "id": "least-contamination",
        "outputId": "0e264ce9-bb33-4baf-d859-f2db96256f13"
      },
      "outputs": [
        {
          "data": {
            "text/plain": [
              "array([2, 1, 0, 1, 2])"
            ]
          },
          "execution_count": 201,
          "metadata": {},
          "output_type": "execute_result"
        }
      ],
      "source": [
        "x = np.array([-2, -1, 0, 1, 2])\n",
        "abs(x)"
      ]
    },
    {
      "cell_type": "code",
      "execution_count": null,
      "id": "center-torture",
      "metadata": {
        "id": "center-torture",
        "outputId": "5bb6e059-9e4f-4682-e2ed-55166d229efd"
      },
      "outputs": [
        {
          "data": {
            "text/plain": [
              "array([2, 1, 0, 1, 2])"
            ]
          },
          "execution_count": 202,
          "metadata": {},
          "output_type": "execute_result"
        }
      ],
      "source": [
        "np.abs(x)"
      ]
    },
    {
      "cell_type": "markdown",
      "id": "neural-seeker",
      "metadata": {
        "id": "neural-seeker"
      },
      "source": [
        "This ufunc can also handle complex data, in which the absolute value returns the magnitude:"
      ]
    },
    {
      "cell_type": "code",
      "execution_count": null,
      "id": "amber-alignment",
      "metadata": {
        "id": "amber-alignment",
        "outputId": "6f6aea29-8bf9-4cbe-dbb8-4e68dc02e7c5"
      },
      "outputs": [
        {
          "data": {
            "text/plain": [
              "array([5.        , 5.        , 2.23606798, 1.        ])"
            ]
          },
          "execution_count": 107,
          "metadata": {},
          "output_type": "execute_result"
        }
      ],
      "source": [
        "x = np.array([3 - 4j, 4 - 3j, 2 + 1j, 0 + 1j])\n",
        "np.abs(x)"
      ]
    },
    {
      "cell_type": "markdown",
      "id": "thrown-flight",
      "metadata": {
        "id": "thrown-flight"
      },
      "source": [
        "### Trigonometric functions\n",
        "\n",
        "NumPy provides a large number of useful ufuncs, and some of the most useful for the data scientist are the trigonometric functions.\n",
        "We'll start by defining an array of angles:"
      ]
    },
    {
      "cell_type": "code",
      "execution_count": null,
      "id": "effective-upset",
      "metadata": {
        "id": "effective-upset",
        "outputId": "14b8c7b8-d650-4a43-9612-2668802f98c5"
      },
      "outputs": [
        {
          "name": "stdout",
          "output_type": "stream",
          "text": [
            "theta      =  [0 1 2 3 4]\n",
            "sin(theta) =  [ 0.          0.84147098  0.90929743  0.14112001 -0.7568025 ]\n",
            "cos(theta) =  [ 1.          0.54030231 -0.41614684 -0.9899925  -0.65364362]\n",
            "tan(theta) =  [ 0.          1.55740772 -2.18503986 -0.14254654  1.15782128]\n"
          ]
        }
      ],
      "source": [
        "theta = np.arange(5)\n",
        "print(\"theta      = \", theta)\n",
        "print(\"sin(theta) = \", np.sin(theta))\n",
        "print(\"cos(theta) = \", np.cos(theta))\n",
        "print(\"tan(theta) = \", np.tan(theta))"
      ]
    },
    {
      "cell_type": "markdown",
      "id": "measured-packaging",
      "metadata": {
        "id": "measured-packaging"
      },
      "source": [
        "### Exponents and logarithms\n",
        "\n",
        "Another common type of operation available in a NumPy ufunc are the exponentials:"
      ]
    },
    {
      "cell_type": "code",
      "execution_count": null,
      "id": "sophisticated-maintenance",
      "metadata": {
        "id": "sophisticated-maintenance",
        "outputId": "c98d6834-b76f-4100-b8d4-b85f577e13e0"
      },
      "outputs": [
        {
          "name": "stdout",
          "output_type": "stream",
          "text": [
            "x     = [[1, 2, 3]]\n",
            "e^x   = [[ 2.71828183  7.3890561  20.08553692]]\n",
            "2^x   = [[2. 4. 8.]]\n",
            "3^x   = [[ 3  9 27]]\n"
          ]
        }
      ],
      "source": [
        "x = [[1, 2, 3]]\n",
        "print(\"x     =\", x)\n",
        "print(\"e^x   =\", np.exp(x))\n",
        "print(\"2^x   =\", np.exp2(x))\n",
        "print(\"3^x   =\", np.power(3, x))"
      ]
    },
    {
      "cell_type": "code",
      "execution_count": null,
      "id": "postal-stylus",
      "metadata": {
        "id": "postal-stylus",
        "outputId": "e4588aa9-0eeb-4728-d2b0-996114013417"
      },
      "outputs": [
        {
          "name": "stdout",
          "output_type": "stream",
          "text": [
            "x        = [1, 2, 4, 10]\n",
            "ln(x)    = [0.         0.69314718 1.38629436 2.30258509]\n",
            "log2(x)  = [0.         1.         2.         3.32192809]\n",
            "log10(x) = [0.         0.30103    0.60205999 1.        ]\n"
          ]
        }
      ],
      "source": [
        "x = [1, 2, 4, 10]\n",
        "print(\"x        =\", x)\n",
        "print(\"ln(x)    =\", np.log(x))\n",
        "print(\"log2(x)  =\", np.log2(x))\n",
        "print(\"log10(x) =\", np.log10(x))"
      ]
    },
    {
      "cell_type": "markdown",
      "id": "expected-interface",
      "metadata": {
        "id": "expected-interface"
      },
      "source": [
        "## Sorting"
      ]
    },
    {
      "cell_type": "markdown",
      "id": "chinese-currency",
      "metadata": {
        "id": "chinese-currency"
      },
      "source": [
        "### Functions: ``np.sort`` and ``np.argsort``\n"
      ]
    },
    {
      "cell_type": "code",
      "execution_count": null,
      "id": "transsexual-typing",
      "metadata": {
        "id": "transsexual-typing",
        "outputId": "70e8731d-e0e2-4366-dd4c-b532b279dc8b"
      },
      "outputs": [
        {
          "name": "stdout",
          "output_type": "stream",
          "text": [
            "[2 1 4 3 5]\n",
            "[1 2 3 4 5]\n"
          ]
        }
      ],
      "source": [
        "x = np.array([2, 1, 4, 3, 5])\n",
        "print(x)\n",
        "x.sort()\n",
        "print(x)"
      ]
    },
    {
      "cell_type": "markdown",
      "id": "narrative-bottom",
      "metadata": {
        "id": "narrative-bottom"
      },
      "source": [
        "A related function is ``argsort``, which instead returns the *indices* of the sorted elements:"
      ]
    },
    {
      "cell_type": "code",
      "execution_count": null,
      "id": "romantic-deposit",
      "metadata": {
        "id": "romantic-deposit",
        "outputId": "875c3221-9f15-4960-be1c-c6276b699789"
      },
      "outputs": [
        {
          "name": "stdout",
          "output_type": "stream",
          "text": [
            "[1 0 3 2 4]\n"
          ]
        }
      ],
      "source": [
        "x = np.array([2, 1, 4, 3, 5])\n",
        "i = np.argsort(x)\n",
        "print(i)"
      ]
    },
    {
      "cell_type": "code",
      "execution_count": null,
      "id": "registered-partnership",
      "metadata": {
        "id": "registered-partnership",
        "outputId": "40e90c42-5710-4188-d5c5-8fcbbc69c91a"
      },
      "outputs": [
        {
          "data": {
            "text/plain": [
              "array([1, 2, 3, 4, 5])"
            ]
          },
          "execution_count": 113,
          "metadata": {},
          "output_type": "execute_result"
        }
      ],
      "source": [
        "x[i]  # To print the sorted array"
      ]
    },
    {
      "cell_type": "markdown",
      "id": "revolutionary-paint",
      "metadata": {
        "id": "revolutionary-paint"
      },
      "source": [
        "## Aggregations"
      ]
    },
    {
      "cell_type": "markdown",
      "id": "continuous-feature",
      "metadata": {
        "id": "continuous-feature"
      },
      "source": [
        "NumPy has fast built-in aggregation functions for working on arrays; we'll discuss and demonstrate some of them here."
      ]
    },
    {
      "cell_type": "markdown",
      "id": "fundamental-indie",
      "metadata": {
        "id": "fundamental-indie"
      },
      "source": [
        "### Summing the Values in an Array\n",
        "\n",
        "As a quick example, consider computing the sum of all values in an array.\n",
        "Python itself can do this using the built-in ``sum`` function:"
      ]
    },
    {
      "cell_type": "code",
      "execution_count": null,
      "id": "fuzzy-klein",
      "metadata": {
        "id": "fuzzy-klein",
        "scrolled": true,
        "outputId": "542ed0b5-7747-4140-83f5-1a2384879926"
      },
      "outputs": [
        {
          "data": {
            "text/plain": [
              "4928"
            ]
          },
          "execution_count": 82,
          "metadata": {},
          "output_type": "execute_result"
        }
      ],
      "source": [
        "L = np.random.randint(100, size=100)\n",
        "np.sum(L)"
      ]
    },
    {
      "cell_type": "markdown",
      "id": "flush-staff",
      "metadata": {
        "id": "flush-staff"
      },
      "source": [
        "### Minimum and Maximum\n",
        "\n",
        "Similarly, Python has built-in ``min`` and ``max`` functions, used to find the minimum value and maximum value of any given array:"
      ]
    },
    {
      "cell_type": "code",
      "execution_count": null,
      "id": "catholic-recorder",
      "metadata": {
        "id": "catholic-recorder",
        "outputId": "df76ef15-4c41-4557-f527-324b6b8c8159"
      },
      "outputs": [
        {
          "data": {
            "text/plain": [
              "99"
            ]
          },
          "execution_count": 83,
          "metadata": {},
          "output_type": "execute_result"
        }
      ],
      "source": [
        "# np.min(L)\n",
        "np.max(L)\n",
        "# np.mean(L)"
      ]
    },
    {
      "cell_type": "code",
      "execution_count": null,
      "id": "optional-kuwait",
      "metadata": {
        "id": "optional-kuwait",
        "outputId": "699a4ba5-e53f-4fcf-fe01-3460ac911709"
      },
      "outputs": [
        {
          "name": "stdout",
          "output_type": "stream",
          "text": [
            "9.43 µs ± 2.38 µs per loop (mean ± std. dev. of 7 runs, 100000 loops each)\n",
            "10.5 µs ± 923 ns per loop (mean ± std. dev. of 7 runs, 100000 loops each)\n"
          ]
        }
      ],
      "source": [
        "%timeit np.min(L)\n",
        "%timeit min(L)"
      ]
    }
  ],
  "metadata": {
    "kernelspec": {
      "display_name": "Python 3 (ipykernel)",
      "language": "python",
      "name": "python3"
    },
    "language_info": {
      "codemirror_mode": {
        "name": "ipython",
        "version": 3
      },
      "file_extension": ".py",
      "mimetype": "text/x-python",
      "name": "python",
      "nbconvert_exporter": "python",
      "pygments_lexer": "ipython3",
      "version": "3.9.7"
    },
    "colab": {
      "provenance": []
    }
  },
  "nbformat": 4,
  "nbformat_minor": 5
}