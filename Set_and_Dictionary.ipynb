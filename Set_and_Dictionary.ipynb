{
  "nbformat": 4,
  "nbformat_minor": 0,
  "metadata": {
    "colab": {
      "provenance": []
    },
    "kernelspec": {
      "name": "python3",
      "display_name": "Python 3"
    },
    "language_info": {
      "name": "python"
    }
  },
  "cells": [
    {
      "cell_type": "code",
      "execution_count": null,
      "metadata": {
        "id": "oNv_oUCxZkWt"
      },
      "outputs": [],
      "source": [
        "#datatypes\n",
        "#list- []\n",
        "#Tuples - ()\n",
        "#String - ''\n",
        "#Sets - Unordered Datatypes"
      ]
    },
    {
      "cell_type": "code",
      "source": [
        "l= [2,3,4,5,5]\n",
        "l"
      ],
      "metadata": {
        "colab": {
          "base_uri": "https://localhost:8080/"
        },
        "id": "8pv3IAQoaNhJ",
        "outputId": "27cb1eaf-abf4-4565-cc90-7d29d69455b0"
      },
      "execution_count": null,
      "outputs": [
        {
          "output_type": "execute_result",
          "data": {
            "text/plain": [
              "[2, 3, 4, 5, 5]"
            ]
          },
          "metadata": {},
          "execution_count": 11
        }
      ]
    },
    {
      "cell_type": "code",
      "source": [
        "l[1]"
      ],
      "metadata": {
        "colab": {
          "base_uri": "https://localhost:8080/"
        },
        "id": "xovEo1oGacCh",
        "outputId": "9aa7ff3b-88a2-4322-940e-ec661c51b6d2"
      },
      "execution_count": null,
      "outputs": [
        {
          "output_type": "execute_result",
          "data": {
            "text/plain": [
              "3"
            ]
          },
          "metadata": {},
          "execution_count": 10
        }
      ]
    },
    {
      "cell_type": "code",
      "source": [
        "l1={1, 2, 3, 4}"
      ],
      "metadata": {
        "id": "-laCl8Udakzd"
      },
      "execution_count": null,
      "outputs": []
    },
    {
      "cell_type": "code",
      "source": [
        "l1[0]"
      ],
      "metadata": {
        "colab": {
          "base_uri": "https://localhost:8080/",
          "height": 165
        },
        "id": "vPXow9JJab_o",
        "outputId": "13b36816-e882-4f5b-b1bf-1dc842c32b1d"
      },
      "execution_count": null,
      "outputs": [
        {
          "output_type": "error",
          "ename": "TypeError",
          "evalue": "ignored",
          "traceback": [
            "\u001b[0;31m---------------------------------------------------------------------------\u001b[0m",
            "\u001b[0;31mTypeError\u001b[0m                                 Traceback (most recent call last)",
            "\u001b[0;32m<ipython-input-5-6dd46b2ba5de>\u001b[0m in \u001b[0;36m<module>\u001b[0;34m\u001b[0m\n\u001b[0;32m----> 1\u001b[0;31m \u001b[0ml1\u001b[0m\u001b[0;34m[\u001b[0m\u001b[0;36m0\u001b[0m\u001b[0;34m]\u001b[0m\u001b[0;34m\u001b[0m\u001b[0;34m\u001b[0m\u001b[0m\n\u001b[0m",
            "\u001b[0;31mTypeError\u001b[0m: 'set' object is not subscriptable"
          ]
        }
      ]
    },
    {
      "cell_type": "code",
      "source": [
        "#remove Duplicates from list\n",
        "l2= list(set(l))"
      ],
      "metadata": {
        "id": "Y4rWmuJMab8p"
      },
      "execution_count": null,
      "outputs": []
    },
    {
      "cell_type": "code",
      "source": [
        "l2"
      ],
      "metadata": {
        "colab": {
          "base_uri": "https://localhost:8080/"
        },
        "id": "ksI2kDvCab5d",
        "outputId": "d3b4d27b-ef07-4efb-9d18-91b066c2adf9"
      },
      "execution_count": null,
      "outputs": [
        {
          "output_type": "execute_result",
          "data": {
            "text/plain": [
              "[2, 3, 4, 5]"
            ]
          },
          "metadata": {},
          "execution_count": 8
        }
      ]
    },
    {
      "cell_type": "code",
      "source": [
        "l1={1, 2, 3, 4}"
      ],
      "metadata": {
        "id": "vsNrWb29ab20"
      },
      "execution_count": null,
      "outputs": []
    },
    {
      "cell_type": "code",
      "source": [
        "l1.discard(4)"
      ],
      "metadata": {
        "id": "F4n7_28Wabz5"
      },
      "execution_count": null,
      "outputs": []
    },
    {
      "cell_type": "code",
      "source": [
        "l1"
      ],
      "metadata": {
        "colab": {
          "base_uri": "https://localhost:8080/"
        },
        "id": "eXm2LLnaabwz",
        "outputId": "732388e0-bac0-4f04-d2c7-918df5ef1951"
      },
      "execution_count": null,
      "outputs": [
        {
          "output_type": "execute_result",
          "data": {
            "text/plain": [
              "{1, 2, 3}"
            ]
          },
          "metadata": {},
          "execution_count": 16
        }
      ]
    },
    {
      "cell_type": "code",
      "source": [
        "l1.remove(1)"
      ],
      "metadata": {
        "id": "w__OkcglabvB"
      },
      "execution_count": null,
      "outputs": []
    },
    {
      "cell_type": "code",
      "source": [
        "l1"
      ],
      "metadata": {
        "colab": {
          "base_uri": "https://localhost:8080/"
        },
        "id": "ymgZfZ2lbf1P",
        "outputId": "7e2048ef-56d2-4904-f32a-1382bdfe179f"
      },
      "execution_count": null,
      "outputs": [
        {
          "output_type": "execute_result",
          "data": {
            "text/plain": [
              "{2, 3}"
            ]
          },
          "metadata": {},
          "execution_count": 18
        }
      ]
    },
    {
      "cell_type": "code",
      "source": [
        "#l1.remove(1)  give error\n",
        "l1.discard(1)"
      ],
      "metadata": {
        "id": "nZzsQMBAbfxC"
      },
      "execution_count": null,
      "outputs": []
    },
    {
      "cell_type": "code",
      "source": [
        "l1.add(8)"
      ],
      "metadata": {
        "id": "5SrwALuBbfuk"
      },
      "execution_count": null,
      "outputs": []
    },
    {
      "cell_type": "code",
      "source": [
        "l1"
      ],
      "metadata": {
        "colab": {
          "base_uri": "https://localhost:8080/"
        },
        "id": "hrAJJ1GObfYa",
        "outputId": "e2414436-c0ef-436d-be7d-d28f957e7820"
      },
      "execution_count": null,
      "outputs": [
        {
          "output_type": "execute_result",
          "data": {
            "text/plain": [
              "{2, 3, 8}"
            ]
          },
          "metadata": {},
          "execution_count": 22
        }
      ]
    },
    {
      "cell_type": "code",
      "source": [
        "s=l1"
      ],
      "metadata": {
        "id": "3r8JU-HibfUp"
      },
      "execution_count": null,
      "outputs": []
    },
    {
      "cell_type": "code",
      "source": [
        "s"
      ],
      "metadata": {
        "colab": {
          "base_uri": "https://localhost:8080/"
        },
        "id": "wzavWAx-bfSM",
        "outputId": "7a0fbd74-4d20-4005-c1ab-dd5e6c02e94a"
      },
      "execution_count": null,
      "outputs": [
        {
          "output_type": "execute_result",
          "data": {
            "text/plain": [
              "{2, 3, 8}"
            ]
          },
          "metadata": {},
          "execution_count": 24
        }
      ]
    },
    {
      "cell_type": "code",
      "source": [
        "s.update([6,7,8])"
      ],
      "metadata": {
        "id": "DcyBW2l0bfOp"
      },
      "execution_count": null,
      "outputs": []
    },
    {
      "cell_type": "code",
      "source": [
        "s"
      ],
      "metadata": {
        "colab": {
          "base_uri": "https://localhost:8080/"
        },
        "id": "kmVH07zhbfM8",
        "outputId": "bdc8fe7f-a515-4be2-a614-dfadd98d4323"
      },
      "execution_count": null,
      "outputs": [
        {
          "output_type": "execute_result",
          "data": {
            "text/plain": [
              "{2, 3, 6, 7, 8}"
            ]
          },
          "metadata": {},
          "execution_count": 26
        }
      ]
    },
    {
      "cell_type": "code",
      "source": [
        "s.update({5,6,9})"
      ],
      "metadata": {
        "id": "wEFVts0TcZmA"
      },
      "execution_count": null,
      "outputs": []
    },
    {
      "cell_type": "code",
      "source": [
        "s  #Never update dulicate in list"
      ],
      "metadata": {
        "colab": {
          "base_uri": "https://localhost:8080/"
        },
        "id": "BVaKEESicZj6",
        "outputId": "f4880c5d-5423-4ad8-f45b-b493111d170e"
      },
      "execution_count": null,
      "outputs": [
        {
          "output_type": "execute_result",
          "data": {
            "text/plain": [
              "{2, 3, 5, 6, 7, 8, 9}"
            ]
          },
          "metadata": {},
          "execution_count": 28
        }
      ]
    },
    {
      "cell_type": "code",
      "source": [
        "s.update({12,12,15},{23,15,15})"
      ],
      "metadata": {
        "id": "H3Mi6uwlcZhP"
      },
      "execution_count": null,
      "outputs": []
    },
    {
      "cell_type": "code",
      "source": [
        "s"
      ],
      "metadata": {
        "colab": {
          "base_uri": "https://localhost:8080/"
        },
        "id": "Ai9XsQQzcZe4",
        "outputId": "2a51cc83-b71c-45c4-ee1c-9ae8fc0f9fec"
      },
      "execution_count": null,
      "outputs": [
        {
          "output_type": "execute_result",
          "data": {
            "text/plain": [
              "{2, 3, 5, 6, 7, 8, 9, 12, 15, 23}"
            ]
          },
          "metadata": {},
          "execution_count": 30
        }
      ]
    },
    {
      "cell_type": "code",
      "source": [
        "s.clear()"
      ],
      "metadata": {
        "id": "ZxjEqs4JcZcX"
      },
      "execution_count": null,
      "outputs": []
    },
    {
      "cell_type": "code",
      "source": [
        "s"
      ],
      "metadata": {
        "colab": {
          "base_uri": "https://localhost:8080/"
        },
        "id": "Fd8y64gRcZaE",
        "outputId": "f19252f4-0a6d-4b99-8592-919546b85a74"
      },
      "execution_count": null,
      "outputs": [
        {
          "output_type": "execute_result",
          "data": {
            "text/plain": [
              "set()"
            ]
          },
          "metadata": {},
          "execution_count": 32
        }
      ]
    },
    {
      "cell_type": "code",
      "source": [
        "s.update({12,12,15},{23,15,15})"
      ],
      "metadata": {
        "id": "ODyaFfWhcZXV"
      },
      "execution_count": null,
      "outputs": []
    },
    {
      "cell_type": "code",
      "source": [
        "s"
      ],
      "metadata": {
        "colab": {
          "base_uri": "https://localhost:8080/"
        },
        "id": "DMqYMkB6cZUj",
        "outputId": "25bbbbd0-d181-49f8-efb8-3060d3c74f16"
      },
      "execution_count": null,
      "outputs": [
        {
          "output_type": "execute_result",
          "data": {
            "text/plain": [
              "{12, 15, 23}"
            ]
          },
          "metadata": {},
          "execution_count": 34
        }
      ]
    },
    {
      "cell_type": "markdown",
      "source": [
        "###Set Operation"
      ],
      "metadata": {
        "id": "y4xtXl9tdMCb"
      }
    },
    {
      "cell_type": "code",
      "source": [
        "play_cricket={1,2,3,4,5,6,7}\n",
        "go_gim= {2,5,8,10,16,45}"
      ],
      "metadata": {
        "id": "TnDo8totdLGG"
      },
      "execution_count": null,
      "outputs": []
    },
    {
      "cell_type": "code",
      "source": [
        "# play cricket or go gim\n",
        "play_cricket | go_gim"
      ],
      "metadata": {
        "colab": {
          "base_uri": "https://localhost:8080/"
        },
        "id": "rbJEzGJbcZRZ",
        "outputId": "da37ee48-7812-4382-f0c7-4839ea18a0a2"
      },
      "execution_count": null,
      "outputs": [
        {
          "output_type": "execute_result",
          "data": {
            "text/plain": [
              "{1, 2, 3, 4, 5, 6, 7, 8, 10, 16, 45}"
            ]
          },
          "metadata": {},
          "execution_count": 38
        }
      ]
    },
    {
      "cell_type": "code",
      "source": [
        "play_cricket.union(go_gim) "
      ],
      "metadata": {
        "colab": {
          "base_uri": "https://localhost:8080/"
        },
        "id": "OrHyDHhYcZOL",
        "outputId": "18bfe38f-6259-4418-f56e-ecfaaba0b263"
      },
      "execution_count": null,
      "outputs": [
        {
          "output_type": "execute_result",
          "data": {
            "text/plain": [
              "{1, 2, 3, 4, 5, 6, 7, 8, 10, 16, 45}"
            ]
          },
          "metadata": {},
          "execution_count": 39
        }
      ]
    },
    {
      "cell_type": "code",
      "source": [
        "play_cricket.intersection(go_gim)"
      ],
      "metadata": {
        "colab": {
          "base_uri": "https://localhost:8080/"
        },
        "id": "M1D7BCW1cZLT",
        "outputId": "eb73411b-7c4e-4533-85e6-f42f4c444250"
      },
      "execution_count": null,
      "outputs": [
        {
          "output_type": "execute_result",
          "data": {
            "text/plain": [
              "{2, 5}"
            ]
          },
          "metadata": {},
          "execution_count": 40
        }
      ]
    },
    {
      "cell_type": "code",
      "source": [
        "play_cricket - (go_gim)"
      ],
      "metadata": {
        "colab": {
          "base_uri": "https://localhost:8080/"
        },
        "id": "VF4-btlScZJE",
        "outputId": "edb97dcf-01ee-44eb-cf4e-947a7195e1a7"
      },
      "execution_count": null,
      "outputs": [
        {
          "output_type": "execute_result",
          "data": {
            "text/plain": [
              "{1, 3, 4, 6, 7}"
            ]
          },
          "metadata": {},
          "execution_count": 41
        }
      ]
    },
    {
      "cell_type": "code",
      "source": [
        "(go_gim) - play_cricket"
      ],
      "metadata": {
        "colab": {
          "base_uri": "https://localhost:8080/"
        },
        "id": "zeQoQ6mucZGo",
        "outputId": "d6d5171e-9afa-4f87-964b-3e3376d1d312"
      },
      "execution_count": null,
      "outputs": [
        {
          "output_type": "execute_result",
          "data": {
            "text/plain": [
              "{8, 10, 16, 45}"
            ]
          },
          "metadata": {},
          "execution_count": 42
        }
      ]
    },
    {
      "cell_type": "code",
      "source": [
        "(go_gim - play_cricket).issubset(go_gim | play_cricket)"
      ],
      "metadata": {
        "colab": {
          "base_uri": "https://localhost:8080/"
        },
        "id": "3EJwh-KpcZEi",
        "outputId": "1abf5011-2c28-40ae-ab03-b7c34bed61a2"
      },
      "execution_count": null,
      "outputs": [
        {
          "output_type": "execute_result",
          "data": {
            "text/plain": [
              "True"
            ]
          },
          "metadata": {},
          "execution_count": 44
        }
      ]
    },
    {
      "cell_type": "code",
      "source": [
        "(go_gim - play_cricket).issubset(play_cricket.union(go_gim) )"
      ],
      "metadata": {
        "colab": {
          "base_uri": "https://localhost:8080/"
        },
        "id": "ua_eQUXpcZBi",
        "outputId": "d07aa62d-641b-48e6-a031-60f937fae359"
      },
      "execution_count": null,
      "outputs": [
        {
          "output_type": "execute_result",
          "data": {
            "text/plain": [
              "True"
            ]
          },
          "metadata": {},
          "execution_count": 45
        }
      ]
    },
    {
      "cell_type": "markdown",
      "source": [
        "###Dictionaries"
      ],
      "metadata": {
        "id": "c7rgJMhgg8N7"
      }
    },
    {
      "cell_type": "code",
      "source": [
        "Virat_details= ['Virat', 'M', 'Indian', 52, 96.4, 183, 240]"
      ],
      "metadata": {
        "id": "bhlr8l-1g7sA"
      },
      "execution_count": null,
      "outputs": []
    },
    {
      "cell_type": "code",
      "source": [
        "Virat_details"
      ],
      "metadata": {
        "colab": {
          "base_uri": "https://localhost:8080/"
        },
        "id": "Yp1ljmFbcY-V",
        "outputId": "a74985b5-3085-48e1-d2cb-56cbd4d118ff"
      },
      "execution_count": null,
      "outputs": [
        {
          "output_type": "execute_result",
          "data": {
            "text/plain": [
              "['Virat', 'M', 'Indian', 52, 96.4, 183, 240]"
            ]
          },
          "metadata": {},
          "execution_count": 47
        }
      ]
    },
    {
      "cell_type": "code",
      "source": [
        "player_det={'Name':'Virat','Gender':'M','Nationality':'Indian','Strike Rate':96.8,'Batting Avg':49,'Age':33,'Highest Score':183,'No of Matches':186}\n",
        "player_det"
      ],
      "metadata": {
        "colab": {
          "base_uri": "https://localhost:8080/"
        },
        "id": "Kv-pgAcMcY6j",
        "outputId": "0a724721-d570-4640-b679-aff861baeea5"
      },
      "execution_count": null,
      "outputs": [
        {
          "output_type": "execute_result",
          "data": {
            "text/plain": [
              "{'Name': 'Virat',\n",
              " 'Gender': 'M',\n",
              " 'Nationality': 'Indian',\n",
              " 'Strike Rate': 96.8,\n",
              " 'Batting Avg': 49,\n",
              " 'Age': 33,\n",
              " 'Highest Score': 183,\n",
              " 'No of Matches': 186}"
            ]
          },
          "metadata": {},
          "execution_count": 48
        }
      ]
    },
    {
      "cell_type": "code",
      "source": [
        "# Key:Value"
      ],
      "metadata": {
        "id": "M2bUMNxfcY4C"
      },
      "execution_count": null,
      "outputs": []
    },
    {
      "cell_type": "code",
      "source": [
        "player_det['Nationality']"
      ],
      "metadata": {
        "colab": {
          "base_uri": "https://localhost:8080/",
          "height": 35
        },
        "id": "vuJNYpjai9R9",
        "outputId": "1afd0038-c2fd-4130-c773-e848c316ad7e"
      },
      "execution_count": null,
      "outputs": [
        {
          "output_type": "execute_result",
          "data": {
            "text/plain": [
              "'Indian'"
            ],
            "application/vnd.google.colaboratory.intrinsic+json": {
              "type": "string"
            }
          },
          "metadata": {},
          "execution_count": 49
        }
      ]
    },
    {
      "cell_type": "code",
      "source": [
        "for i in player_det:\n",
        "  print(i)                   #Gives Keys"
      ],
      "metadata": {
        "colab": {
          "base_uri": "https://localhost:8080/"
        },
        "id": "0m1dVqYvjGB4",
        "outputId": "23808e22-c9a1-44c1-aeeb-80cdc513e0ee"
      },
      "execution_count": null,
      "outputs": [
        {
          "output_type": "stream",
          "name": "stdout",
          "text": [
            "Name\n",
            "Gender\n",
            "Nationality\n",
            "Strike Rate\n",
            "Batting Avg\n",
            "Age\n",
            "Highest Score\n",
            "No of Matches\n"
          ]
        }
      ]
    },
    {
      "cell_type": "code",
      "source": [
        "#Printing Values through For Loop\n",
        "for i in player_det:\n",
        "  print(i)\n",
        "  print(player_det[i])\n",
        "  print('...................')"
      ],
      "metadata": {
        "colab": {
          "base_uri": "https://localhost:8080/"
        },
        "id": "WzccqBaZjF_C",
        "outputId": "27b1d7a8-1d99-4b31-a9db-f533d898f553"
      },
      "execution_count": null,
      "outputs": [
        {
          "output_type": "stream",
          "name": "stdout",
          "text": [
            "Name\n",
            "Virat\n",
            "...................\n",
            "Gender\n",
            "M\n",
            "...................\n",
            "Nationality\n",
            "Indian\n",
            "...................\n",
            "Strike Rate\n",
            "96.8\n",
            "...................\n",
            "Batting Avg\n",
            "49\n",
            "...................\n",
            "Age\n",
            "33\n",
            "...................\n",
            "Highest Score\n",
            "183\n",
            "...................\n",
            "No of Matches\n",
            "186\n",
            "...................\n"
          ]
        }
      ]
    },
    {
      "cell_type": "code",
      "source": [
        "player_det.keys()"
      ],
      "metadata": {
        "colab": {
          "base_uri": "https://localhost:8080/"
        },
        "id": "tIxZ32F4jF6q",
        "outputId": "107d2bcc-14ed-4ff7-e877-fbc23ff92883"
      },
      "execution_count": null,
      "outputs": [
        {
          "output_type": "execute_result",
          "data": {
            "text/plain": [
              "dict_keys(['Name', 'Gender', 'Nationality', 'Strike Rate', 'Batting Avg', 'Age', 'Highest Score', 'No of Matches'])"
            ]
          },
          "metadata": {},
          "execution_count": 53
        }
      ]
    },
    {
      "cell_type": "code",
      "source": [
        "player_det.values()"
      ],
      "metadata": {
        "colab": {
          "base_uri": "https://localhost:8080/"
        },
        "id": "eVF37WvcjF2u",
        "outputId": "9089e5e7-5a08-4c28-d320-e5f743084182"
      },
      "execution_count": null,
      "outputs": [
        {
          "output_type": "execute_result",
          "data": {
            "text/plain": [
              "dict_values(['Virat', 'M', 'Indian', 96.8, 49, 33, 183, 186])"
            ]
          },
          "metadata": {},
          "execution_count": 54
        }
      ]
    },
    {
      "cell_type": "code",
      "source": [
        "for i in player_det.values():\n",
        "  print(i)"
      ],
      "metadata": {
        "colab": {
          "base_uri": "https://localhost:8080/"
        },
        "id": "JNA6uc46jFz5",
        "outputId": "aa799a58-17a9-4558-ba8d-388fa68189dd"
      },
      "execution_count": null,
      "outputs": [
        {
          "output_type": "stream",
          "name": "stdout",
          "text": [
            "Virat\n",
            "M\n",
            "Indian\n",
            "96.8\n",
            "49\n",
            "33\n",
            "183\n",
            "186\n"
          ]
        }
      ]
    },
    {
      "cell_type": "code",
      "source": [
        "player_det.items()"
      ],
      "metadata": {
        "colab": {
          "base_uri": "https://localhost:8080/"
        },
        "id": "VujR-0sNjFxO",
        "outputId": "31c74a15-89a6-4373-8a87-cf4df489af6b"
      },
      "execution_count": null,
      "outputs": [
        {
          "output_type": "execute_result",
          "data": {
            "text/plain": [
              "dict_items([('Name', 'Virat'), ('Gender', 'M'), ('Nationality', 'Indian'), ('Strike Rate', 96.8), ('Batting Avg', 49), ('Age', 33), ('Highest Score', 183), ('No of Matches', 186)])"
            ]
          },
          "metadata": {},
          "execution_count": 56
        }
      ]
    },
    {
      "cell_type": "code",
      "source": [
        "list(player_det.items())"
      ],
      "metadata": {
        "colab": {
          "base_uri": "https://localhost:8080/"
        },
        "id": "PrdKdKzpjFuB",
        "outputId": "8977a166-a25a-4c27-b7e4-45492622483b"
      },
      "execution_count": null,
      "outputs": [
        {
          "output_type": "execute_result",
          "data": {
            "text/plain": [
              "[('Name', 'Virat'),\n",
              " ('Gender', 'M'),\n",
              " ('Nationality', 'Indian'),\n",
              " ('Strike Rate', 96.8),\n",
              " ('Batting Avg', 49),\n",
              " ('Age', 33),\n",
              " ('Highest Score', 183),\n",
              " ('No of Matches', 186)]"
            ]
          },
          "metadata": {},
          "execution_count": 57
        }
      ]
    },
    {
      "cell_type": "code",
      "source": [
        "player_det.update({'Centuries': 57, '50s':75})"
      ],
      "metadata": {
        "id": "z-KqTc7tjFqp"
      },
      "execution_count": null,
      "outputs": []
    },
    {
      "cell_type": "code",
      "source": [
        "player_det"
      ],
      "metadata": {
        "colab": {
          "base_uri": "https://localhost:8080/"
        },
        "id": "1YS1-tC1jFn0",
        "outputId": "65d4485c-abb9-4bd5-aff4-c212f8962e47"
      },
      "execution_count": null,
      "outputs": [
        {
          "output_type": "execute_result",
          "data": {
            "text/plain": [
              "{'Name': 'Virat',\n",
              " 'Gender': 'M',\n",
              " 'Nationality': 'Indian',\n",
              " 'Strike Rate': 96.8,\n",
              " 'Batting Avg': 49,\n",
              " 'Age': 33,\n",
              " 'Highest Score': 183,\n",
              " 'No of Matches': 186,\n",
              " 'Centuries': 57}"
            ]
          },
          "metadata": {},
          "execution_count": 61
        }
      ]
    },
    {
      "cell_type": "code",
      "source": [
        "player_det.pop('50s')"
      ],
      "metadata": {
        "colab": {
          "base_uri": "https://localhost:8080/"
        },
        "id": "L8u_jHdijFlO",
        "outputId": "f58cdec9-1a03-4498-b343-e8b398cb3159"
      },
      "execution_count": null,
      "outputs": [
        {
          "output_type": "execute_result",
          "data": {
            "text/plain": [
              "75"
            ]
          },
          "metadata": {},
          "execution_count": 60
        }
      ]
    },
    {
      "cell_type": "code",
      "source": [
        "player_det.update({'Name':'Dhoni'})"
      ],
      "metadata": {
        "id": "FItFXjH1lK_U"
      },
      "execution_count": null,
      "outputs": []
    },
    {
      "cell_type": "code",
      "source": [
        "player_det"
      ],
      "metadata": {
        "colab": {
          "base_uri": "https://localhost:8080/"
        },
        "id": "0_LHJkQBlK8h",
        "outputId": "2bb24b87-63d5-429d-a36a-f129a3ab7d08"
      },
      "execution_count": null,
      "outputs": [
        {
          "output_type": "execute_result",
          "data": {
            "text/plain": [
              "{'Name': 'Dhoni',\n",
              " 'Gender': 'M',\n",
              " 'Nationality': 'Indian',\n",
              " 'Strike Rate': 96.8,\n",
              " 'Batting Avg': 49,\n",
              " 'Age': 33,\n",
              " 'Highest Score': 183,\n",
              " 'No of Matches': 186,\n",
              " 'Centuries': 57}"
            ]
          },
          "metadata": {},
          "execution_count": 63
        }
      ]
    },
    {
      "cell_type": "code",
      "source": [
        "player_det.update({34:[3,4,5,6]})"
      ],
      "metadata": {
        "id": "ACyQR6J7mA_9"
      },
      "execution_count": null,
      "outputs": []
    },
    {
      "cell_type": "code",
      "source": [
        "player_det"
      ],
      "metadata": {
        "colab": {
          "base_uri": "https://localhost:8080/"
        },
        "id": "fTK4kflkmIfN",
        "outputId": "7a8fbd4b-82d8-4a29-f386-5f31ddeaac79"
      },
      "execution_count": null,
      "outputs": [
        {
          "output_type": "execute_result",
          "data": {
            "text/plain": [
              "{'Name': 'Dhoni',\n",
              " 'Gender': 'M',\n",
              " 'Nationality': 'Indian',\n",
              " 'Strike Rate': 96.8,\n",
              " 'Batting Avg': 49,\n",
              " 'Age': 33,\n",
              " 'Highest Score': 183,\n",
              " 'No of Matches': 186,\n",
              " 'Centuries': 57,\n",
              " 34: [3, 4, 5, 6]}"
            ]
          },
          "metadata": {},
          "execution_count": 65
        }
      ]
    },
    {
      "cell_type": "code",
      "source": [
        "# sets, tuples, lists cannot be keys in dictionaries\n",
        "player_det.update({{3,4,5}:[3,4,5,6]})"
      ],
      "metadata": {
        "colab": {
          "base_uri": "https://localhost:8080/",
          "height": 183
        },
        "id": "1lA_xrEGlK5y",
        "outputId": "7cf7df5f-1f0d-4469-8208-3821984a8790"
      },
      "execution_count": null,
      "outputs": [
        {
          "output_type": "error",
          "ename": "TypeError",
          "evalue": "ignored",
          "traceback": [
            "\u001b[0;31m---------------------------------------------------------------------------\u001b[0m",
            "\u001b[0;31mTypeError\u001b[0m                                 Traceback (most recent call last)",
            "\u001b[0;32m<ipython-input-66-495e3421f7f0>\u001b[0m in \u001b[0;36m<module>\u001b[0;34m\u001b[0m\n\u001b[1;32m      1\u001b[0m \u001b[0;31m# sets, tuples, lists cannot be keys in dictionaries\u001b[0m\u001b[0;34m\u001b[0m\u001b[0;34m\u001b[0m\u001b[0;34m\u001b[0m\u001b[0m\n\u001b[0;32m----> 2\u001b[0;31m \u001b[0mplayer_det\u001b[0m\u001b[0;34m.\u001b[0m\u001b[0mupdate\u001b[0m\u001b[0;34m(\u001b[0m\u001b[0;34m{\u001b[0m\u001b[0;34m{\u001b[0m\u001b[0;36m3\u001b[0m\u001b[0;34m,\u001b[0m\u001b[0;36m4\u001b[0m\u001b[0;34m,\u001b[0m\u001b[0;36m5\u001b[0m\u001b[0;34m}\u001b[0m\u001b[0;34m:\u001b[0m\u001b[0;34m[\u001b[0m\u001b[0;36m3\u001b[0m\u001b[0;34m,\u001b[0m\u001b[0;36m4\u001b[0m\u001b[0;34m,\u001b[0m\u001b[0;36m5\u001b[0m\u001b[0;34m,\u001b[0m\u001b[0;36m6\u001b[0m\u001b[0;34m]\u001b[0m\u001b[0;34m}\u001b[0m\u001b[0;34m)\u001b[0m\u001b[0;34m\u001b[0m\u001b[0;34m\u001b[0m\u001b[0m\n\u001b[0m",
            "\u001b[0;31mTypeError\u001b[0m: unhashable type: 'set'"
          ]
        }
      ]
    },
    {
      "cell_type": "code",
      "source": [
        "# Enumerate Function()\n",
        "list(enumerate([3,4,6,7,8]))"
      ],
      "metadata": {
        "colab": {
          "base_uri": "https://localhost:8080/"
        },
        "id": "TeB9oEeylK3a",
        "outputId": "70af7563-465d-44ab-cc05-a83b5d343ff3"
      },
      "execution_count": null,
      "outputs": [
        {
          "output_type": "execute_result",
          "data": {
            "text/plain": [
              "[(0, 3), (1, 4), (2, 6), (3, 7), (4, 8)]"
            ]
          },
          "metadata": {},
          "execution_count": 67
        }
      ]
    },
    {
      "cell_type": "code",
      "source": [
        "for i,j in enumerate([3,4,6,7,8]):\n",
        "    print(i,j)\n",
        "    print('------------------')"
      ],
      "metadata": {
        "colab": {
          "base_uri": "https://localhost:8080/"
        },
        "id": "trPb5777lK0l",
        "outputId": "7ae6e1bf-8aac-4da2-8796-97987eed4d28"
      },
      "execution_count": null,
      "outputs": [
        {
          "output_type": "stream",
          "name": "stdout",
          "text": [
            "0 3\n",
            "------------------\n",
            "1 4\n",
            "------------------\n",
            "2 6\n",
            "------------------\n",
            "3 7\n",
            "------------------\n",
            "4 8\n",
            "------------------\n"
          ]
        }
      ]
    },
    {
      "cell_type": "code",
      "source": [
        "l=[3,4,6,7,8]\n",
        "for i,j in enumerate([3,4,6,7,8]):\n",
        "    print(j-i)"
      ],
      "metadata": {
        "colab": {
          "base_uri": "https://localhost:8080/"
        },
        "id": "Rmf3k29-lKx7",
        "outputId": "509af811-9bd0-493f-974c-1e625633de3b"
      },
      "execution_count": null,
      "outputs": [
        {
          "output_type": "stream",
          "name": "stdout",
          "text": [
            "3\n",
            "3\n",
            "4\n",
            "4\n",
            "4\n"
          ]
        }
      ]
    },
    {
      "cell_type": "code",
      "source": [
        "for i in range(len(l)):\n",
        "    if i%2==0:\n",
        "        print(l[i])"
      ],
      "metadata": {
        "colab": {
          "base_uri": "https://localhost:8080/"
        },
        "id": "t83cgsiglKuc",
        "outputId": "24706d3f-52c2-4089-f61c-67b98b296c42"
      },
      "execution_count": null,
      "outputs": [
        {
          "output_type": "stream",
          "name": "stdout",
          "text": [
            "3\n",
            "6\n",
            "8\n"
          ]
        }
      ]
    },
    {
      "cell_type": "code",
      "source": [
        "for i,j in enumerate('Masai'):\n",
        "    print(i,j)"
      ],
      "metadata": {
        "colab": {
          "base_uri": "https://localhost:8080/"
        },
        "id": "dBtRickZlKrp",
        "outputId": "7c85f54e-62e4-4185-acb7-496d1f051f32"
      },
      "execution_count": null,
      "outputs": [
        {
          "output_type": "stream",
          "name": "stdout",
          "text": [
            "0 M\n",
            "1 a\n",
            "2 s\n",
            "3 a\n",
            "4 i\n"
          ]
        }
      ]
    },
    {
      "cell_type": "code",
      "source": [
        "l1=[4,5,6,7,8]\n",
        "l2=[45,78,98,45,76,56]"
      ],
      "metadata": {
        "id": "h5eyE_TtlKmv"
      },
      "execution_count": null,
      "outputs": []
    },
    {
      "cell_type": "code",
      "source": [
        "a= list(zip(l1, l2))"
      ],
      "metadata": {
        "colab": {
          "base_uri": "https://localhost:8080/"
        },
        "id": "l42n4mAmlKiF",
        "outputId": "50af898d-acf3-456b-bb5b-175adce7e6df"
      },
      "execution_count": null,
      "outputs": [
        {
          "output_type": "execute_result",
          "data": {
            "text/plain": [
              "[(4, 45), (5, 78), (6, 98), (7, 45), (8, 76)]"
            ]
          },
          "metadata": {},
          "execution_count": 77
        }
      ]
    },
    {
      "cell_type": "code",
      "source": [
        "d={}"
      ],
      "metadata": {
        "id": "8fp-uDz8lKeA"
      },
      "execution_count": null,
      "outputs": []
    },
    {
      "cell_type": "code",
      "source": [
        "d['Name']=\"Rohan\""
      ],
      "metadata": {
        "id": "-QqvKPLRlKag"
      },
      "execution_count": null,
      "outputs": []
    },
    {
      "cell_type": "code",
      "source": [
        "d"
      ],
      "metadata": {
        "colab": {
          "base_uri": "https://localhost:8080/"
        },
        "id": "ZcDyiJk0orC6",
        "outputId": "4f34530b-2e9f-40b6-917b-b02939c654d1"
      },
      "execution_count": null,
      "outputs": [
        {
          "output_type": "execute_result",
          "data": {
            "text/plain": [
              "{'Name': 'Rohan'}"
            ]
          },
          "metadata": {},
          "execution_count": 80
        }
      ]
    },
    {
      "cell_type": "code",
      "source": [
        "for i, j in zip(l1, l2):\n",
        "  d[i]=j"
      ],
      "metadata": {
        "id": "Un1uP96HorAN"
      },
      "execution_count": null,
      "outputs": []
    },
    {
      "cell_type": "code",
      "source": [
        "d"
      ],
      "metadata": {
        "colab": {
          "base_uri": "https://localhost:8080/"
        },
        "id": "EVwVopV6oq9l",
        "outputId": "3b6ecadc-0b72-4897-a4e2-0289985191d7"
      },
      "execution_count": null,
      "outputs": [
        {
          "output_type": "execute_result",
          "data": {
            "text/plain": [
              "{'Name': 'Rohan', 4: 45, 5: 78, 6: 98, 7: 45, 8: 76}"
            ]
          },
          "metadata": {},
          "execution_count": 82
        }
      ]
    },
    {
      "cell_type": "code",
      "source": [
        "for i, j in zip(l1, l2):\n",
        "  print(i, j)"
      ],
      "metadata": {
        "colab": {
          "base_uri": "https://localhost:8080/"
        },
        "id": "uV7fJeG_oq5Z",
        "outputId": "78c4cd0b-c4b3-4c57-eb46-a890d75c7253"
      },
      "execution_count": null,
      "outputs": [
        {
          "output_type": "stream",
          "name": "stdout",
          "text": [
            "4 45\n",
            "5 78\n",
            "6 98\n",
            "7 45\n",
            "8 76\n"
          ]
        }
      ]
    },
    {
      "cell_type": "code",
      "source": [
        "a= list(range(50))\n",
        "for i in a:\n",
        "  if i>1:\n",
        "    for j in range(2, i):\n",
        "      if i%j==0:\n",
        "        break\n",
        "    else:\n",
        "      print(i)"
      ],
      "metadata": {
        "id": "BiPKaNO2oq14",
        "colab": {
          "base_uri": "https://localhost:8080/"
        },
        "outputId": "1b124ea9-f87c-4dce-cca0-70678ae251b1"
      },
      "execution_count": null,
      "outputs": [
        {
          "output_type": "stream",
          "name": "stdout",
          "text": [
            "2\n",
            "3\n",
            "5\n",
            "7\n",
            "11\n",
            "13\n",
            "17\n",
            "19\n",
            "23\n",
            "29\n",
            "31\n",
            "37\n",
            "41\n",
            "43\n",
            "47\n"
          ]
        }
      ]
    },
    {
      "cell_type": "code",
      "source": [
        "a= [2,5,12,25,36,56,47,23,45]\n",
        "for i in a:\n",
        "  if i>1:\n",
        "    for j in range(2, i):\n",
        "      if i%j==0:\n",
        "        break\n",
        "    else:\n",
        "      print(i)"
      ],
      "metadata": {
        "id": "VeN26tbEoqy3",
        "colab": {
          "base_uri": "https://localhost:8080/"
        },
        "outputId": "d3921ba1-bc73-4c6d-bd79-4e694c45c102"
      },
      "execution_count": null,
      "outputs": [
        {
          "output_type": "stream",
          "name": "stdout",
          "text": [
            "2\n",
            "5\n",
            "47\n",
            "23\n"
          ]
        }
      ]
    },
    {
      "cell_type": "code",
      "source": [],
      "metadata": {
        "id": "EfUR_UPp6PDM"
      },
      "execution_count": null,
      "outputs": []
    },
    {
      "cell_type": "code",
      "source": [],
      "metadata": {
        "id": "eIDymLbY6O-n"
      },
      "execution_count": null,
      "outputs": []
    },
    {
      "cell_type": "code",
      "source": [],
      "metadata": {
        "id": "zQIPX5Hg6O8j"
      },
      "execution_count": null,
      "outputs": []
    }
  ]
}